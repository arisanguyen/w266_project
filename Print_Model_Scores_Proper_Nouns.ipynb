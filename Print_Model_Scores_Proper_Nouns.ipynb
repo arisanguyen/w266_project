{
  "nbformat": 4,
  "nbformat_minor": 0,
  "metadata": {
    "colab": {
      "provenance": []
    },
    "kernelspec": {
      "name": "python3",
      "display_name": "Python 3"
    },
    "language_info": {
      "name": "python"
    }
  },
  "cells": [
    {
      "cell_type": "code",
      "source": [
        "from google.colab import drive\n",
        "drive.mount('/content/drive/')"
      ],
      "metadata": {
        "colab": {
          "base_uri": "https://localhost:8080/"
        },
        "id": "FI3G54nq94_r",
        "outputId": "78b8b517-acc9-4240-8ee2-d3722f02f6eb"
      },
      "execution_count": 1,
      "outputs": [
        {
          "output_type": "stream",
          "name": "stdout",
          "text": [
            "Mounted at /content/drive/\n"
          ]
        }
      ]
    },
    {
      "cell_type": "code",
      "execution_count": 2,
      "metadata": {
        "id": "Pi0HgNS19icW"
      },
      "outputs": [],
      "source": [
        "import pandas as pd"
      ]
    },
    {
      "cell_type": "code",
      "source": [
        "def print_scores(df):\n",
        "  print('rouge1 average :', df['rouge1'].mean())\n",
        "  print('rouge2 average :', df['rouge2'].mean())\n",
        "  print('rougeL average :', df['rougeL'].mean())\n",
        "  print('rougeLs average :', df['rougeLs'].mean())\n",
        "  print('chrf average :', df['chrf'].mean())"
      ],
      "metadata": {
        "id": "PRwbL4Ff-ZuD"
      },
      "execution_count": 3,
      "outputs": []
    },
    {
      "cell_type": "markdown",
      "source": [
        "All Model Scores"
      ],
      "metadata": {
        "id": "pS_a6gA_VqWu"
      }
    },
    {
      "cell_type": "code",
      "source": [
        "import os\n",
        "\n",
        "os.listdir('/content/drive/MyDrive/W266FinalProject/test_candidates/')"
      ],
      "metadata": {
        "colab": {
          "base_uri": "https://localhost:8080/"
        },
        "id": "I-mzRezRVrox",
        "outputId": "2520710e-6a85-4c5e-8cad-c7d3a7d44dca"
      },
      "execution_count": 4,
      "outputs": [
        {
          "output_type": "execute_result",
          "data": {
            "text/plain": [
              "['for_scoring',\n",
              " 't5_all_categories_base.csv',\n",
              " 't5_all_categories_finetuned.csv',\n",
              " 'bart_all_categories_finetuned.csv',\n",
              " 'bert_all_categories.csv',\n",
              " 'bart_all_categories_base.csv',\n",
              " 't5_tech_base.csv',\n",
              " 't5_tech_finetuned.csv',\n",
              " 'bart_tech_base.csv',\n",
              " 'bart_tech_finetuned.csv',\n",
              " 'baseline_all_categories.csv',\n",
              " 'baseline_tech_all_categories.csv',\n",
              " 'bert_tech.csv',\n",
              " 'baseline_tech.csv',\n",
              " 'bart_128_all_categories_base.csv',\n",
              " 'bart_128_tech_base.csv']"
            ]
          },
          "metadata": {},
          "execution_count": 4
        }
      ]
    },
    {
      "cell_type": "code",
      "source": [
        "os.listdir('/content/drive/MyDrive/W266FinalProject/test_candidates/for_scoring')"
      ],
      "metadata": {
        "colab": {
          "base_uri": "https://localhost:8080/"
        },
        "id": "22QuOWqBysGQ",
        "outputId": "3eceba7c-0e8a-452f-e924-e1684b034b66"
      },
      "execution_count": 5,
      "outputs": [
        {
          "output_type": "execute_result",
          "data": {
            "text/plain": [
              "['kt_score_rouge1_figure_scores.png',\n",
              " 'arisa_score_rouge1_figure_scores.png',\n",
              " 'joined_score_rouge1_figure_scores.png',\n",
              " 'joined_score_rouge2_figure_scores.png',\n",
              " 'kt_score_rouge2_figure_scores.png',\n",
              " 'arisa_score_rouge2_figure_scores.png',\n",
              " 'kt_score_chrf_figure_scores.png',\n",
              " 'joined_score_chrf_figure_scores.png',\n",
              " 'arisa_score_chrf_figure_scores.png',\n",
              " 'joined_score_rougeL_figure_scores.png',\n",
              " 'kt_score_rougeL_figure_scores.png',\n",
              " 'arisa_score_rougeL_figure_scores.png',\n",
              " 'candidates_for_scoring.csv',\n",
              " 'kt_candidates_for_scoring.csv',\n",
              " 'arisa_candidates_for_scoring.csv',\n",
              " 'final_scores.csv',\n",
              " 'average_score_chrf_figure_scores.png',\n",
              " 'average_score_rouge1_figure_scores.png',\n",
              " 'average_score_rouge2_figure_scores.png',\n",
              " 'average_score_rougeL_figure_scores.png',\n",
              " 'kt_20_candidates_for_scoring.csv',\n",
              " '20_candidates_for_scoring_with_scores.csv',\n",
              " '20_candidates_for_scoring.csv',\n",
              " 'BART_trained_scores.csv',\n",
              " '20_candidates_final_scores.csv',\n",
              " '20_tech_candidates_for_scoring_with_scores.csv',\n",
              " 'all_candidates_for_scoring_with_scores.csv',\n",
              " 'all_tech_candidates_for_scoring_with_scores.csv',\n",
              " 'tech_pronouns_boolean.csv',\n",
              " 'all_categories_pronouns_boolean.csv']"
            ]
          },
          "metadata": {},
          "execution_count": 5
        }
      ]
    },
    {
      "cell_type": "markdown",
      "source": [
        "# Pronouns"
      ],
      "metadata": {
        "id": "OduNAMxDzxqR"
      }
    },
    {
      "cell_type": "code",
      "source": [
        "all_cat_pronouns_df = pd.read_csv('/content/drive/MyDrive/W266FinalProject/test_candidates/for_scoring/all_categories_pronouns_boolean.csv')\n",
        "tech_pronouns_df = pd.read_csv('/content/drive/MyDrive/W266FinalProject/test_candidates/for_scoring/tech_pronouns_boolean.csv')"
      ],
      "metadata": {
        "id": "f3qMv3S_ymIO"
      },
      "execution_count": 13,
      "outputs": []
    },
    {
      "cell_type": "code",
      "source": [
        "def print_pronoun_totals(df):\n",
        "  print(f\"Total articles w/ brand namess: {df['Brand'].sum()}\")\n",
        "  print(f\"Total articles w/ personal names: {df['Person'].sum()}\")\n",
        "  print(f\"Total articles w/ proper places: {df['Place'].sum()}\")"
      ],
      "metadata": {
        "id": "kd5NP9oLzB4h"
      },
      "execution_count": 11,
      "outputs": []
    },
    {
      "cell_type": "code",
      "source": [
        "print_pronoun_totals(all_cat_pronouns_df)"
      ],
      "metadata": {
        "colab": {
          "base_uri": "https://localhost:8080/"
        },
        "id": "qtUlU3bWy0UF",
        "outputId": "dd54997e-3b01-4ade-b01b-a3b5acce0c19"
      },
      "execution_count": 12,
      "outputs": [
        {
          "output_type": "stream",
          "name": "stdout",
          "text": [
            "Total articles w/ brand namess: 46\n",
            "Total articles w/ personal names: 16\n",
            "Total articles w/ proper places: 35\n"
          ]
        }
      ]
    },
    {
      "cell_type": "code",
      "source": [
        "print_pronoun_totals(tech_pronouns_df)"
      ],
      "metadata": {
        "colab": {
          "base_uri": "https://localhost:8080/"
        },
        "id": "uJ6zrikHznTk",
        "outputId": "034b4be6-3b8d-40c2-a686-01cd9207bc28"
      },
      "execution_count": 14,
      "outputs": [
        {
          "output_type": "stream",
          "name": "stdout",
          "text": [
            "Total articles w/ brand namess: 76\n",
            "Total articles w/ personal names: 10\n",
            "Total articles w/ proper places: 15\n"
          ]
        }
      ]
    },
    {
      "cell_type": "markdown",
      "source": [
        "Select pronoun type for filtering"
      ],
      "metadata": {
        "id": "9N6EYKHXzv-m"
      }
    },
    {
      "cell_type": "code",
      "source": [
        "pronoun_type = 'Brand'\n",
        "\n",
        "all_cat_filter = all_cat_pronouns_df[all_cat_pronouns_df[pronoun_type]==1]\n",
        "tech_filter = tech_pronouns_df[tech_pronouns_df[pronoun_type]==1]"
      ],
      "metadata": {
        "id": "mH3dfnu6z7cz"
      },
      "execution_count": 17,
      "outputs": []
    },
    {
      "cell_type": "code",
      "source": [
        "all_cat_filter.shape"
      ],
      "metadata": {
        "colab": {
          "base_uri": "https://localhost:8080/"
        },
        "id": "ZFNanBq_0mm9",
        "outputId": "7a9f6881-3886-43fd-b3e6-88ee690d837e"
      },
      "execution_count": 20,
      "outputs": [
        {
          "output_type": "execute_result",
          "data": {
            "text/plain": [
              "(46, 4)"
            ]
          },
          "metadata": {},
          "execution_count": 20
        }
      ]
    },
    {
      "cell_type": "markdown",
      "source": [
        "# Scoring"
      ],
      "metadata": {
        "id": "33SlcxEGz5kS"
      }
    },
    {
      "cell_type": "markdown",
      "source": [
        "# Baseline"
      ],
      "metadata": {
        "id": "AgWRYJ4WQf0T"
      }
    },
    {
      "cell_type": "code",
      "source": [
        "baseline = pd.read_csv('/content/drive/MyDrive/W266FinalProject/test_candidates/baseline_all_categories.csv')\n",
        "baseline = baseline.rename(columns={'Unnamed: 0': 'id', 'rogueL': 'rougeL', 'rogueLs': 'rougeLs'})"
      ],
      "metadata": {
        "id": "4N_eHC7aVvoi"
      },
      "execution_count": 15,
      "outputs": []
    },
    {
      "cell_type": "code",
      "source": [
        "print_scores(baseline)"
      ],
      "metadata": {
        "colab": {
          "base_uri": "https://localhost:8080/"
        },
        "id": "4RqsTxlWV_AJ",
        "outputId": "11e27dc2-0c40-44ab-d0d1-b8cf472a319c"
      },
      "execution_count": 22,
      "outputs": [
        {
          "output_type": "stream",
          "name": "stdout",
          "text": [
            "rouge1 average : 0.19133312513637052\n",
            "rouge2 average : 0.02937056797124803\n",
            "rougeL average : 0.12669268518181784\n",
            "rougeLs average : 0.12669268518181784\n",
            "chrf average : 27.03051908844659\n"
          ]
        }
      ]
    },
    {
      "cell_type": "code",
      "source": [
        "print_scores(all_cat_filter.join(baseline.set_index('id'), on='id', how='left'))"
      ],
      "metadata": {
        "colab": {
          "base_uri": "https://localhost:8080/"
        },
        "id": "JWFa370j0wX0",
        "outputId": "5cb16545-552d-4f74-ae6e-a2ee991c5984"
      },
      "execution_count": 23,
      "outputs": [
        {
          "output_type": "stream",
          "name": "stdout",
          "text": [
            "rouge1 average : 0.19283300071468143\n",
            "rouge2 average : 0.028155147433165596\n",
            "rougeL average : 0.12832190373097155\n",
            "rougeLs average : 0.12832190373097155\n",
            "chrf average : 27.1094971199698\n"
          ]
        }
      ]
    },
    {
      "cell_type": "code",
      "source": [
        "baseline_tech = pd.read_csv('/content/drive/MyDrive/W266FinalProject/test_candidates/baseline_tech.csv')\n",
        "baseline_tech = baseline_tech.rename(columns={'Unnamed: 0': 'id'})"
      ],
      "metadata": {
        "id": "maXRL4XUQX6V"
      },
      "execution_count": 24,
      "outputs": []
    },
    {
      "cell_type": "code",
      "source": [
        "print_scores(baseline_tech)"
      ],
      "metadata": {
        "colab": {
          "base_uri": "https://localhost:8080/"
        },
        "id": "CtVF1V_qQeF_",
        "outputId": "2ac0a248-491e-4c46-e7f6-6a17d62a00ca"
      },
      "execution_count": 25,
      "outputs": [
        {
          "output_type": "stream",
          "name": "stdout",
          "text": [
            "rouge1 average : 0.17810940108876688\n",
            "rouge2 average : 0.016415796075101262\n",
            "rougeL average : 0.11251070995687212\n",
            "rougeLs average : 0.11251070995687212\n",
            "chrf average : 26.50763621173526\n"
          ]
        }
      ]
    },
    {
      "cell_type": "code",
      "source": [
        "print_scores(tech_filter.join(baseline_tech.set_index('id'), on='id', how='left'))"
      ],
      "metadata": {
        "colab": {
          "base_uri": "https://localhost:8080/"
        },
        "id": "1fNHqIAY09Ck",
        "outputId": "5002cd7c-132c-44e4-f1ae-03f14c0871fe"
      },
      "execution_count": 39,
      "outputs": [
        {
          "output_type": "stream",
          "name": "stdout",
          "text": [
            "rouge1 average : 0.18370909677137118\n",
            "rouge2 average : 0.018742910985789254\n",
            "rougeL average : 0.11540571244843396\n",
            "rougeLs average : 0.11540571244843396\n",
            "chrf average : 26.521994739773618\n"
          ]
        }
      ]
    },
    {
      "cell_type": "markdown",
      "source": [
        "# T5"
      ],
      "metadata": {
        "id": "R4u33PKiQeZ9"
      }
    },
    {
      "cell_type": "markdown",
      "source": [
        "Base"
      ],
      "metadata": {
        "id": "Idxt7NSgQplv"
      }
    },
    {
      "cell_type": "code",
      "source": [
        "t5_base = pd.read_csv('/content/drive/MyDrive/W266FinalProject/test_candidates/t5_all_categories_base.csv')\n",
        "t5_base = t5_base.drop(columns={'Unnamed: 0': 'id'})"
      ],
      "metadata": {
        "id": "0jxHTeMJV0Hc"
      },
      "execution_count": 31,
      "outputs": []
    },
    {
      "cell_type": "code",
      "source": [
        "print_scores(t5_base)"
      ],
      "metadata": {
        "colab": {
          "base_uri": "https://localhost:8080/"
        },
        "id": "O25RZOyxWAKU",
        "outputId": "1ad9fa2b-52b0-4ad4-cf69-7d4284926509"
      },
      "execution_count": 32,
      "outputs": [
        {
          "output_type": "stream",
          "name": "stdout",
          "text": [
            "rouge1 average : 0.20696283047603609\n",
            "rouge2 average : 0.04017271566660002\n",
            "rougeL average : 0.1447713155898578\n",
            "rougeLs average : 0.1447713155898578\n",
            "chrf average : 27.761420857966414\n"
          ]
        }
      ]
    },
    {
      "cell_type": "code",
      "source": [
        "print_scores(all_cat_filter.join(t5_base.set_index('id'), on='id', how='left'))"
      ],
      "metadata": {
        "colab": {
          "base_uri": "https://localhost:8080/"
        },
        "id": "WkS1dsRw1GcW",
        "outputId": "e28fea11-28d1-428a-848f-9d7f1a3aeb60"
      },
      "execution_count": 34,
      "outputs": [
        {
          "output_type": "stream",
          "name": "stdout",
          "text": [
            "rouge1 average : 0.20578390738058944\n",
            "rouge2 average : 0.03601368124549653\n",
            "rougeL average : 0.1398411700103448\n",
            "rougeLs average : 0.1398411700103448\n",
            "chrf average : 26.32005008150725\n"
          ]
        }
      ]
    },
    {
      "cell_type": "code",
      "source": [
        "t5_base_tech = pd.read_csv('/content/drive/MyDrive/W266FinalProject/test_candidates/t5_tech_base.csv')\n",
        "t5_base_tech = t5_base_tech.rename(columns={'Unnamed: 0': 'id'})"
      ],
      "metadata": {
        "id": "x-f5qDK7Qr_S"
      },
      "execution_count": 35,
      "outputs": []
    },
    {
      "cell_type": "code",
      "source": [
        "print_scores(t5_base_tech)"
      ],
      "metadata": {
        "colab": {
          "base_uri": "https://localhost:8080/"
        },
        "id": "URcYI0PcQr3p",
        "outputId": "bea6bcea-030e-43bc-ed23-95e9c077a4a0"
      },
      "execution_count": 36,
      "outputs": [
        {
          "output_type": "stream",
          "name": "stdout",
          "text": [
            "rouge1 average : 0.18504993415083773\n",
            "rouge2 average : 0.017208566084728743\n",
            "rougeL average : 0.12523123021403865\n",
            "rougeLs average : 0.12523123021403865\n",
            "chrf average : 26.47708160779318\n"
          ]
        }
      ]
    },
    {
      "cell_type": "code",
      "source": [
        "print_scores(tech_filter.join(t5_base_tech.set_index('id'), on='id', how='left'))"
      ],
      "metadata": {
        "colab": {
          "base_uri": "https://localhost:8080/"
        },
        "id": "XTKtDc7f1RkF",
        "outputId": "69bc3a71-388d-4c08-d795-74393312ee3e"
      },
      "execution_count": 38,
      "outputs": [
        {
          "output_type": "stream",
          "name": "stdout",
          "text": [
            "rouge1 average : 0.18917743994458727\n",
            "rouge2 average : 0.019385071065799904\n",
            "rougeL average : 0.12669821028489792\n",
            "rougeLs average : 0.12669821028489792\n",
            "chrf average : 26.44241211627696\n"
          ]
        }
      ]
    },
    {
      "cell_type": "markdown",
      "source": [
        "Finetuned"
      ],
      "metadata": {
        "id": "gybyaBbdQqzW"
      }
    },
    {
      "cell_type": "code",
      "source": [
        "t5_finetune = pd.read_csv('/content/drive/MyDrive/W266FinalProject/test_candidates/t5_all_categories_finetuned.csv')\n",
        "t5_finetune = t5_finetune.drop(columns={'Unnamed: 0': 'id'})"
      ],
      "metadata": {
        "id": "L3KIFB6cV2F1"
      },
      "execution_count": 40,
      "outputs": []
    },
    {
      "cell_type": "code",
      "source": [
        "print_scores(t5_finetune)"
      ],
      "metadata": {
        "colab": {
          "base_uri": "https://localhost:8080/"
        },
        "id": "MOIS5SUdWCUy",
        "outputId": "aeeba857-a2ce-4a66-d91c-a7665b48acfb"
      },
      "execution_count": 41,
      "outputs": [
        {
          "output_type": "stream",
          "name": "stdout",
          "text": [
            "rouge1 average : 0.21933763902862263\n",
            "rouge2 average : 0.04598146383127719\n",
            "rougeL average : 0.15632816550769743\n",
            "rougeLs average : 0.15632816550769743\n",
            "chrf average : 22.496347369500008\n"
          ]
        }
      ]
    },
    {
      "cell_type": "code",
      "source": [
        "print_scores(all_cat_filter.join(t5_finetune.set_index('id'), on='id', how='left'))"
      ],
      "metadata": {
        "colab": {
          "base_uri": "https://localhost:8080/"
        },
        "id": "_c9XcPVg1jbg",
        "outputId": "939f96a3-f0ea-4128-c1b6-9cac1c343da3"
      },
      "execution_count": 42,
      "outputs": [
        {
          "output_type": "stream",
          "name": "stdout",
          "text": [
            "rouge1 average : 0.21967567592266116\n",
            "rouge2 average : 0.047528842484330515\n",
            "rougeL average : 0.16093137647346534\n",
            "rougeLs average : 0.16093137647346534\n",
            "chrf average : 21.318830145833537\n"
          ]
        }
      ]
    },
    {
      "cell_type": "code",
      "source": [
        "t5_finetune_tech = pd.read_csv('/content/drive/MyDrive/W266FinalProject/test_candidates/t5_tech_finetuned.csv')\n",
        "t5_finetune_tech = t5_finetune_tech.rename(columns={'Unnamed: 0': 'id'})"
      ],
      "metadata": {
        "id": "81B2F3CHREyK"
      },
      "execution_count": 49,
      "outputs": []
    },
    {
      "cell_type": "code",
      "source": [
        "print_scores(t5_finetune_tech)"
      ],
      "metadata": {
        "colab": {
          "base_uri": "https://localhost:8080/"
        },
        "id": "LriujD4BREo7",
        "outputId": "9b4dafe2-6fc5-41ff-ebfb-87513c74ef8b"
      },
      "execution_count": 50,
      "outputs": [
        {
          "output_type": "stream",
          "name": "stdout",
          "text": [
            "rouge1 average : 0.21206234024539838\n",
            "rouge2 average : 0.03479700113051658\n",
            "rougeL average : 0.1605719885651432\n",
            "rougeLs average : 0.1605719885651432\n",
            "chrf average : 23.289835349543477\n"
          ]
        }
      ]
    },
    {
      "cell_type": "code",
      "source": [
        "print_scores(tech_filter.join(t5_finetune_tech.set_index('id'), on='id', how='left'))"
      ],
      "metadata": {
        "colab": {
          "base_uri": "https://localhost:8080/"
        },
        "id": "Lf8hlAwg1vHG",
        "outputId": "7e575c6f-9af5-43b4-f3c3-021d19883dc0"
      },
      "execution_count": 51,
      "outputs": [
        {
          "output_type": "stream",
          "name": "stdout",
          "text": [
            "rouge1 average : 0.22956250313040694\n",
            "rouge2 average : 0.041229424105331154\n",
            "rougeL average : 0.17331778538974793\n",
            "rougeLs average : 0.17331778538974793\n",
            "chrf average : 23.922626109555466\n"
          ]
        }
      ]
    },
    {
      "cell_type": "markdown",
      "source": [
        "# BART"
      ],
      "metadata": {
        "id": "jQpI9wzYQlIa"
      }
    },
    {
      "cell_type": "markdown",
      "source": [
        "Base"
      ],
      "metadata": {
        "id": "X1ViMzLWRpEZ"
      }
    },
    {
      "cell_type": "code",
      "source": [
        "bart_base = pd.read_csv('/content/drive/MyDrive/W266FinalProject/test_candidates/bart_128_all_categories_base.csv')\n",
        "bart_base = bart_base.rename(columns={'Unnamed: 0': 'id'})"
      ],
      "metadata": {
        "id": "CYsOyVHOV30v"
      },
      "execution_count": 52,
      "outputs": []
    },
    {
      "cell_type": "code",
      "source": [
        "print_scores(bart_base)"
      ],
      "metadata": {
        "colab": {
          "base_uri": "https://localhost:8080/"
        },
        "id": "UI-03V1DWEBV",
        "outputId": "65aa9d4b-eced-41f3-e117-77eef960cf18"
      },
      "execution_count": 53,
      "outputs": [
        {
          "output_type": "stream",
          "name": "stdout",
          "text": [
            "rouge1 average : 0.1666960552602231\n",
            "rouge2 average : 0.02930038736181849\n",
            "rougeL average : 0.10691680771631379\n",
            "rougeLs average : 0.10691680771631379\n",
            "chrf average : 25.339016723267346\n"
          ]
        }
      ]
    },
    {
      "cell_type": "code",
      "source": [
        "print_scores(all_cat_filter.join(bart_base.set_index('id'), on='id', how='left'))"
      ],
      "metadata": {
        "colab": {
          "base_uri": "https://localhost:8080/"
        },
        "id": "t3u9bCHf1_wk",
        "outputId": "ff661ab0-f88f-4f40-cd71-a3cf3dc4cf52"
      },
      "execution_count": 54,
      "outputs": [
        {
          "output_type": "stream",
          "name": "stdout",
          "text": [
            "rouge1 average : 0.17434551458476158\n",
            "rouge2 average : 0.02838681332253534\n",
            "rougeL average : 0.11023749443838031\n",
            "rougeLs average : 0.11023749443838031\n",
            "chrf average : 25.55621167116778\n"
          ]
        }
      ]
    },
    {
      "cell_type": "code",
      "source": [
        "bart_base_tech = pd.read_csv('/content/drive/MyDrive/W266FinalProject/test_candidates/bart_128_tech_base.csv')\n",
        "bart_base_tech = bart_base_tech.rename(columns={'Unnamed: 0': 'id'})"
      ],
      "metadata": {
        "id": "e99o0mmVR_VB"
      },
      "execution_count": 55,
      "outputs": []
    },
    {
      "cell_type": "code",
      "source": [
        "print_scores(bart_base_tech)"
      ],
      "metadata": {
        "colab": {
          "base_uri": "https://localhost:8080/"
        },
        "id": "29u121TKR_Sg",
        "outputId": "3dba1e56-2d4b-4b88-cd09-8f4043c386c4"
      },
      "execution_count": 56,
      "outputs": [
        {
          "output_type": "stream",
          "name": "stdout",
          "text": [
            "rouge1 average : 0.15195923334467665\n",
            "rouge2 average : 0.022234070203585147\n",
            "rougeL average : 0.09942854383700535\n",
            "rougeLs average : 0.09942854383700535\n",
            "chrf average : 24.39342131093359\n"
          ]
        }
      ]
    },
    {
      "cell_type": "code",
      "source": [
        "print_scores(tech_filter.join(bart_base_tech.set_index('id'), on='id', how='left'))"
      ],
      "metadata": {
        "colab": {
          "base_uri": "https://localhost:8080/"
        },
        "id": "NuxVQUYz2HMB",
        "outputId": "4e1781c8-23b2-45f7-a4d4-d1d006792e4c"
      },
      "execution_count": 58,
      "outputs": [
        {
          "output_type": "stream",
          "name": "stdout",
          "text": [
            "rouge1 average : 0.1573811718737821\n",
            "rouge2 average : 0.026118647665432416\n",
            "rougeL average : 0.10345386430493146\n",
            "rougeLs average : 0.10345386430493146\n",
            "chrf average : 24.68193525544196\n"
          ]
        }
      ]
    },
    {
      "cell_type": "markdown",
      "source": [
        "Finetuned"
      ],
      "metadata": {
        "id": "Mriw1TLZRqnK"
      }
    },
    {
      "cell_type": "code",
      "source": [
        "bart_finetune = pd.read_csv('/content/drive/MyDrive/W266FinalProject/test_candidates/bart_all_categories_finetuned.csv')\n",
        "bart_finetune = bart_finetune.drop(columns={'Unnamed: 0': 'id'})"
      ],
      "metadata": {
        "id": "A_Im7I_jV5kZ"
      },
      "execution_count": 66,
      "outputs": []
    },
    {
      "cell_type": "code",
      "source": [
        "print_scores(bart_finetune)"
      ],
      "metadata": {
        "colab": {
          "base_uri": "https://localhost:8080/"
        },
        "id": "9cuKwL1rWGLL",
        "outputId": "96445559-7e28-45e7-ccdd-384900e66bcd"
      },
      "execution_count": 63,
      "outputs": [
        {
          "output_type": "stream",
          "name": "stdout",
          "text": [
            "rouge1 average : 0.29647577944389075\n",
            "rouge2 average : 0.08889933188986054\n",
            "rougeL average : 0.22296322897911577\n",
            "rougeLs average : 0.22296322897911577\n",
            "chrf average : 27.469024403062186\n"
          ]
        }
      ]
    },
    {
      "cell_type": "code",
      "source": [
        "print_scores(all_cat_filter.join(bart_finetune.set_index('id'), on='id', how='left'))"
      ],
      "metadata": {
        "colab": {
          "base_uri": "https://localhost:8080/"
        },
        "id": "2NHRGjaa2M2r",
        "outputId": "7883c18b-421e-42e8-8ac8-96385f9f0b11"
      },
      "execution_count": 64,
      "outputs": [
        {
          "output_type": "stream",
          "name": "stdout",
          "text": [
            "rouge1 average : 0.2993814343026897\n",
            "rouge2 average : 0.08157598814871678\n",
            "rougeL average : 0.21977982306455235\n",
            "rougeLs average : 0.21977982306455235\n",
            "chrf average : 26.83043519909031\n"
          ]
        }
      ]
    },
    {
      "cell_type": "code",
      "source": [
        "bart_finetune_tech = pd.read_csv('/content/drive/MyDrive/W266FinalProject/test_candidates/bart_tech_finetuned.csv')\n",
        "bart_finetune_tech = bart_finetune_tech.rename(columns={'Unnamed: 0': 'id'})"
      ],
      "metadata": {
        "id": "Ah7J4ubE2P4V"
      },
      "execution_count": 72,
      "outputs": []
    },
    {
      "cell_type": "code",
      "source": [
        "print_scores(bart_finetune_tech)"
      ],
      "metadata": {
        "colab": {
          "base_uri": "https://localhost:8080/"
        },
        "id": "LWrOBiUs2Pmj",
        "outputId": "c1171110-545c-44c1-aedd-95d6a5ae83f3"
      },
      "execution_count": 73,
      "outputs": [
        {
          "output_type": "stream",
          "name": "stdout",
          "text": [
            "rouge1 average : 0.2795248492936276\n",
            "rouge2 average : 0.08015994621074532\n",
            "rougeL average : 0.2277389464947025\n",
            "rougeLs average : 0.2277389464947025\n",
            "chrf average : 27.242265732138794\n"
          ]
        }
      ]
    },
    {
      "cell_type": "code",
      "source": [
        "print_scores(tech_filter.join(bart_finetune_tech.set_index('id'), on='id', how='left'))"
      ],
      "metadata": {
        "colab": {
          "base_uri": "https://localhost:8080/"
        },
        "id": "jw3hqM4c2PWj",
        "outputId": "f9fac5d1-ba2e-465a-c10a-6dfb0ba3f769"
      },
      "execution_count": 74,
      "outputs": [
        {
          "output_type": "stream",
          "name": "stdout",
          "text": [
            "rouge1 average : 0.30957916678164044\n",
            "rouge2 average : 0.09903939561061595\n",
            "rougeL average : 0.25658346948416905\n",
            "rougeLs average : 0.25658346948416905\n",
            "chrf average : 29.064531020261782\n"
          ]
        }
      ]
    },
    {
      "cell_type": "markdown",
      "source": [
        "# BERT"
      ],
      "metadata": {
        "id": "03X_58TSSBGT"
      }
    },
    {
      "cell_type": "code",
      "source": [
        "bert = pd.read_csv('/content/drive/MyDrive/W266FinalProject/test_candidates/bert_all_categories.csv')\n",
        "bert = bert.drop(columns={'Unnamed: 0': 'id'})"
      ],
      "metadata": {
        "id": "x9YX0qmQV7Eh"
      },
      "execution_count": 78,
      "outputs": []
    },
    {
      "cell_type": "code",
      "source": [
        "print_scores(bert)"
      ],
      "metadata": {
        "colab": {
          "base_uri": "https://localhost:8080/"
        },
        "id": "C5aXUz5NV9SJ",
        "outputId": "cf799bdd-6ed0-4dba-a279-cd9990b8429d"
      },
      "execution_count": 79,
      "outputs": [
        {
          "output_type": "stream",
          "name": "stdout",
          "text": [
            "rouge1 average : 0.18751794780976513\n",
            "rouge2 average : 0.02449131701058454\n",
            "rougeL average : 0.12851702714997285\n",
            "rougeLs average : 0.12851702714997285\n",
            "chrf average : 26.327214111062393\n"
          ]
        }
      ]
    },
    {
      "cell_type": "code",
      "source": [
        "print_scores(all_cat_filter.join(bert.set_index('id'), on='id', how='left'))"
      ],
      "metadata": {
        "colab": {
          "base_uri": "https://localhost:8080/"
        },
        "id": "ipuaCZYb2raq",
        "outputId": "aec91c4b-dbb9-44ca-b980-7b48deb17f31"
      },
      "execution_count": 80,
      "outputs": [
        {
          "output_type": "stream",
          "name": "stdout",
          "text": [
            "rouge1 average : 0.19056113839922154\n",
            "rouge2 average : 0.02476289709886126\n",
            "rougeL average : 0.1362284296367366\n",
            "rougeLs average : 0.1362284296367366\n",
            "chrf average : 25.399705850606093\n"
          ]
        }
      ]
    },
    {
      "cell_type": "markdown",
      "source": [
        "Tech"
      ],
      "metadata": {
        "id": "Dk3GacS95PY8"
      }
    },
    {
      "cell_type": "code",
      "source": [
        "bert_tech = pd.read_csv('/content/drive/MyDrive/W266FinalProject/test_candidates/bert_tech.csv')\n",
        "bert_tech = bert_tech.rename(columns={'Unnamed: 0': 'id'})\n",
        "bert_tech = bert_tech.rename(columns={'rogueL': 'rougeL', 'rogueLs': 'rougeLs'})"
      ],
      "metadata": {
        "id": "_WgTMFnlSHct"
      },
      "execution_count": 81,
      "outputs": []
    },
    {
      "cell_type": "code",
      "source": [
        "print_scores(bert_tech)"
      ],
      "metadata": {
        "colab": {
          "base_uri": "https://localhost:8080/"
        },
        "id": "H-YGZx-LSHPa",
        "outputId": "aa24b270-82b3-4bf0-ccd5-b7bfac1ecebe"
      },
      "execution_count": 82,
      "outputs": [
        {
          "output_type": "stream",
          "name": "stdout",
          "text": [
            "rouge1 average : 0.17352241783022715\n",
            "rouge2 average : 0.015656024639801477\n",
            "rougeL average : 0.11105336764706963\n",
            "rougeLs average : 0.11105336764706963\n",
            "chrf average : 26.228505659257493\n"
          ]
        }
      ]
    },
    {
      "cell_type": "code",
      "source": [
        "print_scores(tech_filter.join(bert_tech.set_index('id'), on='id', how='left'))"
      ],
      "metadata": {
        "id": "LzILPVOESNyh",
        "colab": {
          "base_uri": "https://localhost:8080/"
        },
        "outputId": "c0e9a123-62ba-4bad-e6bc-3db9fc4fcdfd"
      },
      "execution_count": 83,
      "outputs": [
        {
          "output_type": "stream",
          "name": "stdout",
          "text": [
            "rouge1 average : 0.1800310279923595\n",
            "rouge2 average : 0.01725882102571075\n",
            "rougeL average : 0.11297973768825491\n",
            "rougeLs average : 0.11297973768825491\n",
            "chrf average : 26.37148297078305\n"
          ]
        }
      ]
    },
    {
      "cell_type": "code",
      "source": [],
      "metadata": {
        "id": "6bw5Irwd22eO"
      },
      "execution_count": null,
      "outputs": []
    }
  ]
}