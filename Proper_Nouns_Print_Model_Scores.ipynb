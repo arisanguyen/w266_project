{
  "nbformat": 4,
  "nbformat_minor": 0,
  "metadata": {
    "colab": {
      "provenance": []
    },
    "kernelspec": {
      "name": "python3",
      "display_name": "Python 3"
    },
    "language_info": {
      "name": "python"
    }
  },
  "cells": [
    {
      "cell_type": "code",
      "source": [
        "from google.colab import drive\n",
        "drive.mount('/content/drive/')"
      ],
      "metadata": {
        "colab": {
          "base_uri": "https://localhost:8080/"
        },
        "id": "FI3G54nq94_r",
        "outputId": "9c0dd545-40c7-4ef6-f89f-002de281f4ed"
      },
      "execution_count": 2,
      "outputs": [
        {
          "output_type": "stream",
          "name": "stdout",
          "text": [
            "Mounted at /content/drive/\n"
          ]
        }
      ]
    },
    {
      "cell_type": "code",
      "execution_count": 3,
      "metadata": {
        "id": "Pi0HgNS19icW"
      },
      "outputs": [],
      "source": [
        "import pandas as pd"
      ]
    },
    {
      "cell_type": "code",
      "source": [
        "def print_scores(df):\n",
        "  print('rouge1 average :', df['rouge1'].mean())\n",
        "  print('rouge2 average :', df['rouge2'].mean())\n",
        "  print('rougeL average :', df['rougeL'].mean())\n",
        "  print('rougeLs average :', df['rougeLs'].mean())\n",
        "  print('chrf average :', df['chrf'].mean())"
      ],
      "metadata": {
        "id": "PRwbL4Ff-ZuD"
      },
      "execution_count": 4,
      "outputs": []
    },
    {
      "cell_type": "markdown",
      "source": [
        "All Model Scores"
      ],
      "metadata": {
        "id": "pS_a6gA_VqWu"
      }
    },
    {
      "cell_type": "code",
      "source": [
        "import os\n",
        "\n",
        "os.listdir('/content/drive/MyDrive/W266FinalProject/test_candidates/')"
      ],
      "metadata": {
        "colab": {
          "base_uri": "https://localhost:8080/"
        },
        "id": "I-mzRezRVrox",
        "outputId": "d752b467-65ba-45fa-9b24-1ec8939bb8c3"
      },
      "execution_count": 5,
      "outputs": [
        {
          "output_type": "execute_result",
          "data": {
            "text/plain": [
              "['for_scoring',\n",
              " 't5_all_categories_base.csv',\n",
              " 't5_all_categories_finetuned.csv',\n",
              " 'bart_all_categories_finetuned.csv',\n",
              " 'bert_all_categories.csv',\n",
              " 'bart_all_categories_base.csv',\n",
              " 't5_tech_base.csv',\n",
              " 't5_tech_finetuned.csv',\n",
              " 'bart_tech_base.csv',\n",
              " 'bart_tech_finetuned.csv',\n",
              " 'baseline_all_categories.csv',\n",
              " 'baseline_tech_all_categories.csv',\n",
              " 'bert_tech.csv',\n",
              " 'baseline_tech.csv',\n",
              " 'bart_128_all_categories_base.csv',\n",
              " 'bart_128_tech_base.csv']"
            ]
          },
          "metadata": {},
          "execution_count": 5
        }
      ]
    },
    {
      "cell_type": "code",
      "source": [
        "os.listdir('/content/drive/MyDrive/W266FinalProject/test_candidates/for_scoring')"
      ],
      "metadata": {
        "colab": {
          "base_uri": "https://localhost:8080/"
        },
        "id": "22QuOWqBysGQ",
        "outputId": "b2b0551d-016c-49ed-a739-18eda91060a7"
      },
      "execution_count": 6,
      "outputs": [
        {
          "output_type": "execute_result",
          "data": {
            "text/plain": [
              "['kt_score_rouge1_figure_scores.png',\n",
              " 'arisa_score_rouge1_figure_scores.png',\n",
              " 'joined_score_rouge1_figure_scores.png',\n",
              " 'joined_score_rouge2_figure_scores.png',\n",
              " 'kt_score_rouge2_figure_scores.png',\n",
              " 'arisa_score_rouge2_figure_scores.png',\n",
              " 'kt_score_chrf_figure_scores.png',\n",
              " 'joined_score_chrf_figure_scores.png',\n",
              " 'arisa_score_chrf_figure_scores.png',\n",
              " 'joined_score_rougeL_figure_scores.png',\n",
              " 'kt_score_rougeL_figure_scores.png',\n",
              " 'arisa_score_rougeL_figure_scores.png',\n",
              " 'candidates_for_scoring.csv',\n",
              " 'kt_candidates_for_scoring.csv',\n",
              " 'arisa_candidates_for_scoring.csv',\n",
              " 'final_scores.csv',\n",
              " 'average_score_chrf_figure_scores.png',\n",
              " 'average_score_rouge1_figure_scores.png',\n",
              " 'average_score_rouge2_figure_scores.png',\n",
              " 'average_score_rougeL_figure_scores.png',\n",
              " 'kt_20_candidates_for_scoring.csv',\n",
              " '20_candidates_for_scoring_with_scores.csv',\n",
              " '20_candidates_for_scoring.csv',\n",
              " 'BART_trained_scores.csv',\n",
              " '20_candidates_final_scores.csv',\n",
              " '20_tech_candidates_for_scoring_with_scores.csv',\n",
              " 'all_candidates_for_scoring_with_scores.csv',\n",
              " 'all_tech_candidates_for_scoring_with_scores.csv',\n",
              " 'tech_pronouns_boolean.csv',\n",
              " 'all_categories_pronouns_boolean.csv']"
            ]
          },
          "metadata": {},
          "execution_count": 6
        }
      ]
    },
    {
      "cell_type": "markdown",
      "source": [
        "# Pronouns"
      ],
      "metadata": {
        "id": "OduNAMxDzxqR"
      }
    },
    {
      "cell_type": "code",
      "source": [
        "all_cat_pronouns_df = pd.read_csv('/content/drive/MyDrive/W266FinalProject/test_candidates/for_scoring/all_categories_pronouns_boolean.csv')\n",
        "tech_pronouns_df = pd.read_csv('/content/drive/MyDrive/W266FinalProject/test_candidates/for_scoring/tech_pronouns_boolean.csv')"
      ],
      "metadata": {
        "id": "f3qMv3S_ymIO"
      },
      "execution_count": 61,
      "outputs": []
    },
    {
      "cell_type": "code",
      "source": [
        "def print_pronoun_totals(df):\n",
        "  print(f\"Total articles w/ company/org names: {df['Brand'].sum()}\")\n",
        "  print(f\"Total articles w/ personal names: {df['Person'].sum()}\")\n",
        "  print(f\"Total articles w/ proper places: {df['Place'].sum()}\")"
      ],
      "metadata": {
        "id": "kd5NP9oLzB4h"
      },
      "execution_count": 62,
      "outputs": []
    },
    {
      "cell_type": "code",
      "source": [
        "print_pronoun_totals(all_cat_pronouns_df)"
      ],
      "metadata": {
        "colab": {
          "base_uri": "https://localhost:8080/"
        },
        "id": "qtUlU3bWy0UF",
        "outputId": "0145ddcd-1041-450c-ad28-a420649d2141"
      },
      "execution_count": 60,
      "outputs": [
        {
          "output_type": "stream",
          "name": "stdout",
          "text": [
            "Total articles w/ company/org names: 46\n",
            "Total articles w/ personal names: 16\n",
            "Total articles w/ proper places: 35\n"
          ]
        }
      ]
    },
    {
      "cell_type": "code",
      "source": [
        "print_pronoun_totals(tech_pronouns_df)"
      ],
      "metadata": {
        "colab": {
          "base_uri": "https://localhost:8080/"
        },
        "id": "uJ6zrikHznTk",
        "outputId": "09fdacb5-abaf-4d48-a7c8-328e98a78430"
      },
      "execution_count": 8,
      "outputs": [
        {
          "output_type": "stream",
          "name": "stdout",
          "text": [
            "Total articles w/ company/org names: 76\n",
            "Total articles w/ personal names: 10\n",
            "Total articles w/ proper places: 15\n"
          ]
        }
      ]
    },
    {
      "cell_type": "markdown",
      "source": [
        "Select pronoun type for filtering"
      ],
      "metadata": {
        "id": "9N6EYKHXzv-m"
      }
    },
    {
      "cell_type": "code",
      "source": [
        "pronoun_type = 'Brand'\n",
        "\n",
        "all_cat_filter = all_cat_pronouns_df[all_cat_pronouns_df[pronoun_type]==1]\n",
        "\n",
        "tech_filter = tech_pronouns_df[tech_pronouns_df[pronoun_type]==1].head(n=54)\n"
      ],
      "metadata": {
        "id": "mH3dfnu6z7cz"
      },
      "execution_count": 63,
      "outputs": []
    },
    {
      "cell_type": "markdown",
      "source": [
        "# Scoring"
      ],
      "metadata": {
        "id": "33SlcxEGz5kS"
      }
    },
    {
      "cell_type": "markdown",
      "source": [
        "# Baseline"
      ],
      "metadata": {
        "id": "AgWRYJ4WQf0T"
      }
    },
    {
      "cell_type": "code",
      "source": [
        "baseline_all_cat = pd.read_csv('/content/drive/MyDrive/W266FinalProject/test_candidates/baseline_all_categories.csv')\n",
        "baseline_all_cat = baseline_all_cat.rename(columns={'Unnamed: 0': 'id', 'rogueL': 'rougeL', 'rogueLs': 'rougeLs'})\n",
        "\n",
        "baseline_tech = pd.read_csv('/content/drive/MyDrive/W266FinalProject/test_candidates/baseline_tech.csv')\n",
        "baseline_tech = baseline_tech.rename(columns={'Unnamed: 0': 'id', 'rogueL': 'rougeL', 'rogueLs': 'rougeLs'})\n"
      ],
      "metadata": {
        "id": "4N_eHC7aVvoi"
      },
      "execution_count": 64,
      "outputs": []
    },
    {
      "cell_type": "code",
      "source": [
        "print_scores(all_cat_filter.join(baseline_all_cat.set_index('id'), on='id', how='left'))"
      ],
      "metadata": {
        "colab": {
          "base_uri": "https://localhost:8080/"
        },
        "id": "0QQnr3G2E6U_",
        "outputId": "ce481f6e-c1aa-4f3e-f372-9ff6efbcdb93"
      },
      "execution_count": 66,
      "outputs": [
        {
          "output_type": "stream",
          "name": "stdout",
          "text": [
            "rouge1 average : 0.19283300071468143\n",
            "rouge2 average : 0.028155147433165596\n",
            "rougeL average : 0.12832190373097155\n",
            "rougeLs average : 0.12832190373097155\n",
            "chrf average : 27.1094971199698\n"
          ]
        }
      ]
    },
    {
      "cell_type": "code",
      "source": [
        "print_scores(pd.concat([\n",
        "    all_cat_filter.join(baseline_all_cat.set_index('id'), on='id', how='left'),\n",
        "    tech_filter.join(baseline_tech.set_index('id'), on='id', how='left')\n",
        "]))"
      ],
      "metadata": {
        "colab": {
          "base_uri": "https://localhost:8080/"
        },
        "id": "k7E14Mk7DzcB",
        "outputId": "446115b6-07de-4a46-e96d-d12024d78148"
      },
      "execution_count": 68,
      "outputs": [
        {
          "output_type": "stream",
          "name": "stdout",
          "text": [
            "rouge1 average : 0.18820017751239032\n",
            "rouge2 average : 0.022409975579982734\n",
            "rougeL average : 0.12044440817717227\n",
            "rougeLs average : 0.12044440817717227\n",
            "chrf average : 26.789383818079624\n"
          ]
        }
      ]
    },
    {
      "cell_type": "markdown",
      "source": [
        "# T5"
      ],
      "metadata": {
        "id": "R4u33PKiQeZ9"
      }
    },
    {
      "cell_type": "markdown",
      "source": [
        "Base"
      ],
      "metadata": {
        "id": "Idxt7NSgQplv"
      }
    },
    {
      "cell_type": "code",
      "source": [
        "t5_base = pd.read_csv('/content/drive/MyDrive/W266FinalProject/test_candidates/t5_all_categories_base.csv')\n",
        "t5_base = t5_base.drop(columns={'Unnamed: 0': 'id'})\n",
        "\n",
        "t5_base_tech = pd.read_csv('/content/drive/MyDrive/W266FinalProject/test_candidates/t5_tech_base.csv')\n",
        "t5_base_tech = t5_base_tech.rename(columns={'Unnamed: 0': 'id'})"
      ],
      "metadata": {
        "id": "0jxHTeMJV0Hc"
      },
      "execution_count": 70,
      "outputs": []
    },
    {
      "cell_type": "code",
      "source": [
        "print_scores(t5_base)"
      ],
      "metadata": {
        "colab": {
          "base_uri": "https://localhost:8080/"
        },
        "id": "WkS1dsRw1GcW",
        "outputId": "9e85b31c-86e7-4e3c-b2fd-98aac2b77803"
      },
      "execution_count": 71,
      "outputs": [
        {
          "output_type": "stream",
          "name": "stdout",
          "text": [
            "rouge1 average : 0.20696283047603609\n",
            "rouge2 average : 0.04017271566660002\n",
            "rougeL average : 0.1447713155898578\n",
            "rougeLs average : 0.1447713155898578\n",
            "chrf average : 27.761420857966414\n"
          ]
        }
      ]
    },
    {
      "cell_type": "code",
      "source": [
        "print_scores(pd.concat([\n",
        "    all_cat_filter.join(t5_base.set_index('id'), on='id', how='left'),\n",
        "    tech_filter.join(t5_base_tech.set_index('id'), on='id', how='left')\n",
        "]))"
      ],
      "metadata": {
        "colab": {
          "base_uri": "https://localhost:8080/"
        },
        "id": "URcYI0PcQr3p",
        "outputId": "567765c5-d8ab-463b-8407-fc09f7a4f53f"
      },
      "execution_count": 72,
      "outputs": [
        {
          "output_type": "stream",
          "name": "stdout",
          "text": [
            "rouge1 average : 0.20020387676590512\n",
            "rouge2 average : 0.028059311395235865\n",
            "rougeL average : 0.13312433821563815\n",
            "rougeLs average : 0.13312433821563815\n",
            "chrf average : 26.59780539188677\n"
          ]
        }
      ]
    },
    {
      "cell_type": "markdown",
      "source": [
        "Finetuned"
      ],
      "metadata": {
        "id": "gybyaBbdQqzW"
      }
    },
    {
      "cell_type": "code",
      "source": [
        "t5_finetune = pd.read_csv('/content/drive/MyDrive/W266FinalProject/test_candidates/t5_all_categories_finetuned.csv')\n",
        "t5_finetune = t5_finetune.drop(columns={'Unnamed: 0': 'id'})\n",
        "\n",
        "t5_finetune_tech = pd.read_csv('/content/drive/MyDrive/W266FinalProject/test_candidates/t5_tech_finetuned.csv')\n",
        "t5_finetune_tech = t5_finetune_tech.rename(columns={'Unnamed: 0': 'id'})"
      ],
      "metadata": {
        "id": "L3KIFB6cV2F1"
      },
      "execution_count": 73,
      "outputs": []
    },
    {
      "cell_type": "code",
      "source": [
        "print_scores(t5_finetune)"
      ],
      "metadata": {
        "colab": {
          "base_uri": "https://localhost:8080/"
        },
        "id": "MOIS5SUdWCUy",
        "outputId": "afbef33a-468b-46f9-c774-be3cb6b40d8f"
      },
      "execution_count": 74,
      "outputs": [
        {
          "output_type": "stream",
          "name": "stdout",
          "text": [
            "rouge1 average : 0.21933763902862263\n",
            "rouge2 average : 0.04598146383127719\n",
            "rougeL average : 0.15632816550769743\n",
            "rougeLs average : 0.15632816550769743\n",
            "chrf average : 22.496347369500008\n"
          ]
        }
      ]
    },
    {
      "cell_type": "code",
      "source": [
        "print_scores(pd.concat([\n",
        "    all_cat_filter.join(t5_finetune.set_index('id'), on='id', how='left'),\n",
        "    tech_filter.join(t5_finetune_tech.set_index('id'), on='id', how='left')\n",
        "]))"
      ],
      "metadata": {
        "colab": {
          "base_uri": "https://localhost:8080/"
        },
        "id": "Lf8hlAwg1vHG",
        "outputId": "aeb35755-0766-4550-88fd-397548588178"
      },
      "execution_count": 75,
      "outputs": [
        {
          "output_type": "stream",
          "name": "stdout",
          "text": [
            "rouge1 average : 0.21982083759734924\n",
            "rouge2 average : 0.0404291927226851\n",
            "rougeL average : 0.16375497104670267\n",
            "rougeLs average : 0.16375497104670267\n",
            "chrf average : 22.82872087655659\n"
          ]
        }
      ]
    },
    {
      "cell_type": "markdown",
      "source": [
        "# BART"
      ],
      "metadata": {
        "id": "jQpI9wzYQlIa"
      }
    },
    {
      "cell_type": "markdown",
      "source": [
        "Base"
      ],
      "metadata": {
        "id": "X1ViMzLWRpEZ"
      }
    },
    {
      "cell_type": "code",
      "source": [
        "bart_base = pd.read_csv('/content/drive/MyDrive/W266FinalProject/test_candidates/bart_128_all_categories_base.csv')\n",
        "bart_base = bart_base.rename(columns={'Unnamed: 0': 'id'})\n",
        "\n",
        "bart_base_tech = pd.read_csv('/content/drive/MyDrive/W266FinalProject/test_candidates/bart_128_tech_base.csv')\n",
        "bart_base_tech = bart_base_tech.rename(columns={'Unnamed: 0': 'id'})"
      ],
      "metadata": {
        "id": "CYsOyVHOV30v"
      },
      "execution_count": 76,
      "outputs": []
    },
    {
      "cell_type": "code",
      "source": [
        "print_scores(bart_base)"
      ],
      "metadata": {
        "colab": {
          "base_uri": "https://localhost:8080/"
        },
        "id": "UI-03V1DWEBV",
        "outputId": "72c43c57-57fa-41ee-d71f-b61288db7710"
      },
      "execution_count": 77,
      "outputs": [
        {
          "output_type": "stream",
          "name": "stdout",
          "text": [
            "rouge1 average : 0.1666960552602231\n",
            "rouge2 average : 0.02930038736181849\n",
            "rougeL average : 0.10691680771631379\n",
            "rougeLs average : 0.10691680771631379\n",
            "chrf average : 25.339016723267346\n"
          ]
        }
      ]
    },
    {
      "cell_type": "code",
      "source": [
        "print_scores(pd.concat([\n",
        "    all_cat_filter.join(bart_base.set_index('id'), on='id', how='left'),\n",
        "    tech_filter.join(bart_base_tech.set_index('id'), on='id', how='left')\n",
        "]))"
      ],
      "metadata": {
        "colab": {
          "base_uri": "https://localhost:8080/"
        },
        "id": "NuxVQUYz2HMB",
        "outputId": "63f42cf1-e79a-4bf5-c630-aa01ec7a7946"
      },
      "execution_count": 78,
      "outputs": [
        {
          "output_type": "stream",
          "name": "stdout",
          "text": [
            "rouge1 average : 0.16514932969264876\n",
            "rouge2 average : 0.027229689761681098\n",
            "rougeL average : 0.10652380407359958\n",
            "rougeLs average : 0.10652380407359958\n",
            "chrf average : 25.11520446407938\n"
          ]
        }
      ]
    },
    {
      "cell_type": "markdown",
      "source": [
        "Finetuned"
      ],
      "metadata": {
        "id": "Mriw1TLZRqnK"
      }
    },
    {
      "cell_type": "code",
      "source": [
        "bart_finetune = pd.read_csv('/content/drive/MyDrive/W266FinalProject/test_candidates/bart_all_categories_finetuned.csv')\n",
        "bart_finetune = bart_finetune.drop(columns={'Unnamed: 0': 'id'})\n",
        "\n",
        "bart_finetune_tech = pd.read_csv('/content/drive/MyDrive/W266FinalProject/test_candidates/bart_tech_finetuned.csv')\n",
        "bart_finetune_tech = bart_finetune_tech.rename(columns={'Unnamed: 0': 'id'})"
      ],
      "metadata": {
        "id": "A_Im7I_jV5kZ"
      },
      "execution_count": 79,
      "outputs": []
    },
    {
      "cell_type": "code",
      "source": [
        "print_scores(bart_finetune)"
      ],
      "metadata": {
        "colab": {
          "base_uri": "https://localhost:8080/"
        },
        "id": "9cuKwL1rWGLL",
        "outputId": "a30ffb4c-d7a4-40a6-a12e-79fb3be27e90"
      },
      "execution_count": 80,
      "outputs": [
        {
          "output_type": "stream",
          "name": "stdout",
          "text": [
            "rouge1 average : 0.29647577944389075\n",
            "rouge2 average : 0.08889933188986054\n",
            "rougeL average : 0.22296322897911577\n",
            "rougeLs average : 0.22296322897911577\n",
            "chrf average : 27.469024403062186\n"
          ]
        }
      ]
    },
    {
      "cell_type": "code",
      "source": [
        "print_scores(pd.concat([\n",
        "    all_cat_filter.join(bart_finetune.set_index('id'), on='id', how='left'),\n",
        "    tech_filter.join(bart_finetune_tech.set_index('id'), on='id', how='left')\n",
        "]))"
      ],
      "metadata": {
        "colab": {
          "base_uri": "https://localhost:8080/"
        },
        "id": "jw3hqM4c2PWj",
        "outputId": "19c4b890-0ba8-4cc5-a60d-4fdb5288cdfa"
      },
      "execution_count": 81,
      "outputs": [
        {
          "output_type": "stream",
          "name": "stdout",
          "text": [
            "rouge1 average : 0.3110401122334004\n",
            "rouge2 average : 0.09488824314480405\n",
            "rougeL average : 0.24578266620547023\n",
            "rougeLs average : 0.24578266620547023\n",
            "chrf average : 28.58922165739746\n"
          ]
        }
      ]
    },
    {
      "cell_type": "markdown",
      "source": [
        "# BERT"
      ],
      "metadata": {
        "id": "03X_58TSSBGT"
      }
    },
    {
      "cell_type": "code",
      "source": [
        "bert = pd.read_csv('/content/drive/MyDrive/W266FinalProject/test_candidates/bert_all_categories.csv')\n",
        "bert = bert.drop(columns={'Unnamed: 0': 'id'})\n",
        "\n",
        "bert_tech = pd.read_csv('/content/drive/MyDrive/W266FinalProject/test_candidates/bert_tech.csv')\n",
        "bert_tech = bert_tech.rename(columns={'Unnamed: 0': 'id'})\n",
        "bert_tech = bert_tech.rename(columns={'rogueL': 'rougeL', 'rogueLs': 'rougeLs'})"
      ],
      "metadata": {
        "id": "x9YX0qmQV7Eh"
      },
      "execution_count": 82,
      "outputs": []
    },
    {
      "cell_type": "code",
      "source": [
        "print_scores(bert)"
      ],
      "metadata": {
        "colab": {
          "base_uri": "https://localhost:8080/"
        },
        "id": "C5aXUz5NV9SJ",
        "outputId": "631ef0b0-aa71-4d8f-b755-28a2f0b07732"
      },
      "execution_count": 83,
      "outputs": [
        {
          "output_type": "stream",
          "name": "stdout",
          "text": [
            "rouge1 average : 0.18751794780976513\n",
            "rouge2 average : 0.02449131701058454\n",
            "rougeL average : 0.12851702714997285\n",
            "rougeLs average : 0.12851702714997285\n",
            "chrf average : 26.327214111062393\n"
          ]
        }
      ]
    },
    {
      "cell_type": "code",
      "source": [
        "print_scores(pd.concat([\n",
        "    all_cat_filter.join(bert.set_index('id'), on='id', how='left'),\n",
        "    tech_filter.join(bert_tech.set_index('id'), on='id', how='left')\n",
        "]))"
      ],
      "metadata": {
        "id": "LzILPVOESNyh",
        "colab": {
          "base_uri": "https://localhost:8080/"
        },
        "outputId": "cb93706a-7529-49d1-81ef-bfce6567d37d"
      },
      "execution_count": 84,
      "outputs": [
        {
          "output_type": "stream",
          "name": "stdout",
          "text": [
            "rouge1 average : 0.18408762483860497\n",
            "rouge2 average : 0.020751893808427742\n",
            "rougeL average : 0.12366378139379658\n",
            "rougeLs average : 0.12366378139379658\n",
            "chrf average : 26.079077889074238\n"
          ]
        }
      ]
    },
    {
      "cell_type": "code",
      "source": [],
      "metadata": {
        "id": "6bw5Irwd22eO"
      },
      "execution_count": null,
      "outputs": []
    }
  ]
}