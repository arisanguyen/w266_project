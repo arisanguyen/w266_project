{
 "cells": [
  {
   "cell_type": "markdown",
   "id": "0d870553",
   "metadata": {},
   "source": [
    "**Packages**"
   ]
  },
  {
   "cell_type": "code",
   "execution_count": 1,
   "id": "dacdaf3d",
   "metadata": {
    "tags": []
   },
   "outputs": [
    {
     "name": "stderr",
     "output_type": "stream",
     "text": [
      "/home/ubuntu/w266/lib/python3.8/site-packages/tqdm/auto.py:21: TqdmWarning: IProgress not found. Please update jupyter and ipywidgets. See https://ipywidgets.readthedocs.io/en/stable/user_install.html\n",
      "  from .autonotebook import tqdm as notebook_tqdm\n"
     ]
    }
   ],
   "source": [
    "import numpy as np\n",
    "import pandas as pd\n",
    "import matplotlib.pyplot as plt \n",
    "\n",
    "from datasets import load_dataset\n",
    "import evaluate\n",
    "\n",
    "#let's make longer output readable without horizontal scrolling\n",
    "from pprint import pprint\n",
    "\n",
    "import warnings\n",
    "\n",
    "import re"
   ]
  },
  {
   "cell_type": "markdown",
   "id": "5f29e293",
   "metadata": {},
   "source": [
    "**Necessary Functions**"
   ]
  },
  {
   "cell_type": "code",
   "execution_count": 2,
   "id": "a175b266-af47-4945-9f38-f576765a6651",
   "metadata": {},
   "outputs": [],
   "source": [
    "import inspect\n",
    "\n",
    "def get_default_args(func):\n",
    "    signature = inspect.signature(func)\n",
    "    return {\n",
    "        k: v.default\n",
    "        for k, v in signature.parameters.items()\n",
    "        if v.default is not inspect.Parameter.empty\n",
    "    }"
   ]
  },
  {
   "cell_type": "code",
   "execution_count": 3,
   "id": "d3195096-a79e-42da-a1c4-becadc0f2022",
   "metadata": {},
   "outputs": [],
   "source": [
    "def data_organize(sample_index):\n",
    "\n",
    "    article = []\n",
    "    summary = []\n",
    "\n",
    "    for i in sample_index[\"index\"]:\n",
    "        summary.append(dataset[\"train\"][i]['summary'])\n",
    "        article.append(dataset[\"train\"][i]['text'])\n",
    "\n",
    "    return article, summary"
   ]
  },
  {
   "cell_type": "markdown",
   "id": "586a6d00",
   "metadata": {},
   "source": [
    "**Data**"
   ]
  },
  {
   "cell_type": "code",
   "execution_count": 4,
   "id": "ec6c665e",
   "metadata": {
    "tags": []
   },
   "outputs": [
    {
     "name": "stderr",
     "output_type": "stream",
     "text": [
      "Found cached dataset xlsum (/home/ubuntu/.cache/huggingface/datasets/csebuetnlp___xlsum/english/2.0.0/518ab0af76048660bcc2240ca6e8692a977c80e384ffb18fdddebaca6daebdce)\n",
      "100%|█████████████████████████████████████████████| 3/3 [00:00<00:00,  4.52it/s]\n"
     ]
    }
   ],
   "source": [
    "dataset = load_dataset(\"csebuetnlp/xlsum\", \"english\")"
   ]
  },
  {
   "cell_type": "code",
   "execution_count": 5,
   "id": "111f7985",
   "metadata": {},
   "outputs": [
    {
     "data": {
      "text/plain": [
       "306522"
      ]
     },
     "execution_count": 5,
     "metadata": {},
     "output_type": "execute_result"
    }
   ],
   "source": [
    "# EDA\n",
    "len(dataset['train'])"
   ]
  },
  {
   "cell_type": "code",
   "execution_count": 6,
   "id": "5f538fd8",
   "metadata": {},
   "outputs": [
    {
     "data": {
      "text/plain": [
       "{'id': 'uk-scotland-highlands-islands-11069985',\n",
       " 'url': 'https://www.bbc.com/news/uk-scotland-highlands-islands-11069985',\n",
       " 'title': 'Huge tidal turbine installed at Orkney test site',\n",
       " 'summary': 'The massive tidal turbine AK1000 has been installed in 35m (114.8ft) of water at a test site in Orkney.',\n",
       " 'text': 'Atlantis Resources unveiled the marine energy device at Invergordon ahead of it being shipped to Kirkwall. Trials on the device will now be run at the European Marine Energy Centre test site off Eday. The device stands 22.5m (73ft) tall, weighs 1,300 tonnes and has two sets of blades on a single unit. It could generate enough power for 1,000 homes.'}"
      ]
     },
     "execution_count": 6,
     "metadata": {},
     "output_type": "execute_result"
    }
   ],
   "source": [
    "# EDA\n",
    "dataset['train'][1]"
   ]
  },
  {
   "cell_type": "markdown",
   "id": "d8bea455-0f13-4d81-b5f2-efb65561015b",
   "metadata": {},
   "source": [
    "**Sampling for Train, Val, and Test sets for all XL Sum**"
   ]
  },
  {
   "cell_type": "code",
   "execution_count": 7,
   "id": "889c2cd0-b3bc-467b-ba39-bfd8a0eefb0d",
   "metadata": {
    "tags": []
   },
   "outputs": [
    {
     "data": {
      "text/html": [
       "<div>\n",
       "<style scoped>\n",
       "    .dataframe tbody tr th:only-of-type {\n",
       "        vertical-align: middle;\n",
       "    }\n",
       "\n",
       "    .dataframe tbody tr th {\n",
       "        vertical-align: top;\n",
       "    }\n",
       "\n",
       "    .dataframe thead th {\n",
       "        text-align: right;\n",
       "    }\n",
       "</style>\n",
       "<table border=\"1\" class=\"dataframe\">\n",
       "  <thead>\n",
       "    <tr style=\"text-align: right;\">\n",
       "      <th></th>\n",
       "      <th>index</th>\n",
       "    </tr>\n",
       "  </thead>\n",
       "  <tbody>\n",
       "    <tr>\n",
       "      <th>235420</th>\n",
       "      <td>235420</td>\n",
       "    </tr>\n",
       "    <tr>\n",
       "      <th>172024</th>\n",
       "      <td>172024</td>\n",
       "    </tr>\n",
       "    <tr>\n",
       "      <th>253546</th>\n",
       "      <td>253546</td>\n",
       "    </tr>\n",
       "    <tr>\n",
       "      <th>224954</th>\n",
       "      <td>224954</td>\n",
       "    </tr>\n",
       "    <tr>\n",
       "      <th>214134</th>\n",
       "      <td>214134</td>\n",
       "    </tr>\n",
       "  </tbody>\n",
       "</table>\n",
       "</div>"
      ],
      "text/plain": [
       "         index\n",
       "235420  235420\n",
       "172024  172024\n",
       "253546  253546\n",
       "224954  224954\n",
       "214134  214134"
      ]
     },
     "execution_count": 7,
     "metadata": {},
     "output_type": "execute_result"
    }
   ],
   "source": [
    "index = pd.DataFrame({\"index\": list(range(len(dataset['train'])))})\n",
    "sample_index = index.sample(n=2000, replace=False, random_state=1004)\n",
    "sample_index[:5]"
   ]
  },
  {
   "cell_type": "code",
   "execution_count": null,
   "id": "6ae49ebd-a706-482c-af82-8b00dffa7af2",
   "metadata": {},
   "outputs": [],
   "source": [
    "article, summary = data_organize(sample_index)"
   ]
  },
  {
   "cell_type": "code",
   "execution_count": null,
   "id": "4605cfc2-b9f3-4aa5-868b-ef2e62a18a4d",
   "metadata": {},
   "outputs": [],
   "source": [
    "d = {'text': article[:1000],  'summary': summary[:1000]}\n",
    "df = pd.DataFrame(data=d)\n",
    "df.to_csv('../w266_projectxl_sum_sample_train.csv', index = False)\n",
    "#df.head(5)"
   ]
  },
  {
   "cell_type": "code",
   "execution_count": null,
   "id": "64a4a545-185d-4256-90f5-106597d8b71b",
   "metadata": {},
   "outputs": [],
   "source": [
    "d = {'text': article[1000:1100],  'summary': summary[1000:1100]}\n",
    "df = pd.DataFrame(data=d)\n",
    "df.to_csv('../w266_project/xl_sum_sample_val.csv', index = False)\n",
    "#df.head(5)"
   ]
  },
  {
   "cell_type": "code",
   "execution_count": null,
   "id": "c097723b-1ac2-4110-80fe-65095eb3f1db",
   "metadata": {
    "tags": []
   },
   "outputs": [],
   "source": [
    "d = {'text': article[1100:1200],  'summary': summary[1100:1200]}\n",
    "df = pd.DataFrame(data=d)\n",
    "df.to_csv('../w266_project/xl_sum_sample_test.csv', index = False)\n",
    "#df.head(5)"
   ]
  },
  {
   "cell_type": "markdown",
   "id": "3b6b0d1a-139c-401d-bf7b-90c95b3a2a80",
   "metadata": {},
   "source": [
    "**EDA on Train**"
   ]
  },
  {
   "cell_type": "code",
   "execution_count": 9,
   "id": "6656d7bc",
   "metadata": {
    "tags": []
   },
   "outputs": [],
   "source": [
    "id = []\n",
    "url = []\n",
    "title = []\n",
    "article = []\n",
    "article_num_sentences = []\n",
    "article_num_characters = []\n",
    "article_num_words = []\n",
    "summary = []\n",
    "summary_num_sentences = []\n",
    "summary_num_characters = []\n",
    "summary_num_words = []\n",
    "\n",
    "for i in sample_index[\"index\"][0:1000]:\n",
    "    id.append(dataset[\"train\"][i]['id'])\n",
    "    url.append(dataset[\"train\"][i]['url'])\n",
    "    title.append(dataset[\"train\"][i]['title'])\n",
    "    summary.append(dataset[\"train\"][i]['summary'])\n",
    "    summary_num_sentences.append(len(dataset[\"train\"][i]['summary'].split(\".\")))\n",
    "    summary_num_words.append(len(dataset[\"train\"][i]['summary'].split(\" \")))\n",
    "    summary_num_characters.append(len(dataset[\"train\"][i]['summary']))\n",
    "    article.append(dataset[\"train\"][i]['text'])\n",
    "    article_num_sentences.append(len(dataset[\"train\"][i]['text'].split(\".\")))\n",
    "    article_num_characters.append(len(dataset[\"train\"][i]['text']))\n",
    "    article_num_words.append(len(dataset[\"train\"][i]['text'].split(\" \")))\n",
    "    "
   ]
  },
  {
   "cell_type": "code",
   "execution_count": 10,
   "id": "66def3a2",
   "metadata": {
    "tags": []
   },
   "outputs": [
    {
     "data": {
      "text/html": [
       "<div>\n",
       "<style scoped>\n",
       "    .dataframe tbody tr th:only-of-type {\n",
       "        vertical-align: middle;\n",
       "    }\n",
       "\n",
       "    .dataframe tbody tr th {\n",
       "        vertical-align: top;\n",
       "    }\n",
       "\n",
       "    .dataframe thead th {\n",
       "        text-align: right;\n",
       "    }\n",
       "</style>\n",
       "<table border=\"1\" class=\"dataframe\">\n",
       "  <thead>\n",
       "    <tr style=\"text-align: right;\">\n",
       "      <th></th>\n",
       "      <th>id</th>\n",
       "      <th>url</th>\n",
       "      <th>title</th>\n",
       "      <th>article</th>\n",
       "      <th>article_num_sentences</th>\n",
       "      <th>article_num_words</th>\n",
       "      <th>article_num_characters</th>\n",
       "      <th>summary</th>\n",
       "      <th>summary_num_sentences</th>\n",
       "      <th>summary_num_words</th>\n",
       "      <th>summary_num_characters</th>\n",
       "    </tr>\n",
       "  </thead>\n",
       "  <tbody>\n",
       "    <tr>\n",
       "      <th>0</th>\n",
       "      <td>uk-england-cornwall-55191422</td>\n",
       "      <td>https://www.bbc.com/news/uk-england-cornwall-5...</td>\n",
       "      <td>Care home manager: 'It felt like we were losin...</td>\n",
       "      <td>By Rebecca Ricks &amp; Johnny O'SheaBBC Spotlight ...</td>\n",
       "      <td>37</td>\n",
       "      <td>697</td>\n",
       "      <td>3755</td>\n",
       "      <td>During the spring, at the height of the Covid-...</td>\n",
       "      <td>2</td>\n",
       "      <td>27</td>\n",
       "      <td>147</td>\n",
       "    </tr>\n",
       "    <tr>\n",
       "      <th>1</th>\n",
       "      <td>uk-43893709</td>\n",
       "      <td>https://www.bbc.com/news/uk-43893709</td>\n",
       "      <td>Tafida Raqeeb: Who decides the care of sick ch...</td>\n",
       "      <td>By Rachel SchraerBBC Reality Check So, why did...</td>\n",
       "      <td>33</td>\n",
       "      <td>760</td>\n",
       "      <td>4531</td>\n",
       "      <td>The parents of five-year-old Tafida Raqeeb, wh...</td>\n",
       "      <td>2</td>\n",
       "      <td>20</td>\n",
       "      <td>121</td>\n",
       "    </tr>\n",
       "    <tr>\n",
       "      <th>2</th>\n",
       "      <td>uk-politics-57050659</td>\n",
       "      <td>https://www.bbc.com/news/uk-politics-57050659</td>\n",
       "      <td>Labour reshuffle: Anneliese Dodds out in Starm...</td>\n",
       "      <td>Anneliese Dodds will now become the Labour Par...</td>\n",
       "      <td>36</td>\n",
       "      <td>846</td>\n",
       "      <td>4845</td>\n",
       "      <td>Sir Keir Starmer has sacked his shadow chancel...</td>\n",
       "      <td>2</td>\n",
       "      <td>20</td>\n",
       "      <td>115</td>\n",
       "    </tr>\n",
       "    <tr>\n",
       "      <th>3</th>\n",
       "      <td>entertainment-arts-38221420</td>\n",
       "      <td>https://www.bbc.com/news/entertainment-arts-38...</td>\n",
       "      <td>Vinyl sales made more than downloads last week</td>\n",
       "      <td>By Mark SavageBBC Music reporter Vinyl sales m...</td>\n",
       "      <td>27</td>\n",
       "      <td>354</td>\n",
       "      <td>2082</td>\n",
       "      <td>More money was spent on vinyl than downloaded ...</td>\n",
       "      <td>2</td>\n",
       "      <td>15</td>\n",
       "      <td>83</td>\n",
       "    </tr>\n",
       "    <tr>\n",
       "      <th>4</th>\n",
       "      <td>entertainment-arts-24046991</td>\n",
       "      <td>https://www.bbc.com/news/entertainment-arts-24...</td>\n",
       "      <td>Pirates of the Caribbean sequel delayed</td>\n",
       "      <td>Disney's Pirates of The Caribbean: Dead Men Te...</td>\n",
       "      <td>14</td>\n",
       "      <td>253</td>\n",
       "      <td>1569</td>\n",
       "      <td>The next Pirates of the Caribbean film has bee...</td>\n",
       "      <td>2</td>\n",
       "      <td>15</td>\n",
       "      <td>88</td>\n",
       "    </tr>\n",
       "  </tbody>\n",
       "</table>\n",
       "</div>"
      ],
      "text/plain": [
       "                             id  \\\n",
       "0  uk-england-cornwall-55191422   \n",
       "1                   uk-43893709   \n",
       "2          uk-politics-57050659   \n",
       "3   entertainment-arts-38221420   \n",
       "4   entertainment-arts-24046991   \n",
       "\n",
       "                                                 url  \\\n",
       "0  https://www.bbc.com/news/uk-england-cornwall-5...   \n",
       "1               https://www.bbc.com/news/uk-43893709   \n",
       "2      https://www.bbc.com/news/uk-politics-57050659   \n",
       "3  https://www.bbc.com/news/entertainment-arts-38...   \n",
       "4  https://www.bbc.com/news/entertainment-arts-24...   \n",
       "\n",
       "                                               title  \\\n",
       "0  Care home manager: 'It felt like we were losin...   \n",
       "1  Tafida Raqeeb: Who decides the care of sick ch...   \n",
       "2  Labour reshuffle: Anneliese Dodds out in Starm...   \n",
       "3     Vinyl sales made more than downloads last week   \n",
       "4            Pirates of the Caribbean sequel delayed   \n",
       "\n",
       "                                             article  article_num_sentences  \\\n",
       "0  By Rebecca Ricks & Johnny O'SheaBBC Spotlight ...                     37   \n",
       "1  By Rachel SchraerBBC Reality Check So, why did...                     33   \n",
       "2  Anneliese Dodds will now become the Labour Par...                     36   \n",
       "3  By Mark SavageBBC Music reporter Vinyl sales m...                     27   \n",
       "4  Disney's Pirates of The Caribbean: Dead Men Te...                     14   \n",
       "\n",
       "   article_num_words  article_num_characters  \\\n",
       "0                697                    3755   \n",
       "1                760                    4531   \n",
       "2                846                    4845   \n",
       "3                354                    2082   \n",
       "4                253                    1569   \n",
       "\n",
       "                                             summary  summary_num_sentences  \\\n",
       "0  During the spring, at the height of the Covid-...                      2   \n",
       "1  The parents of five-year-old Tafida Raqeeb, wh...                      2   \n",
       "2  Sir Keir Starmer has sacked his shadow chancel...                      2   \n",
       "3  More money was spent on vinyl than downloaded ...                      2   \n",
       "4  The next Pirates of the Caribbean film has bee...                      2   \n",
       "\n",
       "   summary_num_words  summary_num_characters  \n",
       "0                 27                     147  \n",
       "1                 20                     121  \n",
       "2                 20                     115  \n",
       "3                 15                      83  \n",
       "4                 15                      88  "
      ]
     },
     "execution_count": 10,
     "metadata": {},
     "output_type": "execute_result"
    }
   ],
   "source": [
    "d = {'id': id, 'url': url, \"title\": title, 'article': article, \"article_num_sentences\": article_num_sentences, \"article_num_words\": article_num_words, \"article_num_characters\": article_num_characters, 'summary': summary,\"summary_num_sentences\": summary_num_sentences,\"summary_num_words\": summary_num_words, \"summary_num_characters\": summary_num_characters}\n",
    "df = pd.DataFrame(data=d)\n",
    "df.head(5)"
   ]
  },
  {
   "cell_type": "code",
   "execution_count": 12,
   "id": "dea44334",
   "metadata": {},
   "outputs": [
    {
     "name": "stdout",
     "output_type": "stream",
     "text": [
      "min summary words 8\n",
      "max summary words 79\n",
      "mean summary sentences 2.059\n"
     ]
    }
   ],
   "source": [
    "print(\"min summary words\", min(df['summary_num_words']))\n",
    "print(\"max summary words\", max(df['summary_num_words']))\n",
    "print(\"mean summary sentences\", np.mean(df['summary_num_sentences']))"
   ]
  },
  {
   "cell_type": "code",
   "execution_count": 13,
   "id": "0a80fbf2-c0bc-4c5e-8ffa-d4cd9a1a9245",
   "metadata": {
    "tags": []
   },
   "outputs": [
    {
     "name": "stdout",
     "output_type": "stream",
     "text": [
      "min ratio 0.0044426494345718905\n",
      "max ratio 0.4528301886792453\n",
      "mean ratio 0.07189914101501373\n",
      "median ratio 0.05816067653276956\n"
     ]
    },
    {
     "data": {
      "text/plain": [
       "Text(0.5, 1.0, 'Ratio of word count in summary to article')"
      ]
     },
     "execution_count": 13,
     "metadata": {},
     "output_type": "execute_result"
    },
    {
     "data": {
      "image/png": "[encoded data removed]",
      "text/plain": [
       "<Figure size 640x480 with 1 Axes>"
      ]
     },
     "metadata": {},
     "output_type": "display_data"
    }
   ],
   "source": [
    "ratio = df[\"summary_num_words\"]/df[\"article_num_words\"]\n",
    "print(\"min ratio\", min(ratio))\n",
    "print(\"max ratio\", max(ratio))\n",
    "print(\"mean ratio\", np.mean(ratio))\n",
    "print(\"median ratio\", np.median(ratio))\n",
    "plt.hist(ratio)\n",
    "plt.title(\"Ratio of word count in summary to article\")"
   ]
  },
  {
   "cell_type": "code",
   "execution_count": 14,
   "id": "0d7ca1f2-f1da-47d0-8d99-58799bc5909c",
   "metadata": {
    "tags": []
   },
   "outputs": [
    {
     "data": {
      "text/plain": [
       "Text(0.5, 1.0, 'Word Count in Summary vs Article')"
      ]
     },
     "execution_count": 14,
     "metadata": {},
     "output_type": "execute_result"
    },
    {
     "data": {
      "image/png": "[encoded data removed]",
      "text/plain": [
       "<Figure size 640x480 with 1 Axes>"
      ]
     },
     "metadata": {},
     "output_type": "display_data"
    }
   ],
   "source": [
    "plt.scatter(df[\"summary_num_words\"],df[\"article_num_words\"])\n",
    "z = np.polyfit(df[\"summary_num_words\"],df[\"article_num_words\"], 1)\n",
    "p = np.poly1d(z)\n",
    "#add trendline to plot\n",
    "plt.plot(df[\"summary_num_words\"], p(df[\"summary_num_words\"]))\n",
    "plt.title(\"Word Count in Summary vs Article\")"
   ]
  },
  {
   "cell_type": "markdown",
   "id": "54f523d9-c97d-4f32-bdfd-3aceb87fd42a",
   "metadata": {},
   "source": [
    "**Category EDA**"
   ]
  },
  {
   "cell_type": "code",
   "execution_count": 15,
   "id": "4189db83-8853-4249-bb2e-1da507c4fce4",
   "metadata": {
    "tags": []
   },
   "outputs": [],
   "source": [
    "categories = []\n",
    "\n",
    "for i in range(len(dataset['train'])):\n",
    "    cat = dataset['train'][i]['id']\n",
    "    result = re.sub('\\d','',cat)[:-1]\n",
    "    result = result.split('-')[0].split('.')[0]\n",
    "    categories.append(result)"
   ]
  },
  {
   "cell_type": "code",
   "execution_count": 16,
   "id": "4963c66b-b552-48d1-95ae-4428023d7432",
   "metadata": {
    "tags": []
   },
   "outputs": [],
   "source": [
    "def find_indices(list_to_check, item_to_find):\n",
    "    indices = []\n",
    "    for idx, value in enumerate(list_to_check):\n",
    "        if value == item_to_find:\n",
    "            indices.append(idx)\n",
    "    return indices"
   ]
  },
  {
   "cell_type": "code",
   "execution_count": 17,
   "id": "44f0a332-0c55-4fe4-a9d0-0f3477260ced",
   "metadata": {
    "tags": []
   },
   "outputs": [
    {
     "name": "stdout",
     "output_type": "stream",
     "text": [
      "172560\n"
     ]
    }
   ],
   "source": [
    "print(len(find_indices(categories, 'uk')))"
   ]
  },
  {
   "cell_type": "code",
   "execution_count": 18,
   "id": "b17f156a-09a8-407d-a476-3d6ae9661220",
   "metadata": {
    "tags": []
   },
   "outputs": [
    {
     "data": {
      "text/html": [
       "<div>\n",
       "<style scoped>\n",
       "    .dataframe tbody tr th:only-of-type {\n",
       "        vertical-align: middle;\n",
       "    }\n",
       "\n",
       "    .dataframe tbody tr th {\n",
       "        vertical-align: top;\n",
       "    }\n",
       "\n",
       "    .dataframe thead th {\n",
       "        text-align: right;\n",
       "    }\n",
       "</style>\n",
       "<table border=\"1\" class=\"dataframe\">\n",
       "  <thead>\n",
       "    <tr style=\"text-align: right;\">\n",
       "      <th></th>\n",
       "      <th>ind</th>\n",
       "    </tr>\n",
       "    <tr>\n",
       "      <th>category</th>\n",
       "      <th></th>\n",
       "    </tr>\n",
       "  </thead>\n",
       "  <tbody>\n",
       "    <tr>\n",
       "      <th>uk</th>\n",
       "      <td>172560.0</td>\n",
       "    </tr>\n",
       "    <tr>\n",
       "      <th>world</th>\n",
       "      <td>55414.0</td>\n",
       "    </tr>\n",
       "    <tr>\n",
       "      <th>business</th>\n",
       "      <td>21872.0</td>\n",
       "    </tr>\n",
       "    <tr>\n",
       "      <th>entertainment</th>\n",
       "      <td>13819.0</td>\n",
       "    </tr>\n",
       "    <tr>\n",
       "      <th>technology</th>\n",
       "      <td>9245.0</td>\n",
       "    </tr>\n",
       "    <tr>\n",
       "      <th>newsbeat</th>\n",
       "      <td>7118.0</td>\n",
       "    </tr>\n",
       "    <tr>\n",
       "      <th>health</th>\n",
       "      <td>6425.0</td>\n",
       "    </tr>\n",
       "    <tr>\n",
       "      <th>science</th>\n",
       "      <td>5432.0</td>\n",
       "    </tr>\n",
       "    <tr>\n",
       "      <th>education</th>\n",
       "      <td>3639.0</td>\n",
       "    </tr>\n",
       "    <tr>\n",
       "      <th>magazine</th>\n",
       "      <td>2664.0</td>\n",
       "    </tr>\n",
       "    <tr>\n",
       "      <th></th>\n",
       "      <td>2573.0</td>\n",
       "    </tr>\n",
       "    <tr>\n",
       "      <th>blogs</th>\n",
       "      <td>2364.0</td>\n",
       "    </tr>\n",
       "    <tr>\n",
       "      <th>sinhala</th>\n",
       "      <td>2138.0</td>\n",
       "    </tr>\n",
       "    <tr>\n",
       "      <th>stories</th>\n",
       "      <td>472.0</td>\n",
       "    </tr>\n",
       "    <tr>\n",
       "      <th>in</th>\n",
       "      <td>462.0</td>\n",
       "    </tr>\n",
       "    <tr>\n",
       "      <th>disability</th>\n",
       "      <td>171.0</td>\n",
       "    </tr>\n",
       "    <tr>\n",
       "      <th>explainers</th>\n",
       "      <td>114.0</td>\n",
       "    </tr>\n",
       "    <tr>\n",
       "      <th>the</th>\n",
       "      <td>17.0</td>\n",
       "    </tr>\n",
       "    <tr>\n",
       "      <th>entertainment+arts</th>\n",
       "      <td>8.0</td>\n",
       "    </tr>\n",
       "    <tr>\n",
       "      <th>election</th>\n",
       "      <td>7.0</td>\n",
       "    </tr>\n",
       "    <tr>\n",
       "      <th>help</th>\n",
       "      <td>5.0</td>\n",
       "    </tr>\n",
       "    <tr>\n",
       "      <th>science+environment</th>\n",
       "      <td>2.0</td>\n",
       "    </tr>\n",
       "    <tr>\n",
       "      <th>school</th>\n",
       "      <td>1.0</td>\n",
       "    </tr>\n",
       "  </tbody>\n",
       "</table>\n",
       "</div>"
      ],
      "text/plain": [
       "                          ind\n",
       "category                     \n",
       "uk                   172560.0\n",
       "world                 55414.0\n",
       "business              21872.0\n",
       "entertainment         13819.0\n",
       "technology             9245.0\n",
       "newsbeat               7118.0\n",
       "health                 6425.0\n",
       "science                5432.0\n",
       "education              3639.0\n",
       "magazine               2664.0\n",
       "                       2573.0\n",
       "blogs                  2364.0\n",
       "sinhala                2138.0\n",
       "stories                 472.0\n",
       "in                      462.0\n",
       "disability              171.0\n",
       "explainers              114.0\n",
       "the                      17.0\n",
       "entertainment+arts        8.0\n",
       "election                  7.0\n",
       "help                      5.0\n",
       "science+environment       2.0\n",
       "school                    1.0"
      ]
     },
     "execution_count": 18,
     "metadata": {},
     "output_type": "execute_result"
    }
   ],
   "source": [
    "dfc = {'category': categories, 'ind': np.ones(len(categories))}\n",
    "       \n",
    "dfc = pd.DataFrame(data = dfc)\n",
    "\n",
    "table = pd.pivot_table(dfc, values='ind', index=['category'], aggfunc=np.sum, sort = True)\n",
    "\n",
    "table.sort_values(by=('ind'), ascending=False,inplace=True)\n",
    "\n",
    "table"
   ]
  },
  {
   "cell_type": "markdown",
   "id": "971ff2fe-891f-4a3c-a584-652e9ee6d244",
   "metadata": {},
   "source": [
    "**Train, Val, and Test sets for each category**"
   ]
  },
  {
   "cell_type": "code",
   "execution_count": 19,
   "id": "8abcc75f-8a14-4abc-8b7e-919898c54cad",
   "metadata": {
    "tags": []
   },
   "outputs": [],
   "source": [
    "def find_indices(list_to_check, item_to_find):\n",
    "    indices = []\n",
    "    for idx, value in enumerate(list_to_check):\n",
    "        if value == item_to_find:\n",
    "            indices.append(idx)\n",
    "    return indices"
   ]
  },
  {
   "cell_type": "code",
   "execution_count": 20,
   "id": "fa09eacd-22c8-40f6-b4a8-dc197cd69493",
   "metadata": {
    "tags": []
   },
   "outputs": [],
   "source": [
    "categories = []\n",
    "\n",
    "for i in range(len(dataset['train'])):\n",
    "    cat = dataset['train'][i]['id']\n",
    "    result = re.sub('\\d','',cat)[:-1]\n",
    "    result = result.split('-')[0].split('.')[0]\n",
    "    categories.append(result)"
   ]
  },
  {
   "cell_type": "markdown",
   "id": "b678ebeb-6431-4784-911e-de647b4d698b",
   "metadata": {},
   "source": [
    "**Category 1: uk**"
   ]
  },
  {
   "cell_type": "code",
   "execution_count": 32,
   "id": "e070b013-9ada-4caa-9732-e4a84bc29e1f",
   "metadata": {
    "tags": []
   },
   "outputs": [],
   "source": [
    "uk = find_indices(categories, 'uk')\n",
    "index = pd.DataFrame({\"index\": uk})\n",
    "sample_index = index.sample(n=2000, replace=False, random_state=1004)\n",
    "\n",
    "article, summary = data_organize(sample_index)\n",
    "\n",
    "d = {'text': article[:1000],  'summary': summary[:1000]}\n",
    "df = pd.DataFrame(data=d)\n",
    "df.to_csv('xl_sum_sample_train_uk.csv', index = False)\n",
    "#df.head(5)\n",
    "\n",
    "d = {'text': article[1000:1100],  'summary': summary[1000:1100]}\n",
    "df = pd.DataFrame(data=d)\n",
    "df.to_csv('xl_sum_sample_val_uk.csv', index = False)\n",
    "#df.head(5)\n",
    "\n",
    "d = {'text': article[1100:1200],  'summary': summary[1100:1200]}\n",
    "df = pd.DataFrame(data=d)\n",
    "df.to_csv('xl_sum_sample_test_uk.csv', index = False)\n",
    "#df.head(5)"
   ]
  },
  {
   "cell_type": "markdown",
   "id": "0cdd50b4-cf9f-4fee-9065-670e58ee013c",
   "metadata": {},
   "source": [
    "**Category 2: world**"
   ]
  },
  {
   "cell_type": "code",
   "execution_count": 33,
   "id": "9e5cfbf0-89ea-46b3-86be-50fff630c846",
   "metadata": {
    "tags": []
   },
   "outputs": [],
   "source": [
    "world = find_indices(categories, 'world')\n",
    "index = pd.DataFrame({\"index\": world})\n",
    "sample_index = index.sample(n=2000, replace=False, random_state=1004)\n",
    "\n",
    "article, summary = data_organize(sample_index)\n",
    "\n",
    "d = {'text': article[:1000],  'summary': summary[:1000]}\n",
    "df = pd.DataFrame(data=d)\n",
    "df.to_csv('xl_sum_sample_train_world.csv', index = False)\n",
    "#df.head(5)\n",
    "\n",
    "d = {'text': article[1000:1100],  'summary': summary[1000:1100]}\n",
    "df = pd.DataFrame(data=d)\n",
    "df.to_csv('xl_sum_sample_val_world.csv', index = False)\n",
    "#df.head(5)\n",
    "\n",
    "d = {'text': article[1100:1200],  'summary': summary[1100:1200]}\n",
    "df = pd.DataFrame(data=d)\n",
    "df.to_csv('xl_sum_sample_test_world.csv', index = False)\n",
    "#df.head(5)"
   ]
  },
  {
   "cell_type": "markdown",
   "id": "ecd5fa59-a910-46c4-8e5c-fe23bc1074bd",
   "metadata": {},
   "source": [
    "**Category 3: business**"
   ]
  },
  {
   "cell_type": "code",
   "execution_count": 34,
   "id": "5fce5d8e-2dd9-43b6-a05f-07d3feae2181",
   "metadata": {
    "tags": []
   },
   "outputs": [],
   "source": [
    "business = find_indices(categories, 'business')\n",
    "index = pd.DataFrame({\"index\": business})\n",
    "sample_index = index.sample(n=2000, replace=False, random_state=1004)\n",
    "\n",
    "article, summary = data_organize(sample_index)\n",
    "\n",
    "d = {'text': article[:1000],  'summary': summary[:1000]}\n",
    "df = pd.DataFrame(data=d)\n",
    "df.to_csv('xl_sum_sample_train_business.csv', index = False)\n",
    "#df.head(5)\n",
    "\n",
    "d = {'text': article[1000:1100],  'summary': summary[1000:1100]}\n",
    "df = pd.DataFrame(data=d)\n",
    "df.to_csv('xl_sum_sample_val_business.csv', index = False)\n",
    "#df.head(5)\n",
    "\n",
    "d = {'text': article[1100:1200],  'summary': summary[1100:1200]}\n",
    "df = pd.DataFrame(data=d)\n",
    "df.to_csv('xl_sum_sample_test_business.csv', index = False)\n",
    "#df.head(5)"
   ]
  },
  {
   "cell_type": "markdown",
   "id": "da1a022f-d09c-4c82-b444-831c5890f221",
   "metadata": {},
   "source": [
    "**Category 4: entertainment**"
   ]
  },
  {
   "cell_type": "code",
   "execution_count": 35,
   "id": "9a432254-175d-423f-8dec-3e13c88ef157",
   "metadata": {
    "tags": []
   },
   "outputs": [],
   "source": [
    "entertainment = find_indices(categories, 'entertainment')\n",
    "index = pd.DataFrame({\"index\": entertainment})\n",
    "sample_index = index.sample(n=2000, replace=False, random_state=1004)\n",
    "\n",
    "article, summary = data_organize(sample_index)\n",
    "\n",
    "d = {'text': article[:1000],  'summary': summary[:1000]}\n",
    "df = pd.DataFrame(data=d)\n",
    "df.to_csv('xl_sum_sample_train_entertainment.csv', index = False)\n",
    "#df.head(5)\n",
    "\n",
    "d = {'text': article[1000:1100],  'summary': summary[1000:1100]}\n",
    "df = pd.DataFrame(data=d)\n",
    "df.to_csv('xl_sum_sample_val_entertainment.csv', index = False)\n",
    "#df.head(5)\n",
    "\n",
    "d = {'text': article[1100:1200],  'summary': summary[1100:1200]}\n",
    "df = pd.DataFrame(data=d)\n",
    "df.to_csv('xl_sum_sample_test_entertainment.csv', index = False)\n",
    "#df.head(5)"
   ]
  },
  {
   "cell_type": "markdown",
   "id": "4e7c37ae-d39d-4fae-9512-d87f891a2fb8",
   "metadata": {},
   "source": [
    "**Category 5: technology**"
   ]
  },
  {
   "cell_type": "code",
   "execution_count": 36,
   "id": "88c050c7-670e-4ef1-a6ef-cab2fab1c841",
   "metadata": {
    "tags": []
   },
   "outputs": [],
   "source": [
    "technology = find_indices(categories, 'technology')\n",
    "index = pd.DataFrame({\"index\": technology})\n",
    "sample_index = index.sample(n=2000, replace=False, random_state=1004)\n",
    "\n",
    "article, summary = data_organize(sample_index)\n",
    "\n",
    "d = {'text': article[:1000],  'summary': summary[:1000]}\n",
    "df = pd.DataFrame(data=d)\n",
    "df.to_csv('xl_sum_sample_train_technology.csv', index = False)\n",
    "#df.head(5)\n",
    "\n",
    "d = {'text': article[1000:1100],  'summary': summary[1000:1100]}\n",
    "df = pd.DataFrame(data=d)\n",
    "df.to_csv('xl_sum_sample_val_technology.csv', index = False)\n",
    "#df.head(5)\n",
    "\n",
    "d = {'text': article[1100:1200],  'summary': summary[1100:1200]}\n",
    "df = pd.DataFrame(data=d)\n",
    "df.to_csv('xl_sum_sample_test_technology.csv', index = False)\n",
    "#df.head(5)"
   ]
  }
 ],
 "metadata": {
  "kernelspec": {
   "display_name": "Python 3 (ipykernel)",
   "language": "python",
   "name": "python3"
  },
  "language_info": {
   "codemirror_mode": {
    "name": "ipython",
    "version": 3
   },
   "file_extension": ".py",
   "mimetype": "text/x-python",
   "name": "python",
   "nbconvert_exporter": "python",
   "pygments_lexer": "ipython3",
   "version": "3.8.10"
  }
 },
 "nbformat": 4,
 "nbformat_minor": 5
}
