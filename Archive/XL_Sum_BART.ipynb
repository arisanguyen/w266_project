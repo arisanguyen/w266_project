{
 "cells": [
  {
   "cell_type": "markdown",
   "id": "0d870553",
   "metadata": {},
   "source": [
    "**Packages**"
   ]
  },
  {
   "cell_type": "code",
   "execution_count": 26,
   "id": "dacdaf3d",
   "metadata": {
    "tags": []
   },
   "outputs": [],
   "source": [
    "import numpy as np\n",
    "import pandas as pd\n",
    "import matplotlib.pyplot as plt \n",
    "import math\n",
    "\n",
    "from datasets import load_dataset\n",
    "import evaluate\n",
    "\n",
    "#let's make longer output readable without horizontal scrolling\n",
    "from pprint import pprint\n",
    "\n",
    "import warnings\n",
    "\n",
    "import regex as re"
   ]
  },
  {
   "cell_type": "markdown",
   "id": "5f29e293",
   "metadata": {},
   "source": [
    "**Necessary Functions**"
   ]
  },
  {
   "cell_type": "code",
   "execution_count": 2,
   "id": "0f96edd6",
   "metadata": {
    "tags": []
   },
   "outputs": [],
   "source": [
    "rouge = evaluate.load('rouge')"
   ]
  },
  {
   "cell_type": "code",
   "execution_count": null,
   "id": "5d15eab0-ac16-4875-95ff-5f981c758ccd",
   "metadata": {},
   "outputs": [],
   "source": [
    "chrf = evaluate.load(\"chrf\")"
   ]
  },
  {
   "cell_type": "code",
   "execution_count": 3,
   "id": "a175b266-af47-4945-9f38-f576765a6651",
   "metadata": {},
   "outputs": [],
   "source": [
    "import inspect\n",
    "\n",
    "def get_default_args(func):\n",
    "    signature = inspect.signature(func)\n",
    "    return {\n",
    "        k: v.default\n",
    "        for k, v in signature.parameters.items()\n",
    "        if v.default is not inspect.Parameter.empty\n",
    "    }"
   ]
  },
  {
   "cell_type": "markdown",
   "id": "586a6d00",
   "metadata": {},
   "source": [
    "**Data**"
   ]
  },
  {
   "cell_type": "code",
   "execution_count": 4,
   "id": "ec6c665e",
   "metadata": {
    "tags": []
   },
   "outputs": [
    {
     "name": "stderr",
     "output_type": "stream",
     "text": [
      "Found cached dataset xlsum (/home/ubuntu/.cache/huggingface/datasets/csebuetnlp___xlsum/english/2.0.0/518ab0af76048660bcc2240ca6e8692a977c80e384ffb18fdddebaca6daebdce)\n",
      "100%|█████████████████████████████████████████████| 3/3 [00:00<00:00,  4.39it/s]\n"
     ]
    }
   ],
   "source": [
    "dataset = load_dataset(\"csebuetnlp/xlsum\", \"english\")"
   ]
  },
  {
   "cell_type": "code",
   "execution_count": 7,
   "id": "296f3f54-85c7-4446-ae73-fa54ac3123a0",
   "metadata": {
    "tags": []
   },
   "outputs": [
    {
     "data": {
      "text/html": [
       "<div>\n",
       "<style scoped>\n",
       "    .dataframe tbody tr th:only-of-type {\n",
       "        vertical-align: middle;\n",
       "    }\n",
       "\n",
       "    .dataframe tbody tr th {\n",
       "        vertical-align: top;\n",
       "    }\n",
       "\n",
       "    .dataframe thead th {\n",
       "        text-align: right;\n",
       "    }\n",
       "</style>\n",
       "<table border=\"1\" class=\"dataframe\">\n",
       "  <thead>\n",
       "    <tr style=\"text-align: right;\">\n",
       "      <th></th>\n",
       "      <th>index</th>\n",
       "    </tr>\n",
       "  </thead>\n",
       "  <tbody>\n",
       "    <tr>\n",
       "      <th>235420</th>\n",
       "      <td>235420</td>\n",
       "    </tr>\n",
       "    <tr>\n",
       "      <th>172024</th>\n",
       "      <td>172024</td>\n",
       "    </tr>\n",
       "    <tr>\n",
       "      <th>253546</th>\n",
       "      <td>253546</td>\n",
       "    </tr>\n",
       "    <tr>\n",
       "      <th>224954</th>\n",
       "      <td>224954</td>\n",
       "    </tr>\n",
       "    <tr>\n",
       "      <th>214134</th>\n",
       "      <td>214134</td>\n",
       "    </tr>\n",
       "  </tbody>\n",
       "</table>\n",
       "</div>"
      ],
      "text/plain": [
       "         index\n",
       "235420  235420\n",
       "172024  172024\n",
       "253546  253546\n",
       "224954  224954\n",
       "214134  214134"
      ]
     },
     "execution_count": 7,
     "metadata": {},
     "output_type": "execute_result"
    }
   ],
   "source": [
    "index = pd.DataFrame({\"index\": list(range(len(dataset['train'])))})\n",
    "sample_index = index.sample(n=2000, replace=False, random_state=1004)\n",
    "sample_index[:5]"
   ]
  },
  {
   "cell_type": "code",
   "execution_count": 8,
   "id": "6656d7bc",
   "metadata": {
    "tags": []
   },
   "outputs": [],
   "source": [
    "id = []\n",
    "url = []\n",
    "title = []\n",
    "article = []\n",
    "article_num_sentences = []\n",
    "article_num_characters = []\n",
    "article_num_words = []\n",
    "summary = []\n",
    "summary_num_sentences = []\n",
    "summary_num_characters = []\n",
    "summary_num_words = []\n",
    "\n",
    "for i in sample_index[\"index\"]:\n",
    "    id.append(dataset[\"train\"][i]['id'])\n",
    "    url.append(dataset[\"train\"][i]['url'])\n",
    "    title.append(dataset[\"train\"][i]['title'])\n",
    "    summary.append(dataset[\"train\"][i]['summary'])\n",
    "    summary_num_sentences.append(len(dataset[\"train\"][i]['summary'].split(\".\")))\n",
    "    summary_num_words.append(len(dataset[\"train\"][i]['summary'].split(\" \")))\n",
    "    summary_num_characters.append(len(dataset[\"train\"][i]['summary']))\n",
    "    article.append(dataset[\"train\"][i]['text'])\n",
    "    article_num_sentences.append(len(dataset[\"train\"][i]['text'].split(\".\")))\n",
    "    article_num_characters.append(len(dataset[\"train\"][i]['text']))\n",
    "    article_num_words.append(len(dataset[\"train\"][i]['text'].split(\" \")))\n",
    "    "
   ]
  },
  {
   "cell_type": "code",
   "execution_count": 9,
   "id": "66def3a2",
   "metadata": {
    "tags": []
   },
   "outputs": [
    {
     "data": {
      "text/html": [
       "<div>\n",
       "<style scoped>\n",
       "    .dataframe tbody tr th:only-of-type {\n",
       "        vertical-align: middle;\n",
       "    }\n",
       "\n",
       "    .dataframe tbody tr th {\n",
       "        vertical-align: top;\n",
       "    }\n",
       "\n",
       "    .dataframe thead th {\n",
       "        text-align: right;\n",
       "    }\n",
       "</style>\n",
       "<table border=\"1\" class=\"dataframe\">\n",
       "  <thead>\n",
       "    <tr style=\"text-align: right;\">\n",
       "      <th></th>\n",
       "      <th>id</th>\n",
       "      <th>url</th>\n",
       "      <th>title</th>\n",
       "      <th>article</th>\n",
       "      <th>article_num_sentences</th>\n",
       "      <th>article_num_words</th>\n",
       "      <th>article_num_characters</th>\n",
       "      <th>summary</th>\n",
       "      <th>summary_num_sentences</th>\n",
       "      <th>summary_num_words</th>\n",
       "      <th>summary_num_characters</th>\n",
       "    </tr>\n",
       "  </thead>\n",
       "  <tbody>\n",
       "    <tr>\n",
       "      <th>0</th>\n",
       "      <td>uk-england-cornwall-55191422</td>\n",
       "      <td>https://www.bbc.com/news/uk-england-cornwall-5...</td>\n",
       "      <td>Care home manager: 'It felt like we were losin...</td>\n",
       "      <td>By Rebecca Ricks &amp; Johnny O'SheaBBC Spotlight ...</td>\n",
       "      <td>37</td>\n",
       "      <td>697</td>\n",
       "      <td>3755</td>\n",
       "      <td>During the spring, at the height of the Covid-...</td>\n",
       "      <td>2</td>\n",
       "      <td>27</td>\n",
       "      <td>147</td>\n",
       "    </tr>\n",
       "    <tr>\n",
       "      <th>1</th>\n",
       "      <td>uk-43893709</td>\n",
       "      <td>https://www.bbc.com/news/uk-43893709</td>\n",
       "      <td>Tafida Raqeeb: Who decides the care of sick ch...</td>\n",
       "      <td>By Rachel SchraerBBC Reality Check So, why did...</td>\n",
       "      <td>33</td>\n",
       "      <td>760</td>\n",
       "      <td>4531</td>\n",
       "      <td>The parents of five-year-old Tafida Raqeeb, wh...</td>\n",
       "      <td>2</td>\n",
       "      <td>20</td>\n",
       "      <td>121</td>\n",
       "    </tr>\n",
       "    <tr>\n",
       "      <th>2</th>\n",
       "      <td>uk-politics-57050659</td>\n",
       "      <td>https://www.bbc.com/news/uk-politics-57050659</td>\n",
       "      <td>Labour reshuffle: Anneliese Dodds out in Starm...</td>\n",
       "      <td>Anneliese Dodds will now become the Labour Par...</td>\n",
       "      <td>36</td>\n",
       "      <td>846</td>\n",
       "      <td>4845</td>\n",
       "      <td>Sir Keir Starmer has sacked his shadow chancel...</td>\n",
       "      <td>2</td>\n",
       "      <td>20</td>\n",
       "      <td>115</td>\n",
       "    </tr>\n",
       "    <tr>\n",
       "      <th>3</th>\n",
       "      <td>entertainment-arts-38221420</td>\n",
       "      <td>https://www.bbc.com/news/entertainment-arts-38...</td>\n",
       "      <td>Vinyl sales made more than downloads last week</td>\n",
       "      <td>By Mark SavageBBC Music reporter Vinyl sales m...</td>\n",
       "      <td>27</td>\n",
       "      <td>354</td>\n",
       "      <td>2082</td>\n",
       "      <td>More money was spent on vinyl than downloaded ...</td>\n",
       "      <td>2</td>\n",
       "      <td>15</td>\n",
       "      <td>83</td>\n",
       "    </tr>\n",
       "    <tr>\n",
       "      <th>4</th>\n",
       "      <td>entertainment-arts-24046991</td>\n",
       "      <td>https://www.bbc.com/news/entertainment-arts-24...</td>\n",
       "      <td>Pirates of the Caribbean sequel delayed</td>\n",
       "      <td>Disney's Pirates of The Caribbean: Dead Men Te...</td>\n",
       "      <td>14</td>\n",
       "      <td>253</td>\n",
       "      <td>1569</td>\n",
       "      <td>The next Pirates of the Caribbean film has bee...</td>\n",
       "      <td>2</td>\n",
       "      <td>15</td>\n",
       "      <td>88</td>\n",
       "    </tr>\n",
       "  </tbody>\n",
       "</table>\n",
       "</div>"
      ],
      "text/plain": [
       "                             id  \\\n",
       "0  uk-england-cornwall-55191422   \n",
       "1                   uk-43893709   \n",
       "2          uk-politics-57050659   \n",
       "3   entertainment-arts-38221420   \n",
       "4   entertainment-arts-24046991   \n",
       "\n",
       "                                                 url  \\\n",
       "0  https://www.bbc.com/news/uk-england-cornwall-5...   \n",
       "1               https://www.bbc.com/news/uk-43893709   \n",
       "2      https://www.bbc.com/news/uk-politics-57050659   \n",
       "3  https://www.bbc.com/news/entertainment-arts-38...   \n",
       "4  https://www.bbc.com/news/entertainment-arts-24...   \n",
       "\n",
       "                                               title  \\\n",
       "0  Care home manager: 'It felt like we were losin...   \n",
       "1  Tafida Raqeeb: Who decides the care of sick ch...   \n",
       "2  Labour reshuffle: Anneliese Dodds out in Starm...   \n",
       "3     Vinyl sales made more than downloads last week   \n",
       "4            Pirates of the Caribbean sequel delayed   \n",
       "\n",
       "                                             article  article_num_sentences  \\\n",
       "0  By Rebecca Ricks & Johnny O'SheaBBC Spotlight ...                     37   \n",
       "1  By Rachel SchraerBBC Reality Check So, why did...                     33   \n",
       "2  Anneliese Dodds will now become the Labour Par...                     36   \n",
       "3  By Mark SavageBBC Music reporter Vinyl sales m...                     27   \n",
       "4  Disney's Pirates of The Caribbean: Dead Men Te...                     14   \n",
       "\n",
       "   article_num_words  article_num_characters  \\\n",
       "0                697                    3755   \n",
       "1                760                    4531   \n",
       "2                846                    4845   \n",
       "3                354                    2082   \n",
       "4                253                    1569   \n",
       "\n",
       "                                             summary  summary_num_sentences  \\\n",
       "0  During the spring, at the height of the Covid-...                      2   \n",
       "1  The parents of five-year-old Tafida Raqeeb, wh...                      2   \n",
       "2  Sir Keir Starmer has sacked his shadow chancel...                      2   \n",
       "3  More money was spent on vinyl than downloaded ...                      2   \n",
       "4  The next Pirates of the Caribbean film has bee...                      2   \n",
       "\n",
       "   summary_num_words  summary_num_characters  \n",
       "0                 27                     147  \n",
       "1                 20                     121  \n",
       "2                 20                     115  \n",
       "3                 15                      83  \n",
       "4                 15                      88  "
      ]
     },
     "execution_count": 9,
     "metadata": {},
     "output_type": "execute_result"
    }
   ],
   "source": [
    "d = {'id': id, 'url': url, \"title\": title, 'article': article, \"article_num_sentences\": article_num_sentences, \"article_num_words\": article_num_words, \"article_num_characters\": article_num_characters, 'summary': summary,\"summary_num_sentences\": summary_num_sentences,\"summary_num_words\": summary_num_words, \"summary_num_characters\": summary_num_characters}\n",
    "df = pd.DataFrame(data=d)\n",
    "df.head(5)"
   ]
  },
  {
   "cell_type": "markdown",
   "id": "4052c7ad-12aa-41a8-92a8-2617c618d27c",
   "metadata": {
    "tags": []
   },
   "source": [
    "**Default Hyperparameters**"
   ]
  },
  {
   "cell_type": "code",
   "execution_count": 10,
   "id": "b4d462b1-48bd-4c00-8182-99934d568e52",
   "metadata": {
    "tags": []
   },
   "outputs": [],
   "source": [
    "from transformers import pipeline\n",
    "\n",
    "summarizer = pipeline(\"summarization\", model=\"facebook/bart-base\")"
   ]
  },
  {
   "cell_type": "code",
   "execution_count": 11,
   "id": "c4ac9265-15d5-4817-b464-1cded68c8c82",
   "metadata": {
    "tags": []
   },
   "outputs": [
    {
     "data": {
      "text/plain": [
       "{'task': None,\n",
       " 'model': None,\n",
       " 'config': None,\n",
       " 'tokenizer': None,\n",
       " 'feature_extractor': None,\n",
       " 'image_processor': None,\n",
       " 'framework': None,\n",
       " 'revision': None,\n",
       " 'use_fast': True,\n",
       " 'use_auth_token': None,\n",
       " 'device': None,\n",
       " 'device_map': None,\n",
       " 'torch_dtype': None,\n",
       " 'trust_remote_code': None,\n",
       " 'model_kwargs': None,\n",
       " 'pipeline_class': None}"
      ]
     },
     "execution_count": 11,
     "metadata": {},
     "output_type": "execute_result"
    }
   ],
   "source": [
    "get_default_args(pipeline)"
   ]
  },
  {
   "cell_type": "code",
   "execution_count": 12,
   "id": "449509ce-b365-422f-bf54-b8414d7b1c6b",
   "metadata": {
    "tags": []
   },
   "outputs": [
    {
     "data": {
      "text/plain": [
       "{}"
      ]
     },
     "execution_count": 12,
     "metadata": {},
     "output_type": "execute_result"
    }
   ],
   "source": [
    "get_default_args(summarizer)"
   ]
  },
  {
   "cell_type": "markdown",
   "id": "06a0a517",
   "metadata": {},
   "source": [
    "**BART Models**"
   ]
  },
  {
   "cell_type": "markdown",
   "id": "d06fd922-14f3-4a76-a262-711b4200906e",
   "metadata": {},
   "source": [
    "Model 0. BART base model, Running with default hyperparameters"
   ]
  },
  {
   "cell_type": "code",
   "execution_count": 39,
   "id": "c151fd43",
   "metadata": {},
   "outputs": [
    {
     "name": "stdout",
     "output_type": "stream",
     "text": [
      "0\n"
     ]
    },
    {
     "name": "stderr",
     "output_type": "stream",
     "text": [
      "Your max_length is set to 128, but you input_length is only 71. You might consider decreasing max_length manually, e.g. summarizer('...', max_length=35)\n",
      "Your max_length is set to 128, but you input_length is only 108. You might consider decreasing max_length manually, e.g. summarizer('...', max_length=54)\n",
      "Your max_length is set to 128, but you input_length is only 118. You might consider decreasing max_length manually, e.g. summarizer('...', max_length=59)\n",
      "Your max_length is set to 128, but you input_length is only 103. You might consider decreasing max_length manually, e.g. summarizer('...', max_length=51)\n",
      "Your max_length is set to 128, but you input_length is only 114. You might consider decreasing max_length manually, e.g. summarizer('...', max_length=57)\n",
      "Your max_length is set to 128, but you input_length is only 80. You might consider decreasing max_length manually, e.g. summarizer('...', max_length=40)\n"
     ]
    },
    {
     "name": "stdout",
     "output_type": "stream",
     "text": [
      "100\n"
     ]
    },
    {
     "name": "stderr",
     "output_type": "stream",
     "text": [
      "Your max_length is set to 128, but you input_length is only 108. You might consider decreasing max_length manually, e.g. summarizer('...', max_length=54)\n",
      "Your max_length is set to 128, but you input_length is only 98. You might consider decreasing max_length manually, e.g. summarizer('...', max_length=49)\n",
      "Your max_length is set to 128, but you input_length is only 63. You might consider decreasing max_length manually, e.g. summarizer('...', max_length=31)\n",
      "Your max_length is set to 128, but you input_length is only 96. You might consider decreasing max_length manually, e.g. summarizer('...', max_length=48)\n"
     ]
    },
    {
     "name": "stdout",
     "output_type": "stream",
     "text": [
      "200\n"
     ]
    },
    {
     "name": "stderr",
     "output_type": "stream",
     "text": [
      "Your max_length is set to 128, but you input_length is only 115. You might consider decreasing max_length manually, e.g. summarizer('...', max_length=57)\n",
      "Your max_length is set to 128, but you input_length is only 113. You might consider decreasing max_length manually, e.g. summarizer('...', max_length=56)\n",
      "Your max_length is set to 128, but you input_length is only 122. You might consider decreasing max_length manually, e.g. summarizer('...', max_length=61)\n",
      "Your max_length is set to 128, but you input_length is only 111. You might consider decreasing max_length manually, e.g. summarizer('...', max_length=55)\n",
      "Your max_length is set to 128, but you input_length is only 77. You might consider decreasing max_length manually, e.g. summarizer('...', max_length=38)\n"
     ]
    },
    {
     "name": "stdout",
     "output_type": "stream",
     "text": [
      "300\n"
     ]
    },
    {
     "name": "stderr",
     "output_type": "stream",
     "text": [
      "Your max_length is set to 128, but you input_length is only 87. You might consider decreasing max_length manually, e.g. summarizer('...', max_length=43)\n",
      "Your max_length is set to 128, but you input_length is only 98. You might consider decreasing max_length manually, e.g. summarizer('...', max_length=49)\n",
      "Your max_length is set to 128, but you input_length is only 126. You might consider decreasing max_length manually, e.g. summarizer('...', max_length=63)\n",
      "Your max_length is set to 128, but you input_length is only 65. You might consider decreasing max_length manually, e.g. summarizer('...', max_length=32)\n",
      "Your max_length is set to 128, but you input_length is only 123. You might consider decreasing max_length manually, e.g. summarizer('...', max_length=61)\n"
     ]
    },
    {
     "name": "stdout",
     "output_type": "stream",
     "text": [
      "400\n"
     ]
    },
    {
     "name": "stderr",
     "output_type": "stream",
     "text": [
      "Your max_length is set to 128, but you input_length is only 117. You might consider decreasing max_length manually, e.g. summarizer('...', max_length=58)\n",
      "Your max_length is set to 128, but you input_length is only 77. You might consider decreasing max_length manually, e.g. summarizer('...', max_length=38)\n",
      "Your max_length is set to 128, but you input_length is only 80. You might consider decreasing max_length manually, e.g. summarizer('...', max_length=40)\n"
     ]
    },
    {
     "name": "stdout",
     "output_type": "stream",
     "text": [
      "500\n"
     ]
    },
    {
     "name": "stderr",
     "output_type": "stream",
     "text": [
      "Your max_length is set to 128, but you input_length is only 105. You might consider decreasing max_length manually, e.g. summarizer('...', max_length=52)\n",
      "Your max_length is set to 128, but you input_length is only 87. You might consider decreasing max_length manually, e.g. summarizer('...', max_length=43)\n",
      "Your max_length is set to 128, but you input_length is only 126. You might consider decreasing max_length manually, e.g. summarizer('...', max_length=63)\n",
      "Your max_length is set to 128, but you input_length is only 89. You might consider decreasing max_length manually, e.g. summarizer('...', max_length=44)\n",
      "Your max_length is set to 128, but you input_length is only 119. You might consider decreasing max_length manually, e.g. summarizer('...', max_length=59)\n"
     ]
    },
    {
     "name": "stdout",
     "output_type": "stream",
     "text": [
      "600\n"
     ]
    },
    {
     "name": "stderr",
     "output_type": "stream",
     "text": [
      "Your max_length is set to 128, but you input_length is only 84. You might consider decreasing max_length manually, e.g. summarizer('...', max_length=42)\n",
      "Your max_length is set to 128, but you input_length is only 106. You might consider decreasing max_length manually, e.g. summarizer('...', max_length=53)\n",
      "Your max_length is set to 128, but you input_length is only 95. You might consider decreasing max_length manually, e.g. summarizer('...', max_length=47)\n",
      "Your max_length is set to 128, but you input_length is only 102. You might consider decreasing max_length manually, e.g. summarizer('...', max_length=51)\n",
      "Your max_length is set to 128, but you input_length is only 108. You might consider decreasing max_length manually, e.g. summarizer('...', max_length=54)\n"
     ]
    },
    {
     "name": "stdout",
     "output_type": "stream",
     "text": [
      "700\n"
     ]
    },
    {
     "name": "stderr",
     "output_type": "stream",
     "text": [
      "Your max_length is set to 128, but you input_length is only 82. You might consider decreasing max_length manually, e.g. summarizer('...', max_length=41)\n",
      "Your max_length is set to 128, but you input_length is only 118. You might consider decreasing max_length manually, e.g. summarizer('...', max_length=59)\n",
      "Your max_length is set to 128, but you input_length is only 79. You might consider decreasing max_length manually, e.g. summarizer('...', max_length=39)\n",
      "Your max_length is set to 128, but you input_length is only 122. You might consider decreasing max_length manually, e.g. summarizer('...', max_length=61)\n",
      "Your max_length is set to 128, but you input_length is only 102. You might consider decreasing max_length manually, e.g. summarizer('...', max_length=51)\n"
     ]
    },
    {
     "name": "stdout",
     "output_type": "stream",
     "text": [
      "800\n"
     ]
    },
    {
     "name": "stderr",
     "output_type": "stream",
     "text": [
      "Your max_length is set to 128, but you input_length is only 109. You might consider decreasing max_length manually, e.g. summarizer('...', max_length=54)\n",
      "Your max_length is set to 128, but you input_length is only 118. You might consider decreasing max_length manually, e.g. summarizer('...', max_length=59)\n",
      "Your max_length is set to 128, but you input_length is only 71. You might consider decreasing max_length manually, e.g. summarizer('...', max_length=35)\n",
      "Your max_length is set to 128, but you input_length is only 75. You might consider decreasing max_length manually, e.g. summarizer('...', max_length=37)\n",
      "Your max_length is set to 128, but you input_length is only 86. You might consider decreasing max_length manually, e.g. summarizer('...', max_length=43)\n"
     ]
    },
    {
     "name": "stdout",
     "output_type": "stream",
     "text": [
      "900\n"
     ]
    },
    {
     "name": "stderr",
     "output_type": "stream",
     "text": [
      "Your max_length is set to 128, but you input_length is only 104. You might consider decreasing max_length manually, e.g. summarizer('...', max_length=52)\n",
      "Your max_length is set to 128, but you input_length is only 76. You might consider decreasing max_length manually, e.g. summarizer('...', max_length=38)\n"
     ]
    },
    {
     "name": "stdout",
     "output_type": "stream",
     "text": [
      "Last Article A spokesman said Mr Duterte missed four scheduled events on Wednesday because he was \"catching up on sleep\". Mr Duterte and other world leaders are in Singapore attending the Association of South East Asian Nations (Asean) meeting. The 73-year-old defended his actions, saying: \"What's wrong with my nap?\" Mr Duterte has previously missed events at other international summits as well as in the Philippines. His health has been a constant source of speculation over the year, and he revealed in October that he had had a cancer scare. 'In top physical shape' Spokesman Salvador Panelo said the president had \"worked late and had only less than three hours of sleep\". When asked if he was fully rested, Mr Duterte added that the naps were \"still not good enough, but enough to sustain the endurance for the last days\". Mr Panelo also clarified that Mr Duterte's absence had \"nothing to do with his health\". \"The president's constantly punishing work schedule is proof that he is in top physical shape,\" he said in a statement. Mr Duterte has previously admitted that he is tired and ready to quit, but says he had not found a suitable successor yet. But he wasn't the only official caught napping at this year's Asean meetings. A Washington Post columnist captured a picture of South Korean president Moon Jae-in, in which he appeared to be asleep. Josh Rogin later reported that Mr Moon \"woke up from his nap\" after US Vice-President Mike Pence arrived. Bloomberg reporter Toluse Olorunnipa also reported that Mr Moon had fallen asleep after \"waiting 15 minutes\" for Mr Pence to arrive. Mr Duterte and Mr Moon are attending the annual Asean meeting alongside other world leaders including Chinese Premier Li Keqiang, Russian President Vladimir Putin and Japanese Prime Minister Shinzo Abe. The meetings end on 15 November.\n",
      "Last Reference Summary ['Philippine President Rodrigo Duterte missed several meetings at a regional summit because he was taking \"power naps\", said the presidential office.']\n",
      "Last Candidate Summary ['A spokesman said Mr Duterte missed four scheduled events on Wednesday because he was \"catching up on sleep\". Mr Duterte and other world leaders are in Singapore attending the Association of South East Asian Nations (Asean) meeting. The 73-year-old defended his actions, saying: \"What\\'s wrong with my nap?\" Mr Duterte has previously missed events at other international summits as well as in the Philippines. His health has been a constant source of speculation over the year, and he revealed in October that he had had a cancer scare. \\'In top physical shape\\' Spokesman Salvador Panelo said the president had \"']\n",
      "CPU times: user 5h 53min 3s, sys: 17.8 s, total: 5h 53min 21s\n",
      "Wall time: 48min 5s\n"
     ]
    }
   ],
   "source": [
    "%%time\n",
    "\n",
    "warnings.filterwarnings(\"ignore\")\n",
    "\n",
    "summarizer = pipeline(\"summarization\", model=\"facebook/bart-base\")\n",
    "\n",
    "bart_r1 = []\n",
    "bart_r2 = []\n",
    "bart_rL = []\n",
    "bart_rLs = []\n",
    "\n",
    "for i in range(int(len(df['article'])/2)):\n",
    "    \n",
    "    #art = ' '.join(df['article'][i].split(' ')[:1024]) #truncated to first 1024 words, because that is all the model can handle\n",
    "    \n",
    "    candidate = summarizer(df['article'][i], \n",
    "                           truncation = True, #truncated to first 1024 words, because that is all the model can handle\n",
    "                             #max_length=130, min_length=30, do_sample=False\n",
    "                            )[0]\n",
    "    candidate = [candidate['summary_text']]\n",
    "    #pprint(candidate[0], compact=True)\n",
    "    \n",
    "    ref = [df['summary'][i]]\n",
    "    \n",
    "    results = rouge.compute(predictions=candidate,\n",
    "                            references=ref)\n",
    "    \n",
    "    bart_r1.append(results['rouge1'])\n",
    "    bart_r2.append(results['rouge2'])\n",
    "    bart_rL.append(results['rougeL'])\n",
    "    bart_rLs.append(results['rougeLsum'])\n",
    "    \n",
    "    if i in np.arange(0, 2000, 100):\n",
    "        data = {'rouge1': bart_r1, 'rouge2': bart_r2, 'rogueL': bart_rL, 'rogueLs': bart_rLs}\n",
    "        scores = pd.DataFrame(data)\n",
    "        scores.to_csv(r'BART_0_scores.csv', index=False)\n",
    "        print(i)\n",
    "        \n",
    "data = {'rouge1': bart_r1, 'rouge2': bart_r2, 'rogueL': bart_rL, 'rogueLs': bart_rLs}\n",
    "scores = pd.DataFrame(data)\n",
    "scores.to_csv(r'BART_0_scores.csv', index=False)\n",
    "\n",
    "print('Last Article', df['article'][i])\n",
    "print('Last Reference Summary', ref)\n",
    "print('Last Candidate Summary', candidate)"
   ]
  },
  {
   "cell_type": "code",
   "execution_count": 40,
   "id": "888889b5",
   "metadata": {},
   "outputs": [
    {
     "name": "stdout",
     "output_type": "stream",
     "text": [
      "rouge1 average : 0.16257622621656392\n",
      "rouge2 average : 0.028702447415317477\n",
      "rougeL average : 0.10383911035216536\n",
      "rougeLs average : 0.10383911035216536\n"
     ]
    }
   ],
   "source": [
    "print('rouge1 average :', np.mean(bart_r1))\n",
    "print('rouge2 average :', np.mean(bart_r2))\n",
    "print('rougeL average :', np.mean(bart_rL))\n",
    "print('rougeLs average :', np.mean(bart_rLs))"
   ]
  },
  {
   "cell_type": "markdown",
   "id": "2c626074-3b01-4e09-97b3-3c91f70c2745",
   "metadata": {},
   "source": [
    "Model 1. BART base model, Max and min length equal to overall max and min length of summaries in train set"
   ]
  },
  {
   "cell_type": "code",
   "execution_count": 41,
   "id": "3e65f610-6bf7-4b54-8cfb-1a7f2ff7fd72",
   "metadata": {},
   "outputs": [
    {
     "name": "stdout",
     "output_type": "stream",
     "text": [
      "0\n"
     ]
    },
    {
     "name": "stderr",
     "output_type": "stream",
     "text": [
      "Your max_length is set to 88, but you input_length is only 71. You might consider decreasing max_length manually, e.g. summarizer('...', max_length=35)\n",
      "Your max_length is set to 88, but you input_length is only 80. You might consider decreasing max_length manually, e.g. summarizer('...', max_length=40)\n"
     ]
    },
    {
     "name": "stdout",
     "output_type": "stream",
     "text": [
      "100\n"
     ]
    },
    {
     "name": "stderr",
     "output_type": "stream",
     "text": [
      "Your max_length is set to 88, but you input_length is only 63. You might consider decreasing max_length manually, e.g. summarizer('...', max_length=31)\n"
     ]
    },
    {
     "name": "stdout",
     "output_type": "stream",
     "text": [
      "200\n"
     ]
    },
    {
     "name": "stderr",
     "output_type": "stream",
     "text": [
      "Your max_length is set to 88, but you input_length is only 77. You might consider decreasing max_length manually, e.g. summarizer('...', max_length=38)\n"
     ]
    },
    {
     "name": "stdout",
     "output_type": "stream",
     "text": [
      "300\n"
     ]
    },
    {
     "name": "stderr",
     "output_type": "stream",
     "text": [
      "Your max_length is set to 88, but you input_length is only 87. You might consider decreasing max_length manually, e.g. summarizer('...', max_length=43)\n",
      "Your max_length is set to 88, but you input_length is only 65. You might consider decreasing max_length manually, e.g. summarizer('...', max_length=32)\n"
     ]
    },
    {
     "name": "stdout",
     "output_type": "stream",
     "text": [
      "400\n"
     ]
    },
    {
     "name": "stderr",
     "output_type": "stream",
     "text": [
      "Your max_length is set to 88, but you input_length is only 77. You might consider decreasing max_length manually, e.g. summarizer('...', max_length=38)\n",
      "Your max_length is set to 88, but you input_length is only 80. You might consider decreasing max_length manually, e.g. summarizer('...', max_length=40)\n"
     ]
    },
    {
     "name": "stdout",
     "output_type": "stream",
     "text": [
      "500\n"
     ]
    },
    {
     "name": "stderr",
     "output_type": "stream",
     "text": [
      "Your max_length is set to 88, but you input_length is only 87. You might consider decreasing max_length manually, e.g. summarizer('...', max_length=43)\n"
     ]
    },
    {
     "name": "stdout",
     "output_type": "stream",
     "text": [
      "600\n"
     ]
    },
    {
     "name": "stderr",
     "output_type": "stream",
     "text": [
      "Your max_length is set to 88, but you input_length is only 84. You might consider decreasing max_length manually, e.g. summarizer('...', max_length=42)\n"
     ]
    },
    {
     "name": "stdout",
     "output_type": "stream",
     "text": [
      "700\n"
     ]
    },
    {
     "name": "stderr",
     "output_type": "stream",
     "text": [
      "Your max_length is set to 88, but you input_length is only 82. You might consider decreasing max_length manually, e.g. summarizer('...', max_length=41)\n",
      "Your max_length is set to 88, but you input_length is only 79. You might consider decreasing max_length manually, e.g. summarizer('...', max_length=39)\n"
     ]
    },
    {
     "name": "stdout",
     "output_type": "stream",
     "text": [
      "800\n"
     ]
    },
    {
     "name": "stderr",
     "output_type": "stream",
     "text": [
      "Your max_length is set to 88, but you input_length is only 71. You might consider decreasing max_length manually, e.g. summarizer('...', max_length=35)\n",
      "Your max_length is set to 88, but you input_length is only 75. You might consider decreasing max_length manually, e.g. summarizer('...', max_length=37)\n",
      "Your max_length is set to 88, but you input_length is only 86. You might consider decreasing max_length manually, e.g. summarizer('...', max_length=43)\n"
     ]
    },
    {
     "name": "stdout",
     "output_type": "stream",
     "text": [
      "900\n"
     ]
    },
    {
     "name": "stderr",
     "output_type": "stream",
     "text": [
      "Your max_length is set to 88, but you input_length is only 76. You might consider decreasing max_length manually, e.g. summarizer('...', max_length=38)\n"
     ]
    },
    {
     "name": "stdout",
     "output_type": "stream",
     "text": [
      "999\n",
      "Last Article A spokesman said Mr Duterte missed four scheduled events on Wednesday because he was \"catching up on sleep\". Mr Duterte and other world leaders are in Singapore attending the Association of South East Asian Nations (Asean) meeting. The 73-year-old defended his actions, saying: \"What's wrong with my nap?\" Mr Duterte has previously missed events at other international summits as well as in the Philippines. His health has been a constant source of speculation over the year, and he revealed in October that he had had a cancer scare. 'In top physical shape' Spokesman Salvador Panelo said the president had \"worked late and had only less than three hours of sleep\". When asked if he was fully rested, Mr Duterte added that the naps were \"still not good enough, but enough to sustain the endurance for the last days\". Mr Panelo also clarified that Mr Duterte's absence had \"nothing to do with his health\". \"The president's constantly punishing work schedule is proof that he is in top physical shape,\" he said in a statement. Mr Duterte has previously admitted that he is tired and ready to quit, but says he had not found a suitable successor yet. But he wasn't the only official caught napping at this year's Asean meetings. A Washington Post columnist captured a picture of South Korean president Moon Jae-in, in which he appeared to be asleep. Josh Rogin later reported that Mr Moon \"woke up from his nap\" after US Vice-President Mike Pence arrived. Bloomberg reporter Toluse Olorunnipa also reported that Mr Moon had fallen asleep after \"waiting 15 minutes\" for Mr Pence to arrive. Mr Duterte and Mr Moon are attending the annual Asean meeting alongside other world leaders including Chinese Premier Li Keqiang, Russian President Vladimir Putin and Japanese Prime Minister Shinzo Abe. The meetings end on 15 November.\n",
      "Last Reference Summary ['Philippine President Rodrigo Duterte missed several meetings at a regional summit because he was taking \"power naps\", said the presidential office.']\n",
      "Last Candidate Summary ['A spokesman said Mr Duterte missed four scheduled events on Wednesday because he was \"catching up on sleep\". Mr Duterte and other world leaders are in Singapore attending the Association of South East Asian Nations (Asean) meeting. The 73-year-old defended his actions, saying: \"What\\'s wrong with my nap?\" Mr Duterte has previously missed events at other international summits as well as in the Philippines. His health has']\n",
      "CPU times: user 4h 8min 36s, sys: 13.5 s, total: 4h 8min 49s\n",
      "Wall time: 35min 3s\n"
     ]
    }
   ],
   "source": [
    "%%time\n",
    "\n",
    "warnings.filterwarnings(\"ignore\")\n",
    "\n",
    "summarizer = pipeline(\"summarization\", model=\"facebook/bart-base\")\n",
    "\n",
    "bart_r1 = []\n",
    "bart_r2 = []\n",
    "bart_rL = []\n",
    "bart_rLs = []\n",
    "\n",
    "for i in range(int(len(df['article'])/2)):\n",
    "    \n",
    "    #art = ' '.join(df['article'][i].split(' ')[0:1024]) #truncated to first 1024 words, because that is all the model can handle\n",
    "    \n",
    "    candidate = summarizer(df['article'][i], #limiting to the first 1024 tokens, because that is all the model can handle\n",
    "                           truncation = True, #truncated to first 1024 words, because that is all the model can handle\n",
    "                           max_length=max(df[\"summary_num_words\"]), \n",
    "                           min_length=min(df[\"summary_num_words\"]), \n",
    "                           #do_sample=False\n",
    "                            )[0]\n",
    "    candidate = [candidate['summary_text']]\n",
    "    #pprint(candidate[0], compact=True)\n",
    "    \n",
    "    ref = [df['summary'][i]]\n",
    "    \n",
    "    results = rouge.compute(predictions=candidate,\n",
    "                            references=ref)\n",
    "    \n",
    "    bart_r1.append(results['rouge1'])\n",
    "    bart_r2.append(results['rouge2'])\n",
    "    bart_rL.append(results['rougeL'])\n",
    "    bart_rLs.append(results['rougeLsum'])\n",
    "    \n",
    "    if i in np.arange(0, 2000, 100):\n",
    "        data = {'rouge1': bart_r1, 'rouge2': bart_r2, 'rogueL': bart_rL, 'rogueLs': bart_rLs}\n",
    "        scores = pd.DataFrame(data)\n",
    "        scores.to_csv(r'BART_1_scores.csv', index=False)\n",
    "        print(i)\n",
    "        \n",
    "data = {'rouge1': bart_r1, 'rouge2': bart_r2, 'rogueL': bart_rL, 'rogueLs': bart_rLs}\n",
    "scores = pd.DataFrame(data)\n",
    "scores.to_csv(r'BART_1_scores.csv', index=False)\n",
    "print(i)\n",
    "\n",
    "print('Last Article', df['article'][i])\n",
    "print('Last Reference Summary', ref)\n",
    "print('Last Candidate Summary', candidate)"
   ]
  },
  {
   "cell_type": "code",
   "execution_count": 42,
   "id": "a0e6ef25-9c36-46f0-b28e-45dffaf6c455",
   "metadata": {},
   "outputs": [
    {
     "name": "stdout",
     "output_type": "stream",
     "text": [
      "rouge1 average : 0.1826260348179354\n",
      "rouge2 average : 0.02811462587745744\n",
      "rougeL average : 0.11675478118385149\n",
      "rougeLs average : 0.11675478118385149\n"
     ]
    }
   ],
   "source": [
    "print('rouge1 average :', np.mean(bart_r1))\n",
    "print('rouge2 average :', np.mean(bart_r2))\n",
    "print('rougeL average :', np.mean(bart_rL))\n",
    "print('rougeLs average :', np.mean(bart_rLs))"
   ]
  },
  {
   "cell_type": "markdown",
   "id": "9a85b7b0-dd25-45d4-9887-9eb477ad31d3",
   "metadata": {},
   "source": [
    "Model 2. Model 1 + beam_search "
   ]
  },
  {
   "cell_type": "code",
   "execution_count": 43,
   "id": "750ce0a4-93db-4665-bde6-3ca4cf14184a",
   "metadata": {},
   "outputs": [
    {
     "name": "stdout",
     "output_type": "stream",
     "text": [
      "0\n"
     ]
    },
    {
     "name": "stderr",
     "output_type": "stream",
     "text": [
      "Your max_length is set to 88, but you input_length is only 71. You might consider decreasing max_length manually, e.g. summarizer('...', max_length=35)\n",
      "Your max_length is set to 88, but you input_length is only 80. You might consider decreasing max_length manually, e.g. summarizer('...', max_length=40)\n"
     ]
    },
    {
     "name": "stdout",
     "output_type": "stream",
     "text": [
      "100\n"
     ]
    },
    {
     "name": "stderr",
     "output_type": "stream",
     "text": [
      "Your max_length is set to 88, but you input_length is only 63. You might consider decreasing max_length manually, e.g. summarizer('...', max_length=31)\n"
     ]
    },
    {
     "name": "stdout",
     "output_type": "stream",
     "text": [
      "200\n"
     ]
    },
    {
     "name": "stderr",
     "output_type": "stream",
     "text": [
      "Your max_length is set to 88, but you input_length is only 77. You might consider decreasing max_length manually, e.g. summarizer('...', max_length=38)\n"
     ]
    },
    {
     "name": "stdout",
     "output_type": "stream",
     "text": [
      "300\n"
     ]
    },
    {
     "name": "stderr",
     "output_type": "stream",
     "text": [
      "Your max_length is set to 88, but you input_length is only 87. You might consider decreasing max_length manually, e.g. summarizer('...', max_length=43)\n",
      "Your max_length is set to 88, but you input_length is only 65. You might consider decreasing max_length manually, e.g. summarizer('...', max_length=32)\n"
     ]
    },
    {
     "name": "stdout",
     "output_type": "stream",
     "text": [
      "400\n"
     ]
    },
    {
     "name": "stderr",
     "output_type": "stream",
     "text": [
      "Your max_length is set to 88, but you input_length is only 77. You might consider decreasing max_length manually, e.g. summarizer('...', max_length=38)\n",
      "Your max_length is set to 88, but you input_length is only 80. You might consider decreasing max_length manually, e.g. summarizer('...', max_length=40)\n"
     ]
    },
    {
     "name": "stdout",
     "output_type": "stream",
     "text": [
      "500\n"
     ]
    },
    {
     "name": "stderr",
     "output_type": "stream",
     "text": [
      "Your max_length is set to 88, but you input_length is only 87. You might consider decreasing max_length manually, e.g. summarizer('...', max_length=43)\n"
     ]
    },
    {
     "name": "stdout",
     "output_type": "stream",
     "text": [
      "600\n"
     ]
    },
    {
     "name": "stderr",
     "output_type": "stream",
     "text": [
      "Your max_length is set to 88, but you input_length is only 84. You might consider decreasing max_length manually, e.g. summarizer('...', max_length=42)\n"
     ]
    },
    {
     "name": "stdout",
     "output_type": "stream",
     "text": [
      "700\n"
     ]
    },
    {
     "name": "stderr",
     "output_type": "stream",
     "text": [
      "Your max_length is set to 88, but you input_length is only 82. You might consider decreasing max_length manually, e.g. summarizer('...', max_length=41)\n",
      "Your max_length is set to 88, but you input_length is only 79. You might consider decreasing max_length manually, e.g. summarizer('...', max_length=39)\n"
     ]
    },
    {
     "name": "stdout",
     "output_type": "stream",
     "text": [
      "800\n"
     ]
    },
    {
     "name": "stderr",
     "output_type": "stream",
     "text": [
      "Your max_length is set to 88, but you input_length is only 71. You might consider decreasing max_length manually, e.g. summarizer('...', max_length=35)\n",
      "Your max_length is set to 88, but you input_length is only 75. You might consider decreasing max_length manually, e.g. summarizer('...', max_length=37)\n",
      "Your max_length is set to 88, but you input_length is only 86. You might consider decreasing max_length manually, e.g. summarizer('...', max_length=43)\n"
     ]
    },
    {
     "name": "stdout",
     "output_type": "stream",
     "text": [
      "900\n"
     ]
    },
    {
     "name": "stderr",
     "output_type": "stream",
     "text": [
      "Your max_length is set to 88, but you input_length is only 76. You might consider decreasing max_length manually, e.g. summarizer('...', max_length=38)\n"
     ]
    },
    {
     "name": "stdout",
     "output_type": "stream",
     "text": [
      "999\n",
      "Last Article A spokesman said Mr Duterte missed four scheduled events on Wednesday because he was \"catching up on sleep\". Mr Duterte and other world leaders are in Singapore attending the Association of South East Asian Nations (Asean) meeting. The 73-year-old defended his actions, saying: \"What's wrong with my nap?\" Mr Duterte has previously missed events at other international summits as well as in the Philippines. His health has been a constant source of speculation over the year, and he revealed in October that he had had a cancer scare. 'In top physical shape' Spokesman Salvador Panelo said the president had \"worked late and had only less than three hours of sleep\". When asked if he was fully rested, Mr Duterte added that the naps were \"still not good enough, but enough to sustain the endurance for the last days\". Mr Panelo also clarified that Mr Duterte's absence had \"nothing to do with his health\". \"The president's constantly punishing work schedule is proof that he is in top physical shape,\" he said in a statement. Mr Duterte has previously admitted that he is tired and ready to quit, but says he had not found a suitable successor yet. But he wasn't the only official caught napping at this year's Asean meetings. A Washington Post columnist captured a picture of South Korean president Moon Jae-in, in which he appeared to be asleep. Josh Rogin later reported that Mr Moon \"woke up from his nap\" after US Vice-President Mike Pence arrived. Bloomberg reporter Toluse Olorunnipa also reported that Mr Moon had fallen asleep after \"waiting 15 minutes\" for Mr Pence to arrive. Mr Duterte and Mr Moon are attending the annual Asean meeting alongside other world leaders including Chinese Premier Li Keqiang, Russian President Vladimir Putin and Japanese Prime Minister Shinzo Abe. The meetings end on 15 November.\n",
      "Last Reference Summary ['Philippine President Rodrigo Duterte missed several meetings at a regional summit because he was taking \"power naps\", said the presidential office.']\n",
      "Last Candidate Summary ['A spokesman said Mr Duterte missed four scheduled events on Wednesday because he was \"catching up on sleep\". Mr Duterte and other world leaders are in Singapore attending the Association of South East Asian Nations (Asean) meeting. The 73-year-old defended his actions, saying: \"What\\'s wrong with my nap?\" Mr Duterte has previously missed events at other international summits as well as in the Philippines. His health has']\n",
      "CPU times: user 3h 49min 18s, sys: 10.8 s, total: 3h 49min 29s\n",
      "Wall time: 32min 33s\n"
     ]
    }
   ],
   "source": [
    "%%time\n",
    "\n",
    "warnings.filterwarnings(\"ignore\")\n",
    "\n",
    "summarizer = pipeline(\"summarization\", model=\"facebook/bart-base\")\n",
    "\n",
    "bart_r1 = []\n",
    "bart_r2 = []\n",
    "bart_rL = []\n",
    "bart_rLs = []\n",
    "\n",
    "for i in range(int(len(df['article'])/2)):\n",
    "    \n",
    "    #art = ' '.join(df['article'][i].split(' ')[0:1024]) #truncated to first 1024 words, because that is all the model can handle\n",
    "    \n",
    "    candidate = summarizer(df['article'][i], #limiting to the first 1024 tokens, because that is all the model can handle\n",
    "                           truncation = True, #truncated to first 1024 words, because that is all the model can handle\n",
    "                           max_length=max(df[\"summary_num_words\"]), \n",
    "                           min_length=min(df[\"summary_num_words\"]), \n",
    "                           num_beams = 3,                           \n",
    "                           #do_sample=False\n",
    "                            )[0]\n",
    "    candidate = [candidate['summary_text']]\n",
    "    #pprint(candidate[0], compact=True)\n",
    "    \n",
    "    ref = [df['summary'][i]]\n",
    "    \n",
    "    results = rouge.compute(predictions=candidate,\n",
    "                            references=ref)\n",
    "    \n",
    "    bart_r1.append(results['rouge1'])\n",
    "    bart_r2.append(results['rouge2'])\n",
    "    bart_rL.append(results['rougeL'])\n",
    "    bart_rLs.append(results['rougeLsum'])\n",
    "    \n",
    "    if i in np.arange(0, 2000, 100):\n",
    "        data = {'rouge1': bart_r1, 'rouge2': bart_r2, 'rogueL': bart_rL, 'rogueLs': bart_rLs}\n",
    "        scores = pd.DataFrame(data)\n",
    "        scores.to_csv(r'BART_2_scores.csv', index=False)\n",
    "        print(i)\n",
    "        \n",
    "data = {'rouge1': bart_r1, 'rouge2': bart_r2, 'rogueL': bart_rL, 'rogueLs': bart_rLs}\n",
    "scores = pd.DataFrame(data)\n",
    "scores.to_csv(r'BART_2_scores.csv', index=False)\n",
    "print(i)\n",
    "\n",
    "print('Last Article', df['article'][i])\n",
    "print('Last Reference Summary', ref)\n",
    "print('Last Candidate Summary', candidate)"
   ]
  },
  {
   "cell_type": "code",
   "execution_count": 44,
   "id": "75e5974d-66d4-4025-82ab-3d3059cd3ee0",
   "metadata": {},
   "outputs": [
    {
     "name": "stdout",
     "output_type": "stream",
     "text": [
      "rouge1 average : 0.18207739272187834\n",
      "rouge2 average : 0.02802670430092509\n",
      "rougeL average : 0.11668340007295606\n",
      "rougeLs average : 0.11668340007295606\n"
     ]
    }
   ],
   "source": [
    "print('rouge1 average :', np.mean(bart_r1))\n",
    "print('rouge2 average :', np.mean(bart_r2))\n",
    "print('rougeL average :', np.mean(bart_rL))\n",
    "print('rougeLs average :', np.mean(bart_rLs))"
   ]
  },
  {
   "cell_type": "markdown",
   "id": "c9a3f406-c604-4193-aa61-6c4fe2259838",
   "metadata": {},
   "source": [
    "Model 3. Model 1 + do_sample"
   ]
  },
  {
   "cell_type": "code",
   "execution_count": 13,
   "id": "190e18cb-2405-49fe-bc90-8bb3ad027bcb",
   "metadata": {},
   "outputs": [
    {
     "name": "stdout",
     "output_type": "stream",
     "text": [
      "0\n"
     ]
    },
    {
     "name": "stderr",
     "output_type": "stream",
     "text": [
      "Your max_length is set to 88, but you input_length is only 71. You might consider decreasing max_length manually, e.g. summarizer('...', max_length=35)\n",
      "Your max_length is set to 88, but you input_length is only 80. You might consider decreasing max_length manually, e.g. summarizer('...', max_length=40)\n"
     ]
    },
    {
     "name": "stdout",
     "output_type": "stream",
     "text": [
      "100\n"
     ]
    },
    {
     "name": "stderr",
     "output_type": "stream",
     "text": [
      "Your max_length is set to 88, but you input_length is only 63. You might consider decreasing max_length manually, e.g. summarizer('...', max_length=31)\n"
     ]
    },
    {
     "name": "stdout",
     "output_type": "stream",
     "text": [
      "200\n"
     ]
    },
    {
     "name": "stderr",
     "output_type": "stream",
     "text": [
      "Your max_length is set to 88, but you input_length is only 77. You might consider decreasing max_length manually, e.g. summarizer('...', max_length=38)\n"
     ]
    },
    {
     "name": "stdout",
     "output_type": "stream",
     "text": [
      "300\n"
     ]
    },
    {
     "name": "stderr",
     "output_type": "stream",
     "text": [
      "Your max_length is set to 88, but you input_length is only 87. You might consider decreasing max_length manually, e.g. summarizer('...', max_length=43)\n",
      "Your max_length is set to 88, but you input_length is only 65. You might consider decreasing max_length manually, e.g. summarizer('...', max_length=32)\n"
     ]
    },
    {
     "name": "stdout",
     "output_type": "stream",
     "text": [
      "400\n"
     ]
    },
    {
     "name": "stderr",
     "output_type": "stream",
     "text": [
      "Your max_length is set to 88, but you input_length is only 77. You might consider decreasing max_length manually, e.g. summarizer('...', max_length=38)\n",
      "Your max_length is set to 88, but you input_length is only 80. You might consider decreasing max_length manually, e.g. summarizer('...', max_length=40)\n"
     ]
    },
    {
     "name": "stdout",
     "output_type": "stream",
     "text": [
      "500\n"
     ]
    },
    {
     "name": "stderr",
     "output_type": "stream",
     "text": [
      "Your max_length is set to 88, but you input_length is only 87. You might consider decreasing max_length manually, e.g. summarizer('...', max_length=43)\n"
     ]
    },
    {
     "name": "stdout",
     "output_type": "stream",
     "text": [
      "600\n"
     ]
    },
    {
     "name": "stderr",
     "output_type": "stream",
     "text": [
      "Your max_length is set to 88, but you input_length is only 84. You might consider decreasing max_length manually, e.g. summarizer('...', max_length=42)\n"
     ]
    },
    {
     "name": "stdout",
     "output_type": "stream",
     "text": [
      "700\n"
     ]
    },
    {
     "name": "stderr",
     "output_type": "stream",
     "text": [
      "Your max_length is set to 88, but you input_length is only 82. You might consider decreasing max_length manually, e.g. summarizer('...', max_length=41)\n",
      "Your max_length is set to 88, but you input_length is only 79. You might consider decreasing max_length manually, e.g. summarizer('...', max_length=39)\n"
     ]
    },
    {
     "name": "stdout",
     "output_type": "stream",
     "text": [
      "800\n"
     ]
    },
    {
     "name": "stderr",
     "output_type": "stream",
     "text": [
      "Your max_length is set to 88, but you input_length is only 71. You might consider decreasing max_length manually, e.g. summarizer('...', max_length=35)\n",
      "Your max_length is set to 88, but you input_length is only 75. You might consider decreasing max_length manually, e.g. summarizer('...', max_length=37)\n",
      "Your max_length is set to 88, but you input_length is only 86. You might consider decreasing max_length manually, e.g. summarizer('...', max_length=43)\n"
     ]
    },
    {
     "name": "stdout",
     "output_type": "stream",
     "text": [
      "900\n"
     ]
    },
    {
     "name": "stderr",
     "output_type": "stream",
     "text": [
      "Your max_length is set to 88, but you input_length is only 76. You might consider decreasing max_length manually, e.g. summarizer('...', max_length=38)\n"
     ]
    },
    {
     "name": "stdout",
     "output_type": "stream",
     "text": [
      "999\n",
      "Last Article A spokesman said Mr Duterte missed four scheduled events on Wednesday because he was \"catching up on sleep\". Mr Duterte and other world leaders are in Singapore attending the Association of South East Asian Nations (Asean) meeting. The 73-year-old defended his actions, saying: \"What's wrong with my nap?\" Mr Duterte has previously missed events at other international summits as well as in the Philippines. His health has been a constant source of speculation over the year, and he revealed in October that he had had a cancer scare. 'In top physical shape' Spokesman Salvador Panelo said the president had \"worked late and had only less than three hours of sleep\". When asked if he was fully rested, Mr Duterte added that the naps were \"still not good enough, but enough to sustain the endurance for the last days\". Mr Panelo also clarified that Mr Duterte's absence had \"nothing to do with his health\". \"The president's constantly punishing work schedule is proof that he is in top physical shape,\" he said in a statement. Mr Duterte has previously admitted that he is tired and ready to quit, but says he had not found a suitable successor yet. But he wasn't the only official caught napping at this year's Asean meetings. A Washington Post columnist captured a picture of South Korean president Moon Jae-in, in which he appeared to be asleep. Josh Rogin later reported that Mr Moon \"woke up from his nap\" after US Vice-President Mike Pence arrived. Bloomberg reporter Toluse Olorunnipa also reported that Mr Moon had fallen asleep after \"waiting 15 minutes\" for Mr Pence to arrive. Mr Duterte and Mr Moon are attending the annual Asean meeting alongside other world leaders including Chinese Premier Li Keqiang, Russian President Vladimir Putin and Japanese Prime Minister Shinzo Abe. The meetings end on 15 November.\n",
      "Last Reference Summary ['Philippine President Rodrigo Duterte missed several meetings at a regional summit because he was taking \"power naps\", said the presidential office.']\n",
      "Last Candidate Summary ['A spokesman said Mr Duterte missed four scheduled events on Wednesday because he was \"catching up on sleep\". Mr Duterte and other world leaders are in Singapore attending the Association of South East Asian Nations (Asean) meeting. The 73-year-old defended his actions, saying: \"What\\'s wrong with my nap?\" Mr Duterte has previously missed events at other international summits as well as in the Philippines. His health has']\n",
      "CPU times: user 4h 12min 43s, sys: 14.5 s, total: 4h 12min 57s\n",
      "Wall time: 35min 17s\n"
     ]
    }
   ],
   "source": [
    "%%time\n",
    "\n",
    "warnings.filterwarnings(\"ignore\")\n",
    "\n",
    "summarizer = pipeline(\"summarization\", model=\"facebook/bart-base\")\n",
    "\n",
    "bart_r1 = []\n",
    "bart_r2 = []\n",
    "bart_rL = []\n",
    "bart_rLs = []\n",
    "\n",
    "for i in range(int(len(df['article'])/2)):\n",
    "    \n",
    "    #art = ' '.join(df['article'][i].split(' ')[0:1024]) #truncated to first 1024 words, because that is all the model can handle\n",
    "    \n",
    "    candidate = summarizer(df['article'][i], #limiting to the first 1024 tokens, because that is all the model can handle\n",
    "                           truncation = True, #truncated to first 1024 words, because that is all the model can handle\n",
    "                           max_length=max(df[\"summary_num_words\"]), \n",
    "                           min_length=min(df[\"summary_num_words\"]), \n",
    "                           #num_beams = 3,                           \n",
    "                           do_sample=True\n",
    "                            )[0]\n",
    "    candidate = [candidate['summary_text']]\n",
    "    #pprint(candidate[0], compact=True)\n",
    "    \n",
    "    ref = [df['summary'][i]]\n",
    "    \n",
    "    results = rouge.compute(predictions=candidate,\n",
    "                            references=ref)\n",
    "    \n",
    "    bart_r1.append(results['rouge1'])\n",
    "    bart_r2.append(results['rouge2'])\n",
    "    bart_rL.append(results['rougeL'])\n",
    "    bart_rLs.append(results['rougeLsum'])\n",
    "    \n",
    "    if i in np.arange(0, 2000, 100):\n",
    "        data = {'rouge1': bart_r1, 'rouge2': bart_r2, 'rogueL': bart_rL, 'rogueLs': bart_rLs}\n",
    "        scores = pd.DataFrame(data)\n",
    "        scores.to_csv(r'BART_3_scores.csv', index=False)\n",
    "        print(i)\n",
    "        \n",
    "data = {'rouge1': bart_r1, 'rouge2': bart_r2, 'rogueL': bart_rL, 'rogueLs': bart_rLs}\n",
    "scores = pd.DataFrame(data)\n",
    "scores.to_csv(r'BART_3_scores.csv', index=False)\n",
    "print(i)\n",
    "\n",
    "print('Last Article', df['article'][i])\n",
    "print('Last Reference Summary', ref)\n",
    "print('Last Candidate Summary', candidate)"
   ]
  },
  {
   "cell_type": "code",
   "execution_count": 14,
   "id": "26951628-d50c-419d-b680-d9012690bd64",
   "metadata": {},
   "outputs": [
    {
     "name": "stdout",
     "output_type": "stream",
     "text": [
      "rouge1 average : 0.18211818372243202\n",
      "rouge2 average : 0.02774788864496601\n",
      "rougeL average : 0.11674524650559745\n",
      "rougeLs average : 0.11674524650559745\n"
     ]
    }
   ],
   "source": [
    "print('rouge1 average :', np.mean(bart_r1))\n",
    "print('rouge2 average :', np.mean(bart_r2))\n",
    "print('rougeL average :', np.mean(bart_rL))\n",
    "print('rougeLs average :', np.mean(bart_rLs))"
   ]
  },
  {
   "cell_type": "markdown",
   "id": "d52643c0-3eb5-4ace-882d-5f8d17a8228c",
   "metadata": {},
   "source": [
    "Model 4. Model 1 + beam_search + group_beam_search + diversity penalty + changes in max_length "
   ]
  },
  {
   "cell_type": "code",
   "execution_count": 21,
   "id": "e2145c68-5211-4bbb-b47f-35bb68b57a49",
   "metadata": {},
   "outputs": [
    {
     "name": "stdout",
     "output_type": "stream",
     "text": [
      "0\n",
      "100\n",
      "200\n",
      "300\n",
      "400\n",
      "500\n",
      "600\n",
      "700\n",
      "800\n",
      "900\n",
      "999\n",
      "Last Article A spokesman said Mr Duterte missed four scheduled events on Wednesday because he was \"catching up on sleep\". Mr Duterte and other world leaders are in Singapore attending the Association of South East Asian Nations (Asean) meeting. The 73-year-old defended his actions, saying: \"What's wrong with my nap?\" Mr Duterte has previously missed events at other international summits as well as in the Philippines. His health has been a constant source of speculation over the year, and he revealed in October that he had had a cancer scare. 'In top physical shape' Spokesman Salvador Panelo said the president had \"worked late and had only less than three hours of sleep\". When asked if he was fully rested, Mr Duterte added that the naps were \"still not good enough, but enough to sustain the endurance for the last days\". Mr Panelo also clarified that Mr Duterte's absence had \"nothing to do with his health\". \"The president's constantly punishing work schedule is proof that he is in top physical shape,\" he said in a statement. Mr Duterte has previously admitted that he is tired and ready to quit, but says he had not found a suitable successor yet. But he wasn't the only official caught napping at this year's Asean meetings. A Washington Post columnist captured a picture of South Korean president Moon Jae-in, in which he appeared to be asleep. Josh Rogin later reported that Mr Moon \"woke up from his nap\" after US Vice-President Mike Pence arrived. Bloomberg reporter Toluse Olorunnipa also reported that Mr Moon had fallen asleep after \"waiting 15 minutes\" for Mr Pence to arrive. Mr Duterte and Mr Moon are attending the annual Asean meeting alongside other world leaders including Chinese Premier Li Keqiang, Russian President Vladimir Putin and Japanese Prime Minister Shinzo Abe. The meetings end on 15 November.\n",
      "Last Reference Summary ['Philippine President Rodrigo Duterte missed several meetings at a regional summit because he was taking \"power naps\", said the presidential office.']\n",
      "Last Candidate Summary ['A spokesman said Mr Duterte missed four scheduled events on Wednesday because he was \"catching up on sleep\". Mr Duterte and other world leaders are in Singapore attending the Association of South East Asian Nations (Asean) meeting. The 73-year-old defended his actions, saying: \"What\\'s wrong with my nap?\" Mr Duterte has previously missed events at other international summits as well as in the Philippines. His health has']\n",
      "CPU times: user 4h 16min 54s, sys: 14.3 s, total: 4h 17min 8s\n",
      "Wall time: 35min 57s\n"
     ]
    }
   ],
   "source": [
    "%%time\n",
    "\n",
    "warnings.filterwarnings(\"ignore\")\n",
    "\n",
    "summarizer = pipeline(\"summarization\", model=\"facebook/bart-base\")\n",
    "\n",
    "bart_r1 = []\n",
    "bart_r2 = []\n",
    "bart_rL = []\n",
    "bart_rLs = []\n",
    "\n",
    "for i in range(int(len(df['article'])/2)):\n",
    "    \n",
    "    #art = ' '.join(df['article'][i].split(' ')[0:1024]) #truncated to first 1024 words, because that is all the model can handle\n",
    "    \n",
    "    candidate = summarizer(df['article'][i], #limiting to the first 1024 tokens, because that is all the model can handle\n",
    "                           truncation = True, #truncated to first 1024 words, because that is all the model can handle\n",
    "                           max_length=min(max(df[\"summary_num_words\"]), df['article_num_words'][i]), \n",
    "                           min_length=min(df[\"summary_num_words\"]), \n",
    "                           num_beams = 4,\n",
    "                           num_beam_groups = 2,\n",
    "                           diversity_penalty= 2.0,\n",
    "                           do_sample=False #has to be set to false w/ diverse beam search\n",
    "                            )[0]\n",
    "    candidate = [candidate['summary_text']]\n",
    "    #pprint(candidate[0], compact=True)\n",
    "    \n",
    "    ref = [df['summary'][i]]\n",
    "    \n",
    "    results = rouge.compute(predictions=candidate,\n",
    "                            references=ref)\n",
    "    \n",
    "    bart_r1.append(results['rouge1'])\n",
    "    bart_r2.append(results['rouge2'])\n",
    "    bart_rL.append(results['rougeL'])\n",
    "    bart_rLs.append(results['rougeLsum'])\n",
    "    \n",
    "    if i in np.arange(0, 2000, 100):\n",
    "        data = {'rouge1': bart_r1, 'rouge2': bart_r2, 'rogueL': bart_rL, 'rogueLs': bart_rLs}\n",
    "        scores = pd.DataFrame(data)\n",
    "        scores.to_csv(r'BART_4_scores.csv', index=False)\n",
    "        print(i)\n",
    "        \n",
    "data = {'rouge1': bart_r1, 'rouge2': bart_r2, 'rogueL': bart_rL, 'rogueLs': bart_rLs}\n",
    "scores = pd.DataFrame(data)\n",
    "scores.to_csv(r'BART_4_scores.csv', index=False)\n",
    "print(i)\n",
    "\n",
    "print('Last Article', df['article'][i])\n",
    "print('Last Reference Summary', ref)\n",
    "print('Last Candidate Summary', candidate)"
   ]
  },
  {
   "cell_type": "code",
   "execution_count": 23,
   "id": "b354afa7-97ff-4006-a7cc-5fea51ad2a0e",
   "metadata": {
    "tags": []
   },
   "outputs": [
    {
     "name": "stdout",
     "output_type": "stream",
     "text": [
      "rouge1 average : 0.18262546186561612\n",
      "rouge2 average : 0.028182282803885305\n",
      "rougeL average : 0.11704318718639922\n",
      "rougeLs average : 0.11704318718639922\n"
     ]
    }
   ],
   "source": [
    "print('rouge1 average :', np.mean(bart_r1))\n",
    "print('rouge2 average :', np.mean(bart_r2))\n",
    "print('rougeL average :', np.mean(bart_rL))\n",
    "print('rougeLs average :', np.mean(bart_rLs))"
   ]
  },
  {
   "cell_type": "markdown",
   "id": "de36e8a2-224b-464c-be3c-5a864cd6b578",
   "metadata": {},
   "source": [
    "Model 4. Model 1 + beam_search + group_beam_search + diversity penalty + changes in max_length "
   ]
  },
  {
   "cell_type": "code",
   "execution_count": 21,
   "id": "840f30be-a42a-4937-80d9-7aec78d778ee",
   "metadata": {},
   "outputs": [
    {
     "name": "stdout",
     "output_type": "stream",
     "text": [
      "0\n",
      "100\n",
      "200\n",
      "300\n",
      "400\n",
      "500\n",
      "600\n",
      "700\n",
      "800\n",
      "900\n",
      "999\n",
      "Last Article A spokesman said Mr Duterte missed four scheduled events on Wednesday because he was \"catching up on sleep\". Mr Duterte and other world leaders are in Singapore attending the Association of South East Asian Nations (Asean) meeting. The 73-year-old defended his actions, saying: \"What's wrong with my nap?\" Mr Duterte has previously missed events at other international summits as well as in the Philippines. His health has been a constant source of speculation over the year, and he revealed in October that he had had a cancer scare. 'In top physical shape' Spokesman Salvador Panelo said the president had \"worked late and had only less than three hours of sleep\". When asked if he was fully rested, Mr Duterte added that the naps were \"still not good enough, but enough to sustain the endurance for the last days\". Mr Panelo also clarified that Mr Duterte's absence had \"nothing to do with his health\". \"The president's constantly punishing work schedule is proof that he is in top physical shape,\" he said in a statement. Mr Duterte has previously admitted that he is tired and ready to quit, but says he had not found a suitable successor yet. But he wasn't the only official caught napping at this year's Asean meetings. A Washington Post columnist captured a picture of South Korean president Moon Jae-in, in which he appeared to be asleep. Josh Rogin later reported that Mr Moon \"woke up from his nap\" after US Vice-President Mike Pence arrived. Bloomberg reporter Toluse Olorunnipa also reported that Mr Moon had fallen asleep after \"waiting 15 minutes\" for Mr Pence to arrive. Mr Duterte and Mr Moon are attending the annual Asean meeting alongside other world leaders including Chinese Premier Li Keqiang, Russian President Vladimir Putin and Japanese Prime Minister Shinzo Abe. The meetings end on 15 November.\n",
      "Last Reference Summary ['Philippine President Rodrigo Duterte missed several meetings at a regional summit because he was taking \"power naps\", said the presidential office.']\n",
      "Last Candidate Summary ['A spokesman said Mr Duterte missed four scheduled events on Wednesday because he was \"catching up on sleep\". Mr Duterte and other world leaders are in Singapore attending the Association of South East Asian Nations (Asean) meeting. The 73-year-old defended his actions, saying: \"What\\'s wrong with my nap?\" Mr Duterte has previously missed events at other international summits as well as in the Philippines. His health has']\n",
      "CPU times: user 4h 16min 54s, sys: 14.3 s, total: 4h 17min 8s\n",
      "Wall time: 35min 57s\n"
     ]
    }
   ],
   "source": [
    "%%time\n",
    "\n",
    "warnings.filterwarnings(\"ignore\")\n",
    "\n",
    "summarizer = pipeline(\"summarization\", model=\"facebook/bart-base\")\n",
    "\n",
    "bart_r1 = []\n",
    "bart_r2 = []\n",
    "bart_rL = []\n",
    "bart_rLs = []\n",
    "\n",
    "for i in range(int(len(df['article'])/2)):\n",
    "    \n",
    "    #art = ' '.join(df['article'][i].split(' ')[0:1024]) #truncated to first 1024 words, because that is all the model can handle\n",
    "    \n",
    "    candidate = summarizer(df['article'][i], #limiting to the first 1024 tokens, because that is all the model can handle\n",
    "                           truncation = True, #truncated to first 1024 words, because that is all the model can handle\n",
    "                           max_length=min(max(df[\"summary_num_words\"]), df['article_num_words'][i]), \n",
    "                           min_length=min(df[\"summary_num_words\"]), \n",
    "                           num_beams = 4,\n",
    "                           num_beam_groups = 2,\n",
    "                           diversity_penalty= 2.0,\n",
    "                           do_sample=False #has to be set to false w/ diverse beam search\n",
    "                            )[0]\n",
    "    candidate = [candidate['summary_text']]\n",
    "    #pprint(candidate[0], compact=True)\n",
    "    \n",
    "    ref = [df['summary'][i]]\n",
    "    \n",
    "    results = rouge.compute(predictions=candidate,\n",
    "                            references=ref)\n",
    "    \n",
    "    bart_r1.append(results['rouge1'])\n",
    "    bart_r2.append(results['rouge2'])\n",
    "    bart_rL.append(results['rougeL'])\n",
    "    bart_rLs.append(results['rougeLsum'])\n",
    "    \n",
    "    if i in np.arange(0, 2000, 100):\n",
    "        data = {'rouge1': bart_r1, 'rouge2': bart_r2, 'rogueL': bart_rL, 'rogueLs': bart_rLs}\n",
    "        scores = pd.DataFrame(data)\n",
    "        scores.to_csv(r'BART_4_scores.csv', index=False)\n",
    "        print(i)\n",
    "        \n",
    "data = {'rouge1': bart_r1, 'rouge2': bart_r2, 'rogueL': bart_rL, 'rogueLs': bart_rLs}\n",
    "scores = pd.DataFrame(data)\n",
    "scores.to_csv(r'BART_4_scores.csv', index=False)\n",
    "print(i)\n",
    "\n",
    "print('Last Article', df['article'][i])\n",
    "print('Last Reference Summary', ref)\n",
    "print('Last Candidate Summary', candidate)"
   ]
  },
  {
   "cell_type": "code",
   "execution_count": 23,
   "id": "1a205696-a7a1-42de-a005-c93c7fa0e442",
   "metadata": {
    "tags": []
   },
   "outputs": [
    {
     "name": "stdout",
     "output_type": "stream",
     "text": [
      "rouge1 average : 0.18262546186561612\n",
      "rouge2 average : 0.028182282803885305\n",
      "rougeL average : 0.11704318718639922\n",
      "rougeLs average : 0.11704318718639922\n"
     ]
    }
   ],
   "source": [
    "print('rouge1 average :', np.mean(bart_r1))\n",
    "print('rouge2 average :', np.mean(bart_r2))\n",
    "print('rougeL average :', np.mean(bart_rL))\n",
    "print('rougeLs average :', np.mean(bart_rLs))"
   ]
  },
  {
   "cell_type": "markdown",
   "id": "7c252121-545a-41ac-88f6-c3c84f9243fb",
   "metadata": {},
   "source": [
    "Model 5. Model 4 + using ratio to calculate max and min length (see EDA file for calcs)"
   ]
  },
  {
   "cell_type": "code",
   "execution_count": 28,
   "id": "1c35e3ba-ef14-45be-a5fc-1e5d9db82490",
   "metadata": {},
   "outputs": [
    {
     "name": "stdout",
     "output_type": "stream",
     "text": [
      "0\n",
      "100\n",
      "200\n",
      "300\n",
      "400\n",
      "500\n",
      "600\n",
      "700\n",
      "800\n",
      "900\n",
      "999\n",
      "Last Article A spokesman said Mr Duterte missed four scheduled events on Wednesday because he was \"catching up on sleep\". Mr Duterte and other world leaders are in Singapore attending the Association of South East Asian Nations (Asean) meeting. The 73-year-old defended his actions, saying: \"What's wrong with my nap?\" Mr Duterte has previously missed events at other international summits as well as in the Philippines. His health has been a constant source of speculation over the year, and he revealed in October that he had had a cancer scare. 'In top physical shape' Spokesman Salvador Panelo said the president had \"worked late and had only less than three hours of sleep\". When asked if he was fully rested, Mr Duterte added that the naps were \"still not good enough, but enough to sustain the endurance for the last days\". Mr Panelo also clarified that Mr Duterte's absence had \"nothing to do with his health\". \"The president's constantly punishing work schedule is proof that he is in top physical shape,\" he said in a statement. Mr Duterte has previously admitted that he is tired and ready to quit, but says he had not found a suitable successor yet. But he wasn't the only official caught napping at this year's Asean meetings. A Washington Post columnist captured a picture of South Korean president Moon Jae-in, in which he appeared to be asleep. Josh Rogin later reported that Mr Moon \"woke up from his nap\" after US Vice-President Mike Pence arrived. Bloomberg reporter Toluse Olorunnipa also reported that Mr Moon had fallen asleep after \"waiting 15 minutes\" for Mr Pence to arrive. Mr Duterte and Mr Moon are attending the annual Asean meeting alongside other world leaders including Chinese Premier Li Keqiang, Russian President Vladimir Putin and Japanese Prime Minister Shinzo Abe. The meetings end on 15 November.\n",
      "Last Reference Summary ['Philippine President Rodrigo Duterte missed several meetings at a regional summit because he was taking \"power naps\", said the presidential office.']\n",
      "Last Candidate Summary ['A spokesman said Mr Duterte missed four scheduled events on Wednesday because he was \"catching up on sleep\". Mr Duterte and other world leaders are in']\n",
      "CPU times: user 2h 27min 10s, sys: 7.87 s, total: 2h 27min 17s\n",
      "Wall time: 22min 13s\n"
     ]
    }
   ],
   "source": [
    "%%time\n",
    "\n",
    "warnings.filterwarnings(\"ignore\")\n",
    "\n",
    "summarizer = pipeline(\"summarization\", model=\"facebook/bart-base\")\n",
    "\n",
    "bart_r1 = []\n",
    "bart_r2 = []\n",
    "bart_rL = []\n",
    "bart_rLs = []\n",
    "\n",
    "for i in range(int(len(df['article'])/2)):\n",
    "    \n",
    "    #art = ' '.join(df['article'][i].split(' ')[0:1024]) #truncated to first 1024 words, because that is all the model can handle\n",
    "    \n",
    "    candidate = summarizer(df['article'][i], #limiting to the first 1024 tokens, because that is all the model can handle\n",
    "                           truncation = True, #truncated to first 1024 words, because that is all the model can handle\n",
    "                           max_length=math.ceil(df['article_num_words'][i]*0.1), #most summaries are below 0.1 according to histogram\n",
    "                           min_length=0, #min summary ratio was 0.002\n",
    "                           num_beams = 4,\n",
    "                           num_beam_groups = 2,\n",
    "                           diversity_penalty= 2.0,\n",
    "                           do_sample=False #has to be set to false w/ diverse beam search\n",
    "                            )[0]\n",
    "    candidate = [candidate['summary_text']]\n",
    "    #pprint(candidate[0], compact=True)\n",
    "    \n",
    "    ref = [df['summary'][i]]\n",
    "    \n",
    "    results = rouge.compute(predictions=candidate,\n",
    "                            references=ref)\n",
    "    \n",
    "    bart_r1.append(results['rouge1'])\n",
    "    bart_r2.append(results['rouge2'])\n",
    "    bart_rL.append(results['rougeL'])\n",
    "    bart_rLs.append(results['rougeLsum'])\n",
    "    \n",
    "    if i in np.arange(0, 2000, 100):\n",
    "        data = {'rouge1': bart_r1, 'rouge2': bart_r2, 'rogueL': bart_rL, 'rogueLs': bart_rLs}\n",
    "        scores = pd.DataFrame(data)\n",
    "        scores.to_csv(r'BART_4_scores.csv', index=False)\n",
    "        print(i)\n",
    "        \n",
    "data = {'rouge1': bart_r1, 'rouge2': bart_r2, 'rogueL': bart_rL, 'rogueLs': bart_rLs}\n",
    "scores = pd.DataFrame(data)\n",
    "scores.to_csv(r'BART_4_scores.csv', index=False)\n",
    "print(i)\n",
    "\n",
    "print('Last Article', df['article'][i])\n",
    "print('Last Reference Summary', ref)\n",
    "print('Last Candidate Summary', candidate)"
   ]
  },
  {
   "cell_type": "code",
   "execution_count": 29,
   "id": "d99f2b13-de9d-4067-97de-5f379865b3ff",
   "metadata": {
    "tags": []
   },
   "outputs": [
    {
     "name": "stdout",
     "output_type": "stream",
     "text": [
      "rouge1 average : 0.16340185875114246\n",
      "rouge2 average : 0.018879911043092612\n",
      "rougeL average : 0.11635047232727201\n",
      "rougeLs average : 0.11635047232727201\n"
     ]
    }
   ],
   "source": [
    "print('rouge1 average :', np.mean(bart_r1))\n",
    "print('rouge2 average :', np.mean(bart_r2))\n",
    "print('rougeL average :', np.mean(bart_rL))\n",
    "print('rougeLs average :', np.mean(bart_rLs))"
   ]
  }
 ],
 "metadata": {
  "kernelspec": {
   "display_name": "Python 3 (ipykernel)",
   "language": "python",
   "name": "python3"
  },
  "language_info": {
   "codemirror_mode": {
    "name": "ipython",
    "version": 3
   },
   "file_extension": ".py",
   "mimetype": "text/x-python",
   "name": "python",
   "nbconvert_exporter": "python",
   "pygments_lexer": "ipython3",
   "version": "3.8.10"
  }
 },
 "nbformat": 4,
 "nbformat_minor": 5
}
