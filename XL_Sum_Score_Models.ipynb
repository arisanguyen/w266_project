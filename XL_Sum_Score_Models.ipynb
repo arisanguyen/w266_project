{
  "cells": [
    {
      "cell_type": "markdown",
      "id": "9b049999-077d-4d48-a02d-94c842050121",
      "metadata": {
        "tags": [],
        "id": "9b049999-077d-4d48-a02d-94c842050121"
      },
      "source": [
        "**T5 Trained on XL SUM**"
      ]
    },
    {
      "cell_type": "markdown",
      "id": "f2d1de3e-85a6-4307-8abf-fbfcae0be263",
      "metadata": {
        "id": "f2d1de3e-85a6-4307-8abf-fbfcae0be263"
      },
      "source": [
        "**Packages**"
      ]
    },
    {
      "cell_type": "code",
      "source": [
        "! pip install datasets --quiet\n",
        "! pip install evaluate --quiet\n",
        "! pip install rouge_score --quiet\n",
        "! pip install sacrebleu --quiet\n",
        "! pip install transformers --quiet\n",
        "! pip install -q sentencepiece --quiet\n",
        "! pip install summarizer --quiet"
      ],
      "metadata": {
        "colab": {
          "base_uri": "https://localhost:8080/"
        },
        "id": "H10Fp9-DHlAu",
        "outputId": "deb37d22-3a01-4599-fcd2-50f3bf58d388"
      },
      "id": "H10Fp9-DHlAu",
      "execution_count": null,
      "outputs": [
        {
          "output_type": "stream",
          "name": "stdout",
          "text": [
            "\u001b[2K     \u001b[90m━━━━━━━━━━━━━━━━━━━━━━━━━━━━━━━━━━━━━━━\u001b[0m \u001b[32m468.7/468.7 KB\u001b[0m \u001b[31m7.4 MB/s\u001b[0m eta \u001b[36m0:00:00\u001b[0m\n",
            "\u001b[2K     \u001b[90m━━━━━━━━━━━━━━━━━━━━━━━━━━━━━━━━━━━━━━━\u001b[0m \u001b[32m212.2/212.2 KB\u001b[0m \u001b[31m8.1 MB/s\u001b[0m eta \u001b[36m0:00:00\u001b[0m\n",
            "\u001b[2K     \u001b[90m━━━━━━━━━━━━━━━━━━━━━━━━━━━━━━━━━━━━━━━━\u001b[0m \u001b[32m1.0/1.0 MB\u001b[0m \u001b[31m11.8 MB/s\u001b[0m eta \u001b[36m0:00:00\u001b[0m\n",
            "\u001b[2K     \u001b[90m━━━━━━━━━━━━━━━━━━━━━━━━━━━━━━━━━━━━━━━\u001b[0m \u001b[32m200.1/200.1 KB\u001b[0m \u001b[31m8.5 MB/s\u001b[0m eta \u001b[36m0:00:00\u001b[0m\n",
            "\u001b[2K     \u001b[90m━━━━━━━━━━━━━━━━━━━━━━━━━━━━━━━━━━━━━━━\u001b[0m \u001b[32m110.5/110.5 KB\u001b[0m \u001b[31m5.0 MB/s\u001b[0m eta \u001b[36m0:00:00\u001b[0m\n",
            "\u001b[2K     \u001b[90m━━━━━━━━━━━━━━━━━━━━━━━━━━━━━━━━━━━━━━━\u001b[0m \u001b[32m132.9/132.9 KB\u001b[0m \u001b[31m3.4 MB/s\u001b[0m eta \u001b[36m0:00:00\u001b[0m\n",
            "\u001b[2K     \u001b[90m━━━━━━━━━━━━━━━━━━━━━━━━━━━━━━━━━━━━━━\u001b[0m \u001b[32m264.6/264.6 KB\u001b[0m \u001b[31m13.0 MB/s\u001b[0m eta \u001b[36m0:00:00\u001b[0m\n",
            "\u001b[2K     \u001b[90m━━━━━━━━━━━━━━━━━━━━━━━━━━━━━━━━━━━━━━━\u001b[0m \u001b[32m114.2/114.2 KB\u001b[0m \u001b[31m3.9 MB/s\u001b[0m eta \u001b[36m0:00:00\u001b[0m\n",
            "\u001b[2K     \u001b[90m━━━━━━━━━━━━━━━━━━━━━━━━━━━━━━━━━━━━━━━\u001b[0m \u001b[32m158.8/158.8 KB\u001b[0m \u001b[31m6.7 MB/s\u001b[0m eta \u001b[36m0:00:00\u001b[0m\n",
            "\u001b[2K     \u001b[90m━━━━━━━━━━━━━━━━━━━━━━━━━━━━━━━━━━━━━━━━\u001b[0m \u001b[32m81.4/81.4 KB\u001b[0m \u001b[31m5.3 MB/s\u001b[0m eta \u001b[36m0:00:00\u001b[0m\n",
            "\u001b[?25h  Preparing metadata (setup.py) ... \u001b[?25l\u001b[?25hdone\n",
            "  Building wheel for rouge_score (setup.py) ... \u001b[?25l\u001b[?25hdone\n",
            "\u001b[2K     \u001b[90m━━━━━━━━━━━━━━━━━━━━━━━━━━━━━━━━━━━━━━━\u001b[0m \u001b[32m118.9/118.9 KB\u001b[0m \u001b[31m7.3 MB/s\u001b[0m eta \u001b[36m0:00:00\u001b[0m\n",
            "\u001b[2K     \u001b[90m━━━━━━━━━━━━━━━━━━━━━━━━━━━━━━━━━━━━━━━━\u001b[0m \u001b[32m6.8/6.8 MB\u001b[0m \u001b[31m83.6 MB/s\u001b[0m eta \u001b[36m0:00:00\u001b[0m\n",
            "\u001b[2K     \u001b[90m━━━━━━━━━━━━━━━━━━━━━━━━━━━━━━━━━━━━━━━━\u001b[0m \u001b[32m7.8/7.8 MB\u001b[0m \u001b[31m86.7 MB/s\u001b[0m eta \u001b[36m0:00:00\u001b[0m\n",
            "\u001b[2K     \u001b[90m━━━━━━━━━━━━━━━━━━━━━━━━━━━━━━━━━━━━━━━━\u001b[0m \u001b[32m1.3/1.3 MB\u001b[0m \u001b[31m34.7 MB/s\u001b[0m eta \u001b[36m0:00:00\u001b[0m\n",
            "\u001b[2K     \u001b[90m━━━━━━━━━━━━━━━━━━━━━━━━━━━━━━━━━━━━━━\u001b[0m \u001b[32m280.1/280.1 KB\u001b[0m \u001b[31m13.5 MB/s\u001b[0m eta \u001b[36m0:00:00\u001b[0m\n",
            "\u001b[?25h  Preparing metadata (setup.py) ... \u001b[?25l\u001b[?25hdone\n",
            "  Building wheel for summarizer (setup.py) ... \u001b[?25l\u001b[?25hdone\n"
          ]
        }
      ]
    },
    {
      "cell_type": "code",
      "execution_count": null,
      "id": "0dfe809d-a7a8-47b6-a2e0-2d7bf7d74fd7",
      "metadata": {
        "tags": [],
        "id": "0dfe809d-a7a8-47b6-a2e0-2d7bf7d74fd7"
      },
      "outputs": [],
      "source": [
        "import numpy as np\n",
        "import pandas as pd\n",
        "import matplotlib.pyplot as plt \n",
        "import math\n",
        "\n",
        "from datasets import load_dataset\n",
        "import evaluate\n",
        "\n",
        "import inspect\n",
        "\n",
        "#let's make longer output readable without horizontal scrolling\n",
        "from pprint import pprint\n",
        "\n",
        "import warnings\n",
        "\n",
        "import regex as re\n",
        "\n",
        "import os, re\n",
        "import time\n",
        "\n",
        "import tensorflow as tf\n",
        "from tensorflow import keras\n",
        "from tensorflow.keras import layers\n",
        "\n",
        "# These auto classes load the right type of tokenizer and model based on a model name\n",
        "from transformers import AutoTokenizer, TFAutoModel\n",
        "from transformers import pipeline\n",
        "from transformers import AutoModel"
      ]
    },
    {
      "cell_type": "markdown",
      "id": "99ef6ab7-aa59-479f-a0e8-e0e34a21dc7f",
      "metadata": {
        "id": "99ef6ab7-aa59-479f-a0e8-e0e34a21dc7f"
      },
      "source": [
        "**Necessary Functions**"
      ]
    },
    {
      "cell_type": "code",
      "execution_count": null,
      "id": "ce3330d3-069e-48dc-8a0b-e2ef7d72a2bf",
      "metadata": {
        "tags": [],
        "colab": {
          "base_uri": "https://localhost:8080/",
          "height": 49,
          "referenced_widgets": [
            "af3c983eed224075b1a3a42585f91947",
            "91254e18f939495295441718154836fb",
            "d89240a4be2243b3be5a64d57b8c160a",
            "bec4b57ecb1a44b0a3f25f7084c62cc0",
            "85ce31a903e144aaa9a951569504496d",
            "3002b86790bf4b198d0fca27f88b6b5b",
            "54d1534a313c4f18bbb9d9be452e3e14",
            "5bce665e2c0b4cad89382ba574100dc3",
            "4729c1d6f91340e2902f2d58969b219d",
            "8b77039615924b2bb0227971e90a1da3",
            "c2d2812b8f9a46fab445ac6dc893f9ad"
          ]
        },
        "id": "ce3330d3-069e-48dc-8a0b-e2ef7d72a2bf",
        "outputId": "d98aace3-8220-4abe-d49d-5f2afd09344a"
      },
      "outputs": [
        {
          "output_type": "display_data",
          "data": {
            "text/plain": [
              "Downloading builder script:   0%|          | 0.00/6.27k [00:00<?, ?B/s]"
            ],
            "application/vnd.jupyter.widget-view+json": {
              "version_major": 2,
              "version_minor": 0,
              "model_id": "af3c983eed224075b1a3a42585f91947"
            }
          },
          "metadata": {}
        }
      ],
      "source": [
        "rouge = evaluate.load('rouge')"
      ]
    },
    {
      "cell_type": "code",
      "execution_count": null,
      "id": "216551a6-cb1e-4516-aa9b-b18d88807a72",
      "metadata": {
        "colab": {
          "base_uri": "https://localhost:8080/",
          "height": 49,
          "referenced_widgets": [
            "ee2bf0445b344cc18ddd407e71db373d",
            "5b3d25c146b646fba8bba569df4b2a91",
            "9bd004dbc2f04e0e9451fc3e1397bd38",
            "fae69c59478e435989c40cba0e850da6",
            "6d31983d4f08454cabd100c1e7d1ba2c",
            "35434eba2ea243aab9c26cca7d173a35",
            "3c39b49bb3874aa08c04073ecb8f7776",
            "85a7df61cb3b4e4ab9dfd72a47fb14c2",
            "3d096e6498274922882012c29f39734d",
            "a282908f5a72423aaec81afaf069fe8c",
            "c090d9e38e2c43f59b1991be72c02580"
          ]
        },
        "id": "216551a6-cb1e-4516-aa9b-b18d88807a72",
        "outputId": "0d470c14-9ee4-4c4a-e3a6-60370ce834f0"
      },
      "outputs": [
        {
          "output_type": "display_data",
          "data": {
            "text/plain": [
              "Downloading builder script:   0%|          | 0.00/9.01k [00:00<?, ?B/s]"
            ],
            "application/vnd.jupyter.widget-view+json": {
              "version_major": 2,
              "version_minor": 0,
              "model_id": "ee2bf0445b344cc18ddd407e71db373d"
            }
          },
          "metadata": {}
        }
      ],
      "source": [
        "chrf = evaluate.load(\"chrf\")"
      ]
    },
    {
      "cell_type": "code",
      "execution_count": null,
      "id": "3a32aaf5-c5bb-4052-8b50-af66dbb96312",
      "metadata": {
        "id": "3a32aaf5-c5bb-4052-8b50-af66dbb96312"
      },
      "outputs": [],
      "source": [
        "def get_default_args(func):\n",
        "    signature = inspect.signature(func)\n",
        "    return {\n",
        "        k: v.default\n",
        "        for k, v in signature.parameters.items()\n",
        "        if v.default is not inspect.Parameter.empty\n",
        "    }"
      ]
    },
    {
      "cell_type": "markdown",
      "id": "44de8cc2-471c-4ad3-b94d-8473c6c3c244",
      "metadata": {
        "tags": [],
        "id": "44de8cc2-471c-4ad3-b94d-8473c6c3c244"
      },
      "source": [
        "**Huggingface Transformers Training Resources**"
      ]
    },
    {
      "cell_type": "markdown",
      "id": "da6b616e-4e2b-46eb-83b7-75930d6a43ee",
      "metadata": {
        "id": "da6b616e-4e2b-46eb-83b7-75930d6a43ee"
      },
      "source": [
        "https://github.com/huggingface/transformers/blob/main/examples/pytorch/summarization/run_summarization.py\n",
        "\n",
        "https://www.databricks.com/blog/2023/03/20/fine-tuning-large-language-models-hugging-face-and-deepspeed.html\n",
        "\n",
        "https://gitlab.com/nicolalandro/summarization"
      ]
    },
    {
      "cell_type": "code",
      "source": [
        "from google.colab import drive\n",
        "drive.mount('/content/drive/')"
      ],
      "metadata": {
        "colab": {
          "base_uri": "https://localhost:8080/"
        },
        "id": "6kb51xsbIUDF",
        "outputId": "180bd493-02a8-48d7-9f82-68284384617e"
      },
      "id": "6kb51xsbIUDF",
      "execution_count": null,
      "outputs": [
        {
          "output_type": "stream",
          "name": "stdout",
          "text": [
            "Mounted at /content/drive/\n"
          ]
        }
      ]
    },
    {
      "cell_type": "code",
      "execution_count": null,
      "id": "d3cd29df",
      "metadata": {
        "id": "d3cd29df"
      },
      "outputs": [],
      "source": [
        "df = pd.read_csv('/content/drive/MyDrive/W266FinalProject/Datasets/xl_sum_sample_test.csv')\n",
        "# df.head(5)"
      ]
    },
    {
      "cell_type": "code",
      "execution_count": null,
      "id": "1144720c",
      "metadata": {
        "id": "1144720c"
      },
      "outputs": [],
      "source": [
        "df_tech = pd.read_csv('/content/drive/MyDrive/W266FinalProject/Datasets/xl_sum_sample_test.csv')"
      ]
    },
    {
      "cell_type": "code",
      "source": [
        "def generate_scores(mod, data, do_sample = False, num_beams = 1, top_k = 50, num_beam_groups = 1):\n",
        "\n",
        "  targets = []\n",
        "  candidates = []\n",
        "  r1 = []\n",
        "  r2 = []\n",
        "  rL = []\n",
        "  rLs = []\n",
        "  chrfs = []\n",
        "\n",
        "  for i in range(int(len(data['text']))):\n",
        "\n",
        "      candidate = mod(data['text'][i], \n",
        "                              truncation = True,\n",
        "                              max_length = 256,\n",
        "                              min_length = 0, \n",
        "                              do_sample = do_sample,\n",
        "                              num_beams = num_beams, \n",
        "                              top_k = top_k,\n",
        "                              num_beam_groups = num_beam_groups,\n",
        "                              )[0]\n",
        "      candidate = [candidate['summary_text']]\n",
        "\n",
        "      ref = [data['summary'][i]]\n",
        "\n",
        "      results = rouge.compute(predictions=candidate,\n",
        "                              references=ref)\n",
        "\n",
        "      targets.append(ref)\n",
        "      candidates.append(candidate)\n",
        "      r1.append(results['rouge1'])\n",
        "      r2.append(results['rouge2'])\n",
        "      rL.append(results['rougeL'])\n",
        "      rLs.append(results['rougeLsum'])\n",
        "\n",
        "      results = chrf.compute(predictions=candidate,\n",
        "                              references=ref)\n",
        "\n",
        "      chrfs.append(results['score'])\n",
        "  \n",
        "  return pd.DataFrame({'target': targets, 'candidate': candidates,\n",
        "                  'rouge1': r1, 'rouge2': r2, 'rougeL': rL, \n",
        "                      'rougeLs': rLs, 'chrf': chrfs})"
      ],
      "metadata": {
        "id": "ebvF5Z3E-bQl"
      },
      "id": "ebvF5Z3E-bQl",
      "execution_count": null,
      "outputs": []
    },
    {
      "cell_type": "markdown",
      "id": "c9edd436",
      "metadata": {
        "id": "c9edd436"
      },
      "source": [
        "# T5 SCORES"
      ]
    },
    {
      "cell_type": "markdown",
      "source": [
        "### Base"
      ],
      "metadata": {
        "id": "icBTG1L9HOV0"
      },
      "id": "icBTG1L9HOV0"
    },
    {
      "cell_type": "code",
      "source": [
        "t5_base_summarizer = pipeline(\"summarization\", model=\"t5-base\")"
      ],
      "metadata": {
        "colab": {
          "base_uri": "https://localhost:8080/"
        },
        "id": "WN8kYhZcHSvR",
        "outputId": "17fbdab2-f8b3-4736-b0b9-c1d42120b263"
      },
      "id": "WN8kYhZcHSvR",
      "execution_count": null,
      "outputs": [
        {
          "output_type": "stream",
          "name": "stderr",
          "text": [
            "/usr/local/lib/python3.9/dist-packages/transformers/models/t5/tokenization_t5_fast.py:155: FutureWarning: This tokenizer was incorrectly instantiated with a model max length of 512 which will be corrected in Transformers v5.\n",
            "For now, this behavior is kept to avoid breaking backwards compatibility when padding/encoding with `truncation is True`.\n",
            "- Be aware that you SHOULD NOT rely on t5-base automatically truncating your input to 512 when padding/encoding.\n",
            "- If you want to encode/pad to sequences longer than 512 you can either instantiate this tokenizer with `model_max_length` or pass `max_length` when encoding/padding.\n",
            "- To avoid this warning, please instantiate this tokenizer with `model_max_length` set to your preferred value.\n",
            "  warnings.warn(\n"
          ]
        }
      ]
    },
    {
      "cell_type": "code",
      "source": [
        "t5_base_scores_df = generate_scores(t5_base_summarizer, df, do_sample = False, num_beams = 4, top_k = 75, num_beam_groups = 2)"
      ],
      "metadata": {
        "colab": {
          "base_uri": "https://localhost:8080/"
        },
        "id": "I6d2uxw5HSmP",
        "outputId": "f236c6ca-aafc-4385-a10f-23f8d9ef1873"
      },
      "id": "I6d2uxw5HSmP",
      "execution_count": null,
      "outputs": [
        {
          "metadata": {
            "tags": null
          },
          "name": "stderr",
          "output_type": "stream",
          "text": [
            "Your max_length is set to 256, but you input_length is only 99. You might consider decreasing max_length manually, e.g. summarizer('...', max_length=49)\n",
            "Your max_length is set to 256, but you input_length is only 96. You might consider decreasing max_length manually, e.g. summarizer('...', max_length=48)\n",
            "Your max_length is set to 256, but you input_length is only 204. You might consider decreasing max_length manually, e.g. summarizer('...', max_length=102)\n",
            "Your max_length is set to 256, but you input_length is only 213. You might consider decreasing max_length manually, e.g. summarizer('...', max_length=106)\n",
            "Your max_length is set to 256, but you input_length is only 243. You might consider decreasing max_length manually, e.g. summarizer('...', max_length=121)\n",
            "Your max_length is set to 256, but you input_length is only 192. You might consider decreasing max_length manually, e.g. summarizer('...', max_length=96)\n",
            "Your max_length is set to 256, but you input_length is only 223. You might consider decreasing max_length manually, e.g. summarizer('...', max_length=111)\n",
            "Your max_length is set to 256, but you input_length is only 211. You might consider decreasing max_length manually, e.g. summarizer('...', max_length=105)\n",
            "Your max_length is set to 256, but you input_length is only 206. You might consider decreasing max_length manually, e.g. summarizer('...', max_length=103)\n",
            "Your max_length is set to 256, but you input_length is only 202. You might consider decreasing max_length manually, e.g. summarizer('...', max_length=101)\n",
            "Your max_length is set to 256, but you input_length is only 230. You might consider decreasing max_length manually, e.g. summarizer('...', max_length=115)\n",
            "Your max_length is set to 256, but you input_length is only 76. You might consider decreasing max_length manually, e.g. summarizer('...', max_length=38)\n"
          ]
        }
      ]
    },
    {
      "cell_type": "code",
      "source": [
        "t5_base_scores_df.to_csv('/content/drive/MyDrive/W266FinalProject/test_candidates/t5_all_categories_base.csv')"
      ],
      "metadata": {
        "id": "9hwePy2WMzY1"
      },
      "id": "9hwePy2WMzY1",
      "execution_count": null,
      "outputs": []
    },
    {
      "cell_type": "markdown",
      "source": [
        "Technology category"
      ],
      "metadata": {
        "id": "pLT7p5cEHTah"
      },
      "id": "pLT7p5cEHTah"
    },
    {
      "cell_type": "code",
      "source": [
        "t5_base_tech_scores_df = generate_scores(t5_base_summarizer, df, do_sample = False, num_beams = 4, top_k = 75, num_beam_groups = 2)"
      ],
      "metadata": {
        "colab": {
          "base_uri": "https://localhost:8080/"
        },
        "id": "xu7Hs7vJHSeV",
        "outputId": "a4f298e7-2f8f-465d-a4bd-7b50d9015599"
      },
      "id": "xu7Hs7vJHSeV",
      "execution_count": null,
      "outputs": [
        {
          "output_type": "stream",
          "name": "stderr",
          "text": [
            "Your max_length is set to 256, but you input_length is only 99. You might consider decreasing max_length manually, e.g. summarizer('...', max_length=49)\n",
            "Your max_length is set to 256, but you input_length is only 96. You might consider decreasing max_length manually, e.g. summarizer('...', max_length=48)\n",
            "Your max_length is set to 256, but you input_length is only 204. You might consider decreasing max_length manually, e.g. summarizer('...', max_length=102)\n",
            "Your max_length is set to 256, but you input_length is only 213. You might consider decreasing max_length manually, e.g. summarizer('...', max_length=106)\n",
            "Your max_length is set to 256, but you input_length is only 243. You might consider decreasing max_length manually, e.g. summarizer('...', max_length=121)\n",
            "Your max_length is set to 256, but you input_length is only 192. You might consider decreasing max_length manually, e.g. summarizer('...', max_length=96)\n",
            "Your max_length is set to 256, but you input_length is only 223. You might consider decreasing max_length manually, e.g. summarizer('...', max_length=111)\n",
            "Your max_length is set to 256, but you input_length is only 211. You might consider decreasing max_length manually, e.g. summarizer('...', max_length=105)\n",
            "Your max_length is set to 256, but you input_length is only 206. You might consider decreasing max_length manually, e.g. summarizer('...', max_length=103)\n",
            "Your max_length is set to 256, but you input_length is only 202. You might consider decreasing max_length manually, e.g. summarizer('...', max_length=101)\n",
            "Your max_length is set to 256, but you input_length is only 230. You might consider decreasing max_length manually, e.g. summarizer('...', max_length=115)\n",
            "Your max_length is set to 256, but you input_length is only 76. You might consider decreasing max_length manually, e.g. summarizer('...', max_length=38)\n"
          ]
        }
      ]
    },
    {
      "cell_type": "code",
      "source": [
        "t5_base_tech_scores_df.to_csv('/content/drive/MyDrive/W266FinalProject/test_candidates/t5_tech_base.csv')"
      ],
      "metadata": {
        "id": "XLVOT1oEHSSS"
      },
      "id": "XLVOT1oEHSSS",
      "execution_count": null,
      "outputs": []
    },
    {
      "cell_type": "markdown",
      "source": [
        "### Finetuned"
      ],
      "metadata": {
        "id": "DIkKNmL2HMdd"
      },
      "id": "DIkKNmL2HMdd"
    },
    {
      "cell_type": "code",
      "execution_count": null,
      "id": "40b34d76",
      "metadata": {
        "tags": [],
        "id": "40b34d76"
      },
      "outputs": [],
      "source": [
        "t5_finetuned_summarizer = pipeline(\"summarization\", model=\"arisanguyen/finetuned_T5_all_categories\", revision = 'model_0')"
      ]
    },
    {
      "cell_type": "code",
      "execution_count": null,
      "id": "494f167a",
      "metadata": {
        "id": "494f167a"
      },
      "outputs": [],
      "source": [
        "t5_scores_df = generate_scores(t5_finetuned_summarizer, df, do_sample = False, num_beams = 4, top_k = 75, num_beam_groups = 2)"
      ]
    },
    {
      "cell_type": "code",
      "source": [
        "t5_scores_df.to_csv('/content/drive/MyDrive/W266FinalProject/test_candidates/t5_all_categories_finetuned.csv')"
      ],
      "metadata": {
        "id": "K0RbnQWgDprE"
      },
      "id": "K0RbnQWgDprE",
      "execution_count": null,
      "outputs": []
    },
    {
      "cell_type": "markdown",
      "id": "e86c7dcd",
      "metadata": {
        "id": "e86c7dcd"
      },
      "source": [
        "Technology category"
      ]
    },
    {
      "cell_type": "code",
      "execution_count": null,
      "id": "b03710f5",
      "metadata": {
        "id": "b03710f5"
      },
      "outputs": [],
      "source": [
        "t5_tech_scores_df = generate_scores(t5_finetuned_summarizer, df_tech, do_sample = False, num_beams = 4, top_k = 75, num_beam_groups = 2)"
      ]
    },
    {
      "cell_type": "code",
      "source": [
        "t5_tech_scores_df.to_csv('/content/drive/MyDrive/W266FinalProject/test_candidates/t5_tech_finetuned.csv')"
      ],
      "metadata": {
        "id": "lg2aJt1HDVMl"
      },
      "id": "lg2aJt1HDVMl",
      "execution_count": null,
      "outputs": []
    },
    {
      "cell_type": "markdown",
      "source": [
        "# BART SCORES"
      ],
      "metadata": {
        "id": "mR_vVaZnDk6p"
      },
      "id": "mR_vVaZnDk6p"
    },
    {
      "cell_type": "markdown",
      "source": [
        "### Base"
      ],
      "metadata": {
        "id": "6y4yRQ1VHCvz"
      },
      "id": "6y4yRQ1VHCvz"
    },
    {
      "cell_type": "code",
      "source": [
        "def generate_bart_scores(tokenizer, model, data, do_sample = False, num_beams = 1, top_k = 50, num_beam_groups = 1):\n",
        "\n",
        "  targets = []\n",
        "  candidates = []\n",
        "  r1 = []\n",
        "  r2 = []\n",
        "  rL = []\n",
        "  rLs = []\n",
        "  chrfs = []\n",
        "\n",
        "  for i in range(int(len(data['text']))):\n",
        "      inputs = tokenizer(data[\"text\"][i], return_tensors=\"pt\", max_length=512, truncation=True)\n",
        "      summary_ids = model.generate(inputs[\"input_ids\"], num_beams=num_beams, min_length=0, max_length=256)\n",
        "      candidate = tokenizer.batch_decode(summary_ids, skip_special_tokens=True, clean_up_tokenization_spaces=False)[0]\n",
        "      candidate = [candidate]\n",
        "\n",
        "      ref = [data['summary'][i]]\n",
        "\n",
        "      results = rouge.compute(predictions=candidate,\n",
        "                              references=ref)\n",
        "\n",
        "      targets.append(ref)\n",
        "      candidates.append(candidate)\n",
        "      r1.append(results['rouge1'])\n",
        "      r2.append(results['rouge2'])\n",
        "      rL.append(results['rougeL'])\n",
        "      rLs.append(results['rougeLsum'])\n",
        "\n",
        "      results = chrf.compute(predictions=candidate,\n",
        "                              references=ref)\n",
        "\n",
        "      chrfs.append(results['score'])\n",
        "  \n",
        "  return pd.DataFrame({'target': targets, 'candidate': candidates,\n",
        "                  'rouge1': r1, 'rouge2': r2, 'rougeL': rL, \n",
        "                      'rougeLs': rLs, 'chrf': chrfs})"
      ],
      "metadata": {
        "id": "LE4KsfZtL7Ib"
      },
      "id": "LE4KsfZtL7Ib",
      "execution_count": null,
      "outputs": []
    },
    {
      "cell_type": "code",
      "source": [
        "from transformers import AutoTokenizer, BartForConditionalGeneration\n",
        "\n",
        "bart_model = BartForConditionalGeneration.from_pretrained(\"facebook/bart-base\")\n",
        "bart_tokenizer = AutoTokenizer.from_pretrained(\"facebook/bart-base\")"
      ],
      "metadata": {
        "colab": {
          "base_uri": "https://localhost:8080/",
          "height": 49,
          "referenced_widgets": [
            "2d8bab8a62014dc58f984d5c5bf3d96d",
            "63825abf575f4ffc956fcb64fa0bbb2d",
            "9bc6a757b36c41a683d5c45fd19c17ec",
            "686b975c7d524d41ae8be3b704b01224",
            "2081055fbb484e4b92a86b8b6c4fc107",
            "bd755ece546c45e4ade062c2f06887f1",
            "3479ad5e2c12468887b23d319ce70db3",
            "6e90e0f7cd104a0280f8176a6f114883",
            "de80097fb6fa4f1ea49f83e7f4a4776a",
            "2e211f35e2444f50b4977126d67502ae",
            "05af70a114ef45c4ba70a3bc2071c2db"
          ]
        },
        "id": "n2y6DnN-LnpA",
        "outputId": "e352914a-d726-4756-8e65-ab01d30cf687"
      },
      "id": "n2y6DnN-LnpA",
      "execution_count": null,
      "outputs": [
        {
          "output_type": "display_data",
          "data": {
            "text/plain": [
              "Downloading (…)/main/tokenizer.json:   0%|          | 0.00/1.36M [00:00<?, ?B/s]"
            ],
            "application/vnd.jupyter.widget-view+json": {
              "version_major": 2,
              "version_minor": 0,
              "model_id": "2d8bab8a62014dc58f984d5c5bf3d96d"
            }
          },
          "metadata": {}
        }
      ]
    },
    {
      "cell_type": "code",
      "source": [
        "bart_base_scores_df = generate_bart_scores(bart_tokenizer, bart_model, df, do_sample = False, num_beams = 4, top_k = 75, num_beam_groups = 2)"
      ],
      "metadata": {
        "id": "V489WuZgNn2E"
      },
      "id": "V489WuZgNn2E",
      "execution_count": null,
      "outputs": []
    },
    {
      "cell_type": "code",
      "source": [
        "bart_base_scores_df.to_csv('/content/drive/MyDrive/W266FinalProject/test_candidates/bart_all_categories_base.csv')"
      ],
      "metadata": {
        "id": "CMybOUSJHFIF"
      },
      "id": "CMybOUSJHFIF",
      "execution_count": null,
      "outputs": []
    },
    {
      "cell_type": "markdown",
      "source": [
        "Technology category"
      ],
      "metadata": {
        "id": "WfBcUMuTHIJ2"
      },
      "id": "WfBcUMuTHIJ2"
    },
    {
      "cell_type": "code",
      "source": [
        "bart_base_tech_scores_df = generate_bart_scores(bart_tokenizer, bart_model, df_tech, do_sample = False, num_beams = 4, top_k = 75, num_beam_groups = 2)"
      ],
      "metadata": {
        "id": "Ni9TFMu7HH0n"
      },
      "id": "Ni9TFMu7HH0n",
      "execution_count": null,
      "outputs": []
    },
    {
      "cell_type": "code",
      "source": [
        "bart_base_tech_scores_df.to_csv('/content/drive/MyDrive/W266FinalProject/test_candidates/bart_tech_base.csv')"
      ],
      "metadata": {
        "id": "3ESeNCVLHHms"
      },
      "id": "3ESeNCVLHHms",
      "execution_count": null,
      "outputs": []
    },
    {
      "cell_type": "markdown",
      "source": [
        "### Finetuned"
      ],
      "metadata": {
        "id": "0O73CwomHA94"
      },
      "id": "0O73CwomHA94"
    },
    {
      "cell_type": "code",
      "source": [
        "bart_finetuned_summarizer = pipeline(\"summarization\", model=\"arisanguyen/finetuned-BART-all-categories\", revision = 'model_2')"
      ],
      "metadata": {
        "id": "LKWXqjCxDnJh"
      },
      "id": "LKWXqjCxDnJh",
      "execution_count": null,
      "outputs": []
    },
    {
      "cell_type": "code",
      "source": [
        "bart_scores_df = generate_scores(bart_finetuned_summarizer, df, do_sample = True, num_beams = 4, top_k = 75, num_beam_groups = 2)"
      ],
      "metadata": {
        "id": "--QLi27QFqJq"
      },
      "id": "--QLi27QFqJq",
      "execution_count": null,
      "outputs": []
    },
    {
      "cell_type": "code",
      "source": [
        "bart_scores_df.to_csv('/content/drive/MyDrive/W266FinalProject/test_candidates/bart_all_categories_finetuned.csv')"
      ],
      "metadata": {
        "id": "SWfHvX63FumQ"
      },
      "id": "SWfHvX63FumQ",
      "execution_count": null,
      "outputs": []
    },
    {
      "cell_type": "markdown",
      "source": [
        "Technology category"
      ],
      "metadata": {
        "id": "1cloH4QrFnc_"
      },
      "id": "1cloH4QrFnc_"
    },
    {
      "cell_type": "code",
      "source": [
        "bart_tech_scores_df = generate_scores(bart_finetuned_summarizer, df_tech, do_sample = True, num_beams = 4, top_k = 75, num_beam_groups = 2)"
      ],
      "metadata": {
        "id": "rw-4ivNqFguT"
      },
      "id": "rw-4ivNqFguT",
      "execution_count": null,
      "outputs": []
    },
    {
      "cell_type": "code",
      "source": [
        "bart_tech_scores_df.to_csv('/content/drive/MyDrive/W266FinalProject/test_candidates/bart_tech_finetuned.csv')"
      ],
      "metadata": {
        "id": "PgHLrZJAFyxZ"
      },
      "id": "PgHLrZJAFyxZ",
      "execution_count": null,
      "outputs": []
    },
    {
      "cell_type": "markdown",
      "source": [
        "# BERT SCORES"
      ],
      "metadata": {
        "id": "TNoYtx2hDjPb"
      },
      "id": "TNoYtx2hDjPb"
    },
    {
      "cell_type": "code",
      "source": [
        "from summarizer import Summarizer\n",
        "bert_model = Summarizer('bert-base-uncased')"
      ],
      "metadata": {
        "id": "Hr4aTVKcDkXb"
      },
      "id": "Hr4aTVKcDkXb",
      "execution_count": null,
      "outputs": []
    },
    {
      "cell_type": "code",
      "source": [
        "bert_scores_df = generate_scores(bert_model, df, do_sample = False, num_beams = 4, top_k = 75, num_beam_groups = 2)"
      ],
      "metadata": {
        "id": "Xtf2hZNKGm2E"
      },
      "id": "Xtf2hZNKGm2E",
      "execution_count": null,
      "outputs": []
    },
    {
      "cell_type": "code",
      "source": [
        "bert_scores_df.to_csv('/content/drive/MyDrive/W266FinalProject/test_candidates/bert_all_categories.csv')"
      ],
      "metadata": {
        "id": "MtSrFP6sGpVc"
      },
      "id": "MtSrFP6sGpVc",
      "execution_count": null,
      "outputs": []
    },
    {
      "cell_type": "markdown",
      "source": [
        "Technology category"
      ],
      "metadata": {
        "id": "ERBe6Q1iGpq4"
      },
      "id": "ERBe6Q1iGpq4"
    },
    {
      "cell_type": "code",
      "source": [
        "bert_tech_scores_df = generate_scores(bert_model, df_tech, do_sample = False, num_beams = 4, top_k = 75, num_beam_groups = 2)"
      ],
      "metadata": {
        "id": "5MCR_HXhGtRv"
      },
      "id": "5MCR_HXhGtRv",
      "execution_count": null,
      "outputs": []
    },
    {
      "cell_type": "code",
      "source": [
        "bert_tech_scores_df.to_csv('/content/drive/MyDrive/W266FinalProject/test_candidates/bert_tech.csv')"
      ],
      "metadata": {
        "id": "QaEYLxLLNgSo"
      },
      "id": "QaEYLxLLNgSo",
      "execution_count": null,
      "outputs": []
    }
  ],
  "metadata": {
    "kernelspec": {
      "display_name": "Python 3 (ipykernel)",
      "language": "python",
      "name": "python3"
    },
    "language_info": {
      "codemirror_mode": {
        "name": "ipython",
        "version": 3
      },
      "file_extension": ".py",
      "mimetype": "text/x-python",
      "name": "python",
      "nbconvert_exporter": "python",
      "pygments_lexer": "ipython3",
      "version": "3.8.10"
    },
    "colab": {
      "provenance": []
    },
    "widgets": {
      "application/vnd.jupyter.widget-state+json": {
        "af3c983eed224075b1a3a42585f91947": {
          "model_module": "@jupyter-widgets/controls",
          "model_name": "HBoxModel",
          "model_module_version": "1.5.0",
          "state": {
            "_dom_classes": [],
            "_model_module": "@jupyter-widgets/controls",
            "_model_module_version": "1.5.0",
            "_model_name": "HBoxModel",
            "_view_count": null,
            "_view_module": "@jupyter-widgets/controls",
            "_view_module_version": "1.5.0",
            "_view_name": "HBoxView",
            "box_style": "",
            "children": [
              "IPY_MODEL_91254e18f939495295441718154836fb",
              "IPY_MODEL_d89240a4be2243b3be5a64d57b8c160a",
              "IPY_MODEL_bec4b57ecb1a44b0a3f25f7084c62cc0"
            ],
            "layout": "IPY_MODEL_85ce31a903e144aaa9a951569504496d"
          }
        },
        "91254e18f939495295441718154836fb": {
          "model_module": "@jupyter-widgets/controls",
          "model_name": "HTMLModel",
          "model_module_version": "1.5.0",
          "state": {
            "_dom_classes": [],
            "_model_module": "@jupyter-widgets/controls",
            "_model_module_version": "1.5.0",
            "_model_name": "HTMLModel",
            "_view_count": null,
            "_view_module": "@jupyter-widgets/controls",
            "_view_module_version": "1.5.0",
            "_view_name": "HTMLView",
            "description": "",
            "description_tooltip": null,
            "layout": "IPY_MODEL_3002b86790bf4b198d0fca27f88b6b5b",
            "placeholder": "​",
            "style": "IPY_MODEL_54d1534a313c4f18bbb9d9be452e3e14",
            "value": "Downloading builder script: 100%"
          }
        },
        "d89240a4be2243b3be5a64d57b8c160a": {
          "model_module": "@jupyter-widgets/controls",
          "model_name": "FloatProgressModel",
          "model_module_version": "1.5.0",
          "state": {
            "_dom_classes": [],
            "_model_module": "@jupyter-widgets/controls",
            "_model_module_version": "1.5.0",
            "_model_name": "FloatProgressModel",
            "_view_count": null,
            "_view_module": "@jupyter-widgets/controls",
            "_view_module_version": "1.5.0",
            "_view_name": "ProgressView",
            "bar_style": "success",
            "description": "",
            "description_tooltip": null,
            "layout": "IPY_MODEL_5bce665e2c0b4cad89382ba574100dc3",
            "max": 6270,
            "min": 0,
            "orientation": "horizontal",
            "style": "IPY_MODEL_4729c1d6f91340e2902f2d58969b219d",
            "value": 6270
          }
        },
        "bec4b57ecb1a44b0a3f25f7084c62cc0": {
          "model_module": "@jupyter-widgets/controls",
          "model_name": "HTMLModel",
          "model_module_version": "1.5.0",
          "state": {
            "_dom_classes": [],
            "_model_module": "@jupyter-widgets/controls",
            "_model_module_version": "1.5.0",
            "_model_name": "HTMLModel",
            "_view_count": null,
            "_view_module": "@jupyter-widgets/controls",
            "_view_module_version": "1.5.0",
            "_view_name": "HTMLView",
            "description": "",
            "description_tooltip": null,
            "layout": "IPY_MODEL_8b77039615924b2bb0227971e90a1da3",
            "placeholder": "​",
            "style": "IPY_MODEL_c2d2812b8f9a46fab445ac6dc893f9ad",
            "value": " 6.27k/6.27k [00:00&lt;00:00, 89.7kB/s]"
          }
        },
        "85ce31a903e144aaa9a951569504496d": {
          "model_module": "@jupyter-widgets/base",
          "model_name": "LayoutModel",
          "model_module_version": "1.2.0",
          "state": {
            "_model_module": "@jupyter-widgets/base",
            "_model_module_version": "1.2.0",
            "_model_name": "LayoutModel",
            "_view_count": null,
            "_view_module": "@jupyter-widgets/base",
            "_view_module_version": "1.2.0",
            "_view_name": "LayoutView",
            "align_content": null,
            "align_items": null,
            "align_self": null,
            "border": null,
            "bottom": null,
            "display": null,
            "flex": null,
            "flex_flow": null,
            "grid_area": null,
            "grid_auto_columns": null,
            "grid_auto_flow": null,
            "grid_auto_rows": null,
            "grid_column": null,
            "grid_gap": null,
            "grid_row": null,
            "grid_template_areas": null,
            "grid_template_columns": null,
            "grid_template_rows": null,
            "height": null,
            "justify_content": null,
            "justify_items": null,
            "left": null,
            "margin": null,
            "max_height": null,
            "max_width": null,
            "min_height": null,
            "min_width": null,
            "object_fit": null,
            "object_position": null,
            "order": null,
            "overflow": null,
            "overflow_x": null,
            "overflow_y": null,
            "padding": null,
            "right": null,
            "top": null,
            "visibility": null,
            "width": null
          }
        },
        "3002b86790bf4b198d0fca27f88b6b5b": {
          "model_module": "@jupyter-widgets/base",
          "model_name": "LayoutModel",
          "model_module_version": "1.2.0",
          "state": {
            "_model_module": "@jupyter-widgets/base",
            "_model_module_version": "1.2.0",
            "_model_name": "LayoutModel",
            "_view_count": null,
            "_view_module": "@jupyter-widgets/base",
            "_view_module_version": "1.2.0",
            "_view_name": "LayoutView",
            "align_content": null,
            "align_items": null,
            "align_self": null,
            "border": null,
            "bottom": null,
            "display": null,
            "flex": null,
            "flex_flow": null,
            "grid_area": null,
            "grid_auto_columns": null,
            "grid_auto_flow": null,
            "grid_auto_rows": null,
            "grid_column": null,
            "grid_gap": null,
            "grid_row": null,
            "grid_template_areas": null,
            "grid_template_columns": null,
            "grid_template_rows": null,
            "height": null,
            "justify_content": null,
            "justify_items": null,
            "left": null,
            "margin": null,
            "max_height": null,
            "max_width": null,
            "min_height": null,
            "min_width": null,
            "object_fit": null,
            "object_position": null,
            "order": null,
            "overflow": null,
            "overflow_x": null,
            "overflow_y": null,
            "padding": null,
            "right": null,
            "top": null,
            "visibility": null,
            "width": null
          }
        },
        "54d1534a313c4f18bbb9d9be452e3e14": {
          "model_module": "@jupyter-widgets/controls",
          "model_name": "DescriptionStyleModel",
          "model_module_version": "1.5.0",
          "state": {
            "_model_module": "@jupyter-widgets/controls",
            "_model_module_version": "1.5.0",
            "_model_name": "DescriptionStyleModel",
            "_view_count": null,
            "_view_module": "@jupyter-widgets/base",
            "_view_module_version": "1.2.0",
            "_view_name": "StyleView",
            "description_width": ""
          }
        },
        "5bce665e2c0b4cad89382ba574100dc3": {
          "model_module": "@jupyter-widgets/base",
          "model_name": "LayoutModel",
          "model_module_version": "1.2.0",
          "state": {
            "_model_module": "@jupyter-widgets/base",
            "_model_module_version": "1.2.0",
            "_model_name": "LayoutModel",
            "_view_count": null,
            "_view_module": "@jupyter-widgets/base",
            "_view_module_version": "1.2.0",
            "_view_name": "LayoutView",
            "align_content": null,
            "align_items": null,
            "align_self": null,
            "border": null,
            "bottom": null,
            "display": null,
            "flex": null,
            "flex_flow": null,
            "grid_area": null,
            "grid_auto_columns": null,
            "grid_auto_flow": null,
            "grid_auto_rows": null,
            "grid_column": null,
            "grid_gap": null,
            "grid_row": null,
            "grid_template_areas": null,
            "grid_template_columns": null,
            "grid_template_rows": null,
            "height": null,
            "justify_content": null,
            "justify_items": null,
            "left": null,
            "margin": null,
            "max_height": null,
            "max_width": null,
            "min_height": null,
            "min_width": null,
            "object_fit": null,
            "object_position": null,
            "order": null,
            "overflow": null,
            "overflow_x": null,
            "overflow_y": null,
            "padding": null,
            "right": null,
            "top": null,
            "visibility": null,
            "width": null
          }
        },
        "4729c1d6f91340e2902f2d58969b219d": {
          "model_module": "@jupyter-widgets/controls",
          "model_name": "ProgressStyleModel",
          "model_module_version": "1.5.0",
          "state": {
            "_model_module": "@jupyter-widgets/controls",
            "_model_module_version": "1.5.0",
            "_model_name": "ProgressStyleModel",
            "_view_count": null,
            "_view_module": "@jupyter-widgets/base",
            "_view_module_version": "1.2.0",
            "_view_name": "StyleView",
            "bar_color": null,
            "description_width": ""
          }
        },
        "8b77039615924b2bb0227971e90a1da3": {
          "model_module": "@jupyter-widgets/base",
          "model_name": "LayoutModel",
          "model_module_version": "1.2.0",
          "state": {
            "_model_module": "@jupyter-widgets/base",
            "_model_module_version": "1.2.0",
            "_model_name": "LayoutModel",
            "_view_count": null,
            "_view_module": "@jupyter-widgets/base",
            "_view_module_version": "1.2.0",
            "_view_name": "LayoutView",
            "align_content": null,
            "align_items": null,
            "align_self": null,
            "border": null,
            "bottom": null,
            "display": null,
            "flex": null,
            "flex_flow": null,
            "grid_area": null,
            "grid_auto_columns": null,
            "grid_auto_flow": null,
            "grid_auto_rows": null,
            "grid_column": null,
            "grid_gap": null,
            "grid_row": null,
            "grid_template_areas": null,
            "grid_template_columns": null,
            "grid_template_rows": null,
            "height": null,
            "justify_content": null,
            "justify_items": null,
            "left": null,
            "margin": null,
            "max_height": null,
            "max_width": null,
            "min_height": null,
            "min_width": null,
            "object_fit": null,
            "object_position": null,
            "order": null,
            "overflow": null,
            "overflow_x": null,
            "overflow_y": null,
            "padding": null,
            "right": null,
            "top": null,
            "visibility": null,
            "width": null
          }
        },
        "c2d2812b8f9a46fab445ac6dc893f9ad": {
          "model_module": "@jupyter-widgets/controls",
          "model_name": "DescriptionStyleModel",
          "model_module_version": "1.5.0",
          "state": {
            "_model_module": "@jupyter-widgets/controls",
            "_model_module_version": "1.5.0",
            "_model_name": "DescriptionStyleModel",
            "_view_count": null,
            "_view_module": "@jupyter-widgets/base",
            "_view_module_version": "1.2.0",
            "_view_name": "StyleView",
            "description_width": ""
          }
        },
        "ee2bf0445b344cc18ddd407e71db373d": {
          "model_module": "@jupyter-widgets/controls",
          "model_name": "HBoxModel",
          "model_module_version": "1.5.0",
          "state": {
            "_dom_classes": [],
            "_model_module": "@jupyter-widgets/controls",
            "_model_module_version": "1.5.0",
            "_model_name": "HBoxModel",
            "_view_count": null,
            "_view_module": "@jupyter-widgets/controls",
            "_view_module_version": "1.5.0",
            "_view_name": "HBoxView",
            "box_style": "",
            "children": [
              "IPY_MODEL_5b3d25c146b646fba8bba569df4b2a91",
              "IPY_MODEL_9bd004dbc2f04e0e9451fc3e1397bd38",
              "IPY_MODEL_fae69c59478e435989c40cba0e850da6"
            ],
            "layout": "IPY_MODEL_6d31983d4f08454cabd100c1e7d1ba2c"
          }
        },
        "5b3d25c146b646fba8bba569df4b2a91": {
          "model_module": "@jupyter-widgets/controls",
          "model_name": "HTMLModel",
          "model_module_version": "1.5.0",
          "state": {
            "_dom_classes": [],
            "_model_module": "@jupyter-widgets/controls",
            "_model_module_version": "1.5.0",
            "_model_name": "HTMLModel",
            "_view_count": null,
            "_view_module": "@jupyter-widgets/controls",
            "_view_module_version": "1.5.0",
            "_view_name": "HTMLView",
            "description": "",
            "description_tooltip": null,
            "layout": "IPY_MODEL_35434eba2ea243aab9c26cca7d173a35",
            "placeholder": "​",
            "style": "IPY_MODEL_3c39b49bb3874aa08c04073ecb8f7776",
            "value": "Downloading builder script: 100%"
          }
        },
        "9bd004dbc2f04e0e9451fc3e1397bd38": {
          "model_module": "@jupyter-widgets/controls",
          "model_name": "FloatProgressModel",
          "model_module_version": "1.5.0",
          "state": {
            "_dom_classes": [],
            "_model_module": "@jupyter-widgets/controls",
            "_model_module_version": "1.5.0",
            "_model_name": "FloatProgressModel",
            "_view_count": null,
            "_view_module": "@jupyter-widgets/controls",
            "_view_module_version": "1.5.0",
            "_view_name": "ProgressView",
            "bar_style": "success",
            "description": "",
            "description_tooltip": null,
            "layout": "IPY_MODEL_85a7df61cb3b4e4ab9dfd72a47fb14c2",
            "max": 9005,
            "min": 0,
            "orientation": "horizontal",
            "style": "IPY_MODEL_3d096e6498274922882012c29f39734d",
            "value": 9005
          }
        },
        "fae69c59478e435989c40cba0e850da6": {
          "model_module": "@jupyter-widgets/controls",
          "model_name": "HTMLModel",
          "model_module_version": "1.5.0",
          "state": {
            "_dom_classes": [],
            "_model_module": "@jupyter-widgets/controls",
            "_model_module_version": "1.5.0",
            "_model_name": "HTMLModel",
            "_view_count": null,
            "_view_module": "@jupyter-widgets/controls",
            "_view_module_version": "1.5.0",
            "_view_name": "HTMLView",
            "description": "",
            "description_tooltip": null,
            "layout": "IPY_MODEL_a282908f5a72423aaec81afaf069fe8c",
            "placeholder": "​",
            "style": "IPY_MODEL_c090d9e38e2c43f59b1991be72c02580",
            "value": " 9.01k/9.01k [00:00&lt;00:00, 437kB/s]"
          }
        },
        "6d31983d4f08454cabd100c1e7d1ba2c": {
          "model_module": "@jupyter-widgets/base",
          "model_name": "LayoutModel",
          "model_module_version": "1.2.0",
          "state": {
            "_model_module": "@jupyter-widgets/base",
            "_model_module_version": "1.2.0",
            "_model_name": "LayoutModel",
            "_view_count": null,
            "_view_module": "@jupyter-widgets/base",
            "_view_module_version": "1.2.0",
            "_view_name": "LayoutView",
            "align_content": null,
            "align_items": null,
            "align_self": null,
            "border": null,
            "bottom": null,
            "display": null,
            "flex": null,
            "flex_flow": null,
            "grid_area": null,
            "grid_auto_columns": null,
            "grid_auto_flow": null,
            "grid_auto_rows": null,
            "grid_column": null,
            "grid_gap": null,
            "grid_row": null,
            "grid_template_areas": null,
            "grid_template_columns": null,
            "grid_template_rows": null,
            "height": null,
            "justify_content": null,
            "justify_items": null,
            "left": null,
            "margin": null,
            "max_height": null,
            "max_width": null,
            "min_height": null,
            "min_width": null,
            "object_fit": null,
            "object_position": null,
            "order": null,
            "overflow": null,
            "overflow_x": null,
            "overflow_y": null,
            "padding": null,
            "right": null,
            "top": null,
            "visibility": null,
            "width": null
          }
        },
        "35434eba2ea243aab9c26cca7d173a35": {
          "model_module": "@jupyter-widgets/base",
          "model_name": "LayoutModel",
          "model_module_version": "1.2.0",
          "state": {
            "_model_module": "@jupyter-widgets/base",
            "_model_module_version": "1.2.0",
            "_model_name": "LayoutModel",
            "_view_count": null,
            "_view_module": "@jupyter-widgets/base",
            "_view_module_version": "1.2.0",
            "_view_name": "LayoutView",
            "align_content": null,
            "align_items": null,
            "align_self": null,
            "border": null,
            "bottom": null,
            "display": null,
            "flex": null,
            "flex_flow": null,
            "grid_area": null,
            "grid_auto_columns": null,
            "grid_auto_flow": null,
            "grid_auto_rows": null,
            "grid_column": null,
            "grid_gap": null,
            "grid_row": null,
            "grid_template_areas": null,
            "grid_template_columns": null,
            "grid_template_rows": null,
            "height": null,
            "justify_content": null,
            "justify_items": null,
            "left": null,
            "margin": null,
            "max_height": null,
            "max_width": null,
            "min_height": null,
            "min_width": null,
            "object_fit": null,
            "object_position": null,
            "order": null,
            "overflow": null,
            "overflow_x": null,
            "overflow_y": null,
            "padding": null,
            "right": null,
            "top": null,
            "visibility": null,
            "width": null
          }
        },
        "3c39b49bb3874aa08c04073ecb8f7776": {
          "model_module": "@jupyter-widgets/controls",
          "model_name": "DescriptionStyleModel",
          "model_module_version": "1.5.0",
          "state": {
            "_model_module": "@jupyter-widgets/controls",
            "_model_module_version": "1.5.0",
            "_model_name": "DescriptionStyleModel",
            "_view_count": null,
            "_view_module": "@jupyter-widgets/base",
            "_view_module_version": "1.2.0",
            "_view_name": "StyleView",
            "description_width": ""
          }
        },
        "85a7df61cb3b4e4ab9dfd72a47fb14c2": {
          "model_module": "@jupyter-widgets/base",
          "model_name": "LayoutModel",
          "model_module_version": "1.2.0",
          "state": {
            "_model_module": "@jupyter-widgets/base",
            "_model_module_version": "1.2.0",
            "_model_name": "LayoutModel",
            "_view_count": null,
            "_view_module": "@jupyter-widgets/base",
            "_view_module_version": "1.2.0",
            "_view_name": "LayoutView",
            "align_content": null,
            "align_items": null,
            "align_self": null,
            "border": null,
            "bottom": null,
            "display": null,
            "flex": null,
            "flex_flow": null,
            "grid_area": null,
            "grid_auto_columns": null,
            "grid_auto_flow": null,
            "grid_auto_rows": null,
            "grid_column": null,
            "grid_gap": null,
            "grid_row": null,
            "grid_template_areas": null,
            "grid_template_columns": null,
            "grid_template_rows": null,
            "height": null,
            "justify_content": null,
            "justify_items": null,
            "left": null,
            "margin": null,
            "max_height": null,
            "max_width": null,
            "min_height": null,
            "min_width": null,
            "object_fit": null,
            "object_position": null,
            "order": null,
            "overflow": null,
            "overflow_x": null,
            "overflow_y": null,
            "padding": null,
            "right": null,
            "top": null,
            "visibility": null,
            "width": null
          }
        },
        "3d096e6498274922882012c29f39734d": {
          "model_module": "@jupyter-widgets/controls",
          "model_name": "ProgressStyleModel",
          "model_module_version": "1.5.0",
          "state": {
            "_model_module": "@jupyter-widgets/controls",
            "_model_module_version": "1.5.0",
            "_model_name": "ProgressStyleModel",
            "_view_count": null,
            "_view_module": "@jupyter-widgets/base",
            "_view_module_version": "1.2.0",
            "_view_name": "StyleView",
            "bar_color": null,
            "description_width": ""
          }
        },
        "a282908f5a72423aaec81afaf069fe8c": {
          "model_module": "@jupyter-widgets/base",
          "model_name": "LayoutModel",
          "model_module_version": "1.2.0",
          "state": {
            "_model_module": "@jupyter-widgets/base",
            "_model_module_version": "1.2.0",
            "_model_name": "LayoutModel",
            "_view_count": null,
            "_view_module": "@jupyter-widgets/base",
            "_view_module_version": "1.2.0",
            "_view_name": "LayoutView",
            "align_content": null,
            "align_items": null,
            "align_self": null,
            "border": null,
            "bottom": null,
            "display": null,
            "flex": null,
            "flex_flow": null,
            "grid_area": null,
            "grid_auto_columns": null,
            "grid_auto_flow": null,
            "grid_auto_rows": null,
            "grid_column": null,
            "grid_gap": null,
            "grid_row": null,
            "grid_template_areas": null,
            "grid_template_columns": null,
            "grid_template_rows": null,
            "height": null,
            "justify_content": null,
            "justify_items": null,
            "left": null,
            "margin": null,
            "max_height": null,
            "max_width": null,
            "min_height": null,
            "min_width": null,
            "object_fit": null,
            "object_position": null,
            "order": null,
            "overflow": null,
            "overflow_x": null,
            "overflow_y": null,
            "padding": null,
            "right": null,
            "top": null,
            "visibility": null,
            "width": null
          }
        },
        "c090d9e38e2c43f59b1991be72c02580": {
          "model_module": "@jupyter-widgets/controls",
          "model_name": "DescriptionStyleModel",
          "model_module_version": "1.5.0",
          "state": {
            "_model_module": "@jupyter-widgets/controls",
            "_model_module_version": "1.5.0",
            "_model_name": "DescriptionStyleModel",
            "_view_count": null,
            "_view_module": "@jupyter-widgets/base",
            "_view_module_version": "1.2.0",
            "_view_name": "StyleView",
            "description_width": ""
          }
        },
        "2d8bab8a62014dc58f984d5c5bf3d96d": {
          "model_module": "@jupyter-widgets/controls",
          "model_name": "HBoxModel",
          "model_module_version": "1.5.0",
          "state": {
            "_dom_classes": [],
            "_model_module": "@jupyter-widgets/controls",
            "_model_module_version": "1.5.0",
            "_model_name": "HBoxModel",
            "_view_count": null,
            "_view_module": "@jupyter-widgets/controls",
            "_view_module_version": "1.5.0",
            "_view_name": "HBoxView",
            "box_style": "",
            "children": [
              "IPY_MODEL_63825abf575f4ffc956fcb64fa0bbb2d",
              "IPY_MODEL_9bc6a757b36c41a683d5c45fd19c17ec",
              "IPY_MODEL_686b975c7d524d41ae8be3b704b01224"
            ],
            "layout": "IPY_MODEL_2081055fbb484e4b92a86b8b6c4fc107"
          }
        },
        "63825abf575f4ffc956fcb64fa0bbb2d": {
          "model_module": "@jupyter-widgets/controls",
          "model_name": "HTMLModel",
          "model_module_version": "1.5.0",
          "state": {
            "_dom_classes": [],
            "_model_module": "@jupyter-widgets/controls",
            "_model_module_version": "1.5.0",
            "_model_name": "HTMLModel",
            "_view_count": null,
            "_view_module": "@jupyter-widgets/controls",
            "_view_module_version": "1.5.0",
            "_view_name": "HTMLView",
            "description": "",
            "description_tooltip": null,
            "layout": "IPY_MODEL_bd755ece546c45e4ade062c2f06887f1",
            "placeholder": "​",
            "style": "IPY_MODEL_3479ad5e2c12468887b23d319ce70db3",
            "value": "Downloading (…)/main/tokenizer.json: 100%"
          }
        },
        "9bc6a757b36c41a683d5c45fd19c17ec": {
          "model_module": "@jupyter-widgets/controls",
          "model_name": "FloatProgressModel",
          "model_module_version": "1.5.0",
          "state": {
            "_dom_classes": [],
            "_model_module": "@jupyter-widgets/controls",
            "_model_module_version": "1.5.0",
            "_model_name": "FloatProgressModel",
            "_view_count": null,
            "_view_module": "@jupyter-widgets/controls",
            "_view_module_version": "1.5.0",
            "_view_name": "ProgressView",
            "bar_style": "success",
            "description": "",
            "description_tooltip": null,
            "layout": "IPY_MODEL_6e90e0f7cd104a0280f8176a6f114883",
            "max": 1355863,
            "min": 0,
            "orientation": "horizontal",
            "style": "IPY_MODEL_de80097fb6fa4f1ea49f83e7f4a4776a",
            "value": 1355863
          }
        },
        "686b975c7d524d41ae8be3b704b01224": {
          "model_module": "@jupyter-widgets/controls",
          "model_name": "HTMLModel",
          "model_module_version": "1.5.0",
          "state": {
            "_dom_classes": [],
            "_model_module": "@jupyter-widgets/controls",
            "_model_module_version": "1.5.0",
            "_model_name": "HTMLModel",
            "_view_count": null,
            "_view_module": "@jupyter-widgets/controls",
            "_view_module_version": "1.5.0",
            "_view_name": "HTMLView",
            "description": "",
            "description_tooltip": null,
            "layout": "IPY_MODEL_2e211f35e2444f50b4977126d67502ae",
            "placeholder": "​",
            "style": "IPY_MODEL_05af70a114ef45c4ba70a3bc2071c2db",
            "value": " 1.36M/1.36M [00:00&lt;00:00, 24.5MB/s]"
          }
        },
        "2081055fbb484e4b92a86b8b6c4fc107": {
          "model_module": "@jupyter-widgets/base",
          "model_name": "LayoutModel",
          "model_module_version": "1.2.0",
          "state": {
            "_model_module": "@jupyter-widgets/base",
            "_model_module_version": "1.2.0",
            "_model_name": "LayoutModel",
            "_view_count": null,
            "_view_module": "@jupyter-widgets/base",
            "_view_module_version": "1.2.0",
            "_view_name": "LayoutView",
            "align_content": null,
            "align_items": null,
            "align_self": null,
            "border": null,
            "bottom": null,
            "display": null,
            "flex": null,
            "flex_flow": null,
            "grid_area": null,
            "grid_auto_columns": null,
            "grid_auto_flow": null,
            "grid_auto_rows": null,
            "grid_column": null,
            "grid_gap": null,
            "grid_row": null,
            "grid_template_areas": null,
            "grid_template_columns": null,
            "grid_template_rows": null,
            "height": null,
            "justify_content": null,
            "justify_items": null,
            "left": null,
            "margin": null,
            "max_height": null,
            "max_width": null,
            "min_height": null,
            "min_width": null,
            "object_fit": null,
            "object_position": null,
            "order": null,
            "overflow": null,
            "overflow_x": null,
            "overflow_y": null,
            "padding": null,
            "right": null,
            "top": null,
            "visibility": null,
            "width": null
          }
        },
        "bd755ece546c45e4ade062c2f06887f1": {
          "model_module": "@jupyter-widgets/base",
          "model_name": "LayoutModel",
          "model_module_version": "1.2.0",
          "state": {
            "_model_module": "@jupyter-widgets/base",
            "_model_module_version": "1.2.0",
            "_model_name": "LayoutModel",
            "_view_count": null,
            "_view_module": "@jupyter-widgets/base",
            "_view_module_version": "1.2.0",
            "_view_name": "LayoutView",
            "align_content": null,
            "align_items": null,
            "align_self": null,
            "border": null,
            "bottom": null,
            "display": null,
            "flex": null,
            "flex_flow": null,
            "grid_area": null,
            "grid_auto_columns": null,
            "grid_auto_flow": null,
            "grid_auto_rows": null,
            "grid_column": null,
            "grid_gap": null,
            "grid_row": null,
            "grid_template_areas": null,
            "grid_template_columns": null,
            "grid_template_rows": null,
            "height": null,
            "justify_content": null,
            "justify_items": null,
            "left": null,
            "margin": null,
            "max_height": null,
            "max_width": null,
            "min_height": null,
            "min_width": null,
            "object_fit": null,
            "object_position": null,
            "order": null,
            "overflow": null,
            "overflow_x": null,
            "overflow_y": null,
            "padding": null,
            "right": null,
            "top": null,
            "visibility": null,
            "width": null
          }
        },
        "3479ad5e2c12468887b23d319ce70db3": {
          "model_module": "@jupyter-widgets/controls",
          "model_name": "DescriptionStyleModel",
          "model_module_version": "1.5.0",
          "state": {
            "_model_module": "@jupyter-widgets/controls",
            "_model_module_version": "1.5.0",
            "_model_name": "DescriptionStyleModel",
            "_view_count": null,
            "_view_module": "@jupyter-widgets/base",
            "_view_module_version": "1.2.0",
            "_view_name": "StyleView",
            "description_width": ""
          }
        },
        "6e90e0f7cd104a0280f8176a6f114883": {
          "model_module": "@jupyter-widgets/base",
          "model_name": "LayoutModel",
          "model_module_version": "1.2.0",
          "state": {
            "_model_module": "@jupyter-widgets/base",
            "_model_module_version": "1.2.0",
            "_model_name": "LayoutModel",
            "_view_count": null,
            "_view_module": "@jupyter-widgets/base",
            "_view_module_version": "1.2.0",
            "_view_name": "LayoutView",
            "align_content": null,
            "align_items": null,
            "align_self": null,
            "border": null,
            "bottom": null,
            "display": null,
            "flex": null,
            "flex_flow": null,
            "grid_area": null,
            "grid_auto_columns": null,
            "grid_auto_flow": null,
            "grid_auto_rows": null,
            "grid_column": null,
            "grid_gap": null,
            "grid_row": null,
            "grid_template_areas": null,
            "grid_template_columns": null,
            "grid_template_rows": null,
            "height": null,
            "justify_content": null,
            "justify_items": null,
            "left": null,
            "margin": null,
            "max_height": null,
            "max_width": null,
            "min_height": null,
            "min_width": null,
            "object_fit": null,
            "object_position": null,
            "order": null,
            "overflow": null,
            "overflow_x": null,
            "overflow_y": null,
            "padding": null,
            "right": null,
            "top": null,
            "visibility": null,
            "width": null
          }
        },
        "de80097fb6fa4f1ea49f83e7f4a4776a": {
          "model_module": "@jupyter-widgets/controls",
          "model_name": "ProgressStyleModel",
          "model_module_version": "1.5.0",
          "state": {
            "_model_module": "@jupyter-widgets/controls",
            "_model_module_version": "1.5.0",
            "_model_name": "ProgressStyleModel",
            "_view_count": null,
            "_view_module": "@jupyter-widgets/base",
            "_view_module_version": "1.2.0",
            "_view_name": "StyleView",
            "bar_color": null,
            "description_width": ""
          }
        },
        "2e211f35e2444f50b4977126d67502ae": {
          "model_module": "@jupyter-widgets/base",
          "model_name": "LayoutModel",
          "model_module_version": "1.2.0",
          "state": {
            "_model_module": "@jupyter-widgets/base",
            "_model_module_version": "1.2.0",
            "_model_name": "LayoutModel",
            "_view_count": null,
            "_view_module": "@jupyter-widgets/base",
            "_view_module_version": "1.2.0",
            "_view_name": "LayoutView",
            "align_content": null,
            "align_items": null,
            "align_self": null,
            "border": null,
            "bottom": null,
            "display": null,
            "flex": null,
            "flex_flow": null,
            "grid_area": null,
            "grid_auto_columns": null,
            "grid_auto_flow": null,
            "grid_auto_rows": null,
            "grid_column": null,
            "grid_gap": null,
            "grid_row": null,
            "grid_template_areas": null,
            "grid_template_columns": null,
            "grid_template_rows": null,
            "height": null,
            "justify_content": null,
            "justify_items": null,
            "left": null,
            "margin": null,
            "max_height": null,
            "max_width": null,
            "min_height": null,
            "min_width": null,
            "object_fit": null,
            "object_position": null,
            "order": null,
            "overflow": null,
            "overflow_x": null,
            "overflow_y": null,
            "padding": null,
            "right": null,
            "top": null,
            "visibility": null,
            "width": null
          }
        },
        "05af70a114ef45c4ba70a3bc2071c2db": {
          "model_module": "@jupyter-widgets/controls",
          "model_name": "DescriptionStyleModel",
          "model_module_version": "1.5.0",
          "state": {
            "_model_module": "@jupyter-widgets/controls",
            "_model_module_version": "1.5.0",
            "_model_name": "DescriptionStyleModel",
            "_view_count": null,
            "_view_module": "@jupyter-widgets/base",
            "_view_module_version": "1.2.0",
            "_view_name": "StyleView",
            "description_width": ""
          }
        }
      }
    }
  },
  "nbformat": 4,
  "nbformat_minor": 5
}