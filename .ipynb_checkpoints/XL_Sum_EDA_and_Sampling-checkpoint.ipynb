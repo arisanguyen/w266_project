{
 "cells": [
  {
   "cell_type": "markdown",
   "id": "0d870553",
   "metadata": {},
   "source": [
    "**Packages**"
   ]
  },
  {
   "cell_type": "code",
   "execution_count": 13,
   "id": "dacdaf3d",
   "metadata": {
    "tags": []
   },
   "outputs": [],
   "source": [
    "import numpy as np\n",
    "import pandas as pd\n",
    "import matplotlib.pyplot as plt \n",
    "\n",
    "from datasets import load_dataset\n",
    "import evaluate\n",
    "\n",
    "#let's make longer output readable without horizontal scrolling\n",
    "from pprint import pprint\n",
    "\n",
    "import warnings\n",
    "\n",
    "import re"
   ]
  },
  {
   "cell_type": "markdown",
   "id": "5f29e293",
   "metadata": {},
   "source": [
    "**Necessary Functions**"
   ]
  },
  {
   "cell_type": "code",
   "execution_count": 14,
   "id": "a175b266-af47-4945-9f38-f576765a6651",
   "metadata": {},
   "outputs": [],
   "source": [
    "import inspect\n",
    "\n",
    "def get_default_args(func):\n",
    "    signature = inspect.signature(func)\n",
    "    return {\n",
    "        k: v.default\n",
    "        for k, v in signature.parameters.items()\n",
    "        if v.default is not inspect.Parameter.empty\n",
    "    }"
   ]
  },
  {
   "cell_type": "code",
   "execution_count": 15,
   "id": "d3195096-a79e-42da-a1c4-becadc0f2022",
   "metadata": {},
   "outputs": [],
   "source": [
    "def data_organize(sample_index):\n",
    "\n",
    "    article = []\n",
    "    summary = []\n",
    "\n",
    "    for i in sample_index[\"index\"]:\n",
    "        summary.append(dataset[\"train\"][i]['summary'])\n",
    "        article.append(dataset[\"train\"][i]['text'])\n",
    "\n",
    "    return article, summary"
   ]
  },
  {
   "cell_type": "markdown",
   "id": "586a6d00",
   "metadata": {},
   "source": [
    "**Data**"
   ]
  },
  {
   "cell_type": "code",
   "execution_count": 16,
   "id": "ec6c665e",
   "metadata": {
    "tags": []
   },
   "outputs": [],
   "source": [
    "dataset = load_dataset(\"csebuetnlp/xlsum\", \"english\")"
   ]
  },
  {
   "cell_type": "code",
   "execution_count": 17,
   "id": "111f7985",
   "metadata": {},
   "outputs": [],
   "source": [
    "# EDA\n",
    "len(dataset['train'])"
   ]
  },
  {
   "cell_type": "code",
   "execution_count": 18,
   "id": "5f538fd8",
   "metadata": {},
   "outputs": [],
   "source": [
    "# EDA\n",
    "dataset['train'][1]"
   ]
  },
  {
   "cell_type": "markdown",
   "id": "d8bea455-0f13-4d81-b5f2-efb65561015b",
   "metadata": {},
   "source": [
    "**Sampling for Train, Val, and Test sets for all XL Sum**"
   ]
  },
  {
   "cell_type": "code",
   "execution_count": 19,
   "id": "889c2cd0-b3bc-467b-ba39-bfd8a0eefb0d",
   "metadata": {
    "tags": []
   },
   "outputs": [],
   "source": [
    "index = pd.DataFrame({\"index\": list(range(len(dataset['train'])))})\n",
    "sample_index = index.sample(n=2000, replace=False, random_state=1004)\n",
    "sample_index[:5]"
   ]
  },
  {
   "cell_type": "code",
   "execution_count": 20,
   "id": "6ae49ebd-a706-482c-af82-8b00dffa7af2",
   "metadata": {},
   "outputs": [],
   "source": [
    "article, summary = data_organize(sample_index)"
   ]
  },
  {
   "cell_type": "code",
   "execution_count": 42,
   "id": "60702a1a",
   "metadata": {},
   "outputs": [],
   "source": [
    "%pwd"
   ]
  },
  {
   "cell_type": "code",
   "execution_count": 21,
   "id": "4605cfc2-b9f3-4aa5-868b-ef2e62a18a4d",
   "metadata": {},
   "outputs": [],
   "source": [
    "d = {'text': article[:1000],  'summary': summary[:1000]}\n",
    "df = pd.DataFrame(data=d)\n",
    "df.to_csv('../Datasets/xl_sum_sample_train.csv', index = False)\n",
    "#df.head(5)"
   ]
  },
  {
   "cell_type": "code",
   "execution_count": 22,
   "id": "64a4a545-185d-4256-90f5-106597d8b71b",
   "metadata": {},
   "outputs": [],
   "source": [
    "d = {'text': article[1000:1100],  'summary': summary[1000:1100]}\n",
    "df = pd.DataFrame(data=d)\n",
    "df.to_csv('../w266_project/xl_sum_sample_val.csv', index = False)\n",
    "#df.head(5)"
   ]
  },
  {
   "cell_type": "code",
   "execution_count": 23,
   "id": "c097723b-1ac2-4110-80fe-65095eb3f1db",
   "metadata": {
    "tags": []
   },
   "outputs": [],
   "source": [
    "d = {'text': article[1100:1200],  'summary': summary[1100:1200]}\n",
    "df = pd.DataFrame(data=d)\n",
    "df.to_csv('../w266_project/xl_sum_sample_test.csv', index = False)\n",
    "#df.head(5)"
   ]
  },
  {
   "cell_type": "markdown",
   "id": "3b6b0d1a-139c-401d-bf7b-90c95b3a2a80",
   "metadata": {},
   "source": [
    "**EDA on Train**"
   ]
  },
  {
   "cell_type": "code",
   "execution_count": 24,
   "id": "6656d7bc",
   "metadata": {
    "tags": []
   },
   "outputs": [],
   "source": [
    "id = []\n",
    "url = []\n",
    "title = []\n",
    "article = []\n",
    "article_num_sentences = []\n",
    "article_num_characters = []\n",
    "article_num_words = []\n",
    "summary = []\n",
    "summary_num_sentences = []\n",
    "summary_num_characters = []\n",
    "summary_num_words = []\n",
    "\n",
    "for i in sample_index[\"index\"][0:1000]:\n",
    "    id.append(dataset[\"train\"][i]['id'])\n",
    "    url.append(dataset[\"train\"][i]['url'])\n",
    "    title.append(dataset[\"train\"][i]['title'])\n",
    "    summary.append(dataset[\"train\"][i]['summary'])\n",
    "    summary_num_sentences.append(len(dataset[\"train\"][i]['summary'].split(\".\")))\n",
    "    summary_num_words.append(len(dataset[\"train\"][i]['summary'].split(\" \")))\n",
    "    summary_num_characters.append(len(dataset[\"train\"][i]['summary']))\n",
    "    article.append(dataset[\"train\"][i]['text'])\n",
    "    article_num_sentences.append(len(dataset[\"train\"][i]['text'].split(\".\")))\n",
    "    article_num_characters.append(len(dataset[\"train\"][i]['text']))\n",
    "    article_num_words.append(len(dataset[\"train\"][i]['text'].split(\" \")))\n",
    "    "
   ]
  },
  {
   "cell_type": "code",
   "execution_count": 25,
   "id": "66def3a2",
   "metadata": {
    "tags": []
   },
   "outputs": [],
   "source": [
    "d = {'id': id, 'url': url, \"title\": title, 'article': article, \"article_num_sentences\": article_num_sentences, \"article_num_words\": article_num_words, \"article_num_characters\": article_num_characters, 'summary': summary,\"summary_num_sentences\": summary_num_sentences,\"summary_num_words\": summary_num_words, \"summary_num_characters\": summary_num_characters}\n",
    "df = pd.DataFrame(data=d)\n",
    "df.head(5)"
   ]
  },
  {
   "cell_type": "code",
   "execution_count": 26,
   "id": "dea44334",
   "metadata": {},
   "outputs": [],
   "source": [
    "print(\"min summary words\", min(df['summary_num_words']))\n",
    "print(\"max summary words\", max(df['summary_num_words']))\n",
    "print(\"mean summary sentences\", np.mean(df['summary_num_sentences']))"
   ]
  },
  {
   "cell_type": "code",
   "execution_count": 27,
   "id": "0a80fbf2-c0bc-4c5e-8ffa-d4cd9a1a9245",
   "metadata": {
    "tags": []
   },
   "outputs": [],
   "source": [
    "ratio = df[\"summary_num_words\"]/df[\"article_num_words\"]\n",
    "print(\"min ratio\", min(ratio))\n",
    "print(\"max ratio\", max(ratio))\n",
    "print(\"mean ratio\", np.mean(ratio))\n",
    "print(\"median ratio\", np.median(ratio))\n",
    "plt.hist(ratio)\n",
    "plt.title(\"Ratio of word count in summary to article\")"
   ]
  },
  {
   "cell_type": "code",
   "execution_count": 28,
   "id": "0d7ca1f2-f1da-47d0-8d99-58799bc5909c",
   "metadata": {
    "tags": []
   },
   "outputs": [],
   "source": [
    "plt.scatter(df[\"summary_num_words\"],df[\"article_num_words\"])\n",
    "z = np.polyfit(df[\"summary_num_words\"],df[\"article_num_words\"], 1)\n",
    "p = np.poly1d(z)\n",
    "#add trendline to plot\n",
    "plt.plot(df[\"summary_num_words\"], p(df[\"summary_num_words\"]))\n",
    "plt.title(\"Word Count in Summary vs Article\")"
   ]
  },
  {
   "cell_type": "markdown",
   "id": "54f523d9-c97d-4f32-bdfd-3aceb87fd42a",
   "metadata": {},
   "source": [
    "**Category EDA**"
   ]
  },
  {
   "cell_type": "code",
   "execution_count": 29,
   "id": "4189db83-8853-4249-bb2e-1da507c4fce4",
   "metadata": {
    "tags": []
   },
   "outputs": [],
   "source": [
    "categories = []\n",
    "\n",
    "for i in range(len(dataset['train'])):\n",
    "    cat = dataset['train'][i]['id']\n",
    "    result = re.sub('\\d','',cat)[:-1]\n",
    "    result = result.split('-')[0].split('.')[0]\n",
    "    categories.append(result)"
   ]
  },
  {
   "cell_type": "code",
   "execution_count": 30,
   "id": "4963c66b-b552-48d1-95ae-4428023d7432",
   "metadata": {
    "tags": []
   },
   "outputs": [],
   "source": [
    "def find_indices(list_to_check, item_to_find):\n",
    "    indices = []\n",
    "    for idx, value in enumerate(list_to_check):\n",
    "        if value == item_to_find:\n",
    "            indices.append(idx)\n",
    "    return indices"
   ]
  },
  {
   "cell_type": "code",
   "execution_count": 31,
   "id": "44f0a332-0c55-4fe4-a9d0-0f3477260ced",
   "metadata": {
    "tags": []
   },
   "outputs": [],
   "source": [
    "print(len(find_indices(categories, 'uk')))"
   ]
  },
  {
   "cell_type": "code",
   "execution_count": 32,
   "id": "b17f156a-09a8-407d-a476-3d6ae9661220",
   "metadata": {
    "tags": []
   },
   "outputs": [],
   "source": [
    "dfc = {'category': categories, 'ind': np.ones(len(categories))}\n",
    "       \n",
    "dfc = pd.DataFrame(data = dfc)\n",
    "\n",
    "table = pd.pivot_table(dfc, values='ind', index=['category'], aggfunc=np.sum, sort = True)\n",
    "\n",
    "table.sort_values(by=('ind'), ascending=False,inplace=True)\n",
    "\n",
    "table"
   ]
  },
  {
   "cell_type": "markdown",
   "id": "971ff2fe-891f-4a3c-a584-652e9ee6d244",
   "metadata": {},
   "source": [
    "**Train, Val, and Test sets for each category**"
   ]
  },
  {
   "cell_type": "code",
   "execution_count": 33,
   "id": "8abcc75f-8a14-4abc-8b7e-919898c54cad",
   "metadata": {
    "tags": []
   },
   "outputs": [],
   "source": [
    "def find_indices(list_to_check, item_to_find):\n",
    "    indices = []\n",
    "    for idx, value in enumerate(list_to_check):\n",
    "        if value == item_to_find:\n",
    "            indices.append(idx)\n",
    "    return indices"
   ]
  },
  {
   "cell_type": "code",
   "execution_count": 34,
   "id": "fa09eacd-22c8-40f6-b4a8-dc197cd69493",
   "metadata": {
    "tags": []
   },
   "outputs": [],
   "source": [
    "categories = []\n",
    "\n",
    "for i in range(len(dataset['train'])):\n",
    "    cat = dataset['train'][i]['id']\n",
    "    result = re.sub('\\d','',cat)[:-1]\n",
    "    result = result.split('-')[0].split('.')[0]\n",
    "    categories.append(result)"
   ]
  },
  {
   "cell_type": "markdown",
   "id": "b678ebeb-6431-4784-911e-de647b4d698b",
   "metadata": {},
   "source": [
    "**Category 1: uk**"
   ]
  },
  {
   "cell_type": "code",
   "execution_count": 41,
   "id": "e070b013-9ada-4caa-9732-e4a84bc29e1f",
   "metadata": {
    "tags": []
   },
   "outputs": [],
   "source": [
    "uk = find_indices(categories, 'uk')\n",
    "index = pd.DataFrame({\"index\": uk})\n",
    "sample_index = index.sample(n=2000, replace=False, random_state=1004)\n",
    "\n",
    "article, summary = data_organize(sample_index)\n",
    "\n",
    "d = {'text': article[:1000],  'summary': summary[:1000]}\n",
    "df = pd.DataFrame(data=d)\n",
    "df.to_csv('xl_sum_sample_train_uk.csv', index = False)\n",
    "#df.head(5)\n",
    "\n",
    "d = {'text': article[1000:1100],  'summary': summary[1000:1100]}\n",
    "df = pd.DataFrame(data=d)\n",
    "df.to_csv('xl_sum_sample_val_uk.csv', index = False)\n",
    "#df.head(5)\n",
    "\n",
    "d = {'text': article[1100:1200],  'summary': summary[1100:1200]}\n",
    "df = pd.DataFrame(data=d)\n",
    "df.to_csv('xl_sum_sample_test_uk.csv', index = False)\n"
   ]
  },
  {
   "cell_type": "markdown",
   "id": "0cdd50b4-cf9f-4fee-9065-670e58ee013c",
   "metadata": {},
   "source": [
    "**Category 2: world**"
   ]
  },
  {
   "cell_type": "code",
   "execution_count": 37,
   "id": "9e5cfbf0-89ea-46b3-86be-50fff630c846",
   "metadata": {
    "tags": []
   },
   "outputs": [],
   "source": [
    "world = find_indices(categories, 'world')\n",
    "index = pd.DataFrame({\"index\": world})\n",
    "sample_index = index.sample(n=2000, replace=False, random_state=1004)\n",
    "\n",
    "article, summary = data_organize(sample_index)\n",
    "\n",
    "d = {'text': article[:1000],  'summary': summary[:1000]}\n",
    "df = pd.DataFrame(data=d)\n",
    "df.to_csv('xl_sum_sample_train_world.csv', index = False)\n",
    "#df.head(5)\n",
    "\n",
    "d = {'text': article[1000:1100],  'summary': summary[1000:1100]}\n",
    "df = pd.DataFrame(data=d)\n",
    "df.to_csv('xl_sum_sample_val_world.csv', index = False)\n",
    "#df.head(5)\n",
    "\n",
    "d = {'text': article[1100:1200],  'summary': summary[1100:1200]}\n",
    "df = pd.DataFrame(data=d)\n",
    "df.to_csv('xl_sum_sample_test_world.csv', index = False)\n",
    "#df.head(5)"
   ]
  },
  {
   "cell_type": "markdown",
   "id": "ecd5fa59-a910-46c4-8e5c-fe23bc1074bd",
   "metadata": {},
   "source": [
    "**Category 3: business**"
   ]
  },
  {
   "cell_type": "code",
   "execution_count": 38,
   "id": "5fce5d8e-2dd9-43b6-a05f-07d3feae2181",
   "metadata": {
    "tags": []
   },
   "outputs": [],
   "source": [
    "business = find_indices(categories, 'business')\n",
    "index = pd.DataFrame({\"index\": business})\n",
    "sample_index = index.sample(n=2000, replace=False, random_state=1004)\n",
    "\n",
    "article, summary = data_organize(sample_index)\n",
    "\n",
    "d = {'text': article[:1000],  'summary': summary[:1000]}\n",
    "df = pd.DataFrame(data=d)\n",
    "df.to_csv('xl_sum_sample_train_business.csv', index = False)\n",
    "#df.head(5)\n",
    "\n",
    "d = {'text': article[1000:1100],  'summary': summary[1000:1100]}\n",
    "df = pd.DataFrame(data=d)\n",
    "df.to_csv('xl_sum_sample_val_business.csv', index = False)\n",
    "#df.head(5)\n",
    "\n",
    "d = {'text': article[1100:1200],  'summary': summary[1100:1200]}\n",
    "df = pd.DataFrame(data=d)\n",
    "df.to_csv('xl_sum_sample_test_business.csv', index = False)\n",
    "#df.head(5)"
   ]
  },
  {
   "cell_type": "markdown",
   "id": "da1a022f-d09c-4c82-b444-831c5890f221",
   "metadata": {},
   "source": [
    "**Category 4: entertainment**"
   ]
  },
  {
   "cell_type": "code",
   "execution_count": 39,
   "id": "9a432254-175d-423f-8dec-3e13c88ef157",
   "metadata": {
    "tags": []
   },
   "outputs": [],
   "source": [
    "entertainment = find_indices(categories, 'entertainment')\n",
    "index = pd.DataFrame({\"index\": entertainment})\n",
    "sample_index = index.sample(n=2000, replace=False, random_state=1004)\n",
    "\n",
    "article, summary = data_organize(sample_index)\n",
    "\n",
    "d = {'text': article[:1000],  'summary': summary[:1000]}\n",
    "df = pd.DataFrame(data=d)\n",
    "df.to_csv('xl_sum_sample_train_entertainment.csv', index = False)\n",
    "#df.head(5)\n",
    "\n",
    "d = {'text': article[1000:1100],  'summary': summary[1000:1100]}\n",
    "df = pd.DataFrame(data=d)\n",
    "df.to_csv('xl_sum_sample_val_entertainment.csv', index = False)\n",
    "#df.head(5)\n",
    "\n",
    "d = {'text': article[1100:1200],  'summary': summary[1100:1200]}\n",
    "df = pd.DataFrame(data=d)\n",
    "df.to_csv('xl_sum_sample_test_entertainment.csv', index = False)\n",
    "#df.head(5)"
   ]
  },
  {
   "cell_type": "markdown",
   "id": "4e7c37ae-d39d-4fae-9512-d87f891a2fb8",
   "metadata": {},
   "source": [
    "**Category 5: technology**"
   ]
  },
  {
   "cell_type": "code",
   "execution_count": 35,
   "id": "88c050c7-670e-4ef1-a6ef-cab2fab1c841",
   "metadata": {
    "tags": []
   },
   "outputs": [],
   "source": [
    "technology = find_indices(categories, 'technology')\n",
    "index = pd.DataFrame({\"index\": technology})\n",
    "sample_index = index.sample(n=2000, replace=False, random_state=1004)\n",
    "\n",
    "article, summary = data_organize(sample_index)\n",
    "\n",
    "d = {'text': article[:1000],  'summary': summary[:1000]}\n",
    "df = pd.DataFrame(data=d)\n",
    "df.to_csv('xl_sum_sample_train_technology.csv', index = False)\n",
    "#df.head(5)\n",
    "\n",
    "d = {'text': article[1000:1100],  'summary': summary[1000:1100]}\n",
    "df = pd.DataFrame(data=d)\n",
    "df.to_csv('xl_sum_sample_val_technology.csv', index = False)\n",
    "#df.head(5)\n",
    "\n",
    "d = {'text': article[1100:1200],  'summary': summary[1100:1200]}\n",
    "df = pd.DataFrame(data=d)\n",
    "df.to_csv('xl_sum_sample_test_technology.csv', index = False)\n",
    "#df.head(5)"
   ]
  }
 ],
 "metadata": {
  "kernelspec": {
   "display_name": "Python 3 (ipykernel)",
   "language": "python",
   "name": "python3"
  },
  "language_info": {
   "codemirror_mode": {
    "name": "ipython",
    "version": 3
   },
   "file_extension": ".py",
   "mimetype": "text/x-python",
   "name": "python",
   "nbconvert_exporter": "python",
   "pygments_lexer": "ipython3",
   "version": "3.8.10"
  }
 },
 "nbformat": 4,
 "nbformat_minor": 5
}
