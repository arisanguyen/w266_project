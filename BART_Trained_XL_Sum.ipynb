{
 "cells": [
  {
   "cell_type": "markdown",
   "id": "9b049999-077d-4d48-a02d-94c842050121",
   "metadata": {
    "tags": []
   },
   "source": [
    "**BART Trained on XL SUM**"
   ]
  },
  {
   "cell_type": "markdown",
   "id": "f2d1de3e-85a6-4307-8abf-fbfcae0be263",
   "metadata": {},
   "source": [
    "**Packages**"
   ]
  },
  {
   "cell_type": "code",
   "execution_count": 1,
   "id": "0dfe809d-a7a8-47b6-a2e0-2d7bf7d74fd7",
   "metadata": {
    "tags": []
   },
   "outputs": [
    {
     "name": "stderr",
     "output_type": "stream",
     "text": [
      "/home/ubuntu/w266/lib/python3.8/site-packages/tqdm/auto.py:21: TqdmWarning: IProgress not found. Please update jupyter and ipywidgets. See https://ipywidgets.readthedocs.io/en/stable/user_install.html\n",
      "  from .autonotebook import tqdm as notebook_tqdm\n"
     ]
    }
   ],
   "source": [
    "import numpy as np\n",
    "import pandas as pd\n",
    "import matplotlib.pyplot as plt \n",
    "import math\n",
    "\n",
    "from datasets import load_dataset\n",
    "import evaluate\n",
    "\n",
    "import inspect\n",
    "\n",
    "#let's make longer output readable without horizontal scrolling\n",
    "from pprint import pprint\n",
    "\n",
    "import warnings\n",
    "\n",
    "import regex as re\n",
    "\n",
    "import os, re\n",
    "import time\n",
    "\n",
    "import tensorflow as tf\n",
    "from tensorflow import keras\n",
    "from tensorflow.keras import layers\n",
    "\n",
    "# These auto classes load the right type of tokenizer and model based on a model name\n",
    "from transformers import AutoTokenizer, TFAutoModel\n",
    "from transformers import pipeline\n",
    "from transformers import AutoModel"
   ]
  },
  {
   "cell_type": "markdown",
   "id": "99ef6ab7-aa59-479f-a0e8-e0e34a21dc7f",
   "metadata": {},
   "source": [
    "**Necessary Functions**"
   ]
  },
  {
   "cell_type": "code",
   "execution_count": 2,
   "id": "ce3330d3-069e-48dc-8a0b-e2ef7d72a2bf",
   "metadata": {
    "tags": []
   },
   "outputs": [],
   "source": [
    "rouge = evaluate.load('rouge')"
   ]
  },
  {
   "cell_type": "code",
   "execution_count": 3,
   "id": "216551a6-cb1e-4516-aa9b-b18d88807a72",
   "metadata": {},
   "outputs": [],
   "source": [
    "chrf = evaluate.load(\"chrf\")"
   ]
  },
  {
   "cell_type": "code",
   "execution_count": 4,
   "id": "3a32aaf5-c5bb-4052-8b50-af66dbb96312",
   "metadata": {},
   "outputs": [],
   "source": [
    "def get_default_args(func):\n",
    "    signature = inspect.signature(func)\n",
    "    return {\n",
    "        k: v.default\n",
    "        for k, v in signature.parameters.items()\n",
    "        if v.default is not inspect.Parameter.empty\n",
    "    }"
   ]
  },
  {
   "cell_type": "code",
   "execution_count": 23,
   "id": "2a4ff58f-fbd5-44ef-94ce-a5463542821a",
   "metadata": {
    "tags": []
   },
   "outputs": [],
   "source": [
    "def data_organize(sample_index):\n",
    "\n",
    "    article = []\n",
    "    summary = []\n",
    "\n",
    "    for i in sample_index[\"index\"]:\n",
    "        summary.append(\" \".join(dataset[\"train\"][i]['summary'].split(\" \")[:128]))\n",
    "        article.append(dataset[\"train\"][i]['text'])\n",
    "\n",
    "    return article, summary"
   ]
  },
  {
   "cell_type": "markdown",
   "id": "c377e90f-6fa0-444f-bdb1-fa6ef660476c",
   "metadata": {},
   "source": [
    "**Data**"
   ]
  },
  {
   "cell_type": "code",
   "execution_count": 6,
   "id": "b2c668da-18f8-43d2-8a1e-c5e9c604f472",
   "metadata": {
    "tags": []
   },
   "outputs": [
    {
     "name": "stderr",
     "output_type": "stream",
     "text": [
      "Found cached dataset xlsum (/home/ubuntu/.cache/huggingface/datasets/csebuetnlp___xlsum/english/2.0.0/518ab0af76048660bcc2240ca6e8692a977c80e384ffb18fdddebaca6daebdce)\n",
      "100%|████████████████████████████████████████████| 3/3 [00:00<00:00, 340.51it/s]\n"
     ]
    }
   ],
   "source": [
    "dataset = load_dataset(\"csebuetnlp/xlsum\", \"english\")"
   ]
  },
  {
   "cell_type": "markdown",
   "id": "03beb832-2912-41f6-8014-6d818e2d4418",
   "metadata": {},
   "source": [
    "**Sampling the Data**"
   ]
  },
  {
   "cell_type": "markdown",
   "id": "a546358b-d1a6-408c-a79d-a6d24a6b3d6f",
   "metadata": {},
   "source": [
    "**Train, Val, and Test sets for all XL Sum**"
   ]
  },
  {
   "cell_type": "code",
   "execution_count": 7,
   "id": "c948ad56-4a93-4782-bbc1-02aa61b6dd66",
   "metadata": {
    "tags": []
   },
   "outputs": [
    {
     "data": {
      "text/html": [
       "<div>\n",
       "<style scoped>\n",
       "    .dataframe tbody tr th:only-of-type {\n",
       "        vertical-align: middle;\n",
       "    }\n",
       "\n",
       "    .dataframe tbody tr th {\n",
       "        vertical-align: top;\n",
       "    }\n",
       "\n",
       "    .dataframe thead th {\n",
       "        text-align: right;\n",
       "    }\n",
       "</style>\n",
       "<table border=\"1\" class=\"dataframe\">\n",
       "  <thead>\n",
       "    <tr style=\"text-align: right;\">\n",
       "      <th></th>\n",
       "      <th>index</th>\n",
       "    </tr>\n",
       "  </thead>\n",
       "  <tbody>\n",
       "    <tr>\n",
       "      <th>235420</th>\n",
       "      <td>235420</td>\n",
       "    </tr>\n",
       "    <tr>\n",
       "      <th>172024</th>\n",
       "      <td>172024</td>\n",
       "    </tr>\n",
       "    <tr>\n",
       "      <th>253546</th>\n",
       "      <td>253546</td>\n",
       "    </tr>\n",
       "    <tr>\n",
       "      <th>224954</th>\n",
       "      <td>224954</td>\n",
       "    </tr>\n",
       "    <tr>\n",
       "      <th>214134</th>\n",
       "      <td>214134</td>\n",
       "    </tr>\n",
       "  </tbody>\n",
       "</table>\n",
       "</div>"
      ],
      "text/plain": [
       "         index\n",
       "235420  235420\n",
       "172024  172024\n",
       "253546  253546\n",
       "224954  224954\n",
       "214134  214134"
      ]
     },
     "execution_count": 7,
     "metadata": {},
     "output_type": "execute_result"
    }
   ],
   "source": [
    "index = pd.DataFrame({\"index\": list(range(len(dataset['train'])))})\n",
    "sample_index = index.sample(n=2000, replace=False, random_state=1004)\n",
    "sample_index[:5]"
   ]
  },
  {
   "cell_type": "code",
   "execution_count": 24,
   "id": "34e9876f-8055-4817-a6c2-1b1441201534",
   "metadata": {},
   "outputs": [],
   "source": [
    "article, summary = data_organize(sample_index)"
   ]
  },
  {
   "cell_type": "code",
   "execution_count": 25,
   "id": "2dfa92fd-ab9c-4ebd-b781-7d9b658414d4",
   "metadata": {},
   "outputs": [],
   "source": [
    "d = {'text': article[:1000],  'summary': summary[:1000]}\n",
    "df = pd.DataFrame(data=d)\n",
    "df.to_csv('../w266_projectxl_sum_sample_train.csv', index = False)\n",
    "#df.head(5)"
   ]
  },
  {
   "cell_type": "code",
   "execution_count": 26,
   "id": "91fb59c5-78e4-46c6-8861-e89e7230d633",
   "metadata": {},
   "outputs": [
    {
     "data": {
      "text/html": [
       "<div>\n",
       "<style scoped>\n",
       "    .dataframe tbody tr th:only-of-type {\n",
       "        vertical-align: middle;\n",
       "    }\n",
       "\n",
       "    .dataframe tbody tr th {\n",
       "        vertical-align: top;\n",
       "    }\n",
       "\n",
       "    .dataframe thead th {\n",
       "        text-align: right;\n",
       "    }\n",
       "</style>\n",
       "<table border=\"1\" class=\"dataframe\">\n",
       "  <thead>\n",
       "    <tr style=\"text-align: right;\">\n",
       "      <th></th>\n",
       "      <th>text</th>\n",
       "      <th>summary</th>\n",
       "    </tr>\n",
       "  </thead>\n",
       "  <tbody>\n",
       "    <tr>\n",
       "      <th>0</th>\n",
       "      <td>Anthony ZurcherNorth America reporter@awzurche...</td>\n",
       "      <td>On day three of public hearings in the impeach...</td>\n",
       "    </tr>\n",
       "    <tr>\n",
       "      <th>1</th>\n",
       "      <td>It made a net profit of $281m (£185m) in the t...</td>\n",
       "      <td>Yum Brands, owner of KFC and Pizza Hut restaur...</td>\n",
       "    </tr>\n",
       "    <tr>\n",
       "      <th>2</th>\n",
       "      <td>Police sources told local media that the boy h...</td>\n",
       "      <td>Four members of the same family have been arre...</td>\n",
       "    </tr>\n",
       "    <tr>\n",
       "      <th>3</th>\n",
       "      <td>Zelda Perkins told the Financial Times she sig...</td>\n",
       "      <td>A British former assistant of Harvey Weinstein...</td>\n",
       "    </tr>\n",
       "    <tr>\n",
       "      <th>4</th>\n",
       "      <td>Bus workers walked out on Monday over changes ...</td>\n",
       "      <td>Bus drivers in Jersey have agreed to meet with...</td>\n",
       "    </tr>\n",
       "  </tbody>\n",
       "</table>\n",
       "</div>"
      ],
      "text/plain": [
       "                                                text  \\\n",
       "0  Anthony ZurcherNorth America reporter@awzurche...   \n",
       "1  It made a net profit of $281m (£185m) in the t...   \n",
       "2  Police sources told local media that the boy h...   \n",
       "3  Zelda Perkins told the Financial Times she sig...   \n",
       "4  Bus workers walked out on Monday over changes ...   \n",
       "\n",
       "                                             summary  \n",
       "0  On day three of public hearings in the impeach...  \n",
       "1  Yum Brands, owner of KFC and Pizza Hut restaur...  \n",
       "2  Four members of the same family have been arre...  \n",
       "3  A British former assistant of Harvey Weinstein...  \n",
       "4  Bus drivers in Jersey have agreed to meet with...  "
      ]
     },
     "execution_count": 26,
     "metadata": {},
     "output_type": "execute_result"
    }
   ],
   "source": [
    "d = {'text': article[1000:1100],  'summary': summary[1000:1100]}\n",
    "df = pd.DataFrame(data=d)\n",
    "df.to_csv('../w266_project/xl_sum_sample_val.csv', index = False)\n",
    "df.head(5)"
   ]
  },
  {
   "cell_type": "code",
   "execution_count": 27,
   "id": "0d0c3b62-f356-4f57-928f-c3f07b461c12",
   "metadata": {
    "tags": []
   },
   "outputs": [
    {
     "data": {
      "text/html": [
       "<div>\n",
       "<style scoped>\n",
       "    .dataframe tbody tr th:only-of-type {\n",
       "        vertical-align: middle;\n",
       "    }\n",
       "\n",
       "    .dataframe tbody tr th {\n",
       "        vertical-align: top;\n",
       "    }\n",
       "\n",
       "    .dataframe thead th {\n",
       "        text-align: right;\n",
       "    }\n",
       "</style>\n",
       "<table border=\"1\" class=\"dataframe\">\n",
       "  <thead>\n",
       "    <tr style=\"text-align: right;\">\n",
       "      <th></th>\n",
       "      <th>text</th>\n",
       "      <th>summary</th>\n",
       "    </tr>\n",
       "  </thead>\n",
       "  <tbody>\n",
       "    <tr>\n",
       "      <th>0</th>\n",
       "      <td>In a statement, the White House said more than...</td>\n",
       "      <td>Hackers who breached US government networks st...</td>\n",
       "    </tr>\n",
       "    <tr>\n",
       "      <th>1</th>\n",
       "      <td>Fourteen fire engines were sent to tackle the ...</td>\n",
       "      <td>A \"major\" fire on Bognor Regis seafront has be...</td>\n",
       "    </tr>\n",
       "    <tr>\n",
       "      <th>2</th>\n",
       "      <td>The 240-turbine Atlantic Array would be double...</td>\n",
       "      <td>The European Commission (EC) has launched an i...</td>\n",
       "    </tr>\n",
       "    <tr>\n",
       "      <th>3</th>\n",
       "      <td>It is believed the patient contracted the infe...</td>\n",
       "      <td>A patient has been diagnosed with the rare vir...</td>\n",
       "    </tr>\n",
       "    <tr>\n",
       "      <th>4</th>\n",
       "      <td>By Chris JohnstonBusiness reporter The rise in...</td>\n",
       "      <td>UK inflation will quadruple to about 4% in the...</td>\n",
       "    </tr>\n",
       "  </tbody>\n",
       "</table>\n",
       "</div>"
      ],
      "text/plain": [
       "                                                text  \\\n",
       "0  In a statement, the White House said more than...   \n",
       "1  Fourteen fire engines were sent to tackle the ...   \n",
       "2  The 240-turbine Atlantic Array would be double...   \n",
       "3  It is believed the patient contracted the infe...   \n",
       "4  By Chris JohnstonBusiness reporter The rise in...   \n",
       "\n",
       "                                             summary  \n",
       "0  Hackers who breached US government networks st...  \n",
       "1  A \"major\" fire on Bognor Regis seafront has be...  \n",
       "2  The European Commission (EC) has launched an i...  \n",
       "3  A patient has been diagnosed with the rare vir...  \n",
       "4  UK inflation will quadruple to about 4% in the...  "
      ]
     },
     "execution_count": 27,
     "metadata": {},
     "output_type": "execute_result"
    }
   ],
   "source": [
    "d = {'text': article[1100:1200],  'summary': summary[1100:1200]}\n",
    "df = pd.DataFrame(data=d)\n",
    "df.to_csv('../w266_project/xl_sum_sample_test.csv', index = False)\n",
    "df.head(5)"
   ]
  },
  {
   "cell_type": "markdown",
   "id": "8e5ee779-4ba6-44bf-ad0b-7ee163c6a44e",
   "metadata": {},
   "source": [
    "**Train, Val, and Test sets for each category**"
   ]
  },
  {
   "cell_type": "code",
   "execution_count": null,
   "id": "8a3c4e98-f79e-45e3-9c79-40c8f5169b22",
   "metadata": {
    "tags": []
   },
   "outputs": [],
   "source": [
    "def find_indices(list_to_check, item_to_find):\n",
    "    indices = []\n",
    "    for idx, value in enumerate(list_to_check):\n",
    "        if value == item_to_find:\n",
    "            indices.append(idx)\n",
    "    return indices"
   ]
  },
  {
   "cell_type": "code",
   "execution_count": null,
   "id": "3d626de4-e65a-44ad-9b23-ba0c69cd6a7c",
   "metadata": {
    "tags": []
   },
   "outputs": [],
   "source": [
    "categories = []\n",
    "\n",
    "for i in range(len(dataset['train'])):\n",
    "    cat = dataset['train'][i]['id']\n",
    "    result = re.sub('\\d','',cat)[:-1]\n",
    "    result = result.split('-')[0].split('.')[0]\n",
    "    categories.append(result)"
   ]
  },
  {
   "cell_type": "markdown",
   "id": "bee534d9-f692-490d-b4b3-5d94c2b7b5ec",
   "metadata": {},
   "source": [
    "**Category 1: uk**"
   ]
  },
  {
   "cell_type": "code",
   "execution_count": null,
   "id": "520b09b1-2d30-4269-b0ad-658a0e88f440",
   "metadata": {
    "tags": []
   },
   "outputs": [],
   "source": [
    "uk = find_indices(categories, 'uk')\n",
    "index = pd.DataFrame({\"index\": uk})\n",
    "sample_index = index.sample(n=2000, replace=False, random_state=1004)\n",
    "\n",
    "article, summary = data_organize(sample_index)\n",
    "\n",
    "d = {'text': article[:1000],  'summary': summary[:1000]}\n",
    "df = pd.DataFrame(data=d)\n",
    "df.to_csv('xl_sum_sample_train_uk')\n",
    "df.head(5)\n",
    "\n",
    "d = {'text': article[1000:1100],  'summary': summary[1000:1100]}\n",
    "df = pd.DataFrame(data=d)\n",
    "df.to_csv('xl_sum_sample_val_uk')\n",
    "df.head(5)\n",
    "\n",
    "d = {'text': article[1100:1200],  'summary': summary[1100:1200]}\n",
    "df = pd.DataFrame(data=d)\n",
    "df.to_csv('xl_sum_sample_test_uk')\n",
    "df.head(5)"
   ]
  },
  {
   "cell_type": "markdown",
   "id": "44de8cc2-471c-4ad3-b94d-8473c6c3c244",
   "metadata": {
    "tags": []
   },
   "source": [
    "**Training the Model**"
   ]
  },
  {
   "cell_type": "markdown",
   "id": "da6b616e-4e2b-46eb-83b7-75930d6a43ee",
   "metadata": {},
   "source": [
    "https://github.com/huggingface/transformers/blob/main/examples/pytorch/summarization/run_summarization.py\n",
    "\n",
    "https://www.databricks.com/blog/2023/03/20/fine-tuning-large-language-models-hugging-face-and-deepspeed.html"
   ]
  },
  {
   "cell_type": "markdown",
   "id": "ba6399dc-0acd-49fc-a5f7-4c7d4e689781",
   "metadata": {},
   "source": [
    "**All Categories**"
   ]
  },
  {
   "cell_type": "markdown",
   "id": "4fdae58a-e4c0-4a6c-8f67-b8309a24c665",
   "metadata": {},
   "source": [
    "All Categories: Model 0"
   ]
  },
  {
   "cell_type": "code",
   "execution_count": null,
   "id": "41489617-caa3-421b-861a-7716cb853985",
   "metadata": {},
   "outputs": [],
   "source": [
    "!python3 transformers/examples/pytorch/summarization/run_summarization.py \\\n",
    "    --model_name_or_path=facebook/bart-base \\\n",
    "    --do_train \\\n",
    "    --do_eval \\\n",
    "    --train_file 'w266_project/xl_sum_sample_train.csv' \\\n",
    "    --validation_file 'w266_project/xl_sum_sample_val.csv' \\\n",
    "    --text_column text \\\n",
    "    --summary_column summary \\\n",
    "    --push_to_hub=True \\\n",
    "    --max_source_length 128 \\\n",
    "    --max_target_length 32 \\\n",
    "    --num_train_epochs 1 \\\n",
    "    --per_device_train_batch_size=32 \\\n",
    "    --per_device_eval_batch_size=32 \\\n",
    "    --output_dir='finetuned-BART-all-categories' \\\n",
    "    --overwrite_output_dir=True \\\n",
    "    --predict_with_generate "
   ]
  },
  {
   "cell_type": "code",
   "execution_count": null,
   "id": "7a1f378c-07b9-48ec-b77c-c4bc558143af",
   "metadata": {
    "tags": []
   },
   "outputs": [
    {
     "name": "stderr",
     "output_type": "stream",
     "text": [
      "Downloading (…)lve/main/config.json: 100%|██| 1.74k/1.74k [00:00<00:00, 246kB/s]\n",
      "Downloading pytorch_model.bin: 100%|█████████| 558M/558M [00:06<00:00, 85.0MB/s]\n",
      "Downloading (…)neration_config.json: 100%|█████| 297/297 [00:00<00:00, 47.4kB/s]\n",
      "Downloading (…)okenizer_config.json: 100%|██████| 384/384 [00:00<00:00, 158kB/s]\n",
      "Downloading (…)olve/main/vocab.json: 100%|████| 798k/798k [00:00<00:00, 101MB/s]\n",
      "Downloading (…)olve/main/merges.txt: 100%|███| 456k/456k [00:00<00:00, 68.6MB/s]\n",
      "Downloading (…)/main/tokenizer.json: 100%|██| 2.11M/2.11M [00:00<00:00, 112MB/s]\n",
      "Downloading (…)cial_tokens_map.json: 100%|██████| 280/280 [00:00<00:00, 133kB/s]\n"
     ]
    }
   ],
   "source": [
    "#remember to push new model to huggingface repo after running prev cell so that this cell uses the most recent model!!!!!!!\n",
    "\n",
    "summarizer = pipeline(\"summarization\", model=\"arisanguyen/finetuned-BART-all-categories\")"
   ]
  },
  {
   "cell_type": "code",
   "execution_count": 35,
   "id": "64ff12c7-fee0-49b7-b835-9f6804c3ed79",
   "metadata": {
    "tags": []
   },
   "outputs": [
    {
     "data": {
      "text/html": [
       "<div>\n",
       "<style scoped>\n",
       "    .dataframe tbody tr th:only-of-type {\n",
       "        vertical-align: middle;\n",
       "    }\n",
       "\n",
       "    .dataframe tbody tr th {\n",
       "        vertical-align: top;\n",
       "    }\n",
       "\n",
       "    .dataframe thead th {\n",
       "        text-align: right;\n",
       "    }\n",
       "</style>\n",
       "<table border=\"1\" class=\"dataframe\">\n",
       "  <thead>\n",
       "    <tr style=\"text-align: right;\">\n",
       "      <th></th>\n",
       "      <th>text</th>\n",
       "      <th>summary</th>\n",
       "    </tr>\n",
       "  </thead>\n",
       "  <tbody>\n",
       "    <tr>\n",
       "      <th>0</th>\n",
       "      <td>Anthony ZurcherNorth America reporter@awzurche...</td>\n",
       "      <td>On day three of public hearings in the impeach...</td>\n",
       "    </tr>\n",
       "    <tr>\n",
       "      <th>1</th>\n",
       "      <td>It made a net profit of $281m (£185m) in the t...</td>\n",
       "      <td>Yum Brands, owner of KFC and Pizza Hut restaur...</td>\n",
       "    </tr>\n",
       "    <tr>\n",
       "      <th>2</th>\n",
       "      <td>Police sources told local media that the boy h...</td>\n",
       "      <td>Four members of the same family have been arre...</td>\n",
       "    </tr>\n",
       "    <tr>\n",
       "      <th>3</th>\n",
       "      <td>Zelda Perkins told the Financial Times she sig...</td>\n",
       "      <td>A British former assistant of Harvey Weinstein...</td>\n",
       "    </tr>\n",
       "    <tr>\n",
       "      <th>4</th>\n",
       "      <td>Bus workers walked out on Monday over changes ...</td>\n",
       "      <td>Bus drivers in Jersey have agreed to meet with...</td>\n",
       "    </tr>\n",
       "  </tbody>\n",
       "</table>\n",
       "</div>"
      ],
      "text/plain": [
       "                                                text  \\\n",
       "0  Anthony ZurcherNorth America reporter@awzurche...   \n",
       "1  It made a net profit of $281m (£185m) in the t...   \n",
       "2  Police sources told local media that the boy h...   \n",
       "3  Zelda Perkins told the Financial Times she sig...   \n",
       "4  Bus workers walked out on Monday over changes ...   \n",
       "\n",
       "                                             summary  \n",
       "0  On day three of public hearings in the impeach...  \n",
       "1  Yum Brands, owner of KFC and Pizza Hut restaur...  \n",
       "2  Four members of the same family have been arre...  \n",
       "3  A British former assistant of Harvey Weinstein...  \n",
       "4  Bus drivers in Jersey have agreed to meet with...  "
      ]
     },
     "execution_count": 35,
     "metadata": {},
     "output_type": "execute_result"
    }
   ],
   "source": [
    "df = pd.read_csv('../w266_project/xl_sum_sample_val.csv')\n",
    "df.head(5)"
   ]
  },
  {
   "cell_type": "code",
   "execution_count": null,
   "id": "c26b8a9c-6385-4f29-b3fc-caa2bbbd1c10",
   "metadata": {
    "tags": []
   },
   "outputs": [],
   "source": [
    "bart_r1 = []\n",
    "bart_r2 = []\n",
    "bart_rL = []\n",
    "bart_rLs = []\n",
    "bart_chrf = []\n",
    "\n",
    "for i in range(int(len(df['text']))):\n",
    "    \n",
    "    #art = ' '.join(df['article'][i].split(' ')[:1024]) #truncated to first 1024 words, because that is all the model can handle\n",
    "    \n",
    "    candidate = summarizer(df['text'][i], \n",
    "                           truncation = True, #truncated to first 1024 words, because that is all the model can handle\n",
    "                             #max_length=130, min_length=30, do_sample=False\n",
    "                            )[0]\n",
    "    candidate = [candidate['summary_text']]\n",
    "    #pprint(candidate[0], compact=True)\n",
    "    \n",
    "    ref = [df['summary'][i]]\n",
    "    \n",
    "    results = rouge.compute(predictions=candidate,\n",
    "                            references=ref)\n",
    "    \n",
    "    bart_r1.append(results['rouge1'])\n",
    "    bart_r2.append(results['rouge2'])\n",
    "    bart_rL.append(results['rougeL'])\n",
    "    bart_rLs.append(results['rougeLsum'])\n",
    "    \n",
    "    results = chrf.compute(predictions=candidate,\n",
    "                            references=ref)\n",
    "    \n",
    "    bart_chrf.append(results['score'])\n",
    "    \n",
    "    if i in np.arange(0, 2000, 100):\n",
    "        data = {'rouge1': bart_r1, 'rouge2': bart_r2, 'rogueL': bart_rL, 'rogueLs': bart_rLs, 'chrf': bart_chrf}\n",
    "        scores = pd.DataFrame(data)\n",
    "        scores.to_csv(r'BART_trained_0_scores.csv', index=False)\n",
    "        print(i)\n",
    "        \n",
    "data = {'rouge1': bart_r1, 'rouge2': bart_r2, 'rogueL': bart_rL, 'rogueLs': bart_rLs,'chrf': bart_chrf}\n",
    "scores = pd.DataFrame(data)\n",
    "scores.to_csv(r'BART_trained_0_scores.csv', index=False)"
   ]
  },
  {
   "cell_type": "code",
   "execution_count": 37,
   "id": "5ed12cd2-800e-43b2-b5d3-445b531d7326",
   "metadata": {
    "tags": []
   },
   "outputs": [
    {
     "name": "stdout",
     "output_type": "stream",
     "text": [
      "Last Article She tweeted that the clothes would be \"archived & expertly cared for in the spirit & love of Michael Jackson, his bravery, & fans worldwide\". The auction included a jacket worn during Jackson's Bad tour, that went for $240,000 (£148,000) and two crystal gloves. The items were all made by designers Dennis Tompkins and Michael Bush. Lady Gaga also tweeted a picture of herself and her bidding paddle at the auction. More than $5m (£3.1m) was raised by the sale, according to LA-based Julien's Auctions. Other items that went under the hammer included jackets from Michael Jackson's Dangerous and Thriller tours and a pair of jeans that went for $50,000 (£31,000). Some of the money raised by the auction is being donated to a guide dogs charity and a hospice in Las Vegas. American costume designers Michael Bush and Dennis Tompkins created thousands of original pieces for Michael Jackson during his career. However, despite Lady Gaga's assurances, some fans expressed their anger online, claiming that Jackson wanted his costumes to end up in a museum. The singer died on 25 June 2009 from an overdose of the powerful anaesthetic propofol. His personal doctor, Conrad Murray, was later found guilty of his involuntary manslaughter and sentenced to four years in jail. Follow @BBCNewsbeat on Twitter\n",
      "Last Reference Summary ['Lady Gaga has bought 55 items at an auction of Michael Jackson costumes in Los Angeles.']\n",
      "Last Candidate Summary [\"Lady Gaga has announced that she will be auctioning off a collection of Michael Jackson's costumes at an auction in Las Vegas.\"]\n"
     ]
    }
   ],
   "source": [
    "print('Last Article', df['text'][i])\n",
    "print('Last Reference Summary', ref)\n",
    "print('Last Candidate Summary', candidate)"
   ]
  },
  {
   "cell_type": "code",
   "execution_count": 38,
   "id": "9ae281a4-5d2e-48fa-a4a4-0a500d69e539",
   "metadata": {
    "tags": []
   },
   "outputs": [
    {
     "name": "stdout",
     "output_type": "stream",
     "text": [
      "rouge1 average : 0.3192639042917483\n",
      "rouge2 average : 0.10466960084268205\n",
      "rougeL average : 0.24501046685959502\n",
      "rougeLs average : 0.24501046685959502\n",
      "chrf average : 27.774860738085867\n"
     ]
    }
   ],
   "source": [
    "print('rouge1 average :', np.mean(bart_r1))\n",
    "print('rouge2 average :', np.mean(bart_r2))\n",
    "print('rougeL average :', np.mean(bart_rL))\n",
    "print('rougeLs average :', np.mean(bart_rLs))\n",
    "print('chrf average :', np.mean(bart_chrf))"
   ]
  }
 ],
 "metadata": {
  "kernelspec": {
   "display_name": "Python 3 (ipykernel)",
   "language": "python",
   "name": "python3"
  },
  "language_info": {
   "codemirror_mode": {
    "name": "ipython",
    "version": 3
   },
   "file_extension": ".py",
   "mimetype": "text/x-python",
   "name": "python",
   "nbconvert_exporter": "python",
   "pygments_lexer": "ipython3",
   "version": "3.8.10"
  }
 },
 "nbformat": 4,
 "nbformat_minor": 5
}
