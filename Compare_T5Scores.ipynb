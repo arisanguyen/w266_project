{
  "nbformat": 4,
  "nbformat_minor": 0,
  "metadata": {
    "colab": {
      "provenance": []
    },
    "kernelspec": {
      "name": "python3",
      "display_name": "Python 3"
    },
    "language_info": {
      "name": "python"
    }
  },
  "cells": [
    {
      "cell_type": "code",
      "source": [
        "from google.colab import drive\n",
        "drive.mount('/content/drive/')"
      ],
      "metadata": {
        "colab": {
          "base_uri": "https://localhost:8080/"
        },
        "id": "FI3G54nq94_r",
        "outputId": "bf3c5387-92a3-48d4-990a-b77bddfe382b"
      },
      "execution_count": 1,
      "outputs": [
        {
          "output_type": "stream",
          "name": "stdout",
          "text": [
            "Mounted at /content/drive/\n"
          ]
        }
      ]
    },
    {
      "cell_type": "code",
      "execution_count": 2,
      "metadata": {
        "id": "Pi0HgNS19icW"
      },
      "outputs": [],
      "source": [
        "import pandas as pd"
      ]
    },
    {
      "cell_type": "code",
      "source": [
        "def print_scores(df):\n",
        "  print('rouge1 average :', df['rouge1'].mean())\n",
        "  print('rouge2 average :', df['rouge2'].mean())\n",
        "  print('rougeL average :', df['rogueL'].mean())\n",
        "  print('rougeLs average :', df['rogueLs'].mean())\n",
        "  print('chrf average :', df['chrf'].mean())"
      ],
      "metadata": {
        "id": "PRwbL4Ff-ZuD"
      },
      "execution_count": 3,
      "outputs": []
    },
    {
      "cell_type": "markdown",
      "source": [
        "Baseline"
      ],
      "metadata": {
        "id": "fvQjEwcWDh17"
      }
    },
    {
      "cell_type": "code",
      "source": [
        "pretrained = pd.read_csv('/content/drive/MyDrive/W266FinalProject/model_results/t5_from_pretrained_scores.csv')"
      ],
      "metadata": {
        "id": "5PrdUwcEDZ9o"
      },
      "execution_count": 4,
      "outputs": []
    },
    {
      "cell_type": "code",
      "source": [
        "print_scores(pretrained)"
      ],
      "metadata": {
        "colab": {
          "base_uri": "https://localhost:8080/"
        },
        "id": "OxGEEOb6DaAu",
        "outputId": "219168c8-89b1-4e31-9efe-c553d93b23b2"
      },
      "execution_count": 5,
      "outputs": [
        {
          "output_type": "stream",
          "name": "stdout",
          "text": [
            "rouge1 average : 0.19809182836136238\n",
            "rouge2 average : 0.032537499027630395\n",
            "rougeL average : 0.1346824621593158\n",
            "rougeLs average : 0.1346824621593158\n",
            "chrf average : 26.984854771913675\n"
          ]
        }
      ]
    },
    {
      "cell_type": "markdown",
      "source": [
        "Finetuned"
      ],
      "metadata": {
        "id": "y8rQqIA3DjQN"
      }
    },
    {
      "cell_type": "code",
      "source": [
        "finetuned1 = pd.read_csv('/content/drive/MyDrive/W266FinalProject/model_results/t5_finetuned1_scores.csv')\n",
        "finetuned2 = pd.read_csv('/content/drive/MyDrive/W266FinalProject/model_results/t5_finetuned2_scores.csv')\n",
        "finetuned4 = pd.read_csv('/content/drive/MyDrive/W266FinalProject/model_results/t5_finetuned4_scores.csv')\n",
        "finetuned6 = pd.read_csv('/content/drive/MyDrive/W266FinalProject/model_results/t5_finetuned6_scores.csv')\n",
        "finetuned7 = pd.read_csv('/content/drive/MyDrive/W266FinalProject/model_results/t5_finetuned7_scores.csv')\n",
        "finetuned8 = pd.read_csv('/content/drive/MyDrive/W266FinalProject/model_results/t5_finetuned8_scores.csv')\n",
        "\n",
        "finetuned_tech1 = pd.read_csv('/content/drive/MyDrive/W266FinalProject/model_results/t5_finetuned_technology1_scores.csv')"
      ],
      "metadata": {
        "id": "TWx0dL37-D57"
      },
      "execution_count": 13,
      "outputs": []
    },
    {
      "cell_type": "code",
      "source": [
        "print_scores(finetuned1)"
      ],
      "metadata": {
        "colab": {
          "base_uri": "https://localhost:8080/"
        },
        "id": "5LU4Rw1A-RWV",
        "outputId": "52e61cb8-8a9d-4e34-94eb-afd18caa065c"
      },
      "execution_count": 7,
      "outputs": [
        {
          "output_type": "stream",
          "name": "stdout",
          "text": [
            "rouge1 average : 0.1359680470661946\n",
            "rouge2 average : 0.015478396192686256\n",
            "rougeL average : 0.1103270531706178\n",
            "rougeLs average : 0.1103270531706178\n",
            "chrf average : 16.556515545698197\n"
          ]
        }
      ]
    },
    {
      "cell_type": "code",
      "source": [
        "print_scores(finetuned2)"
      ],
      "metadata": {
        "colab": {
          "base_uri": "https://localhost:8080/"
        },
        "id": "YQx1dpc9-SKH",
        "outputId": "c1975286-9795-41af-de0d-3ee3367db226"
      },
      "execution_count": 8,
      "outputs": [
        {
          "output_type": "stream",
          "name": "stdout",
          "text": [
            "rouge1 average : 0.1281659171011974\n",
            "rouge2 average : 0.01154114410850021\n",
            "rougeL average : 0.0986945382206697\n",
            "rougeLs average : 0.0986945382206697\n",
            "chrf average : 15.283129916822359\n"
          ]
        }
      ]
    },
    {
      "cell_type": "code",
      "source": [
        "print_scores(finetuned4)"
      ],
      "metadata": {
        "colab": {
          "base_uri": "https://localhost:8080/"
        },
        "id": "6DjBjw4E_OLK",
        "outputId": "88dfe581-e1b3-4b0e-df88-3ef641cb62df"
      },
      "execution_count": 9,
      "outputs": [
        {
          "output_type": "stream",
          "name": "stdout",
          "text": [
            "rouge1 average : 0.1371209269754283\n",
            "rouge2 average : 0.021711566176383357\n",
            "rougeL average : 0.09866068794467386\n",
            "rougeLs average : 0.09866068794467386\n",
            "chrf average : 22.592589835569214\n"
          ]
        }
      ]
    },
    {
      "cell_type": "code",
      "source": [
        "print_scores(finetuned6)"
      ],
      "metadata": {
        "colab": {
          "base_uri": "https://localhost:8080/"
        },
        "id": "FT3wGecx_PIx",
        "outputId": "a0e83331-2d77-4cb0-d6be-a9a43f8d8f25"
      },
      "execution_count": 10,
      "outputs": [
        {
          "output_type": "stream",
          "name": "stdout",
          "text": [
            "rouge1 average : 0.11044935717316122\n",
            "rouge2 average : 0.019648448996103896\n",
            "rougeL average : 0.08092515430217313\n",
            "rougeLs average : 0.08092515430217313\n",
            "chrf average : 19.33866004388859\n"
          ]
        }
      ]
    },
    {
      "cell_type": "code",
      "source": [
        "print_scores(finetuned7)"
      ],
      "metadata": {
        "colab": {
          "base_uri": "https://localhost:8080/"
        },
        "id": "po_hY2af_QQT",
        "outputId": "a67e5652-96e2-4132-8386-c321b5d3587e"
      },
      "execution_count": 11,
      "outputs": [
        {
          "output_type": "stream",
          "name": "stdout",
          "text": [
            "rouge1 average : 0.11604402663226955\n",
            "rouge2 average : 0.022702856867123013\n",
            "rougeL average : 0.0789725418927317\n",
            "rougeLs average : 0.0789725418927317\n",
            "chrf average : 19.102649031187003\n"
          ]
        }
      ]
    },
    {
      "cell_type": "code",
      "source": [
        "print_scores(finetuned8)"
      ],
      "metadata": {
        "id": "bcP9oBR-DA-z",
        "colab": {
          "base_uri": "https://localhost:8080/"
        },
        "outputId": "4d683b4d-221b-4e60-85f5-0042555bce23"
      },
      "execution_count": 12,
      "outputs": [
        {
          "output_type": "stream",
          "name": "stdout",
          "text": [
            "rouge1 average : 0.1535266311763216\n",
            "rouge2 average : 0.024369720389626898\n",
            "rougeL average : 0.11044849952248241\n",
            "rougeLs average : 0.11044849952248241\n",
            "chrf average : 23.638883878151788\n"
          ]
        }
      ]
    },
    {
      "cell_type": "code",
      "source": [
        "print_scores(finetuned_tech1)"
      ],
      "metadata": {
        "colab": {
          "base_uri": "https://localhost:8080/"
        },
        "id": "8zLdldKiu2ZE",
        "outputId": "39567831-f0ec-43e3-dd3e-cf6938f56990"
      },
      "execution_count": 14,
      "outputs": [
        {
          "output_type": "stream",
          "name": "stdout",
          "text": [
            "rouge1 average : 0.1451360205721021\n",
            "rouge2 average : 0.016879407335628288\n",
            "rougeL average : 0.09760098344892137\n",
            "rougeLs average : 0.09760098344892137\n",
            "chrf average : 23.383571924627404\n"
          ]
        }
      ]
    },
    {
      "cell_type": "code",
      "source": [],
      "metadata": {
        "id": "7G3XVer_vXJ4"
      },
      "execution_count": null,
      "outputs": []
    }
  ]
}