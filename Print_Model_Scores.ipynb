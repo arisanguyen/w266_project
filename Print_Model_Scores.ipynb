{
  "nbformat": 4,
  "nbformat_minor": 0,
  "metadata": {
    "colab": {
      "provenance": []
    },
    "kernelspec": {
      "name": "python3",
      "display_name": "Python 3"
    },
    "language_info": {
      "name": "python"
    }
  },
  "cells": [
    {
      "cell_type": "code",
      "source": [
        "from google.colab import drive\n",
        "drive.mount('/content/drive/')"
      ],
      "metadata": {
        "colab": {
          "base_uri": "https://localhost:8080/"
        },
        "id": "FI3G54nq94_r",
        "outputId": "52904a91-54a8-4464-d07f-03232b69e184"
      },
      "execution_count": 1,
      "outputs": [
        {
          "output_type": "stream",
          "name": "stdout",
          "text": [
            "Mounted at /content/drive/\n"
          ]
        }
      ]
    },
    {
      "cell_type": "code",
      "execution_count": 2,
      "metadata": {
        "id": "Pi0HgNS19icW"
      },
      "outputs": [],
      "source": [
        "import pandas as pd"
      ]
    },
    {
      "cell_type": "code",
      "source": [
        "def print_scores(df):\n",
        "  print('rouge1 average :', df['rouge1'].mean())\n",
        "  print('rouge2 average :', df['rouge2'].mean())\n",
        "  print('rougeL average :', df['rogueL'].mean())\n",
        "  print('rougeLs average :', df['rogueLs'].mean())\n",
        "  print('chrf average :', df['chrf'].mean())"
      ],
      "metadata": {
        "id": "PRwbL4Ff-ZuD"
      },
      "execution_count": 3,
      "outputs": []
    },
    {
      "cell_type": "markdown",
      "source": [
        "All Model Scores"
      ],
      "metadata": {
        "id": "pS_a6gA_VqWu"
      }
    },
    {
      "cell_type": "code",
      "source": [
        "import os\n",
        "\n",
        "os.listdir('/content/drive/MyDrive/W266FinalProject/test_candidates/')"
      ],
      "metadata": {
        "colab": {
          "base_uri": "https://localhost:8080/"
        },
        "id": "I-mzRezRVrox",
        "outputId": "eef23072-624b-4eba-a8d0-9139d38c82b3"
      },
      "execution_count": 6,
      "outputs": [
        {
          "output_type": "execute_result",
          "data": {
            "text/plain": [
              "['t5_all_categories_finetuned.csv',\n",
              " 'bart_all_categories_finetuned.csv',\n",
              " 'bart_tech_finetuned.csv',\n",
              " 't5_tech_finetuned.csv',\n",
              " 't5_all_categories_base.csv',\n",
              " 't5_tech_base.csv',\n",
              " 'baseline_all_categories.csv',\n",
              " 'baseline_tech_all_categories.csv',\n",
              " 'bert_all_categories.csv',\n",
              " 'bert_tech.csv',\n",
              " 'bart_tech_base.csv',\n",
              " 'for_scoring',\n",
              " 'bart_all_categories_base.csv']"
            ]
          },
          "metadata": {},
          "execution_count": 6
        }
      ]
    },
    {
      "cell_type": "code",
      "source": [
        "baseline = pd.read_csv('/content/drive/MyDrive/W266FinalProject/test_candidates/baseline_all_categories.csv')\n",
        "baseline = baseline.rename(columns={'Unnamed: 0': 'id'})"
      ],
      "metadata": {
        "id": "4N_eHC7aVvoi"
      },
      "execution_count": 7,
      "outputs": []
    },
    {
      "cell_type": "code",
      "source": [
        "print_scores(baseline)"
      ],
      "metadata": {
        "colab": {
          "base_uri": "https://localhost:8080/"
        },
        "id": "4RqsTxlWV_AJ",
        "outputId": "803a4962-695c-4f15-d51e-be018ac249fd"
      },
      "execution_count": 13,
      "outputs": [
        {
          "output_type": "stream",
          "name": "stdout",
          "text": [
            "rouge1 average : 0.19133312513637052\n",
            "rouge2 average : 0.02937056797124803\n",
            "rougeL average : 0.12669268518181784\n",
            "rougeLs average : 0.12669268518181784\n",
            "chrf average : 27.03051908844659\n"
          ]
        }
      ]
    },
    {
      "cell_type": "code",
      "source": [
        "t5_base = pd.read_csv('/content/drive/MyDrive/W266FinalProject/test_candidates/t5_all_categories_base.csv')\n",
        "t5_base = t5_base.rename(columns={'Unnamed: 0': 'id'})"
      ],
      "metadata": {
        "id": "0jxHTeMJV0Hc"
      },
      "execution_count": 8,
      "outputs": []
    },
    {
      "cell_type": "code",
      "source": [
        "print_scores(t5_base)"
      ],
      "metadata": {
        "colab": {
          "base_uri": "https://localhost:8080/"
        },
        "id": "O25RZOyxWAKU",
        "outputId": "89465679-f802-40f5-aa69-558f04d02abc"
      },
      "execution_count": 14,
      "outputs": [
        {
          "output_type": "stream",
          "name": "stdout",
          "text": [
            "rouge1 average : 0.20696283047603609\n",
            "rouge2 average : 0.04017271566660002\n",
            "rougeL average : 0.1447713155898578\n",
            "rougeLs average : 0.1447713155898578\n",
            "chrf average : 27.761420857966414\n"
          ]
        }
      ]
    },
    {
      "cell_type": "code",
      "source": [
        "t5_finetune = pd.read_csv('/content/drive/MyDrive/W266FinalProject/test_candidates/t5_all_categories_finetuned.csv')\n",
        "t5_finetune = t5_finetune.rename(columns={'Unnamed: 0': 'id'})"
      ],
      "metadata": {
        "id": "L3KIFB6cV2F1"
      },
      "execution_count": 9,
      "outputs": []
    },
    {
      "cell_type": "code",
      "source": [
        "print_scores(t5_finetune)"
      ],
      "metadata": {
        "colab": {
          "base_uri": "https://localhost:8080/"
        },
        "id": "MOIS5SUdWCUy",
        "outputId": "b559cc88-2fe6-45a1-f9a8-b863d880adec"
      },
      "execution_count": 15,
      "outputs": [
        {
          "output_type": "stream",
          "name": "stdout",
          "text": [
            "rouge1 average : 0.21933763902862263\n",
            "rouge2 average : 0.04598146383127719\n",
            "rougeL average : 0.15632816550769743\n",
            "rougeLs average : 0.15632816550769743\n",
            "chrf average : 22.496347369500008\n"
          ]
        }
      ]
    },
    {
      "cell_type": "code",
      "source": [
        "bart_base = pd.read_csv('/content/drive/MyDrive/W266FinalProject/test_candidates/bart_all_categories_base.csv')\n",
        "bart_base = bart_base.rename(columns={'Unnamed: 0': 'id'})"
      ],
      "metadata": {
        "id": "CYsOyVHOV30v"
      },
      "execution_count": 10,
      "outputs": []
    },
    {
      "cell_type": "code",
      "source": [
        "print_scores(bart_base)"
      ],
      "metadata": {
        "colab": {
          "base_uri": "https://localhost:8080/"
        },
        "id": "UI-03V1DWEBV",
        "outputId": "25b9fb05-d759-463d-ee26-0497ab2dfaee"
      },
      "execution_count": 16,
      "outputs": [
        {
          "output_type": "stream",
          "name": "stdout",
          "text": [
            "rouge1 average : 0.12215819036991547\n",
            "rouge2 average : 0.029897189612744568\n",
            "rougeL average : 0.08022944584964284\n",
            "rougeLs average : 0.08022944584964284\n",
            "chrf average : 20.545083104794756\n"
          ]
        }
      ]
    },
    {
      "cell_type": "code",
      "source": [
        "bart_finetune = pd.read_csv('/content/drive/MyDrive/W266FinalProject/test_candidates/bart_all_categories_finetuned.csv')\n",
        "bart_finetune = bart_finetune.rename(columns={'Unnamed: 0': 'id'})"
      ],
      "metadata": {
        "id": "A_Im7I_jV5kZ"
      },
      "execution_count": 11,
      "outputs": []
    },
    {
      "cell_type": "code",
      "source": [
        "print_scores(bart_finetune)"
      ],
      "metadata": {
        "colab": {
          "base_uri": "https://localhost:8080/"
        },
        "id": "9cuKwL1rWGLL",
        "outputId": "1f151ec9-883c-4fa0-b7d0-148e4f4c551b"
      },
      "execution_count": 17,
      "outputs": [
        {
          "output_type": "stream",
          "name": "stdout",
          "text": [
            "rouge1 average : 0.29647577944389075\n",
            "rouge2 average : 0.08889933188986054\n",
            "rougeL average : 0.22296322897911577\n",
            "rougeLs average : 0.22296322897911577\n",
            "chrf average : 27.469024403062186\n"
          ]
        }
      ]
    },
    {
      "cell_type": "code",
      "source": [
        "bert = pd.read_csv('/content/drive/MyDrive/W266FinalProject/test_candidates/bert_all_categories.csv')\n",
        "bert = bert.rename(columns={'Unnamed: 0': 'id'})"
      ],
      "metadata": {
        "id": "x9YX0qmQV7Eh"
      },
      "execution_count": 12,
      "outputs": []
    },
    {
      "cell_type": "code",
      "source": [
        "print_scores(bert)"
      ],
      "metadata": {
        "colab": {
          "base_uri": "https://localhost:8080/"
        },
        "id": "C5aXUz5NV9SJ",
        "outputId": "0e18467d-d696-4ef9-91fb-3857a88f1b4a"
      },
      "execution_count": 18,
      "outputs": [
        {
          "output_type": "stream",
          "name": "stdout",
          "text": [
            "rouge1 average : 0.18751794780976513\n",
            "rouge2 average : 0.02449131701058454\n",
            "rougeL average : 0.12851702714997285\n",
            "rougeLs average : 0.12851702714997285\n",
            "chrf average : 26.327214111062393\n"
          ]
        }
      ]
    },
    {
      "cell_type": "code",
      "source": [],
      "metadata": {
        "id": "MSE7SAVfWI9e"
      },
      "execution_count": null,
      "outputs": []
    }
  ]
}