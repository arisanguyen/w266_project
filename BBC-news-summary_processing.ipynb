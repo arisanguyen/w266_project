{
 "cells": [
  {
   "cell_type": "markdown",
   "id": "0d3b5a62",
   "metadata": {},
   "source": [
    "**Packages**"
   ]
  },
  {
   "cell_type": "code",
   "execution_count": 4,
   "id": "dacdaf3d",
   "metadata": {},
   "outputs": [],
   "source": [
    "import numpy as np\n",
    "import pandas as pd\n",
    "import matplotlib.pyplot as plt \n",
    "\n",
    "from datasets import load_dataset\n",
    "import evaluate\n",
    "\n",
    "#let's make longer output readable without horizontal scrolling\n",
    "from pprint import pprint"
   ]
  },
  {
   "cell_type": "markdown",
   "id": "ae950a0f",
   "metadata": {},
   "source": [
    "**Necessary Functions**"
   ]
  },
  {
   "cell_type": "code",
   "execution_count": 5,
   "id": "18d2e549",
   "metadata": {},
   "outputs": [],
   "source": [
    "rouge = evaluate.load('rouge')"
   ]
  },
  {
   "cell_type": "markdown",
   "id": "dfff15c5",
   "metadata": {},
   "source": [
    "**Data**"
   ]
  },
  {
   "cell_type": "code",
   "execution_count": 6,
   "id": "1c314e56",
   "metadata": {},
   "outputs": [
    {
     "name": "stderr",
     "output_type": "stream",
     "text": [
      "Found cached dataset csv (C:/Users/arisa/.cache/huggingface/datasets/gopalkalpande___csv/gopalkalpande--bbc-news-summary-f610c9f6377bc0fc/0.0.0/6b34fb8fcf56f7c8ba51dc895bfa2bfbe43546f190a60fcf74bb5e8afdcc2317)\n"
     ]
    },
    {
     "data": {
      "application/vnd.jupyter.widget-view+json": {
       "model_id": "e796c3396f394b508b55507b92f5ff43",
       "version_major": 2,
       "version_minor": 0
      },
      "text/plain": [
       "  0%|          | 0/1 [00:00<?, ?it/s]"
      ]
     },
     "metadata": {},
     "output_type": "display_data"
    }
   ],
   "source": [
    "dataset = load_dataset(\"gopalkalpande/bbc-news-summary\")"
   ]
  },
  {
   "cell_type": "code",
   "execution_count": 8,
   "id": "111f7985",
   "metadata": {},
   "outputs": [
    {
     "data": {
      "text/plain": [
       "2224"
      ]
     },
     "execution_count": 8,
     "metadata": {},
     "output_type": "execute_result"
    }
   ],
   "source": [
    "# EDA\n",
    "len(dataset['train'])"
   ]
  },
  {
   "cell_type": "code",
   "execution_count": 59,
   "id": "a7430c88",
   "metadata": {},
   "outputs": [
    {
     "data": {
      "text/plain": [
       "{'File_path': 'politics',\n",
       " 'Articles': 'Army chiefs in regiments decision..Military chiefs are expected to meet to make a final decision on the future of Scotland\\'s Army regiments...A committee of the Army Board, which is made up of the most senior defence figures, will discuss plans for restructuring regiments on Monday. The proposals include cutting Scotland\\'s six single-battalion regiments to five and merging these into a super regiment. The plans have faced stiff opposition from campaigners and politicians alike. The committee\\'s decision must be ratified by Defence Secretary Geoff Hoon and Prime Minister Tony Blair. It is expected that it will be made public next week. When ministers announced a reorganisation of the Army it drew a question mark over the futures of the Black Watch, the Kings Own Scottish Borderers, the Royal Scots, the Royal Highland Fusiliers and the Argyll and Sutherland Highlanders. In October, the Council of Scottish Colonels proposed the merger of the Royal Scots and the King\\'s Own Scottish Borderers into a single battalion...Under their vision, it would be one of five in the new super regiment. The proposals to either merge or amalgamate the six regiments into a super regiment sparked a political outcry, with Labour backbenchers and opposition politicians opposing the plan. They felt the timing was insensitive because the Black Watch was in the frontline in Iraq, suffering casualties. The Save the Scottish Regiments campaigners were so angered they threatened to stand against Labour at the next general election...Speaking ahead of the expected Army Board meeting, a spokesman said: \"The government and the Army Board have spent the past four months attempting to trick serving soldiers and the public into thinking their planned changes for the Scottish regiments are for the good of the Army and for that of the serving soldier. \"They are very much not for the good and will destroy Scotland\\'s regiments by moulding them into a single super regiment which will lead to severe recruitment problems, a loss of local connections to those regiments and a loss to Scotland of an important part of her heritage and, most importantly, her future - the regiments are the envy of armies around the world.\" An alternative blueprint had been put forward by Labour MP Eric Joyce, who proposed going ahead with the merger while preserving the other regiments. For a brief time, there was speculation the prime minister might consider the plan, but that now seems unlikely. Speaking in Scotland last week, Mr Blair said the aim was to preserve tradition but introduce a more effective structure and hinted that a super regiment was likely. He said: \"They don\\'t want to get rid of the history or the traditions of the regiment or the local connections - far from it, all they want to do is make sure they can transfer people easily across regiments and deploy them more flexibly.\" The prime minister said he hoped campaigners\\' concerns would be taken into account but the need for effective change had to be paramount.',\n",
       " 'Summaries': '\"They are very much not for the good and will destroy Scotland\\'s regiments by moulding them into a single super regiment which will lead to severe recruitment problems, a loss of local connections to those regiments and a loss to Scotland of an important part of her heritage and, most importantly, her future - the regiments are the envy of armies around the world.\"The proposals to either merge or amalgamate the six regiments into a super regiment sparked a political outcry, with Labour backbenchers and opposition politicians opposing the plan.The proposals include cutting Scotland\\'s six single-battalion regiments to five and merging these into a super regiment.Speaking in Scotland last week, Mr Blair said the aim was to preserve tradition but introduce a more effective structure and hinted that a super regiment was likely.A committee of the Army Board, which is made up of the most senior defence figures, will discuss plans for restructuring regiments on Monday.Speaking ahead of the expected Army Board meeting, a spokesman said: \"The government and the Army Board have spent the past four months attempting to trick serving soldiers and the public into thinking their planned changes for the Scottish regiments are for the good of the Army and for that of the serving soldier.Under their vision, it would be one of five in the new super regiment.He said: \"They don\\'t want to get rid of the history or the traditions of the regiment or the local connections - far from it, all they want to do is make sure they can transfer people easily across regiments and deploy them more flexibly.\"'}"
      ]
     },
     "execution_count": 59,
     "metadata": {},
     "output_type": "execute_result"
    }
   ],
   "source": [
    "# EDA\n",
    "dataset['train'][1]"
   ]
  },
  {
   "cell_type": "code",
   "execution_count": 7,
   "id": "3e989944",
   "metadata": {},
   "outputs": [],
   "source": [
    "category = []\n",
    "title = []\n",
    "article = []\n",
    "summary = []\n",
    "\n",
    "for data in dataset['train']:\n",
    "    category.append(data['File_path'])\n",
    "    title.append(data['Articles'].split('..')[0])\n",
    "    article.append(data['Articles'][data['Articles'].index(\"..\") + 2:])\n",
    "    summary.append(data['Summaries'])"
   ]
  },
  {
   "cell_type": "code",
   "execution_count": 8,
   "id": "07c84091",
   "metadata": {},
   "outputs": [
    {
     "data": {
      "text/html": [
       "<div>\n",
       "<style scoped>\n",
       "    .dataframe tbody tr th:only-of-type {\n",
       "        vertical-align: middle;\n",
       "    }\n",
       "\n",
       "    .dataframe tbody tr th {\n",
       "        vertical-align: top;\n",
       "    }\n",
       "\n",
       "    .dataframe thead th {\n",
       "        text-align: right;\n",
       "    }\n",
       "</style>\n",
       "<table border=\"1\" class=\"dataframe\">\n",
       "  <thead>\n",
       "    <tr style=\"text-align: right;\">\n",
       "      <th></th>\n",
       "      <th>category</th>\n",
       "      <th>title</th>\n",
       "      <th>article</th>\n",
       "      <th>summary</th>\n",
       "    </tr>\n",
       "  </thead>\n",
       "  <tbody>\n",
       "    <tr>\n",
       "      <th>0</th>\n",
       "      <td>politics</td>\n",
       "      <td>Budget to set scene for election</td>\n",
       "      <td>Gordon Brown will seek to put the economy at t...</td>\n",
       "      <td>- Increase in the stamp duty threshold from £6...</td>\n",
       "    </tr>\n",
       "    <tr>\n",
       "      <th>1</th>\n",
       "      <td>politics</td>\n",
       "      <td>Army chiefs in regiments decision</td>\n",
       "      <td>Military chiefs are expected to meet to make a...</td>\n",
       "      <td>\"They are very much not for the good and will ...</td>\n",
       "    </tr>\n",
       "    <tr>\n",
       "      <th>2</th>\n",
       "      <td>politics</td>\n",
       "      <td>Howard denies split over ID cards</td>\n",
       "      <td>Michael Howard has denied his shadow cabinet w...</td>\n",
       "      <td>Michael Howard has denied his shadow cabinet w...</td>\n",
       "    </tr>\n",
       "    <tr>\n",
       "      <th>3</th>\n",
       "      <td>politics</td>\n",
       "      <td>Observers to monitor UK election</td>\n",
       "      <td>Ministers will invite international observers ...</td>\n",
       "      <td>The report said individual registration should...</td>\n",
       "    </tr>\n",
       "    <tr>\n",
       "      <th>4</th>\n",
       "      <td>politics</td>\n",
       "      <td>Kilroy names election seat target</td>\n",
       "      <td>Ex-chat show host Robert Kilroy-Silk is to con...</td>\n",
       "      <td>UKIP's leader, Roger Knapman, has said he is g...</td>\n",
       "    </tr>\n",
       "  </tbody>\n",
       "</table>\n",
       "</div>"
      ],
      "text/plain": [
       "   category                              title  \\\n",
       "0  politics   Budget to set scene for election   \n",
       "1  politics  Army chiefs in regiments decision   \n",
       "2  politics  Howard denies split over ID cards   \n",
       "3  politics   Observers to monitor UK election   \n",
       "4  politics  Kilroy names election seat target   \n",
       "\n",
       "                                             article  \\\n",
       "0  Gordon Brown will seek to put the economy at t...   \n",
       "1  Military chiefs are expected to meet to make a...   \n",
       "2  Michael Howard has denied his shadow cabinet w...   \n",
       "3  Ministers will invite international observers ...   \n",
       "4  Ex-chat show host Robert Kilroy-Silk is to con...   \n",
       "\n",
       "                                             summary  \n",
       "0  - Increase in the stamp duty threshold from £6...  \n",
       "1  \"They are very much not for the good and will ...  \n",
       "2  Michael Howard has denied his shadow cabinet w...  \n",
       "3  The report said individual registration should...  \n",
       "4  UKIP's leader, Roger Knapman, has said he is g...  "
      ]
     },
     "execution_count": 8,
     "metadata": {},
     "output_type": "execute_result"
    }
   ],
   "source": [
    "d = {'category': category, 'title': title, 'article': article, 'summary': summary}\n",
    "df = pd.DataFrame(data=d)\n",
    "df.head(5)"
   ]
  },
  {
   "cell_type": "markdown",
   "id": "9fddd341",
   "metadata": {},
   "source": [
    "**Baseline**"
   ]
  },
  {
   "cell_type": "code",
   "execution_count": 80,
   "id": "c1ebdb34",
   "metadata": {},
   "outputs": [],
   "source": [
    "base_r1 = []\n",
    "base_r2 = []\n",
    "base_rL = []\n",
    "base_rLs = []\n",
    "\n",
    "for i in range(len(df['article'])):\n",
    "\n",
    "    string = df['article'][i].replace('...', '. ')\n",
    "    \n",
    "    # first three sentences \n",
    "    candidate = \". \".join(string.split('. ')[0:3]) + \".\"\n",
    "    candidate = [candidate]\n",
    "    \n",
    "    ref = [df['summary'][i]]\n",
    "    \n",
    "    results = rouge.compute(predictions=candidate,\n",
    "                            references= ref)\n",
    "    \n",
    "    base_r1.append(results['rouge1'])\n",
    "    base_r2.append(results['rouge2'])\n",
    "    base_rL.append(results['rougeL'])\n",
    "    base_rLs.append(results['rougeLsum'])"
   ]
  },
  {
   "cell_type": "code",
   "execution_count": 82,
   "id": "ce41e77f",
   "metadata": {},
   "outputs": [
    {
     "name": "stdout",
     "output_type": "stream",
     "text": [
      "rouge1 average:  0.443348604683322\n",
      "rouge2 average:  0.3602253823635416\n",
      "rougeL average:  0.345243750111791\n",
      "rougeLs average: 0.345243750111791\n"
     ]
    }
   ],
   "source": [
    "print('rouge1 average: ', np.mean(base_r1))\n",
    "print('rouge2 average: ', np.mean(base_r2))\n",
    "print('rougeL average: ', np.mean(base_rL))\n",
    "print('rougeLs average:', np.mean(base_rLs))"
   ]
  },
  {
   "cell_type": "markdown",
   "id": "c81cd641",
   "metadata": {},
   "source": [
    "**BERT Extractive Model**"
   ]
  },
  {
   "cell_type": "code",
   "execution_count": null,
   "id": "43692a99",
   "metadata": {},
   "outputs": [],
   "source": [
    "from summarizer import Summarizer\n",
    "\n",
    "model = Summarizer()"
   ]
  },
  {
   "cell_type": "code",
   "execution_count": null,
   "id": "665a4a41",
   "metadata": {},
   "outputs": [],
   "source": [
    "bert_r1 = []\n",
    "bert_r2 = []\n",
    "bert_rL = []\n",
    "bert_rLs = []\n",
    "\n",
    "for i in range(len(df['article'])):\n",
    "\n",
    "    candidate = model(df['article'][i])[\"summary\"]    \n",
    "    candidate = [candidate]\n",
    "    #pprint(candidate[0], compact=True)\n",
    "    \n",
    "    ref = [df['summary'][i]]\n",
    "    \n",
    "    results = rouge.compute(predictions=candidate,\n",
    "                            references=ref)\n",
    "    \n",
    "    bert_r1.append(results['rouge1'])\n",
    "    bert_r2.append(results['rouge2'])\n",
    "    bert_rL.append(results['rougeL'])\n",
    "    bert_rLs.append(results['rougeLsum'])"
   ]
  },
  {
   "cell_type": "code",
   "execution_count": null,
   "id": "3c578883",
   "metadata": {},
   "outputs": [],
   "source": [
    "print('rouge1 average': np.mean(bert_r1))\n",
    "print('rouge2 average': np.mean(bert_r2))\n",
    "print('rougeL average': np.mean(bert_rL))\n",
    "print('rougeLs average': np.mean(bert_rLs))"
   ]
  },
  {
   "cell_type": "markdown",
   "id": "7885030a",
   "metadata": {},
   "source": [
    "**T5**"
   ]
  },
  {
   "cell_type": "code",
   "execution_count": 1,
   "id": "b8c596bf",
   "metadata": {
    "scrolled": true
   },
   "outputs": [
    {
     "name": "stderr",
     "output_type": "stream",
     "text": [
      "All model checkpoint layers were used when initializing TFT5ForConditionalGeneration.\n",
      "\n",
      "All the layers of TFT5ForConditionalGeneration were initialized from the model checkpoint at t5-base.\n",
      "If your task is similar to the task the model of the checkpoint was trained on, you can already use TFT5ForConditionalGeneration for predictions without further training.\n"
     ]
    }
   ],
   "source": [
    "from transformers import T5Tokenizer, TFT5ForConditionalGeneration\n",
    "\n",
    "t5model = TFT5ForConditionalGeneration.from_pretrained(\"t5-base\")\n",
    "t5tokenizer = T5Tokenizer.from_pretrained(\"t5-base\")"
   ]
  },
  {
   "cell_type": "code",
   "execution_count": null,
   "id": "08538473",
   "metadata": {
    "scrolled": true
   },
   "outputs": [],
   "source": [
    "t5_r1 = []\n",
    "t5_r2 = []\n",
    "t5_rL = []\n",
    "t5_rLs = []\n",
    "\n",
    "for i in range(len(df['article'])):\n",
    "\n",
    "    T5ARTICLE_TO_SUMMARIZE = 'summarize: ' + df['article'][i]\n",
    "\n",
    "    inputs = t5tokenizer(T5ARTICLE_TO_SUMMARIZE, max_length=1024, truncation=True, return_tensors=\"tf\")\n",
    "\n",
    "    summary_ids = t5model.generate(inputs[\"input_ids\"], \n",
    "                                  # ADD HYPER PARAMETERS HERE \n",
    "                                  )\n",
    "    \n",
    "    candidate = t5tokenizer.batch_decode(summary_ids, skip_special_tokens=True, clean_up_tokenization_spaces=False)\n",
    "    #pprint(candidate[0], compact=True)\n",
    "    \n",
    "    ref = [df['summary'][i]]\n",
    "    \n",
    "    results = rouge.compute(predictions=candidate,\n",
    "                            references=ref)\n",
    "    \n",
    "    t5_r1.append(results['rouge1'])\n",
    "    t5_r2.append(results['rouge2'])\n",
    "    t5_rL.append(results['rougeL'])\n",
    "    t5_rLs.append(results['rougeLsum'])"
   ]
  },
  {
   "cell_type": "code",
   "execution_count": null,
   "id": "1846f28c",
   "metadata": {},
   "outputs": [],
   "source": [
    "print('rouge1 average': np.mean(t5_r1))\n",
    "print('rouge2 average': np.mean(t5_r2))\n",
    "print('rougeL average': np.mean(t5_rL))\n",
    "print('rougeLs average': np.mean(t5_rLs))"
   ]
  },
  {
   "cell_type": "markdown",
   "id": "64a90379",
   "metadata": {},
   "source": [
    "**Pegasus**"
   ]
  },
  {
   "cell_type": "code",
   "execution_count": null,
   "id": "cbec4b9f",
   "metadata": {},
   "outputs": [],
   "source": [
    "from transformers import PegasusTokenizer, TFPegasusForConditionalGeneration\n",
    "\n",
    "cnnmodel = TFPegasusForConditionalGeneration.from_pretrained(\"google/pegasus-cnn_dailymail\", from_pt=True)\n",
    "cnntokenizer = PegasusTokenizer.from_pretrained(\"google/pegasus-cnn_dailymail\", from_pt=True)"
   ]
  },
  {
   "cell_type": "code",
   "execution_count": null,
   "id": "a3f8d4d3",
   "metadata": {},
   "outputs": [],
   "source": [
    "p_r1 = []\n",
    "p_r2 = []\n",
    "p_rL = []\n",
    "p_rLs = []\n",
    "\n",
    "for i in range(len(df['article'])):\n",
    "    \n",
    "    cnninputs = cnntokenizer(df['article'][i], max_length=1024, truncation=True, return_tensors=\"tf\")\n",
    "    \n",
    "    summary_ids = cnnmodel.generate(cnninputs[\"input_ids\"] \n",
    "                                   # ADD HYPER PARAMETERS HERE \n",
    "                                   )\n",
    "    \n",
    "    candidate = cnntokenizer.batch_decode(summary_ids, skip_special_tokens=True, clean_up_tokenization_spaces=False)\n",
    "    #pprint(candidate[0], compact=True)\n",
    "    \n",
    "    ref = [df['summary'][i]]\n",
    "    \n",
    "    results = rouge.compute(predictions=candidate,\n",
    "                            references=ref)\n",
    "    \n",
    "    p_r1.append(results['rouge1'])\n",
    "    p_r2.append(results['rouge2'])\n",
    "    p_rL.append(results['rougeL'])\n",
    "    p_rLs.append(results['rougeLsum'])"
   ]
  },
  {
   "cell_type": "markdown",
   "id": "6e7388f3",
   "metadata": {},
   "source": [
    "**BART**"
   ]
  },
  {
   "cell_type": "code",
   "execution_count": null,
   "id": "4151e5e7",
   "metadata": {},
   "outputs": [],
   "source": []
  }
 ],
 "metadata": {
  "kernelspec": {
   "display_name": "Python 3 (ipykernel)",
   "language": "python",
   "name": "python3"
  },
  "language_info": {
   "codemirror_mode": {
    "name": "ipython",
    "version": 3
   },
   "file_extension": ".py",
   "mimetype": "text/x-python",
   "name": "python",
   "nbconvert_exporter": "python",
   "pygments_lexer": "ipython3",
   "version": "3.8.11"
  }
 },
 "nbformat": 4,
 "nbformat_minor": 5
}
