{
  "cells": [
    {
      "cell_type": "markdown",
      "metadata": {
        "id": "7YS9mJeu74l3"
      },
      "source": [
        "To save in google drive"
      ],
      "id": "7YS9mJeu74l3"
    },
    {
      "cell_type": "code",
      "execution_count": 1,
      "metadata": {
        "id": "iJNi3yS_74Gx",
        "colab": {
          "base_uri": "https://localhost:8080/"
        },
        "outputId": "42c6ffb9-c3ce-4e00-bedd-997e5f5396d4"
      },
      "outputs": [
        {
          "output_type": "stream",
          "name": "stdout",
          "text": [
            "Drive already mounted at /content/drive/; to attempt to forcibly remount, call drive.mount(\"/content/drive/\", force_remount=True).\n"
          ]
        }
      ],
      "source": [
        "from google.colab import drive\n",
        "drive.mount('/content/drive/')"
      ],
      "id": "iJNi3yS_74Gx"
    },
    {
      "cell_type": "markdown",
      "metadata": {
        "id": "0d870553"
      },
      "source": [
        "**Packages**"
      ],
      "id": "0d870553"
    },
    {
      "cell_type": "code",
      "execution_count": 2,
      "metadata": {
        "colab": {
          "base_uri": "https://localhost:8080/"
        },
        "id": "BnAggqyOCae4",
        "outputId": "f0d3fd4f-c3fa-40cb-9d5b-0f3ab894da5c"
      },
      "outputs": [
        {
          "output_type": "stream",
          "name": "stdout",
          "text": [
            "Looking in indexes: https://pypi.org/simple, https://us-python.pkg.dev/colab-wheels/public/simple/\n",
            "Requirement already satisfied: summarizer in /usr/local/lib/python3.9/dist-packages (0.0.7)\n",
            "Requirement already satisfied: nltk in /usr/local/lib/python3.9/dist-packages (from summarizer) (3.8.1)\n",
            "Requirement already satisfied: tqdm in /usr/local/lib/python3.9/dist-packages (from nltk->summarizer) (4.65.0)\n",
            "Requirement already satisfied: regex>=2021.8.3 in /usr/local/lib/python3.9/dist-packages (from nltk->summarizer) (2022.10.31)\n",
            "Requirement already satisfied: joblib in /usr/local/lib/python3.9/dist-packages (from nltk->summarizer) (1.1.1)\n",
            "Requirement already satisfied: click in /usr/local/lib/python3.9/dist-packages (from nltk->summarizer) (8.1.3)\n"
          ]
        }
      ],
      "source": [
        "! pip install datasets --quiet\n",
        "! pip install evaluate --quiet\n",
        "! pip install rouge_score --quiet\n",
        "! pip install transformers --quiet\n",
        "! pip install -q sentencepiece --quiet\n",
        "! pip install summarizer"
      ],
      "id": "BnAggqyOCae4"
    },
    {
      "cell_type": "code",
      "execution_count": 3,
      "metadata": {
        "id": "dacdaf3d"
      },
      "outputs": [],
      "source": [
        "import numpy as np\n",
        "import pandas as pd\n",
        "import matplotlib.pyplot as plt \n",
        "\n",
        "from datasets import load_dataset\n",
        "import evaluate\n",
        "\n",
        "#let's make longer output readable without horizontal scrolling\n",
        "from pprint import pprint"
      ],
      "id": "dacdaf3d"
    },
    {
      "cell_type": "markdown",
      "metadata": {
        "id": "5f29e293"
      },
      "source": [
        "**Necessary Functions**"
      ],
      "id": "5f29e293"
    },
    {
      "cell_type": "code",
      "execution_count": 4,
      "metadata": {
        "id": "0f96edd6"
      },
      "outputs": [],
      "source": [
        "rouge = evaluate.load('rouge')"
      ],
      "id": "0f96edd6"
    },
    {
      "cell_type": "markdown",
      "metadata": {
        "id": "586a6d00"
      },
      "source": [
        "**Data**"
      ],
      "id": "586a6d00"
    },
    {
      "cell_type": "code",
      "execution_count": 5,
      "metadata": {
        "colab": {
          "base_uri": "https://localhost:8080/",
          "height": 87,
          "referenced_widgets": [
            "efb7517274794f0dbdfd7650cf781064",
            "e42bb9b030624accb093fabe857eda76",
            "8eacfca583974f8593acf74249ebf6ca",
            "bd080c280a5d4b5b846c870891e6b858",
            "663fa273c35a4ffc84f01f7fed5e6951",
            "db5702ff8c8a4b0abe11ca6f554e44d1",
            "305695ed61e748fcba079ab9838f976c",
            "e5fa34fc11694abb9e0bfc07365e91c4",
            "f298c48dc1d3420d9995f9faca40e31c",
            "6c3ea1add5634b65986ae693ebf7dbc4",
            "9733e671c4c1402db052016ef136dea9"
          ]
        },
        "id": "ec6c665e",
        "outputId": "404b8744-d0a8-48de-c459-3dd5e2513c67"
      },
      "outputs": [
        {
          "output_type": "stream",
          "name": "stderr",
          "text": [
            "WARNING:datasets.builder:Found cached dataset xlsum (/root/.cache/huggingface/datasets/csebuetnlp___xlsum/english/2.0.0/518ab0af76048660bcc2240ca6e8692a977c80e384ffb18fdddebaca6daebdce)\n"
          ]
        },
        {
          "output_type": "display_data",
          "data": {
            "text/plain": [
              "  0%|          | 0/3 [00:00<?, ?it/s]"
            ],
            "application/vnd.jupyter.widget-view+json": {
              "version_major": 2,
              "version_minor": 0,
              "model_id": "efb7517274794f0dbdfd7650cf781064"
            }
          },
          "metadata": {}
        }
      ],
      "source": [
        "dataset = load_dataset(\"csebuetnlp/xlsum\", \"english\")"
      ],
      "id": "ec6c665e"
    },
    {
      "cell_type": "code",
      "execution_count": 6,
      "metadata": {
        "colab": {
          "base_uri": "https://localhost:8080/"
        },
        "id": "111f7985",
        "outputId": "724883f8-3370-46eb-a8f6-6d543a965880"
      },
      "outputs": [
        {
          "output_type": "execute_result",
          "data": {
            "text/plain": [
              "306522"
            ]
          },
          "metadata": {},
          "execution_count": 6
        }
      ],
      "source": [
        "# EDA\n",
        "len(dataset['train'])"
      ],
      "id": "111f7985"
    },
    {
      "cell_type": "code",
      "execution_count": 7,
      "metadata": {
        "colab": {
          "base_uri": "https://localhost:8080/"
        },
        "id": "5f538fd8",
        "outputId": "a5bc9256-f7d4-4b2d-e9c9-077ad84bbfc4"
      },
      "outputs": [
        {
          "output_type": "execute_result",
          "data": {
            "text/plain": [
              "{'id': 'uk-scotland-highlands-islands-11069985',\n",
              " 'url': 'https://www.bbc.com/news/uk-scotland-highlands-islands-11069985',\n",
              " 'title': 'Huge tidal turbine installed at Orkney test site',\n",
              " 'summary': 'The massive tidal turbine AK1000 has been installed in 35m (114.8ft) of water at a test site in Orkney.',\n",
              " 'text': 'Atlantis Resources unveiled the marine energy device at Invergordon ahead of it being shipped to Kirkwall. Trials on the device will now be run at the European Marine Energy Centre test site off Eday. The device stands 22.5m (73ft) tall, weighs 1,300 tonnes and has two sets of blades on a single unit. It could generate enough power for 1,000 homes.'}"
            ]
          },
          "metadata": {},
          "execution_count": 7
        }
      ],
      "source": [
        "# EDA\n",
        "dataset['train'][1]"
      ],
      "id": "5f538fd8"
    },
    {
      "cell_type": "code",
      "execution_count": 8,
      "metadata": {
        "id": "6656d7bc"
      },
      "outputs": [],
      "source": [
        "# category = []\n",
        "title = []\n",
        "article = []\n",
        "summary = []\n",
        "\n",
        "for data in dataset['train']:\n",
        "    title.append(data['title']) \n",
        "    article.append(data['text'])\n",
        "    summary.append(data['summary'])"
      ],
      "id": "6656d7bc"
    },
    {
      "cell_type": "code",
      "execution_count": 9,
      "metadata": {
        "colab": {
          "base_uri": "https://localhost:8080/",
          "height": 337
        },
        "id": "66def3a2",
        "outputId": "62c19a50-05c0-4d9a-bda2-05ab4eeb32b2"
      },
      "outputs": [
        {
          "output_type": "execute_result",
          "data": {
            "text/plain": [
              "                                               title  \\\n",
              "0  Weather alert issued for gale force winds in W...   \n",
              "1   Huge tidal turbine installed at Orkney test site   \n",
              "2  Leeds stabbing: Man attacked outside betting shop   \n",
              "3  Could killing of Iranian general help Trump ge...   \n",
              "4  Coronavirus: 'I've moved out to protect my fam...   \n",
              "\n",
              "                                             article  \\\n",
              "0  The Met Office has issued a yellow weather war...   \n",
              "1  Atlantis Resources unveiled the marine energy ...   \n",
              "2  Police were called to the scene outside the Co...   \n",
              "3  Anthony ZurcherNorth America reporter@awzurche...   \n",
              "4  By Debbie JacksonBBC Scotland But while most o...   \n",
              "\n",
              "                                             summary  \n",
              "0  Winds could reach gale force in Wales with sto...  \n",
              "1  The massive tidal turbine AK1000 has been inst...  \n",
              "2  A man has been stabbed in broad daylight outsi...  \n",
              "3  It was inevitable that the fallout from the US...  \n",
              "4  Week four of social distancing is starting to ...  "
            ],
            "text/html": [
              "\n",
              "  <div id=\"df-7acc2659-2ee6-4601-8e01-4f29cae82be1\">\n",
              "    <div class=\"colab-df-container\">\n",
              "      <div>\n",
              "<style scoped>\n",
              "    .dataframe tbody tr th:only-of-type {\n",
              "        vertical-align: middle;\n",
              "    }\n",
              "\n",
              "    .dataframe tbody tr th {\n",
              "        vertical-align: top;\n",
              "    }\n",
              "\n",
              "    .dataframe thead th {\n",
              "        text-align: right;\n",
              "    }\n",
              "</style>\n",
              "<table border=\"1\" class=\"dataframe\">\n",
              "  <thead>\n",
              "    <tr style=\"text-align: right;\">\n",
              "      <th></th>\n",
              "      <th>title</th>\n",
              "      <th>article</th>\n",
              "      <th>summary</th>\n",
              "    </tr>\n",
              "  </thead>\n",
              "  <tbody>\n",
              "    <tr>\n",
              "      <th>0</th>\n",
              "      <td>Weather alert issued for gale force winds in W...</td>\n",
              "      <td>The Met Office has issued a yellow weather war...</td>\n",
              "      <td>Winds could reach gale force in Wales with sto...</td>\n",
              "    </tr>\n",
              "    <tr>\n",
              "      <th>1</th>\n",
              "      <td>Huge tidal turbine installed at Orkney test site</td>\n",
              "      <td>Atlantis Resources unveiled the marine energy ...</td>\n",
              "      <td>The massive tidal turbine AK1000 has been inst...</td>\n",
              "    </tr>\n",
              "    <tr>\n",
              "      <th>2</th>\n",
              "      <td>Leeds stabbing: Man attacked outside betting shop</td>\n",
              "      <td>Police were called to the scene outside the Co...</td>\n",
              "      <td>A man has been stabbed in broad daylight outsi...</td>\n",
              "    </tr>\n",
              "    <tr>\n",
              "      <th>3</th>\n",
              "      <td>Could killing of Iranian general help Trump ge...</td>\n",
              "      <td>Anthony ZurcherNorth America reporter@awzurche...</td>\n",
              "      <td>It was inevitable that the fallout from the US...</td>\n",
              "    </tr>\n",
              "    <tr>\n",
              "      <th>4</th>\n",
              "      <td>Coronavirus: 'I've moved out to protect my fam...</td>\n",
              "      <td>By Debbie JacksonBBC Scotland But while most o...</td>\n",
              "      <td>Week four of social distancing is starting to ...</td>\n",
              "    </tr>\n",
              "  </tbody>\n",
              "</table>\n",
              "</div>\n",
              "      <button class=\"colab-df-convert\" onclick=\"convertToInteractive('df-7acc2659-2ee6-4601-8e01-4f29cae82be1')\"\n",
              "              title=\"Convert this dataframe to an interactive table.\"\n",
              "              style=\"display:none;\">\n",
              "        \n",
              "  <svg xmlns=\"http://www.w3.org/2000/svg\" height=\"24px\"viewBox=\"0 0 24 24\"\n",
              "       width=\"24px\">\n",
              "    <path d=\"M0 0h24v24H0V0z\" fill=\"none\"/>\n",
              "    <path d=\"M18.56 5.44l.94 2.06.94-2.06 2.06-.94-2.06-.94-.94-2.06-.94 2.06-2.06.94zm-11 1L8.5 8.5l.94-2.06 2.06-.94-2.06-.94L8.5 2.5l-.94 2.06-2.06.94zm10 10l.94 2.06.94-2.06 2.06-.94-2.06-.94-.94-2.06-.94 2.06-2.06.94z\"/><path d=\"M17.41 7.96l-1.37-1.37c-.4-.4-.92-.59-1.43-.59-.52 0-1.04.2-1.43.59L10.3 9.45l-7.72 7.72c-.78.78-.78 2.05 0 2.83L4 21.41c.39.39.9.59 1.41.59.51 0 1.02-.2 1.41-.59l7.78-7.78 2.81-2.81c.8-.78.8-2.07 0-2.86zM5.41 20L4 18.59l7.72-7.72 1.47 1.35L5.41 20z\"/>\n",
              "  </svg>\n",
              "      </button>\n",
              "      \n",
              "  <style>\n",
              "    .colab-df-container {\n",
              "      display:flex;\n",
              "      flex-wrap:wrap;\n",
              "      gap: 12px;\n",
              "    }\n",
              "\n",
              "    .colab-df-convert {\n",
              "      background-color: #E8F0FE;\n",
              "      border: none;\n",
              "      border-radius: 50%;\n",
              "      cursor: pointer;\n",
              "      display: none;\n",
              "      fill: #1967D2;\n",
              "      height: 32px;\n",
              "      padding: 0 0 0 0;\n",
              "      width: 32px;\n",
              "    }\n",
              "\n",
              "    .colab-df-convert:hover {\n",
              "      background-color: #E2EBFA;\n",
              "      box-shadow: 0px 1px 2px rgba(60, 64, 67, 0.3), 0px 1px 3px 1px rgba(60, 64, 67, 0.15);\n",
              "      fill: #174EA6;\n",
              "    }\n",
              "\n",
              "    [theme=dark] .colab-df-convert {\n",
              "      background-color: #3B4455;\n",
              "      fill: #D2E3FC;\n",
              "    }\n",
              "\n",
              "    [theme=dark] .colab-df-convert:hover {\n",
              "      background-color: #434B5C;\n",
              "      box-shadow: 0px 1px 3px 1px rgba(0, 0, 0, 0.15);\n",
              "      filter: drop-shadow(0px 1px 2px rgba(0, 0, 0, 0.3));\n",
              "      fill: #FFFFFF;\n",
              "    }\n",
              "  </style>\n",
              "\n",
              "      <script>\n",
              "        const buttonEl =\n",
              "          document.querySelector('#df-7acc2659-2ee6-4601-8e01-4f29cae82be1 button.colab-df-convert');\n",
              "        buttonEl.style.display =\n",
              "          google.colab.kernel.accessAllowed ? 'block' : 'none';\n",
              "\n",
              "        async function convertToInteractive(key) {\n",
              "          const element = document.querySelector('#df-7acc2659-2ee6-4601-8e01-4f29cae82be1');\n",
              "          const dataTable =\n",
              "            await google.colab.kernel.invokeFunction('convertToInteractive',\n",
              "                                                     [key], {});\n",
              "          if (!dataTable) return;\n",
              "\n",
              "          const docLinkHtml = 'Like what you see? Visit the ' +\n",
              "            '<a target=\"_blank\" href=https://colab.research.google.com/notebooks/data_table.ipynb>data table notebook</a>'\n",
              "            + ' to learn more about interactive tables.';\n",
              "          element.innerHTML = '';\n",
              "          dataTable['output_type'] = 'display_data';\n",
              "          await google.colab.output.renderOutput(dataTable, element);\n",
              "          const docLink = document.createElement('div');\n",
              "          docLink.innerHTML = docLinkHtml;\n",
              "          element.appendChild(docLink);\n",
              "        }\n",
              "      </script>\n",
              "    </div>\n",
              "  </div>\n",
              "  "
            ]
          },
          "metadata": {},
          "execution_count": 9
        }
      ],
      "source": [
        "d = {'title': title, 'article': article, 'summary': summary}\n",
        "df = pd.DataFrame(data=d)\n",
        "df.head(5)"
      ],
      "id": "66def3a2"
    },
    {
      "cell_type": "markdown",
      "metadata": {
        "id": "5b4352f7"
      },
      "source": [
        "**T5**"
      ],
      "id": "5b4352f7"
    },
    {
      "cell_type": "code",
      "execution_count": 10,
      "metadata": {
        "colab": {
          "base_uri": "https://localhost:8080/"
        },
        "id": "ccdd1faf",
        "scrolled": true,
        "outputId": "c700d837-a380-4b26-b64d-935b8b840766"
      },
      "outputs": [
        {
          "output_type": "stream",
          "name": "stderr",
          "text": [
            "All model checkpoint layers were used when initializing TFT5ForConditionalGeneration.\n",
            "\n",
            "All the layers of TFT5ForConditionalGeneration were initialized from the model checkpoint at t5-base.\n",
            "If your task is similar to the task the model of the checkpoint was trained on, you can already use TFT5ForConditionalGeneration for predictions without further training.\n",
            "/usr/local/lib/python3.9/dist-packages/transformers/models/t5/tokenization_t5.py:163: FutureWarning: This tokenizer was incorrectly instantiated with a model max length of 512 which will be corrected in Transformers v5.\n",
            "For now, this behavior is kept to avoid breaking backwards compatibility when padding/encoding with `truncation is True`.\n",
            "- Be aware that you SHOULD NOT rely on t5-base automatically truncating your input to 512 when padding/encoding.\n",
            "- If you want to encode/pad to sequences longer than 512 you can either instantiate this tokenizer with `model_max_length` or pass `max_length` when encoding/padding.\n",
            "- To avoid this warning, please instantiate this tokenizer with `model_max_length` set to your preferred value.\n",
            "  warnings.warn(\n"
          ]
        }
      ],
      "source": [
        "from transformers import T5Tokenizer, TFT5ForConditionalGeneration\n",
        "\n",
        "t5model = TFT5ForConditionalGeneration.from_pretrained(\"t5-base\")\n",
        "t5tokenizer = T5Tokenizer.from_pretrained(\"t5-base\")"
      ],
      "id": "ccdd1faf"
    },
    {
      "cell_type": "code",
      "execution_count": 11,
      "metadata": {
        "id": "8NBlaSiwJ_wz"
      },
      "outputs": [],
      "source": [
        "import tensorflow as tf\n",
        "\n",
        "loss_fn = tf.keras.losses.SparseCategoricalCrossentropy(from_logits=True)\n",
        "optimizer = tf.keras.optimizers.Adam(learning_rate=1e-5)"
      ],
      "id": "8NBlaSiwJ_wz"
    },
    {
      "cell_type": "code",
      "execution_count": 12,
      "metadata": {
        "id": "hGfaHQoKKyiO"
      },
      "outputs": [],
      "source": [
        "num_epochs = 100\n",
        "batch_size=32"
      ],
      "id": "hGfaHQoKKyiO"
    },
    {
      "cell_type": "code",
      "execution_count": null,
      "metadata": {
        "id": "i7FhY34kKa5B",
        "colab": {
          "base_uri": "https://localhost:8080/"
        },
        "outputId": "77306d27-a92a-4ed6-95d3-068f17087915"
      },
      "outputs": [
        {
          "output_type": "stream",
          "name": "stderr",
          "text": [
            "Token indices sequence length is longer than the specified maximum sequence length for this model (762 > 512). Running this sequence through the model will result in indexing errors\n"
          ]
        }
      ],
      "source": [
        "for epoch in range(num_epochs):\n",
        "  input_ids = None\n",
        "  batch_df = df.sample(n=batch_size)\n",
        "  for i in batch_df.index:\n",
        "      encoded = t5tokenizer.encode_plus(df['article'][i], return_tensors='tf')\n",
        "      if input_ids is None:\n",
        "          input_ids = encoded['input_ids']\n",
        "      else:\n",
        "          input_ids = tf.concat([input_ids, encoded['input_ids']], axis=1)\n",
        "\n",
        "  with tf.GradientTape() as tape:\n",
        "      outputs = t5model(input_ids=input_ids)\n",
        "      logits = outputs.inputs\n",
        "      loss = loss_fn(input_ids, logits)\n",
        "  gradients = tape.gradient(loss, t5model.trainable_variables)\n",
        "  optimizer.apply_gradients(zip(gradients, t5model.trainable_variables))"
      ],
      "id": "i7FhY34kKa5B"
    },
    {
      "cell_type": "markdown",
      "source": [
        "#### T5 - summarize on val and score\n",
        "###### This needs to be edited to actually run on the val set"
      ],
      "metadata": {
        "id": "VVb-v6LYqsSb"
      },
      "id": "VVb-v6LYqsSb"
    },
    {
      "cell_type": "code",
      "execution_count": null,
      "metadata": {
        "id": "944f6c88",
        "scrolled": true
      },
      "outputs": [],
      "source": [
        "t5_r1 = []\n",
        "t5_r2 = []\n",
        "t5_rL = []\n",
        "t5_rLs = []\n",
        "\n",
        "for i in df.index:\n",
        "\n",
        "    T5ARTICLE_TO_SUMMARIZE = 'summarize: ' + df['article'][i]\n",
        "\n",
        "    inputs = t5tokenizer(T5ARTICLE_TO_SUMMARIZE, \n",
        "                         #max_length=1024, \n",
        "                         truncation=True, \n",
        "                         return_tensors=\"tf\")\n",
        "\n",
        "    summary_ids = t5model.generate(inputs[\"input_ids\"], \n",
        "                                  # ADD HYPER PARAMETERS HERE \n",
        "                                    num_beams = 4,\n",
        "                                    no_repeat_ngram_size = 3,  \n",
        "                                    min_length = 10\n",
        "                                  )\n",
        "    \n",
        "    candidate = t5tokenizer.batch_decode(summary_ids, skip_special_tokens=True, clean_up_tokenization_spaces=False)\n",
        "    #pprint(candidate[0], compact=True)\n",
        "    \n",
        "    ref = [df['summary'][i]]\n",
        "    \n",
        "    results = rouge.compute(predictions=candidate,\n",
        "                            references=ref)\n",
        "    \n",
        "    t5_r1.append(results['rouge1'])\n",
        "    t5_r2.append(results['rouge2'])\n",
        "    t5_rL.append(results['rougeL'])\n",
        "    t5_rLs.append(results['rougeLsum'])\n",
        "    \n",
        "    if i in np.arange(0, 2200, 100):\n",
        "        data = {'rouge1': t5_r1, 'rouge2': t5_r2, 'rogueL': t5_rL, 'rogueLs': t5_rLs}\n",
        "        scores = pd.DataFrame(data)\n",
        "        scores.to_csv(r'T5_scores.csv', index=False)\n",
        "        print(i)"
      ],
      "id": "944f6c88"
    },
    {
      "cell_type": "code",
      "execution_count": null,
      "metadata": {
        "id": "6b7675aa"
      },
      "outputs": [],
      "source": [
        "print('rouge1 average :', np.mean(t5_r1))\n",
        "print('rouge2 average :', np.mean(t5_r2))\n",
        "print('rougeL average :', np.mean(t5_rL))\n",
        "print('rougeLs average :', np.mean(t5_rLs))"
      ],
      "id": "6b7675aa"
    },
    {
      "cell_type": "code",
      "execution_count": null,
      "metadata": {
        "id": "8f0c0297-db1d-4c41-86b3-3ebb8829bf20"
      },
      "outputs": [],
      "source": [
        "data = {'rouge1': t5_r1, 'rouge2': t5_r2, 'rogueL': t5_rL, 'rogueLs': t5_rLs}\n",
        "\n",
        "scores = pd.DataFrame(data)\n",
        "\n",
        "scores.to_csv(r'/content/drive/MyDrive/W266FinalProject/T5_scores_hyps.csv', index=False)"
      ],
      "id": "8f0c0297-db1d-4c41-86b3-3ebb8829bf20"
    }
  ],
  "metadata": {
    "colab": {
      "provenance": []
    },
    "kernelspec": {
      "display_name": "Python 3 (ipykernel)",
      "language": "python",
      "name": "python3"
    },
    "language_info": {
      "codemirror_mode": {
        "name": "ipython",
        "version": 3
      },
      "file_extension": ".py",
      "mimetype": "text/x-python",
      "name": "python",
      "nbconvert_exporter": "python",
      "pygments_lexer": "ipython3",
      "version": "3.8.10"
    },
    "widgets": {
      "application/vnd.jupyter.widget-state+json": {
        "efb7517274794f0dbdfd7650cf781064": {
          "model_module": "@jupyter-widgets/controls",
          "model_name": "HBoxModel",
          "model_module_version": "1.5.0",
          "state": {
            "_dom_classes": [],
            "_model_module": "@jupyter-widgets/controls",
            "_model_module_version": "1.5.0",
            "_model_name": "HBoxModel",
            "_view_count": null,
            "_view_module": "@jupyter-widgets/controls",
            "_view_module_version": "1.5.0",
            "_view_name": "HBoxView",
            "box_style": "",
            "children": [
              "IPY_MODEL_e42bb9b030624accb093fabe857eda76",
              "IPY_MODEL_8eacfca583974f8593acf74249ebf6ca",
              "IPY_MODEL_bd080c280a5d4b5b846c870891e6b858"
            ],
            "layout": "IPY_MODEL_663fa273c35a4ffc84f01f7fed5e6951"
          }
        },
        "e42bb9b030624accb093fabe857eda76": {
          "model_module": "@jupyter-widgets/controls",
          "model_name": "HTMLModel",
          "model_module_version": "1.5.0",
          "state": {
            "_dom_classes": [],
            "_model_module": "@jupyter-widgets/controls",
            "_model_module_version": "1.5.0",
            "_model_name": "HTMLModel",
            "_view_count": null,
            "_view_module": "@jupyter-widgets/controls",
            "_view_module_version": "1.5.0",
            "_view_name": "HTMLView",
            "description": "",
            "description_tooltip": null,
            "layout": "IPY_MODEL_db5702ff8c8a4b0abe11ca6f554e44d1",
            "placeholder": "​",
            "style": "IPY_MODEL_305695ed61e748fcba079ab9838f976c",
            "value": "100%"
          }
        },
        "8eacfca583974f8593acf74249ebf6ca": {
          "model_module": "@jupyter-widgets/controls",
          "model_name": "FloatProgressModel",
          "model_module_version": "1.5.0",
          "state": {
            "_dom_classes": [],
            "_model_module": "@jupyter-widgets/controls",
            "_model_module_version": "1.5.0",
            "_model_name": "FloatProgressModel",
            "_view_count": null,
            "_view_module": "@jupyter-widgets/controls",
            "_view_module_version": "1.5.0",
            "_view_name": "ProgressView",
            "bar_style": "success",
            "description": "",
            "description_tooltip": null,
            "layout": "IPY_MODEL_e5fa34fc11694abb9e0bfc07365e91c4",
            "max": 3,
            "min": 0,
            "orientation": "horizontal",
            "style": "IPY_MODEL_f298c48dc1d3420d9995f9faca40e31c",
            "value": 3
          }
        },
        "bd080c280a5d4b5b846c870891e6b858": {
          "model_module": "@jupyter-widgets/controls",
          "model_name": "HTMLModel",
          "model_module_version": "1.5.0",
          "state": {
            "_dom_classes": [],
            "_model_module": "@jupyter-widgets/controls",
            "_model_module_version": "1.5.0",
            "_model_name": "HTMLModel",
            "_view_count": null,
            "_view_module": "@jupyter-widgets/controls",
            "_view_module_version": "1.5.0",
            "_view_name": "HTMLView",
            "description": "",
            "description_tooltip": null,
            "layout": "IPY_MODEL_6c3ea1add5634b65986ae693ebf7dbc4",
            "placeholder": "​",
            "style": "IPY_MODEL_9733e671c4c1402db052016ef136dea9",
            "value": " 3/3 [00:00&lt;00:00, 35.47it/s]"
          }
        },
        "663fa273c35a4ffc84f01f7fed5e6951": {
          "model_module": "@jupyter-widgets/base",
          "model_name": "LayoutModel",
          "model_module_version": "1.2.0",
          "state": {
            "_model_module": "@jupyter-widgets/base",
            "_model_module_version": "1.2.0",
            "_model_name": "LayoutModel",
            "_view_count": null,
            "_view_module": "@jupyter-widgets/base",
            "_view_module_version": "1.2.0",
            "_view_name": "LayoutView",
            "align_content": null,
            "align_items": null,
            "align_self": null,
            "border": null,
            "bottom": null,
            "display": null,
            "flex": null,
            "flex_flow": null,
            "grid_area": null,
            "grid_auto_columns": null,
            "grid_auto_flow": null,
            "grid_auto_rows": null,
            "grid_column": null,
            "grid_gap": null,
            "grid_row": null,
            "grid_template_areas": null,
            "grid_template_columns": null,
            "grid_template_rows": null,
            "height": null,
            "justify_content": null,
            "justify_items": null,
            "left": null,
            "margin": null,
            "max_height": null,
            "max_width": null,
            "min_height": null,
            "min_width": null,
            "object_fit": null,
            "object_position": null,
            "order": null,
            "overflow": null,
            "overflow_x": null,
            "overflow_y": null,
            "padding": null,
            "right": null,
            "top": null,
            "visibility": null,
            "width": null
          }
        },
        "db5702ff8c8a4b0abe11ca6f554e44d1": {
          "model_module": "@jupyter-widgets/base",
          "model_name": "LayoutModel",
          "model_module_version": "1.2.0",
          "state": {
            "_model_module": "@jupyter-widgets/base",
            "_model_module_version": "1.2.0",
            "_model_name": "LayoutModel",
            "_view_count": null,
            "_view_module": "@jupyter-widgets/base",
            "_view_module_version": "1.2.0",
            "_view_name": "LayoutView",
            "align_content": null,
            "align_items": null,
            "align_self": null,
            "border": null,
            "bottom": null,
            "display": null,
            "flex": null,
            "flex_flow": null,
            "grid_area": null,
            "grid_auto_columns": null,
            "grid_auto_flow": null,
            "grid_auto_rows": null,
            "grid_column": null,
            "grid_gap": null,
            "grid_row": null,
            "grid_template_areas": null,
            "grid_template_columns": null,
            "grid_template_rows": null,
            "height": null,
            "justify_content": null,
            "justify_items": null,
            "left": null,
            "margin": null,
            "max_height": null,
            "max_width": null,
            "min_height": null,
            "min_width": null,
            "object_fit": null,
            "object_position": null,
            "order": null,
            "overflow": null,
            "overflow_x": null,
            "overflow_y": null,
            "padding": null,
            "right": null,
            "top": null,
            "visibility": null,
            "width": null
          }
        },
        "305695ed61e748fcba079ab9838f976c": {
          "model_module": "@jupyter-widgets/controls",
          "model_name": "DescriptionStyleModel",
          "model_module_version": "1.5.0",
          "state": {
            "_model_module": "@jupyter-widgets/controls",
            "_model_module_version": "1.5.0",
            "_model_name": "DescriptionStyleModel",
            "_view_count": null,
            "_view_module": "@jupyter-widgets/base",
            "_view_module_version": "1.2.0",
            "_view_name": "StyleView",
            "description_width": ""
          }
        },
        "e5fa34fc11694abb9e0bfc07365e91c4": {
          "model_module": "@jupyter-widgets/base",
          "model_name": "LayoutModel",
          "model_module_version": "1.2.0",
          "state": {
            "_model_module": "@jupyter-widgets/base",
            "_model_module_version": "1.2.0",
            "_model_name": "LayoutModel",
            "_view_count": null,
            "_view_module": "@jupyter-widgets/base",
            "_view_module_version": "1.2.0",
            "_view_name": "LayoutView",
            "align_content": null,
            "align_items": null,
            "align_self": null,
            "border": null,
            "bottom": null,
            "display": null,
            "flex": null,
            "flex_flow": null,
            "grid_area": null,
            "grid_auto_columns": null,
            "grid_auto_flow": null,
            "grid_auto_rows": null,
            "grid_column": null,
            "grid_gap": null,
            "grid_row": null,
            "grid_template_areas": null,
            "grid_template_columns": null,
            "grid_template_rows": null,
            "height": null,
            "justify_content": null,
            "justify_items": null,
            "left": null,
            "margin": null,
            "max_height": null,
            "max_width": null,
            "min_height": null,
            "min_width": null,
            "object_fit": null,
            "object_position": null,
            "order": null,
            "overflow": null,
            "overflow_x": null,
            "overflow_y": null,
            "padding": null,
            "right": null,
            "top": null,
            "visibility": null,
            "width": null
          }
        },
        "f298c48dc1d3420d9995f9faca40e31c": {
          "model_module": "@jupyter-widgets/controls",
          "model_name": "ProgressStyleModel",
          "model_module_version": "1.5.0",
          "state": {
            "_model_module": "@jupyter-widgets/controls",
            "_model_module_version": "1.5.0",
            "_model_name": "ProgressStyleModel",
            "_view_count": null,
            "_view_module": "@jupyter-widgets/base",
            "_view_module_version": "1.2.0",
            "_view_name": "StyleView",
            "bar_color": null,
            "description_width": ""
          }
        },
        "6c3ea1add5634b65986ae693ebf7dbc4": {
          "model_module": "@jupyter-widgets/base",
          "model_name": "LayoutModel",
          "model_module_version": "1.2.0",
          "state": {
            "_model_module": "@jupyter-widgets/base",
            "_model_module_version": "1.2.0",
            "_model_name": "LayoutModel",
            "_view_count": null,
            "_view_module": "@jupyter-widgets/base",
            "_view_module_version": "1.2.0",
            "_view_name": "LayoutView",
            "align_content": null,
            "align_items": null,
            "align_self": null,
            "border": null,
            "bottom": null,
            "display": null,
            "flex": null,
            "flex_flow": null,
            "grid_area": null,
            "grid_auto_columns": null,
            "grid_auto_flow": null,
            "grid_auto_rows": null,
            "grid_column": null,
            "grid_gap": null,
            "grid_row": null,
            "grid_template_areas": null,
            "grid_template_columns": null,
            "grid_template_rows": null,
            "height": null,
            "justify_content": null,
            "justify_items": null,
            "left": null,
            "margin": null,
            "max_height": null,
            "max_width": null,
            "min_height": null,
            "min_width": null,
            "object_fit": null,
            "object_position": null,
            "order": null,
            "overflow": null,
            "overflow_x": null,
            "overflow_y": null,
            "padding": null,
            "right": null,
            "top": null,
            "visibility": null,
            "width": null
          }
        },
        "9733e671c4c1402db052016ef136dea9": {
          "model_module": "@jupyter-widgets/controls",
          "model_name": "DescriptionStyleModel",
          "model_module_version": "1.5.0",
          "state": {
            "_model_module": "@jupyter-widgets/controls",
            "_model_module_version": "1.5.0",
            "_model_name": "DescriptionStyleModel",
            "_view_count": null,
            "_view_module": "@jupyter-widgets/base",
            "_view_module_version": "1.2.0",
            "_view_name": "StyleView",
            "description_width": ""
          }
        }
      }
    }
  },
  "nbformat": 4,
  "nbformat_minor": 5
}