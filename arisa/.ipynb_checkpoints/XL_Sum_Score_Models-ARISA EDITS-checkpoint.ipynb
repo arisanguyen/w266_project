{
 "cells": [
  {
   "cell_type": "markdown",
   "id": "51d846cf",
   "metadata": {
    "id": "9b049999-077d-4d48-a02d-94c842050121",
    "tags": []
   },
   "source": [
    "**T5 Trained on XL SUM**"
   ]
  },
  {
   "cell_type": "markdown",
   "id": "554dfedb",
   "metadata": {
    "id": "f2d1de3e-85a6-4307-8abf-fbfcae0be263"
   },
   "source": [
    "**Packages**"
   ]
  },
  {
   "cell_type": "code",
   "execution_count": null,
   "id": "1f93ac3c",
   "metadata": {
    "colab": {
     "base_uri": "https://localhost:8080/"
    },
    "id": "H10Fp9-DHlAu",
    "outputId": "deb37d22-3a01-4599-fcd2-50f3bf58d388"
   },
   "outputs": [
    {
     "name": "stdout",
     "output_type": "stream",
     "text": [
      "\u001b[2K     \u001b[90m━━━━━━━━━━━━━━━━━━━━━━━━━━━━━━━━━━━━━━━\u001b[0m \u001b[32m468.7/468.7 KB\u001b[0m \u001b[31m7.4 MB/s\u001b[0m eta \u001b[36m0:00:00\u001b[0m\n",
      "\u001b[2K     \u001b[90m━━━━━━━━━━━━━━━━━━━━━━━━━━━━━━━━━━━━━━━\u001b[0m \u001b[32m212.2/212.2 KB\u001b[0m \u001b[31m8.1 MB/s\u001b[0m eta \u001b[36m0:00:00\u001b[0m\n",
      "\u001b[2K     \u001b[90m━━━━━━━━━━━━━━━━━━━━━━━━━━━━━━━━━━━━━━━━\u001b[0m \u001b[32m1.0/1.0 MB\u001b[0m \u001b[31m11.8 MB/s\u001b[0m eta \u001b[36m0:00:00\u001b[0m\n",
      "\u001b[2K     \u001b[90m━━━━━━━━━━━━━━━━━━━━━━━━━━━━━━━━━━━━━━━\u001b[0m \u001b[32m200.1/200.1 KB\u001b[0m \u001b[31m8.5 MB/s\u001b[0m eta \u001b[36m0:00:00\u001b[0m\n",
      "\u001b[2K     \u001b[90m━━━━━━━━━━━━━━━━━━━━━━━━━━━━━━━━━━━━━━━\u001b[0m \u001b[32m110.5/110.5 KB\u001b[0m \u001b[31m5.0 MB/s\u001b[0m eta \u001b[36m0:00:00\u001b[0m\n",
      "\u001b[2K     \u001b[90m━━━━━━━━━━━━━━━━━━━━━━━━━━━━━━━━━━━━━━━\u001b[0m \u001b[32m132.9/132.9 KB\u001b[0m \u001b[31m3.4 MB/s\u001b[0m eta \u001b[36m0:00:00\u001b[0m\n",
      "\u001b[2K     \u001b[90m━━━━━━━━━━━━━━━━━━━━━━━━━━━━━━━━━━━━━━\u001b[0m \u001b[32m264.6/264.6 KB\u001b[0m \u001b[31m13.0 MB/s\u001b[0m eta \u001b[36m0:00:00\u001b[0m\n",
      "\u001b[2K     \u001b[90m━━━━━━━━━━━━━━━━━━━━━━━━━━━━━━━━━━━━━━━\u001b[0m \u001b[32m114.2/114.2 KB\u001b[0m \u001b[31m3.9 MB/s\u001b[0m eta \u001b[36m0:00:00\u001b[0m\n",
      "\u001b[2K     \u001b[90m━━━━━━━━━━━━━━━━━━━━━━━━━━━━━━━━━━━━━━━\u001b[0m \u001b[32m158.8/158.8 KB\u001b[0m \u001b[31m6.7 MB/s\u001b[0m eta \u001b[36m0:00:00\u001b[0m\n",
      "\u001b[2K     \u001b[90m━━━━━━━━━━━━━━━━━━━━━━━━━━━━━━━━━━━━━━━━\u001b[0m \u001b[32m81.4/81.4 KB\u001b[0m \u001b[31m5.3 MB/s\u001b[0m eta \u001b[36m0:00:00\u001b[0m\n",
      "\u001b[?25h  Preparing metadata (setup.py) ... \u001b[?25l\u001b[?25hdone\n",
      "  Building wheel for rouge_score (setup.py) ... \u001b[?25l\u001b[?25hdone\n",
      "\u001b[2K     \u001b[90m━━━━━━━━━━━━━━━━━━━━━━━━━━━━━━━━━━━━━━━\u001b[0m \u001b[32m118.9/118.9 KB\u001b[0m \u001b[31m7.3 MB/s\u001b[0m eta \u001b[36m0:00:00\u001b[0m\n",
      "\u001b[2K     \u001b[90m━━━━━━━━━━━━━━━━━━━━━━━━━━━━━━━━━━━━━━━━\u001b[0m \u001b[32m6.8/6.8 MB\u001b[0m \u001b[31m83.6 MB/s\u001b[0m eta \u001b[36m0:00:00\u001b[0m\n",
      "\u001b[2K     \u001b[90m━━━━━━━━━━━━━━━━━━━━━━━━━━━━━━━━━━━━━━━━\u001b[0m \u001b[32m7.8/7.8 MB\u001b[0m \u001b[31m86.7 MB/s\u001b[0m eta \u001b[36m0:00:00\u001b[0m\n",
      "\u001b[2K     \u001b[90m━━━━━━━━━━━━━━━━━━━━━━━━━━━━━━━━━━━━━━━━\u001b[0m \u001b[32m1.3/1.3 MB\u001b[0m \u001b[31m34.7 MB/s\u001b[0m eta \u001b[36m0:00:00\u001b[0m\n",
      "\u001b[2K     \u001b[90m━━━━━━━━━━━━━━━━━━━━━━━━━━━━━━━━━━━━━━\u001b[0m \u001b[32m280.1/280.1 KB\u001b[0m \u001b[31m13.5 MB/s\u001b[0m eta \u001b[36m0:00:00\u001b[0m\n",
      "\u001b[?25h  Preparing metadata (setup.py) ... \u001b[?25l\u001b[?25hdone\n",
      "  Building wheel for summarizer (setup.py) ... \u001b[?25l\u001b[?25hdone\n"
     ]
    }
   ],
   "source": [
    "! pip install datasets --quiet\n",
    "! pip install evaluate --quiet\n",
    "! pip install rouge_score --quiet\n",
    "! pip install sacrebleu --quiet\n",
    "! pip install transformers --quiet\n",
    "! pip install -q sentencepiece --quiet\n",
    "! pip install summarizer --quiet"
   ]
  },
  {
   "cell_type": "code",
   "execution_count": null,
   "id": "84f4dde2",
   "metadata": {
    "id": "0dfe809d-a7a8-47b6-a2e0-2d7bf7d74fd7",
    "tags": []
   },
   "outputs": [],
   "source": [
    "import numpy as np\n",
    "import pandas as pd\n",
    "import matplotlib.pyplot as plt \n",
    "import math\n",
    "\n",
    "from datasets import load_dataset\n",
    "import evaluate\n",
    "\n",
    "import inspect\n",
    "\n",
    "#let's make longer output readable without horizontal scrolling\n",
    "from pprint import pprint\n",
    "\n",
    "import warnings\n",
    "\n",
    "import regex as re\n",
    "\n",
    "import os, re\n",
    "import time\n",
    "\n",
    "import tensorflow as tf\n",
    "from tensorflow import keras\n",
    "from tensorflow.keras import layers\n",
    "\n",
    "# These auto classes load the right type of tokenizer and model based on a model name\n",
    "from transformers import AutoTokenizer, TFAutoModel\n",
    "from transformers import pipeline\n",
    "from transformers import AutoModel"
   ]
  },
  {
   "cell_type": "markdown",
   "id": "86048c4a",
   "metadata": {
    "id": "99ef6ab7-aa59-479f-a0e8-e0e34a21dc7f"
   },
   "source": [
    "**Necessary Functions**"
   ]
  },
  {
   "cell_type": "code",
   "execution_count": null,
   "id": "c2cf2c91",
   "metadata": {
    "colab": {
     "base_uri": "https://localhost:8080/",
     "height": 49,
     "referenced_widgets": [
      "af3c983eed224075b1a3a42585f91947",
      "91254e18f939495295441718154836fb",
      "d89240a4be2243b3be5a64d57b8c160a",
      "bec4b57ecb1a44b0a3f25f7084c62cc0",
      "85ce31a903e144aaa9a951569504496d",
      "3002b86790bf4b198d0fca27f88b6b5b",
      "54d1534a313c4f18bbb9d9be452e3e14",
      "5bce665e2c0b4cad89382ba574100dc3",
      "4729c1d6f91340e2902f2d58969b219d",
      "8b77039615924b2bb0227971e90a1da3",
      "c2d2812b8f9a46fab445ac6dc893f9ad"
     ]
    },
    "id": "ce3330d3-069e-48dc-8a0b-e2ef7d72a2bf",
    "outputId": "d98aace3-8220-4abe-d49d-5f2afd09344a",
    "tags": []
   },
   "outputs": [
    {
     "data": {
      "application/vnd.jupyter.widget-view+json": {
       "model_id": "af3c983eed224075b1a3a42585f91947",
       "version_major": 2,
       "version_minor": 0
      },
      "text/plain": [
       "Downloading builder script:   0%|          | 0.00/6.27k [00:00<?, ?B/s]"
      ]
     },
     "metadata": {},
     "output_type": "display_data"
    }
   ],
   "source": [
    "rouge = evaluate.load('rouge')"
   ]
  },
  {
   "cell_type": "code",
   "execution_count": null,
   "id": "ac203b8c",
   "metadata": {
    "colab": {
     "base_uri": "https://localhost:8080/",
     "height": 49,
     "referenced_widgets": [
      "ee2bf0445b344cc18ddd407e71db373d",
      "5b3d25c146b646fba8bba569df4b2a91",
      "9bd004dbc2f04e0e9451fc3e1397bd38",
      "fae69c59478e435989c40cba0e850da6",
      "6d31983d4f08454cabd100c1e7d1ba2c",
      "35434eba2ea243aab9c26cca7d173a35",
      "3c39b49bb3874aa08c04073ecb8f7776",
      "85a7df61cb3b4e4ab9dfd72a47fb14c2",
      "3d096e6498274922882012c29f39734d",
      "a282908f5a72423aaec81afaf069fe8c",
      "c090d9e38e2c43f59b1991be72c02580"
     ]
    },
    "id": "216551a6-cb1e-4516-aa9b-b18d88807a72",
    "outputId": "0d470c14-9ee4-4c4a-e3a6-60370ce834f0"
   },
   "outputs": [
    {
     "data": {
      "application/vnd.jupyter.widget-view+json": {
       "model_id": "ee2bf0445b344cc18ddd407e71db373d",
       "version_major": 2,
       "version_minor": 0
      },
      "text/plain": [
       "Downloading builder script:   0%|          | 0.00/9.01k [00:00<?, ?B/s]"
      ]
     },
     "metadata": {},
     "output_type": "display_data"
    }
   ],
   "source": [
    "chrf = evaluate.load(\"chrf\")"
   ]
  },
  {
   "cell_type": "code",
   "execution_count": null,
   "id": "ffc8a67a",
   "metadata": {
    "id": "3a32aaf5-c5bb-4052-8b50-af66dbb96312"
   },
   "outputs": [],
   "source": [
    "def get_default_args(func):\n",
    "    signature = inspect.signature(func)\n",
    "    return {\n",
    "        k: v.default\n",
    "        for k, v in signature.parameters.items()\n",
    "        if v.default is not inspect.Parameter.empty\n",
    "    }"
   ]
  },
  {
   "cell_type": "markdown",
   "id": "85072b95",
   "metadata": {
    "id": "44de8cc2-471c-4ad3-b94d-8473c6c3c244",
    "tags": []
   },
   "source": [
    "**Huggingface Transformers Training Resources**"
   ]
  },
  {
   "cell_type": "markdown",
   "id": "b685d7c2",
   "metadata": {
    "id": "da6b616e-4e2b-46eb-83b7-75930d6a43ee"
   },
   "source": [
    "https://github.com/huggingface/transformers/blob/main/examples/pytorch/summarization/run_summarization.py\n",
    "\n",
    "https://www.databricks.com/blog/2023/03/20/fine-tuning-large-language-models-hugging-face-and-deepspeed.html\n",
    "\n",
    "https://gitlab.com/nicolalandro/summarization"
   ]
  },
  {
   "cell_type": "code",
   "execution_count": null,
   "id": "a4c20f38",
   "metadata": {
    "colab": {
     "base_uri": "https://localhost:8080/"
    },
    "id": "6kb51xsbIUDF",
    "outputId": "180bd493-02a8-48d7-9f82-68284384617e"
   },
   "outputs": [
    {
     "name": "stdout",
     "output_type": "stream",
     "text": [
      "Mounted at /content/drive/\n"
     ]
    }
   ],
   "source": [
    "from google.colab import drive\n",
    "drive.mount('/content/drive/')"
   ]
  },
  {
   "cell_type": "code",
   "execution_count": null,
   "id": "c134fb36",
   "metadata": {
    "id": "d3cd29df"
   },
   "outputs": [],
   "source": [
    "df = pd.read_csv('/content/drive/MyDrive/W266FinalProject/Datasets/xl_sum_sample_test.csv')\n",
    "# df.head(5)"
   ]
  },
  {
   "cell_type": "code",
   "execution_count": null,
   "id": "1ce1ff42",
   "metadata": {
    "id": "1144720c"
   },
   "outputs": [],
   "source": [
    "df_tech = pd.read_csv('/content/drive/MyDrive/W266FinalProject/Datasets/xl_sum_sample_test.csv')"
   ]
  },
  {
   "cell_type": "code",
   "execution_count": null,
   "id": "5efe1a92",
   "metadata": {
    "id": "ebvF5Z3E-bQl"
   },
   "outputs": [],
   "source": [
    "def generate_scores(mod, data, do_sample = False, num_beams = 1, top_k = 50, num_beam_groups = 1):\n",
    "\n",
    "  targets = []\n",
    "  candidates = []\n",
    "  r1 = []\n",
    "  r2 = []\n",
    "  rL = []\n",
    "  rLs = []\n",
    "  chrfs = []\n",
    "\n",
    "  for i in range(int(len(data['text']))):\n",
    "\n",
    "      candidate = mod(data['text'][i], \n",
    "                              truncation = True,\n",
    "                              max_length = 256,\n",
    "                              min_length = 0, \n",
    "                              do_sample = do_sample,\n",
    "                              num_beams = num_beams, \n",
    "                              top_k = top_k,\n",
    "                              num_beam_groups = num_beam_groups,\n",
    "                              )[0]\n",
    "      candidate = [candidate['summary_text']]\n",
    "\n",
    "      ref = [data['summary'][i]]\n",
    "\n",
    "      results = rouge.compute(predictions=candidate,\n",
    "                              references=ref)\n",
    "\n",
    "      targets.append(ref)\n",
    "      candidates.append(candidate)\n",
    "      r1.append(results['rouge1'])\n",
    "      r2.append(results['rouge2'])\n",
    "      rL.append(results['rougeL'])\n",
    "      rLs.append(results['rougeLsum'])\n",
    "\n",
    "      results = chrf.compute(predictions=candidate,\n",
    "                              references=ref)\n",
    "\n",
    "      chrfs.append(results['score'])\n",
    "  \n",
    "  return pd.DataFrame({'target': targets, 'candidate': candidates,\n",
    "                  'rouge1': r1, 'rouge2': r2, 'rougeL': rL, \n",
    "                      'rougeLs': rLs, 'chrf': chrfs})"
   ]
  },
  {
   "cell_type": "markdown",
   "id": "3b7c9f35",
   "metadata": {
    "id": "c9edd436"
   },
   "source": [
    "# T5 SCORES"
   ]
  },
  {
   "cell_type": "markdown",
   "id": "c99941e6",
   "metadata": {
    "id": "icBTG1L9HOV0"
   },
   "source": [
    "### Base"
   ]
  },
  {
   "cell_type": "code",
   "execution_count": null,
   "id": "2c11fc37",
   "metadata": {
    "colab": {
     "base_uri": "https://localhost:8080/"
    },
    "id": "WN8kYhZcHSvR",
    "outputId": "17fbdab2-f8b3-4736-b0b9-c1d42120b263"
   },
   "outputs": [
    {
     "name": "stderr",
     "output_type": "stream",
     "text": [
      "/usr/local/lib/python3.9/dist-packages/transformers/models/t5/tokenization_t5_fast.py:155: FutureWarning: This tokenizer was incorrectly instantiated with a model max length of 512 which will be corrected in Transformers v5.\n",
      "For now, this behavior is kept to avoid breaking backwards compatibility when padding/encoding with `truncation is True`.\n",
      "- Be aware that you SHOULD NOT rely on t5-base automatically truncating your input to 512 when padding/encoding.\n",
      "- If you want to encode/pad to sequences longer than 512 you can either instantiate this tokenizer with `model_max_length` or pass `max_length` when encoding/padding.\n",
      "- To avoid this warning, please instantiate this tokenizer with `model_max_length` set to your preferred value.\n",
      "  warnings.warn(\n"
     ]
    }
   ],
   "source": [
    "t5_base_summarizer = pipeline(\"summarization\", model=\"t5-base\")"
   ]
  },
  {
   "cell_type": "code",
   "execution_count": null,
   "id": "fe947163",
   "metadata": {
    "colab": {
     "base_uri": "https://localhost:8080/"
    },
    "id": "I6d2uxw5HSmP",
    "outputId": "f236c6ca-aafc-4385-a10f-23f8d9ef1873"
   },
   "outputs": [
    {
     "name": "stderr",
     "output_type": "stream",
     "text": [
      "Your max_length is set to 256, but you input_length is only 99. You might consider decreasing max_length manually, e.g. summarizer('...', max_length=49)\n",
      "Your max_length is set to 256, but you input_length is only 96. You might consider decreasing max_length manually, e.g. summarizer('...', max_length=48)\n",
      "Your max_length is set to 256, but you input_length is only 204. You might consider decreasing max_length manually, e.g. summarizer('...', max_length=102)\n",
      "Your max_length is set to 256, but you input_length is only 213. You might consider decreasing max_length manually, e.g. summarizer('...', max_length=106)\n",
      "Your max_length is set to 256, but you input_length is only 243. You might consider decreasing max_length manually, e.g. summarizer('...', max_length=121)\n",
      "Your max_length is set to 256, but you input_length is only 192. You might consider decreasing max_length manually, e.g. summarizer('...', max_length=96)\n",
      "Your max_length is set to 256, but you input_length is only 223. You might consider decreasing max_length manually, e.g. summarizer('...', max_length=111)\n",
      "Your max_length is set to 256, but you input_length is only 211. You might consider decreasing max_length manually, e.g. summarizer('...', max_length=105)\n",
      "Your max_length is set to 256, but you input_length is only 206. You might consider decreasing max_length manually, e.g. summarizer('...', max_length=103)\n",
      "Your max_length is set to 256, but you input_length is only 202. You might consider decreasing max_length manually, e.g. summarizer('...', max_length=101)\n",
      "Your max_length is set to 256, but you input_length is only 230. You might consider decreasing max_length manually, e.g. summarizer('...', max_length=115)\n",
      "Your max_length is set to 256, but you input_length is only 76. You might consider decreasing max_length manually, e.g. summarizer('...', max_length=38)\n"
     ]
    }
   ],
   "source": [
    "t5_base_scores_df = generate_scores(t5_base_summarizer, df, do_sample = False, num_beams = 4, top_k = 75, num_beam_groups = 2)"
   ]
  },
  {
   "cell_type": "code",
   "execution_count": null,
   "id": "d52b8a70",
   "metadata": {
    "id": "9hwePy2WMzY1"
   },
   "outputs": [],
   "source": [
    "t5_base_scores_df.to_csv('/content/drive/MyDrive/W266FinalProject/test_candidates/t5_all_categories_base.csv')"
   ]
  },
  {
   "cell_type": "markdown",
   "id": "f9637335",
   "metadata": {
    "id": "pLT7p5cEHTah"
   },
   "source": [
    "Technology category"
   ]
  },
  {
   "cell_type": "code",
   "execution_count": null,
   "id": "4a872ba3",
   "metadata": {
    "colab": {
     "base_uri": "https://localhost:8080/"
    },
    "id": "xu7Hs7vJHSeV",
    "outputId": "a4f298e7-2f8f-465d-a4bd-7b50d9015599"
   },
   "outputs": [
    {
     "name": "stderr",
     "output_type": "stream",
     "text": [
      "Your max_length is set to 256, but you input_length is only 99. You might consider decreasing max_length manually, e.g. summarizer('...', max_length=49)\n",
      "Your max_length is set to 256, but you input_length is only 96. You might consider decreasing max_length manually, e.g. summarizer('...', max_length=48)\n",
      "Your max_length is set to 256, but you input_length is only 204. You might consider decreasing max_length manually, e.g. summarizer('...', max_length=102)\n",
      "Your max_length is set to 256, but you input_length is only 213. You might consider decreasing max_length manually, e.g. summarizer('...', max_length=106)\n",
      "Your max_length is set to 256, but you input_length is only 243. You might consider decreasing max_length manually, e.g. summarizer('...', max_length=121)\n",
      "Your max_length is set to 256, but you input_length is only 192. You might consider decreasing max_length manually, e.g. summarizer('...', max_length=96)\n",
      "Your max_length is set to 256, but you input_length is only 223. You might consider decreasing max_length manually, e.g. summarizer('...', max_length=111)\n",
      "Your max_length is set to 256, but you input_length is only 211. You might consider decreasing max_length manually, e.g. summarizer('...', max_length=105)\n",
      "Your max_length is set to 256, but you input_length is only 206. You might consider decreasing max_length manually, e.g. summarizer('...', max_length=103)\n",
      "Your max_length is set to 256, but you input_length is only 202. You might consider decreasing max_length manually, e.g. summarizer('...', max_length=101)\n",
      "Your max_length is set to 256, but you input_length is only 230. You might consider decreasing max_length manually, e.g. summarizer('...', max_length=115)\n",
      "Your max_length is set to 256, but you input_length is only 76. You might consider decreasing max_length manually, e.g. summarizer('...', max_length=38)\n"
     ]
    }
   ],
   "source": [
    "t5_base_tech_scores_df = generate_scores(t5_base_summarizer, df, do_sample = False, num_beams = 4, top_k = 75, num_beam_groups = 2)"
   ]
  },
  {
   "cell_type": "code",
   "execution_count": null,
   "id": "a907c2f6",
   "metadata": {
    "id": "XLVOT1oEHSSS"
   },
   "outputs": [],
   "source": [
    "t5_base_tech_scores_df.to_csv('/content/drive/MyDrive/W266FinalProject/test_candidates/t5_tech_base.csv')"
   ]
  },
  {
   "cell_type": "markdown",
   "id": "ddd4c9bd",
   "metadata": {
    "id": "DIkKNmL2HMdd"
   },
   "source": [
    "### Finetuned"
   ]
  },
  {
   "cell_type": "code",
   "execution_count": null,
   "id": "91b5d1eb",
   "metadata": {
    "id": "40b34d76",
    "tags": []
   },
   "outputs": [],
   "source": [
    "t5_finetuned_summarizer = pipeline(\"summarization\", model=\"arisanguyen/finetuned_T5_all_categories\", revision = 'model_0')"
   ]
  },
  {
   "cell_type": "code",
   "execution_count": null,
   "id": "0464ffed",
   "metadata": {
    "id": "494f167a"
   },
   "outputs": [],
   "source": [
    "t5_scores_df = generate_scores(t5_finetuned_summarizer, df, do_sample = False, num_beams = 4, top_k = 75, num_beam_groups = 2)"
   ]
  },
  {
   "cell_type": "code",
   "execution_count": null,
   "id": "3c477e44",
   "metadata": {
    "id": "K0RbnQWgDprE"
   },
   "outputs": [],
   "source": [
    "t5_scores_df.to_csv('/content/drive/MyDrive/W266FinalProject/test_candidates/t5_all_categories_finetuned.csv')"
   ]
  },
  {
   "cell_type": "markdown",
   "id": "5e8cecf3",
   "metadata": {
    "id": "e86c7dcd"
   },
   "source": [
    "Technology category"
   ]
  },
  {
   "cell_type": "code",
   "execution_count": null,
   "id": "275d6dd4",
   "metadata": {
    "id": "b03710f5"
   },
   "outputs": [],
   "source": [
    "t5_tech_scores_df = generate_scores(t5_finetuned_summarizer, df_tech, do_sample = False, num_beams = 4, top_k = 75, num_beam_groups = 2)"
   ]
  },
  {
   "cell_type": "code",
   "execution_count": null,
   "id": "a05674cf",
   "metadata": {
    "id": "lg2aJt1HDVMl"
   },
   "outputs": [],
   "source": [
    "t5_tech_scores_df.to_csv('/content/drive/MyDrive/W266FinalProject/test_candidates/t5_tech_finetuned.csv')"
   ]
  },
  {
   "cell_type": "markdown",
   "id": "44cfb7e7",
   "metadata": {
    "id": "mR_vVaZnDk6p"
   },
   "source": [
    "# BART SCORES"
   ]
  },
  {
   "cell_type": "markdown",
   "id": "f3774475",
   "metadata": {
    "id": "6y4yRQ1VHCvz"
   },
   "source": [
    "### Base"
   ]
  },
  {
   "cell_type": "code",
   "execution_count": null,
   "id": "82be80e2",
   "metadata": {
    "id": "LE4KsfZtL7Ib"
   },
   "outputs": [],
   "source": [
    "def generate_bart_scores(tokenizer, model, data, do_sample = False, num_beams = 1, top_k = 50, num_beam_groups = 1):\n",
    "\n",
    "    targets = []\n",
    "    candidates = []\n",
    "    r1 = []\n",
    "    r2 = []\n",
    "    rL = []\n",
    "    rLs = []\n",
    "    chrfs = []\n",
    "\n",
    "  for i in range(int(len(data['text']))):\n",
    "      inputs = tokenizer(data[\"text\"][i], return_tensors=\"pt\", max_length=512, truncation=True)\n",
    "      summary_ids = model.generate(inputs[\"input_ids\"], num_beams=num_beams, min_length=0, max_length=256)\n",
    "      candidate = tokenizer.batch_decode(summary_ids, skip_special_tokens=True, clean_up_tokenization_spaces=False)[0]\n",
    "      candidate = [candidate]\n",
    "\n",
    "      ref = [data['summary'][i]]\n",
    "\n",
    "      results = rouge.compute(predictions=candidate,\n",
    "                              references=ref)\n",
    "\n",
    "      targets.append(ref)\n",
    "      candidates.append(candidate)\n",
    "      r1.append(results['rouge1'])\n",
    "      r2.append(results['rouge2'])\n",
    "      rL.append(results['rougeL'])\n",
    "      rLs.append(results['rougeLsum'])\n",
    "\n",
    "      results = chrf.compute(predictions=candidate,\n",
    "                              references=ref)\n",
    "\n",
    "      chrfs.append(results['score'])\n",
    "  \n",
    "  return pd.DataFrame({'target': targets, 'candidate': candidates,\n",
    "                  'rouge1': r1, 'rouge2': r2, 'rougeL': rL, \n",
    "                      'rougeLs': rLs, 'chrf': chrfs})"
   ]
  },
  {
   "cell_type": "code",
   "execution_count": null,
   "id": "16f14d28",
   "metadata": {
    "colab": {
     "base_uri": "https://localhost:8080/",
     "height": 49,
     "referenced_widgets": [
      "2d8bab8a62014dc58f984d5c5bf3d96d",
      "63825abf575f4ffc956fcb64fa0bbb2d",
      "9bc6a757b36c41a683d5c45fd19c17ec",
      "686b975c7d524d41ae8be3b704b01224",
      "2081055fbb484e4b92a86b8b6c4fc107",
      "bd755ece546c45e4ade062c2f06887f1",
      "3479ad5e2c12468887b23d319ce70db3",
      "6e90e0f7cd104a0280f8176a6f114883",
      "de80097fb6fa4f1ea49f83e7f4a4776a",
      "2e211f35e2444f50b4977126d67502ae",
      "05af70a114ef45c4ba70a3bc2071c2db"
     ]
    },
    "id": "n2y6DnN-LnpA",
    "outputId": "e352914a-d726-4756-8e65-ab01d30cf687"
   },
   "outputs": [
    {
     "data": {
      "application/vnd.jupyter.widget-view+json": {
       "model_id": "2d8bab8a62014dc58f984d5c5bf3d96d",
       "version_major": 2,
       "version_minor": 0
      },
      "text/plain": [
       "Downloading (…)/main/tokenizer.json:   0%|          | 0.00/1.36M [00:00<?, ?B/s]"
      ]
     },
     "metadata": {},
     "output_type": "display_data"
    }
   ],
   "source": [
    "from transformers import AutoTokenizer, BartForConditionalGeneration\n",
    "\n",
    "bart_model = BartForConditionalGeneration.from_pretrained(\"facebook/bart-base\")\n",
    "bart_tokenizer = AutoTokenizer.from_pretrained(\"facebook/bart-base\")"
   ]
  },
  {
   "cell_type": "code",
   "execution_count": null,
   "id": "0ffde430",
   "metadata": {
    "id": "V489WuZgNn2E"
   },
   "outputs": [],
   "source": [
    "bart_base_scores_df = generate_bart_scores(bart_tokenizer, bart_model, df, do_sample = False, num_beams = 4, top_k = 75, num_beam_groups = 2)"
   ]
  },
  {
   "cell_type": "code",
   "execution_count": null,
   "id": "43347930",
   "metadata": {
    "id": "CMybOUSJHFIF"
   },
   "outputs": [],
   "source": [
    "bart_base_scores_df.to_csv('/content/drive/MyDrive/W266FinalProject/test_candidates/bart_all_categories_base.csv')"
   ]
  },
  {
   "cell_type": "markdown",
   "id": "fc812154",
   "metadata": {
    "id": "WfBcUMuTHIJ2"
   },
   "source": [
    "Technology category"
   ]
  },
  {
   "cell_type": "code",
   "execution_count": null,
   "id": "da46c978",
   "metadata": {
    "id": "Ni9TFMu7HH0n"
   },
   "outputs": [],
   "source": [
    "bart_base_tech_scores_df = generate_bart_scores(bart_tokenizer, bart_model, df_tech, do_sample = False, num_beams = 4, top_k = 75, num_beam_groups = 2)"
   ]
  },
  {
   "cell_type": "code",
   "execution_count": null,
   "id": "ea4981b4",
   "metadata": {
    "id": "3ESeNCVLHHms"
   },
   "outputs": [],
   "source": [
    "bart_base_tech_scores_df.to_csv('/content/drive/MyDrive/W266FinalProject/test_candidates/bart_tech_base.csv')"
   ]
  },
  {
   "cell_type": "markdown",
   "id": "8f1614ca",
   "metadata": {
    "id": "0O73CwomHA94"
   },
   "source": [
    "### Finetuned"
   ]
  },
  {
   "cell_type": "code",
   "execution_count": null,
   "id": "a64364a2",
   "metadata": {
    "id": "LKWXqjCxDnJh"
   },
   "outputs": [],
   "source": [
    "bart_finetuned_summarizer = pipeline(\"summarization\", model=\"arisanguyen/finetuned-BART-all-categories\", revision = 'model_2')"
   ]
  },
  {
   "cell_type": "code",
   "execution_count": null,
   "id": "7292c500",
   "metadata": {
    "id": "--QLi27QFqJq"
   },
   "outputs": [],
   "source": [
    "bart_scores_df = generate_scores(bart_finetuned_summarizer, df, do_sample = True, num_beams = 4, top_k = 75, num_beam_groups = 2)"
   ]
  },
  {
   "cell_type": "code",
   "execution_count": null,
   "id": "cc43359c",
   "metadata": {
    "id": "SWfHvX63FumQ"
   },
   "outputs": [],
   "source": [
    "bart_scores_df.to_csv('/content/drive/MyDrive/W266FinalProject/test_candidates/bart_all_categories_finetuned.csv')"
   ]
  },
  {
   "cell_type": "markdown",
   "id": "cc692cf6",
   "metadata": {
    "id": "1cloH4QrFnc_"
   },
   "source": [
    "Technology category"
   ]
  },
  {
   "cell_type": "code",
   "execution_count": null,
   "id": "626b2e04",
   "metadata": {
    "id": "rw-4ivNqFguT"
   },
   "outputs": [],
   "source": [
    "bart_tech_scores_df = generate_scores(bart_finetuned_summarizer, df_tech, do_sample = True, num_beams = 4, top_k = 75, num_beam_groups = 2)"
   ]
  },
  {
   "cell_type": "code",
   "execution_count": null,
   "id": "196aeb34",
   "metadata": {
    "id": "PgHLrZJAFyxZ"
   },
   "outputs": [],
   "source": [
    "bart_tech_scores_df.to_csv('/content/drive/MyDrive/W266FinalProject/test_candidates/bart_tech_finetuned.csv')"
   ]
  },
  {
   "cell_type": "markdown",
   "id": "633de514",
   "metadata": {
    "id": "TNoYtx2hDjPb"
   },
   "source": [
    "# BERT SCORES"
   ]
  },
  {
   "cell_type": "code",
   "execution_count": null,
   "id": "160db15b",
   "metadata": {
    "id": "Hr4aTVKcDkXb"
   },
   "outputs": [],
   "source": [
    "from summarizer import Summarizer\n",
    "bert_model = Summarizer('bert-base-uncased')"
   ]
  },
  {
   "cell_type": "code",
   "execution_count": null,
   "id": "4cd83ff9",
   "metadata": {
    "id": "Xtf2hZNKGm2E"
   },
   "outputs": [],
   "source": [
    "bert_scores_df = generate_scores(bert_model, df, do_sample = False, num_beams = 4, top_k = 75, num_beam_groups = 2)"
   ]
  },
  {
   "cell_type": "code",
   "execution_count": null,
   "id": "c5eb0d2c",
   "metadata": {
    "id": "MtSrFP6sGpVc"
   },
   "outputs": [],
   "source": [
    "bert_scores_df.to_csv('/content/drive/MyDrive/W266FinalProject/test_candidates/bert_all_categories.csv')"
   ]
  },
  {
   "cell_type": "markdown",
   "id": "84faaa3d",
   "metadata": {
    "id": "ERBe6Q1iGpq4"
   },
   "source": [
    "Technology category"
   ]
  },
  {
   "cell_type": "code",
   "execution_count": null,
   "id": "7cadb527",
   "metadata": {
    "id": "5MCR_HXhGtRv"
   },
   "outputs": [],
   "source": [
    "bert_tech_scores_df = generate_scores(bert_model, df_tech, do_sample = False, num_beams = 4, top_k = 75, num_beam_groups = 2)"
   ]
  },
  {
   "cell_type": "code",
   "execution_count": null,
   "id": "5d7c26bd",
   "metadata": {
    "id": "QaEYLxLLNgSo"
   },
   "outputs": [],
   "source": [
    "bert_tech_scores_df.to_csv('/content/drive/MyDrive/W266FinalProject/test_candidates/bert_tech.csv')"
   ]
  }
 ],
 "metadata": {
  "colab": {
   "provenance": []
  },
  "kernelspec": {
   "display_name": "Python 3 (ipykernel)",
   "language": "python",
   "name": "python3"
  },
  "language_info": {
   "codemirror_mode": {
    "name": "ipython",
    "version": 3
   },
   "file_extension": ".py",
   "mimetype": "text/x-python",
   "name": "python",
   "nbconvert_exporter": "python",
   "pygments_lexer": "ipython3",
   "version": "3.8.10"
  },
  "widgets": {
   "application/vnd.jupyter.widget-state+json": {
    "05af70a114ef45c4ba70a3bc2071c2db": {
     "model_module": "@jupyter-widgets/controls",
     "model_module_version": "1.5.0",
     "model_name": "DescriptionStyleModel",
     "state": {
      "_model_module": "@jupyter-widgets/controls",
      "_model_module_version": "1.5.0",
      "_model_name": "DescriptionStyleModel",
      "_view_count": null,
      "_view_module": "@jupyter-widgets/base",
      "_view_module_version": "1.2.0",
      "_view_name": "StyleView",
      "description_width": ""
     }
    },
    "2081055fbb484e4b92a86b8b6c4fc107": {
     "model_module": "@jupyter-widgets/base",
     "model_module_version": "1.2.0",
     "model_name": "LayoutModel",
     "state": {
      "_model_module": "@jupyter-widgets/base",
      "_model_module_version": "1.2.0",
      "_model_name": "LayoutModel",
      "_view_count": null,
      "_view_module": "@jupyter-widgets/base",
      "_view_module_version": "1.2.0",
      "_view_name": "LayoutView",
      "align_content": null,
      "align_items": null,
      "align_self": null,
      "border": null,
      "bottom": null,
      "display": null,
      "flex": null,
      "flex_flow": null,
      "grid_area": null,
      "grid_auto_columns": null,
      "grid_auto_flow": null,
      "grid_auto_rows": null,
      "grid_column": null,
      "grid_gap": null,
      "grid_row": null,
      "grid_template_areas": null,
      "grid_template_columns": null,
      "grid_template_rows": null,
      "height": null,
      "justify_content": null,
      "justify_items": null,
      "left": null,
      "margin": null,
      "max_height": null,
      "max_width": null,
      "min_height": null,
      "min_width": null,
      "object_fit": null,
      "object_position": null,
      "order": null,
      "overflow": null,
      "overflow_x": null,
      "overflow_y": null,
      "padding": null,
      "right": null,
      "top": null,
      "visibility": null,
      "width": null
     }
    },
    "2d8bab8a62014dc58f984d5c5bf3d96d": {
     "model_module": "@jupyter-widgets/controls",
     "model_module_version": "1.5.0",
     "model_name": "HBoxModel",
     "state": {
      "_dom_classes": [],
      "_model_module": "@jupyter-widgets/controls",
      "_model_module_version": "1.5.0",
      "_model_name": "HBoxModel",
      "_view_count": null,
      "_view_module": "@jupyter-widgets/controls",
      "_view_module_version": "1.5.0",
      "_view_name": "HBoxView",
      "box_style": "",
      "children": [
       "IPY_MODEL_63825abf575f4ffc956fcb64fa0bbb2d",
       "IPY_MODEL_9bc6a757b36c41a683d5c45fd19c17ec",
       "IPY_MODEL_686b975c7d524d41ae8be3b704b01224"
      ],
      "layout": "IPY_MODEL_2081055fbb484e4b92a86b8b6c4fc107"
     }
    },
    "2e211f35e2444f50b4977126d67502ae": {
     "model_module": "@jupyter-widgets/base",
     "model_module_version": "1.2.0",
     "model_name": "LayoutModel",
     "state": {
      "_model_module": "@jupyter-widgets/base",
      "_model_module_version": "1.2.0",
      "_model_name": "LayoutModel",
      "_view_count": null,
      "_view_module": "@jupyter-widgets/base",
      "_view_module_version": "1.2.0",
      "_view_name": "LayoutView",
      "align_content": null,
      "align_items": null,
      "align_self": null,
      "border": null,
      "bottom": null,
      "display": null,
      "flex": null,
      "flex_flow": null,
      "grid_area": null,
      "grid_auto_columns": null,
      "grid_auto_flow": null,
      "grid_auto_rows": null,
      "grid_column": null,
      "grid_gap": null,
      "grid_row": null,
      "grid_template_areas": null,
      "grid_template_columns": null,
      "grid_template_rows": null,
      "height": null,
      "justify_content": null,
      "justify_items": null,
      "left": null,
      "margin": null,
      "max_height": null,
      "max_width": null,
      "min_height": null,
      "min_width": null,
      "object_fit": null,
      "object_position": null,
      "order": null,
      "overflow": null,
      "overflow_x": null,
      "overflow_y": null,
      "padding": null,
      "right": null,
      "top": null,
      "visibility": null,
      "width": null
     }
    },
    "3002b86790bf4b198d0fca27f88b6b5b": {
     "model_module": "@jupyter-widgets/base",
     "model_module_version": "1.2.0",
     "model_name": "LayoutModel",
     "state": {
      "_model_module": "@jupyter-widgets/base",
      "_model_module_version": "1.2.0",
      "_model_name": "LayoutModel",
      "_view_count": null,
      "_view_module": "@jupyter-widgets/base",
      "_view_module_version": "1.2.0",
      "_view_name": "LayoutView",
      "align_content": null,
      "align_items": null,
      "align_self": null,
      "border": null,
      "bottom": null,
      "display": null,
      "flex": null,
      "flex_flow": null,
      "grid_area": null,
      "grid_auto_columns": null,
      "grid_auto_flow": null,
      "grid_auto_rows": null,
      "grid_column": null,
      "grid_gap": null,
      "grid_row": null,
      "grid_template_areas": null,
      "grid_template_columns": null,
      "grid_template_rows": null,
      "height": null,
      "justify_content": null,
      "justify_items": null,
      "left": null,
      "margin": null,
      "max_height": null,
      "max_width": null,
      "min_height": null,
      "min_width": null,
      "object_fit": null,
      "object_position": null,
      "order": null,
      "overflow": null,
      "overflow_x": null,
      "overflow_y": null,
      "padding": null,
      "right": null,
      "top": null,
      "visibility": null,
      "width": null
     }
    },
    "3479ad5e2c12468887b23d319ce70db3": {
     "model_module": "@jupyter-widgets/controls",
     "model_module_version": "1.5.0",
     "model_name": "DescriptionStyleModel",
     "state": {
      "_model_module": "@jupyter-widgets/controls",
      "_model_module_version": "1.5.0",
      "_model_name": "DescriptionStyleModel",
      "_view_count": null,
      "_view_module": "@jupyter-widgets/base",
      "_view_module_version": "1.2.0",
      "_view_name": "StyleView",
      "description_width": ""
     }
    },
    "35434eba2ea243aab9c26cca7d173a35": {
     "model_module": "@jupyter-widgets/base",
     "model_module_version": "1.2.0",
     "model_name": "LayoutModel",
     "state": {
      "_model_module": "@jupyter-widgets/base",
      "_model_module_version": "1.2.0",
      "_model_name": "LayoutModel",
      "_view_count": null,
      "_view_module": "@jupyter-widgets/base",
      "_view_module_version": "1.2.0",
      "_view_name": "LayoutView",
      "align_content": null,
      "align_items": null,
      "align_self": null,
      "border": null,
      "bottom": null,
      "display": null,
      "flex": null,
      "flex_flow": null,
      "grid_area": null,
      "grid_auto_columns": null,
      "grid_auto_flow": null,
      "grid_auto_rows": null,
      "grid_column": null,
      "grid_gap": null,
      "grid_row": null,
      "grid_template_areas": null,
      "grid_template_columns": null,
      "grid_template_rows": null,
      "height": null,
      "justify_content": null,
      "justify_items": null,
      "left": null,
      "margin": null,
      "max_height": null,
      "max_width": null,
      "min_height": null,
      "min_width": null,
      "object_fit": null,
      "object_position": null,
      "order": null,
      "overflow": null,
      "overflow_x": null,
      "overflow_y": null,
      "padding": null,
      "right": null,
      "top": null,
      "visibility": null,
      "width": null
     }
    },
    "3c39b49bb3874aa08c04073ecb8f7776": {
     "model_module": "@jupyter-widgets/controls",
     "model_module_version": "1.5.0",
     "model_name": "DescriptionStyleModel",
     "state": {
      "_model_module": "@jupyter-widgets/controls",
      "_model_module_version": "1.5.0",
      "_model_name": "DescriptionStyleModel",
      "_view_count": null,
      "_view_module": "@jupyter-widgets/base",
      "_view_module_version": "1.2.0",
      "_view_name": "StyleView",
      "description_width": ""
     }
    },
    "3d096e6498274922882012c29f39734d": {
     "model_module": "@jupyter-widgets/controls",
     "model_module_version": "1.5.0",
     "model_name": "ProgressStyleModel",
     "state": {
      "_model_module": "@jupyter-widgets/controls",
      "_model_module_version": "1.5.0",
      "_model_name": "ProgressStyleModel",
      "_view_count": null,
      "_view_module": "@jupyter-widgets/base",
      "_view_module_version": "1.2.0",
      "_view_name": "StyleView",
      "bar_color": null,
      "description_width": ""
     }
    },
    "4729c1d6f91340e2902f2d58969b219d": {
     "model_module": "@jupyter-widgets/controls",
     "model_module_version": "1.5.0",
     "model_name": "ProgressStyleModel",
     "state": {
      "_model_module": "@jupyter-widgets/controls",
      "_model_module_version": "1.5.0",
      "_model_name": "ProgressStyleModel",
      "_view_count": null,
      "_view_module": "@jupyter-widgets/base",
      "_view_module_version": "1.2.0",
      "_view_name": "StyleView",
      "bar_color": null,
      "description_width": ""
     }
    },
    "54d1534a313c4f18bbb9d9be452e3e14": {
     "model_module": "@jupyter-widgets/controls",
     "model_module_version": "1.5.0",
     "model_name": "DescriptionStyleModel",
     "state": {
      "_model_module": "@jupyter-widgets/controls",
      "_model_module_version": "1.5.0",
      "_model_name": "DescriptionStyleModel",
      "_view_count": null,
      "_view_module": "@jupyter-widgets/base",
      "_view_module_version": "1.2.0",
      "_view_name": "StyleView",
      "description_width": ""
     }
    },
    "5b3d25c146b646fba8bba569df4b2a91": {
     "model_module": "@jupyter-widgets/controls",
     "model_module_version": "1.5.0",
     "model_name": "HTMLModel",
     "state": {
      "_dom_classes": [],
      "_model_module": "@jupyter-widgets/controls",
      "_model_module_version": "1.5.0",
      "_model_name": "HTMLModel",
      "_view_count": null,
      "_view_module": "@jupyter-widgets/controls",
      "_view_module_version": "1.5.0",
      "_view_name": "HTMLView",
      "description": "",
      "description_tooltip": null,
      "layout": "IPY_MODEL_35434eba2ea243aab9c26cca7d173a35",
      "placeholder": "​",
      "style": "IPY_MODEL_3c39b49bb3874aa08c04073ecb8f7776",
      "value": "Downloading builder script: 100%"
     }
    },
    "5bce665e2c0b4cad89382ba574100dc3": {
     "model_module": "@jupyter-widgets/base",
     "model_module_version": "1.2.0",
     "model_name": "LayoutModel",
     "state": {
      "_model_module": "@jupyter-widgets/base",
      "_model_module_version": "1.2.0",
      "_model_name": "LayoutModel",
      "_view_count": null,
      "_view_module": "@jupyter-widgets/base",
      "_view_module_version": "1.2.0",
      "_view_name": "LayoutView",
      "align_content": null,
      "align_items": null,
      "align_self": null,
      "border": null,
      "bottom": null,
      "display": null,
      "flex": null,
      "flex_flow": null,
      "grid_area": null,
      "grid_auto_columns": null,
      "grid_auto_flow": null,
      "grid_auto_rows": null,
      "grid_column": null,
      "grid_gap": null,
      "grid_row": null,
      "grid_template_areas": null,
      "grid_template_columns": null,
      "grid_template_rows": null,
      "height": null,
      "justify_content": null,
      "justify_items": null,
      "left": null,
      "margin": null,
      "max_height": null,
      "max_width": null,
      "min_height": null,
      "min_width": null,
      "object_fit": null,
      "object_position": null,
      "order": null,
      "overflow": null,
      "overflow_x": null,
      "overflow_y": null,
      "padding": null,
      "right": null,
      "top": null,
      "visibility": null,
      "width": null
     }
    },
    "63825abf575f4ffc956fcb64fa0bbb2d": {
     "model_module": "@jupyter-widgets/controls",
     "model_module_version": "1.5.0",
     "model_name": "HTMLModel",
     "state": {
      "_dom_classes": [],
      "_model_module": "@jupyter-widgets/controls",
      "_model_module_version": "1.5.0",
      "_model_name": "HTMLModel",
      "_view_count": null,
      "_view_module": "@jupyter-widgets/controls",
      "_view_module_version": "1.5.0",
      "_view_name": "HTMLView",
      "description": "",
      "description_tooltip": null,
      "layout": "IPY_MODEL_bd755ece546c45e4ade062c2f06887f1",
      "placeholder": "​",
      "style": "IPY_MODEL_3479ad5e2c12468887b23d319ce70db3",
      "value": "Downloading (…)/main/tokenizer.json: 100%"
     }
    },
    "686b975c7d524d41ae8be3b704b01224": {
     "model_module": "@jupyter-widgets/controls",
     "model_module_version": "1.5.0",
     "model_name": "HTMLModel",
     "state": {
      "_dom_classes": [],
      "_model_module": "@jupyter-widgets/controls",
      "_model_module_version": "1.5.0",
      "_model_name": "HTMLModel",
      "_view_count": null,
      "_view_module": "@jupyter-widgets/controls",
      "_view_module_version": "1.5.0",
      "_view_name": "HTMLView",
      "description": "",
      "description_tooltip": null,
      "layout": "IPY_MODEL_2e211f35e2444f50b4977126d67502ae",
      "placeholder": "​",
      "style": "IPY_MODEL_05af70a114ef45c4ba70a3bc2071c2db",
      "value": " 1.36M/1.36M [00:00&lt;00:00, 24.5MB/s]"
     }
    },
    "6d31983d4f08454cabd100c1e7d1ba2c": {
     "model_module": "@jupyter-widgets/base",
     "model_module_version": "1.2.0",
     "model_name": "LayoutModel",
     "state": {
      "_model_module": "@jupyter-widgets/base",
      "_model_module_version": "1.2.0",
      "_model_name": "LayoutModel",
      "_view_count": null,
      "_view_module": "@jupyter-widgets/base",
      "_view_module_version": "1.2.0",
      "_view_name": "LayoutView",
      "align_content": null,
      "align_items": null,
      "align_self": null,
      "border": null,
      "bottom": null,
      "display": null,
      "flex": null,
      "flex_flow": null,
      "grid_area": null,
      "grid_auto_columns": null,
      "grid_auto_flow": null,
      "grid_auto_rows": null,
      "grid_column": null,
      "grid_gap": null,
      "grid_row": null,
      "grid_template_areas": null,
      "grid_template_columns": null,
      "grid_template_rows": null,
      "height": null,
      "justify_content": null,
      "justify_items": null,
      "left": null,
      "margin": null,
      "max_height": null,
      "max_width": null,
      "min_height": null,
      "min_width": null,
      "object_fit": null,
      "object_position": null,
      "order": null,
      "overflow": null,
      "overflow_x": null,
      "overflow_y": null,
      "padding": null,
      "right": null,
      "top": null,
      "visibility": null,
      "width": null
     }
    },
    "6e90e0f7cd104a0280f8176a6f114883": {
     "model_module": "@jupyter-widgets/base",
     "model_module_version": "1.2.0",
     "model_name": "LayoutModel",
     "state": {
      "_model_module": "@jupyter-widgets/base",
      "_model_module_version": "1.2.0",
      "_model_name": "LayoutModel",
      "_view_count": null,
      "_view_module": "@jupyter-widgets/base",
      "_view_module_version": "1.2.0",
      "_view_name": "LayoutView",
      "align_content": null,
      "align_items": null,
      "align_self": null,
      "border": null,
      "bottom": null,
      "display": null,
      "flex": null,
      "flex_flow": null,
      "grid_area": null,
      "grid_auto_columns": null,
      "grid_auto_flow": null,
      "grid_auto_rows": null,
      "grid_column": null,
      "grid_gap": null,
      "grid_row": null,
      "grid_template_areas": null,
      "grid_template_columns": null,
      "grid_template_rows": null,
      "height": null,
      "justify_content": null,
      "justify_items": null,
      "left": null,
      "margin": null,
      "max_height": null,
      "max_width": null,
      "min_height": null,
      "min_width": null,
      "object_fit": null,
      "object_position": null,
      "order": null,
      "overflow": null,
      "overflow_x": null,
      "overflow_y": null,
      "padding": null,
      "right": null,
      "top": null,
      "visibility": null,
      "width": null
     }
    },
    "85a7df61cb3b4e4ab9dfd72a47fb14c2": {
     "model_module": "@jupyter-widgets/base",
     "model_module_version": "1.2.0",
     "model_name": "LayoutModel",
     "state": {
      "_model_module": "@jupyter-widgets/base",
      "_model_module_version": "1.2.0",
      "_model_name": "LayoutModel",
      "_view_count": null,
      "_view_module": "@jupyter-widgets/base",
      "_view_module_version": "1.2.0",
      "_view_name": "LayoutView",
      "align_content": null,
      "align_items": null,
      "align_self": null,
      "border": null,
      "bottom": null,
      "display": null,
      "flex": null,
      "flex_flow": null,
      "grid_area": null,
      "grid_auto_columns": null,
      "grid_auto_flow": null,
      "grid_auto_rows": null,
      "grid_column": null,
      "grid_gap": null,
      "grid_row": null,
      "grid_template_areas": null,
      "grid_template_columns": null,
      "grid_template_rows": null,
      "height": null,
      "justify_content": null,
      "justify_items": null,
      "left": null,
      "margin": null,
      "max_height": null,
      "max_width": null,
      "min_height": null,
      "min_width": null,
      "object_fit": null,
      "object_position": null,
      "order": null,
      "overflow": null,
      "overflow_x": null,
      "overflow_y": null,
      "padding": null,
      "right": null,
      "top": null,
      "visibility": null,
      "width": null
     }
    },
    "85ce31a903e144aaa9a951569504496d": {
     "model_module": "@jupyter-widgets/base",
     "model_module_version": "1.2.0",
     "model_name": "LayoutModel",
     "state": {
      "_model_module": "@jupyter-widgets/base",
      "_model_module_version": "1.2.0",
      "_model_name": "LayoutModel",
      "_view_count": null,
      "_view_module": "@jupyter-widgets/base",
      "_view_module_version": "1.2.0",
      "_view_name": "LayoutView",
      "align_content": null,
      "align_items": null,
      "align_self": null,
      "border": null,
      "bottom": null,
      "display": null,
      "flex": null,
      "flex_flow": null,
      "grid_area": null,
      "grid_auto_columns": null,
      "grid_auto_flow": null,
      "grid_auto_rows": null,
      "grid_column": null,
      "grid_gap": null,
      "grid_row": null,
      "grid_template_areas": null,
      "grid_template_columns": null,
      "grid_template_rows": null,
      "height": null,
      "justify_content": null,
      "justify_items": null,
      "left": null,
      "margin": null,
      "max_height": null,
      "max_width": null,
      "min_height": null,
      "min_width": null,
      "object_fit": null,
      "object_position": null,
      "order": null,
      "overflow": null,
      "overflow_x": null,
      "overflow_y": null,
      "padding": null,
      "right": null,
      "top": null,
      "visibility": null,
      "width": null
     }
    },
    "8b77039615924b2bb0227971e90a1da3": {
     "model_module": "@jupyter-widgets/base",
     "model_module_version": "1.2.0",
     "model_name": "LayoutModel",
     "state": {
      "_model_module": "@jupyter-widgets/base",
      "_model_module_version": "1.2.0",
      "_model_name": "LayoutModel",
      "_view_count": null,
      "_view_module": "@jupyter-widgets/base",
      "_view_module_version": "1.2.0",
      "_view_name": "LayoutView",
      "align_content": null,
      "align_items": null,
      "align_self": null,
      "border": null,
      "bottom": null,
      "display": null,
      "flex": null,
      "flex_flow": null,
      "grid_area": null,
      "grid_auto_columns": null,
      "grid_auto_flow": null,
      "grid_auto_rows": null,
      "grid_column": null,
      "grid_gap": null,
      "grid_row": null,
      "grid_template_areas": null,
      "grid_template_columns": null,
      "grid_template_rows": null,
      "height": null,
      "justify_content": null,
      "justify_items": null,
      "left": null,
      "margin": null,
      "max_height": null,
      "max_width": null,
      "min_height": null,
      "min_width": null,
      "object_fit": null,
      "object_position": null,
      "order": null,
      "overflow": null,
      "overflow_x": null,
      "overflow_y": null,
      "padding": null,
      "right": null,
      "top": null,
      "visibility": null,
      "width": null
     }
    },
    "91254e18f939495295441718154836fb": {
     "model_module": "@jupyter-widgets/controls",
     "model_module_version": "1.5.0",
     "model_name": "HTMLModel",
     "state": {
      "_dom_classes": [],
      "_model_module": "@jupyter-widgets/controls",
      "_model_module_version": "1.5.0",
      "_model_name": "HTMLModel",
      "_view_count": null,
      "_view_module": "@jupyter-widgets/controls",
      "_view_module_version": "1.5.0",
      "_view_name": "HTMLView",
      "description": "",
      "description_tooltip": null,
      "layout": "IPY_MODEL_3002b86790bf4b198d0fca27f88b6b5b",
      "placeholder": "​",
      "style": "IPY_MODEL_54d1534a313c4f18bbb9d9be452e3e14",
      "value": "Downloading builder script: 100%"
     }
    },
    "9bc6a757b36c41a683d5c45fd19c17ec": {
     "model_module": "@jupyter-widgets/controls",
     "model_module_version": "1.5.0",
     "model_name": "FloatProgressModel",
     "state": {
      "_dom_classes": [],
      "_model_module": "@jupyter-widgets/controls",
      "_model_module_version": "1.5.0",
      "_model_name": "FloatProgressModel",
      "_view_count": null,
      "_view_module": "@jupyter-widgets/controls",
      "_view_module_version": "1.5.0",
      "_view_name": "ProgressView",
      "bar_style": "success",
      "description": "",
      "description_tooltip": null,
      "layout": "IPY_MODEL_6e90e0f7cd104a0280f8176a6f114883",
      "max": 1355863,
      "min": 0,
      "orientation": "horizontal",
      "style": "IPY_MODEL_de80097fb6fa4f1ea49f83e7f4a4776a",
      "value": 1355863
     }
    },
    "9bd004dbc2f04e0e9451fc3e1397bd38": {
     "model_module": "@jupyter-widgets/controls",
     "model_module_version": "1.5.0",
     "model_name": "FloatProgressModel",
     "state": {
      "_dom_classes": [],
      "_model_module": "@jupyter-widgets/controls",
      "_model_module_version": "1.5.0",
      "_model_name": "FloatProgressModel",
      "_view_count": null,
      "_view_module": "@jupyter-widgets/controls",
      "_view_module_version": "1.5.0",
      "_view_name": "ProgressView",
      "bar_style": "success",
      "description": "",
      "description_tooltip": null,
      "layout": "IPY_MODEL_85a7df61cb3b4e4ab9dfd72a47fb14c2",
      "max": 9005,
      "min": 0,
      "orientation": "horizontal",
      "style": "IPY_MODEL_3d096e6498274922882012c29f39734d",
      "value": 9005
     }
    },
    "a282908f5a72423aaec81afaf069fe8c": {
     "model_module": "@jupyter-widgets/base",
     "model_module_version": "1.2.0",
     "model_name": "LayoutModel",
     "state": {
      "_model_module": "@jupyter-widgets/base",
      "_model_module_version": "1.2.0",
      "_model_name": "LayoutModel",
      "_view_count": null,
      "_view_module": "@jupyter-widgets/base",
      "_view_module_version": "1.2.0",
      "_view_name": "LayoutView",
      "align_content": null,
      "align_items": null,
      "align_self": null,
      "border": null,
      "bottom": null,
      "display": null,
      "flex": null,
      "flex_flow": null,
      "grid_area": null,
      "grid_auto_columns": null,
      "grid_auto_flow": null,
      "grid_auto_rows": null,
      "grid_column": null,
      "grid_gap": null,
      "grid_row": null,
      "grid_template_areas": null,
      "grid_template_columns": null,
      "grid_template_rows": null,
      "height": null,
      "justify_content": null,
      "justify_items": null,
      "left": null,
      "margin": null,
      "max_height": null,
      "max_width": null,
      "min_height": null,
      "min_width": null,
      "object_fit": null,
      "object_position": null,
      "order": null,
      "overflow": null,
      "overflow_x": null,
      "overflow_y": null,
      "padding": null,
      "right": null,
      "top": null,
      "visibility": null,
      "width": null
     }
    },
    "af3c983eed224075b1a3a42585f91947": {
     "model_module": "@jupyter-widgets/controls",
     "model_module_version": "1.5.0",
     "model_name": "HBoxModel",
     "state": {
      "_dom_classes": [],
      "_model_module": "@jupyter-widgets/controls",
      "_model_module_version": "1.5.0",
      "_model_name": "HBoxModel",
      "_view_count": null,
      "_view_module": "@jupyter-widgets/controls",
      "_view_module_version": "1.5.0",
      "_view_name": "HBoxView",
      "box_style": "",
      "children": [
       "IPY_MODEL_91254e18f939495295441718154836fb",
       "IPY_MODEL_d89240a4be2243b3be5a64d57b8c160a",
       "IPY_MODEL_bec4b57ecb1a44b0a3f25f7084c62cc0"
      ],
      "layout": "IPY_MODEL_85ce31a903e144aaa9a951569504496d"
     }
    },
    "bd755ece546c45e4ade062c2f06887f1": {
     "model_module": "@jupyter-widgets/base",
     "model_module_version": "1.2.0",
     "model_name": "LayoutModel",
     "state": {
      "_model_module": "@jupyter-widgets/base",
      "_model_module_version": "1.2.0",
      "_model_name": "LayoutModel",
      "_view_count": null,
      "_view_module": "@jupyter-widgets/base",
      "_view_module_version": "1.2.0",
      "_view_name": "LayoutView",
      "align_content": null,
      "align_items": null,
      "align_self": null,
      "border": null,
      "bottom": null,
      "display": null,
      "flex": null,
      "flex_flow": null,
      "grid_area": null,
      "grid_auto_columns": null,
      "grid_auto_flow": null,
      "grid_auto_rows": null,
      "grid_column": null,
      "grid_gap": null,
      "grid_row": null,
      "grid_template_areas": null,
      "grid_template_columns": null,
      "grid_template_rows": null,
      "height": null,
      "justify_content": null,
      "justify_items": null,
      "left": null,
      "margin": null,
      "max_height": null,
      "max_width": null,
      "min_height": null,
      "min_width": null,
      "object_fit": null,
      "object_position": null,
      "order": null,
      "overflow": null,
      "overflow_x": null,
      "overflow_y": null,
      "padding": null,
      "right": null,
      "top": null,
      "visibility": null,
      "width": null
     }
    },
    "bec4b57ecb1a44b0a3f25f7084c62cc0": {
     "model_module": "@jupyter-widgets/controls",
     "model_module_version": "1.5.0",
     "model_name": "HTMLModel",
     "state": {
      "_dom_classes": [],
      "_model_module": "@jupyter-widgets/controls",
      "_model_module_version": "1.5.0",
      "_model_name": "HTMLModel",
      "_view_count": null,
      "_view_module": "@jupyter-widgets/controls",
      "_view_module_version": "1.5.0",
      "_view_name": "HTMLView",
      "description": "",
      "description_tooltip": null,
      "layout": "IPY_MODEL_8b77039615924b2bb0227971e90a1da3",
      "placeholder": "​",
      "style": "IPY_MODEL_c2d2812b8f9a46fab445ac6dc893f9ad",
      "value": " 6.27k/6.27k [00:00&lt;00:00, 89.7kB/s]"
     }
    },
    "c090d9e38e2c43f59b1991be72c02580": {
     "model_module": "@jupyter-widgets/controls",
     "model_module_version": "1.5.0",
     "model_name": "DescriptionStyleModel",
     "state": {
      "_model_module": "@jupyter-widgets/controls",
      "_model_module_version": "1.5.0",
      "_model_name": "DescriptionStyleModel",
      "_view_count": null,
      "_view_module": "@jupyter-widgets/base",
      "_view_module_version": "1.2.0",
      "_view_name": "StyleView",
      "description_width": ""
     }
    },
    "c2d2812b8f9a46fab445ac6dc893f9ad": {
     "model_module": "@jupyter-widgets/controls",
     "model_module_version": "1.5.0",
     "model_name": "DescriptionStyleModel",
     "state": {
      "_model_module": "@jupyter-widgets/controls",
      "_model_module_version": "1.5.0",
      "_model_name": "DescriptionStyleModel",
      "_view_count": null,
      "_view_module": "@jupyter-widgets/base",
      "_view_module_version": "1.2.0",
      "_view_name": "StyleView",
      "description_width": ""
     }
    },
    "d89240a4be2243b3be5a64d57b8c160a": {
     "model_module": "@jupyter-widgets/controls",
     "model_module_version": "1.5.0",
     "model_name": "FloatProgressModel",
     "state": {
      "_dom_classes": [],
      "_model_module": "@jupyter-widgets/controls",
      "_model_module_version": "1.5.0",
      "_model_name": "FloatProgressModel",
      "_view_count": null,
      "_view_module": "@jupyter-widgets/controls",
      "_view_module_version": "1.5.0",
      "_view_name": "ProgressView",
      "bar_style": "success",
      "description": "",
      "description_tooltip": null,
      "layout": "IPY_MODEL_5bce665e2c0b4cad89382ba574100dc3",
      "max": 6270,
      "min": 0,
      "orientation": "horizontal",
      "style": "IPY_MODEL_4729c1d6f91340e2902f2d58969b219d",
      "value": 6270
     }
    },
    "de80097fb6fa4f1ea49f83e7f4a4776a": {
     "model_module": "@jupyter-widgets/controls",
     "model_module_version": "1.5.0",
     "model_name": "ProgressStyleModel",
     "state": {
      "_model_module": "@jupyter-widgets/controls",
      "_model_module_version": "1.5.0",
      "_model_name": "ProgressStyleModel",
      "_view_count": null,
      "_view_module": "@jupyter-widgets/base",
      "_view_module_version": "1.2.0",
      "_view_name": "StyleView",
      "bar_color": null,
      "description_width": ""
     }
    },
    "ee2bf0445b344cc18ddd407e71db373d": {
     "model_module": "@jupyter-widgets/controls",
     "model_module_version": "1.5.0",
     "model_name": "HBoxModel",
     "state": {
      "_dom_classes": [],
      "_model_module": "@jupyter-widgets/controls",
      "_model_module_version": "1.5.0",
      "_model_name": "HBoxModel",
      "_view_count": null,
      "_view_module": "@jupyter-widgets/controls",
      "_view_module_version": "1.5.0",
      "_view_name": "HBoxView",
      "box_style": "",
      "children": [
       "IPY_MODEL_5b3d25c146b646fba8bba569df4b2a91",
       "IPY_MODEL_9bd004dbc2f04e0e9451fc3e1397bd38",
       "IPY_MODEL_fae69c59478e435989c40cba0e850da6"
      ],
      "layout": "IPY_MODEL_6d31983d4f08454cabd100c1e7d1ba2c"
     }
    },
    "fae69c59478e435989c40cba0e850da6": {
     "model_module": "@jupyter-widgets/controls",
     "model_module_version": "1.5.0",
     "model_name": "HTMLModel",
     "state": {
      "_dom_classes": [],
      "_model_module": "@jupyter-widgets/controls",
      "_model_module_version": "1.5.0",
      "_model_name": "HTMLModel",
      "_view_count": null,
      "_view_module": "@jupyter-widgets/controls",
      "_view_module_version": "1.5.0",
      "_view_name": "HTMLView",
      "description": "",
      "description_tooltip": null,
      "layout": "IPY_MODEL_a282908f5a72423aaec81afaf069fe8c",
      "placeholder": "​",
      "style": "IPY_MODEL_c090d9e38e2c43f59b1991be72c02580",
      "value": " 9.01k/9.01k [00:00&lt;00:00, 437kB/s]"
     }
    }
   }
  }
 },
 "nbformat": 4,
 "nbformat_minor": 5
}
